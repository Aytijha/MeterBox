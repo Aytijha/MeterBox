{
  "nbformat": 4,
  "nbformat_minor": 2,
  "metadata": {
    "colab": {
      "name": "power-usage-prediction-1.ipynb",
      "provenance": []
    },
    "kernelspec": {
      "name": "python3",
      "display_name": "Python 3"
    },
    "language_info": {
      "name": "python"
    }
  },
  "cells": [
    {
      "cell_type": "markdown",
      "source": [
        "# Downloading and Merging Data"
      ],
      "metadata": {
        "id": "ueBqbp9oDOB9"
      }
    },
    {
      "cell_type": "code",
      "execution_count": 1,
      "source": [
        "!pip install opendatasets --upgrade --quiet"
      ],
      "outputs": [],
      "metadata": {
        "id": "bh3DIzlLi2ZB"
      }
    },
    {
      "cell_type": "code",
      "execution_count": 2,
      "source": [
        "import opendatasets as od"
      ],
      "outputs": [],
      "metadata": {
        "id": "_IoHLsszi8v8"
      }
    },
    {
      "cell_type": "code",
      "execution_count": 3,
      "source": [
        "power_usage_url = \"https://www.kaggle.com/srinuti/residential-power-usage-3years-data-timeseries?select=power_usage_2016_to_2020.csv\"\r\n",
        "weather_url = \"https://www.kaggle.com/srinuti/residential-power-usage-3years-data-timeseries?select=weather_2016_2020_daily.csv\""
      ],
      "outputs": [],
      "metadata": {
        "id": "z7mJ73PpjE3t"
      }
    },
    {
      "cell_type": "code",
      "execution_count": 4,
      "source": [
        "od.download(power_usage_url)\r\n",
        "od.download(weather_url)"
      ],
      "outputs": [
        {
          "output_type": "stream",
          "name": "stdout",
          "text": [
            "Skipping, found downloaded files in \"./residential-power-usage-3years-data-timeseries\" (use force=True to force download)\n",
            "Skipping, found downloaded files in \"./residential-power-usage-3years-data-timeseries\" (use force=True to force download)\n"
          ]
        }
      ],
      "metadata": {
        "colab": {
          "base_uri": "https://localhost:8080/"
        },
        "id": "PrwjR6EOjaj2",
        "outputId": "a3690384-65ba-4c0b-f2c1-e5de7a70cfb6"
      }
    },
    {
      "cell_type": "code",
      "execution_count": 5,
      "source": [
        "import os\r\n",
        "data_dir = \"./residential-power-usage-3years-data-timeseries\"\r\n",
        "os.listdir(data_dir)"
      ],
      "outputs": [
        {
          "output_type": "execute_result",
          "data": {
            "text/plain": [
              "['weather_2016_2020_daily.csv', 'power_usage_2016_to_2020.csv']"
            ]
          },
          "metadata": {
            "tags": []
          },
          "execution_count": 5
        }
      ],
      "metadata": {
        "colab": {
          "base_uri": "https://localhost:8080/"
        },
        "id": "SvRkACEKjj2-",
        "outputId": "f84e224e-522a-44e1-f09a-73b4ef82ddb4"
      }
    },
    {
      "cell_type": "code",
      "execution_count": 6,
      "source": [
        "power_usage_csv = data_dir + \"/power_usage_2016_to_2020.csv\"\r\n",
        "weather_csv = data_dir + \"/weather_2016_2020_daily.csv\""
      ],
      "outputs": [],
      "metadata": {
        "id": "Xj0gW1Amj9zz"
      }
    },
    {
      "cell_type": "code",
      "execution_count": 7,
      "source": [
        "!pip install pandas --quiet"
      ],
      "outputs": [],
      "metadata": {
        "id": "w_VQ0uqCkbRV"
      }
    },
    {
      "cell_type": "code",
      "execution_count": 8,
      "source": [
        "import pandas as pd\r\n",
        "power_usage_df = pd.read_csv(power_usage_csv)\r\n",
        "weather_df = pd.read_csv(weather_csv)"
      ],
      "outputs": [],
      "metadata": {
        "id": "5IpNCTXukku1"
      }
    },
    {
      "cell_type": "code",
      "execution_count": 9,
      "source": [
        "power_usage_df"
      ],
      "outputs": [
        {
          "output_type": "execute_result",
          "data": {
            "text/plain": [
              "                 StartDate  Value (kWh)  day_of_week    notes\n",
              "0      2016-01-06 00:00:00        1.057            2  weekday\n",
              "1      2016-01-06 01:00:00        1.171            2  weekday\n",
              "2      2016-01-06 02:00:00        0.560            2  weekday\n",
              "3      2016-01-06 03:00:00        0.828            2  weekday\n",
              "4      2016-01-06 04:00:00        0.932            2  weekday\n",
              "...                    ...          ...          ...      ...\n",
              "35947  2020-07-07 19:00:00        1.307            1  weekday\n",
              "35948  2020-07-07 20:00:00        2.872            1  weekday\n",
              "35949  2020-07-07 21:00:00        2.138            1  weekday\n",
              "35950  2020-07-07 22:00:00        2.199            1  weekday\n",
              "35951  2020-07-07 23:00:00        1.809            1  weekday\n",
              "\n",
              "[35952 rows x 4 columns]"
            ],
            "text/html": [
              "<div>\n",
              "<style scoped>\n",
              "    .dataframe tbody tr th:only-of-type {\n",
              "        vertical-align: middle;\n",
              "    }\n",
              "\n",
              "    .dataframe tbody tr th {\n",
              "        vertical-align: top;\n",
              "    }\n",
              "\n",
              "    .dataframe thead th {\n",
              "        text-align: right;\n",
              "    }\n",
              "</style>\n",
              "<table border=\"1\" class=\"dataframe\">\n",
              "  <thead>\n",
              "    <tr style=\"text-align: right;\">\n",
              "      <th></th>\n",
              "      <th>StartDate</th>\n",
              "      <th>Value (kWh)</th>\n",
              "      <th>day_of_week</th>\n",
              "      <th>notes</th>\n",
              "    </tr>\n",
              "  </thead>\n",
              "  <tbody>\n",
              "    <tr>\n",
              "      <th>0</th>\n",
              "      <td>2016-01-06 00:00:00</td>\n",
              "      <td>1.057</td>\n",
              "      <td>2</td>\n",
              "      <td>weekday</td>\n",
              "    </tr>\n",
              "    <tr>\n",
              "      <th>1</th>\n",
              "      <td>2016-01-06 01:00:00</td>\n",
              "      <td>1.171</td>\n",
              "      <td>2</td>\n",
              "      <td>weekday</td>\n",
              "    </tr>\n",
              "    <tr>\n",
              "      <th>2</th>\n",
              "      <td>2016-01-06 02:00:00</td>\n",
              "      <td>0.560</td>\n",
              "      <td>2</td>\n",
              "      <td>weekday</td>\n",
              "    </tr>\n",
              "    <tr>\n",
              "      <th>3</th>\n",
              "      <td>2016-01-06 03:00:00</td>\n",
              "      <td>0.828</td>\n",
              "      <td>2</td>\n",
              "      <td>weekday</td>\n",
              "    </tr>\n",
              "    <tr>\n",
              "      <th>4</th>\n",
              "      <td>2016-01-06 04:00:00</td>\n",
              "      <td>0.932</td>\n",
              "      <td>2</td>\n",
              "      <td>weekday</td>\n",
              "    </tr>\n",
              "    <tr>\n",
              "      <th>...</th>\n",
              "      <td>...</td>\n",
              "      <td>...</td>\n",
              "      <td>...</td>\n",
              "      <td>...</td>\n",
              "    </tr>\n",
              "    <tr>\n",
              "      <th>35947</th>\n",
              "      <td>2020-07-07 19:00:00</td>\n",
              "      <td>1.307</td>\n",
              "      <td>1</td>\n",
              "      <td>weekday</td>\n",
              "    </tr>\n",
              "    <tr>\n",
              "      <th>35948</th>\n",
              "      <td>2020-07-07 20:00:00</td>\n",
              "      <td>2.872</td>\n",
              "      <td>1</td>\n",
              "      <td>weekday</td>\n",
              "    </tr>\n",
              "    <tr>\n",
              "      <th>35949</th>\n",
              "      <td>2020-07-07 21:00:00</td>\n",
              "      <td>2.138</td>\n",
              "      <td>1</td>\n",
              "      <td>weekday</td>\n",
              "    </tr>\n",
              "    <tr>\n",
              "      <th>35950</th>\n",
              "      <td>2020-07-07 22:00:00</td>\n",
              "      <td>2.199</td>\n",
              "      <td>1</td>\n",
              "      <td>weekday</td>\n",
              "    </tr>\n",
              "    <tr>\n",
              "      <th>35951</th>\n",
              "      <td>2020-07-07 23:00:00</td>\n",
              "      <td>1.809</td>\n",
              "      <td>1</td>\n",
              "      <td>weekday</td>\n",
              "    </tr>\n",
              "  </tbody>\n",
              "</table>\n",
              "<p>35952 rows × 4 columns</p>\n",
              "</div>"
            ]
          },
          "metadata": {
            "tags": []
          },
          "execution_count": 9
        }
      ],
      "metadata": {
        "colab": {
          "base_uri": "https://localhost:8080/",
          "height": 0
        },
        "id": "cgFCmFEGk4h2",
        "outputId": "a23dc6a4-1ff0-49e7-ebc6-36da9bac39c3"
      }
    },
    {
      "cell_type": "code",
      "execution_count": 10,
      "source": [
        "weather_df"
      ],
      "outputs": [
        {
          "output_type": "execute_result",
          "data": {
            "text/plain": [
              "            Date  Day  Temp_max  ...  Press_min  Precipit  day_of_week\n",
              "0     2016-01-06    1        85  ...       29.7      0.00            2\n",
              "1     2016-02-06    2        76  ...       29.7      4.33            5\n",
              "2     2016-03-06    3        79  ...       29.7      3.18            6\n",
              "3     2016-04-06    4        76  ...       29.7      2.37            2\n",
              "4     2016-05-06    5        82  ...       29.7      0.39            4\n",
              "...          ...  ...       ...  ...        ...       ...          ...\n",
              "1547  2020-08-26   26        95  ...       29.6      0.01            2\n",
              "1548  2020-08-27   27        99  ...       29.5      0.00            3\n",
              "1549  2020-08-28   28        98  ...       29.7      0.00            4\n",
              "1550  2020-08-29   29        98  ...       29.7      0.22            5\n",
              "1551  2020-08-30   30        97  ...       29.6      0.00            6\n",
              "\n",
              "[1552 rows x 19 columns]"
            ],
            "text/html": [
              "<div>\n",
              "<style scoped>\n",
              "    .dataframe tbody tr th:only-of-type {\n",
              "        vertical-align: middle;\n",
              "    }\n",
              "\n",
              "    .dataframe tbody tr th {\n",
              "        vertical-align: top;\n",
              "    }\n",
              "\n",
              "    .dataframe thead th {\n",
              "        text-align: right;\n",
              "    }\n",
              "</style>\n",
              "<table border=\"1\" class=\"dataframe\">\n",
              "  <thead>\n",
              "    <tr style=\"text-align: right;\">\n",
              "      <th></th>\n",
              "      <th>Date</th>\n",
              "      <th>Day</th>\n",
              "      <th>Temp_max</th>\n",
              "      <th>Temp_avg</th>\n",
              "      <th>Temp_min</th>\n",
              "      <th>Dew_max</th>\n",
              "      <th>Dew_avg</th>\n",
              "      <th>Dew_min</th>\n",
              "      <th>Hum_max</th>\n",
              "      <th>Hum_avg</th>\n",
              "      <th>Hum_min</th>\n",
              "      <th>Wind_max</th>\n",
              "      <th>Wind_avg</th>\n",
              "      <th>Wind_min</th>\n",
              "      <th>Press_max</th>\n",
              "      <th>Press_avg</th>\n",
              "      <th>Press_min</th>\n",
              "      <th>Precipit</th>\n",
              "      <th>day_of_week</th>\n",
              "    </tr>\n",
              "  </thead>\n",
              "  <tbody>\n",
              "    <tr>\n",
              "      <th>0</th>\n",
              "      <td>2016-01-06</td>\n",
              "      <td>1</td>\n",
              "      <td>85</td>\n",
              "      <td>74.8</td>\n",
              "      <td>68</td>\n",
              "      <td>74</td>\n",
              "      <td>71.4</td>\n",
              "      <td>66</td>\n",
              "      <td>100</td>\n",
              "      <td>89.4</td>\n",
              "      <td>65</td>\n",
              "      <td>21</td>\n",
              "      <td>9.5</td>\n",
              "      <td>0</td>\n",
              "      <td>29.8</td>\n",
              "      <td>29.8</td>\n",
              "      <td>29.7</td>\n",
              "      <td>0.00</td>\n",
              "      <td>2</td>\n",
              "    </tr>\n",
              "    <tr>\n",
              "      <th>1</th>\n",
              "      <td>2016-02-06</td>\n",
              "      <td>2</td>\n",
              "      <td>76</td>\n",
              "      <td>71.2</td>\n",
              "      <td>66</td>\n",
              "      <td>74</td>\n",
              "      <td>70.3</td>\n",
              "      <td>66</td>\n",
              "      <td>100</td>\n",
              "      <td>96.8</td>\n",
              "      <td>89</td>\n",
              "      <td>18</td>\n",
              "      <td>7.8</td>\n",
              "      <td>0</td>\n",
              "      <td>29.8</td>\n",
              "      <td>29.8</td>\n",
              "      <td>29.7</td>\n",
              "      <td>4.33</td>\n",
              "      <td>5</td>\n",
              "    </tr>\n",
              "    <tr>\n",
              "      <th>2</th>\n",
              "      <td>2016-03-06</td>\n",
              "      <td>3</td>\n",
              "      <td>79</td>\n",
              "      <td>72.1</td>\n",
              "      <td>68</td>\n",
              "      <td>72</td>\n",
              "      <td>70.0</td>\n",
              "      <td>68</td>\n",
              "      <td>100</td>\n",
              "      <td>93.6</td>\n",
              "      <td>72</td>\n",
              "      <td>18</td>\n",
              "      <td>4.7</td>\n",
              "      <td>0</td>\n",
              "      <td>29.8</td>\n",
              "      <td>29.8</td>\n",
              "      <td>29.7</td>\n",
              "      <td>3.18</td>\n",
              "      <td>6</td>\n",
              "    </tr>\n",
              "    <tr>\n",
              "      <th>3</th>\n",
              "      <td>2016-04-06</td>\n",
              "      <td>4</td>\n",
              "      <td>76</td>\n",
              "      <td>71.2</td>\n",
              "      <td>69</td>\n",
              "      <td>73</td>\n",
              "      <td>70.0</td>\n",
              "      <td>66</td>\n",
              "      <td>100</td>\n",
              "      <td>96.1</td>\n",
              "      <td>85</td>\n",
              "      <td>20</td>\n",
              "      <td>7.0</td>\n",
              "      <td>0</td>\n",
              "      <td>29.8</td>\n",
              "      <td>29.7</td>\n",
              "      <td>29.7</td>\n",
              "      <td>2.37</td>\n",
              "      <td>2</td>\n",
              "    </tr>\n",
              "    <tr>\n",
              "      <th>4</th>\n",
              "      <td>2016-05-06</td>\n",
              "      <td>5</td>\n",
              "      <td>82</td>\n",
              "      <td>73.8</td>\n",
              "      <td>68</td>\n",
              "      <td>72</td>\n",
              "      <td>70.0</td>\n",
              "      <td>68</td>\n",
              "      <td>100</td>\n",
              "      <td>88.7</td>\n",
              "      <td>62</td>\n",
              "      <td>17</td>\n",
              "      <td>7.7</td>\n",
              "      <td>0</td>\n",
              "      <td>29.7</td>\n",
              "      <td>29.7</td>\n",
              "      <td>29.7</td>\n",
              "      <td>0.39</td>\n",
              "      <td>4</td>\n",
              "    </tr>\n",
              "    <tr>\n",
              "      <th>...</th>\n",
              "      <td>...</td>\n",
              "      <td>...</td>\n",
              "      <td>...</td>\n",
              "      <td>...</td>\n",
              "      <td>...</td>\n",
              "      <td>...</td>\n",
              "      <td>...</td>\n",
              "      <td>...</td>\n",
              "      <td>...</td>\n",
              "      <td>...</td>\n",
              "      <td>...</td>\n",
              "      <td>...</td>\n",
              "      <td>...</td>\n",
              "      <td>...</td>\n",
              "      <td>...</td>\n",
              "      <td>...</td>\n",
              "      <td>...</td>\n",
              "      <td>...</td>\n",
              "      <td>...</td>\n",
              "    </tr>\n",
              "    <tr>\n",
              "      <th>1547</th>\n",
              "      <td>2020-08-26</td>\n",
              "      <td>26</td>\n",
              "      <td>95</td>\n",
              "      <td>83.4</td>\n",
              "      <td>79</td>\n",
              "      <td>79</td>\n",
              "      <td>75.7</td>\n",
              "      <td>73</td>\n",
              "      <td>94</td>\n",
              "      <td>78.2</td>\n",
              "      <td>54</td>\n",
              "      <td>21</td>\n",
              "      <td>12.4</td>\n",
              "      <td>8</td>\n",
              "      <td>29.7</td>\n",
              "      <td>29.7</td>\n",
              "      <td>29.6</td>\n",
              "      <td>0.01</td>\n",
              "      <td>2</td>\n",
              "    </tr>\n",
              "    <tr>\n",
              "      <th>1548</th>\n",
              "      <td>2020-08-27</td>\n",
              "      <td>27</td>\n",
              "      <td>99</td>\n",
              "      <td>87.1</td>\n",
              "      <td>78</td>\n",
              "      <td>75</td>\n",
              "      <td>72.0</td>\n",
              "      <td>69</td>\n",
              "      <td>82</td>\n",
              "      <td>62.7</td>\n",
              "      <td>39</td>\n",
              "      <td>14</td>\n",
              "      <td>8.0</td>\n",
              "      <td>0</td>\n",
              "      <td>29.7</td>\n",
              "      <td>29.6</td>\n",
              "      <td>29.5</td>\n",
              "      <td>0.00</td>\n",
              "      <td>3</td>\n",
              "    </tr>\n",
              "    <tr>\n",
              "      <th>1549</th>\n",
              "      <td>2020-08-28</td>\n",
              "      <td>28</td>\n",
              "      <td>98</td>\n",
              "      <td>86.5</td>\n",
              "      <td>79</td>\n",
              "      <td>79</td>\n",
              "      <td>77.2</td>\n",
              "      <td>74</td>\n",
              "      <td>94</td>\n",
              "      <td>75.6</td>\n",
              "      <td>49</td>\n",
              "      <td>18</td>\n",
              "      <td>8.1</td>\n",
              "      <td>0</td>\n",
              "      <td>29.8</td>\n",
              "      <td>29.7</td>\n",
              "      <td>29.7</td>\n",
              "      <td>0.00</td>\n",
              "      <td>4</td>\n",
              "    </tr>\n",
              "    <tr>\n",
              "      <th>1550</th>\n",
              "      <td>2020-08-29</td>\n",
              "      <td>29</td>\n",
              "      <td>98</td>\n",
              "      <td>87.5</td>\n",
              "      <td>79</td>\n",
              "      <td>79</td>\n",
              "      <td>75.8</td>\n",
              "      <td>72</td>\n",
              "      <td>94</td>\n",
              "      <td>70.4</td>\n",
              "      <td>43</td>\n",
              "      <td>15</td>\n",
              "      <td>6.5</td>\n",
              "      <td>0</td>\n",
              "      <td>29.8</td>\n",
              "      <td>29.7</td>\n",
              "      <td>29.7</td>\n",
              "      <td>0.22</td>\n",
              "      <td>5</td>\n",
              "    </tr>\n",
              "    <tr>\n",
              "      <th>1551</th>\n",
              "      <td>2020-08-30</td>\n",
              "      <td>30</td>\n",
              "      <td>97</td>\n",
              "      <td>86.9</td>\n",
              "      <td>78</td>\n",
              "      <td>78</td>\n",
              "      <td>76.3</td>\n",
              "      <td>74</td>\n",
              "      <td>94</td>\n",
              "      <td>72.6</td>\n",
              "      <td>50</td>\n",
              "      <td>14</td>\n",
              "      <td>5.5</td>\n",
              "      <td>0</td>\n",
              "      <td>29.7</td>\n",
              "      <td>29.7</td>\n",
              "      <td>29.6</td>\n",
              "      <td>0.00</td>\n",
              "      <td>6</td>\n",
              "    </tr>\n",
              "  </tbody>\n",
              "</table>\n",
              "<p>1552 rows × 19 columns</p>\n",
              "</div>"
            ]
          },
          "metadata": {
            "tags": []
          },
          "execution_count": 10
        }
      ],
      "metadata": {
        "colab": {
          "base_uri": "https://localhost:8080/",
          "height": 0
        },
        "id": "_PToe05rk7ne",
        "outputId": "c13ab92e-dc99-49cf-813d-3e0f7d53d193"
      }
    },
    {
      "cell_type": "code",
      "execution_count": 11,
      "source": [
        "n = power_usage_df.shape[0]\n",
        "p1 = pd.Series(range(n), pd.period_range('2016-06-01 00:00:00', freq = '1H', periods = n))\n",
        "power_usage_df['StartDate'] = p1.to_frame().index\n",
        "\n",
        "power_usage_df['StartDate'] = power_usage_df['StartDate'].apply (lambda x: x.to_timestamp())\n",
        "power_usage_df['Date'] = pd.DatetimeIndex(power_usage_df['StartDate']).date"
      ],
      "outputs": [],
      "metadata": {
        "id": "euzkZLQCmKh8"
      }
    },
    {
      "cell_type": "code",
      "execution_count": 12,
      "source": [
        "power_usage_df"
      ],
      "outputs": [
        {
          "output_type": "execute_result",
          "data": {
            "text/plain": [
              "                StartDate  Value (kWh)  day_of_week    notes        Date\n",
              "0     2016-06-01 00:00:00        1.057            2  weekday  2016-06-01\n",
              "1     2016-06-01 01:00:00        1.171            2  weekday  2016-06-01\n",
              "2     2016-06-01 02:00:00        0.560            2  weekday  2016-06-01\n",
              "3     2016-06-01 03:00:00        0.828            2  weekday  2016-06-01\n",
              "4     2016-06-01 04:00:00        0.932            2  weekday  2016-06-01\n",
              "...                   ...          ...          ...      ...         ...\n",
              "35947 2020-07-07 19:00:00        1.307            1  weekday  2020-07-07\n",
              "35948 2020-07-07 20:00:00        2.872            1  weekday  2020-07-07\n",
              "35949 2020-07-07 21:00:00        2.138            1  weekday  2020-07-07\n",
              "35950 2020-07-07 22:00:00        2.199            1  weekday  2020-07-07\n",
              "35951 2020-07-07 23:00:00        1.809            1  weekday  2020-07-07\n",
              "\n",
              "[35952 rows x 5 columns]"
            ],
            "text/html": [
              "<div>\n",
              "<style scoped>\n",
              "    .dataframe tbody tr th:only-of-type {\n",
              "        vertical-align: middle;\n",
              "    }\n",
              "\n",
              "    .dataframe tbody tr th {\n",
              "        vertical-align: top;\n",
              "    }\n",
              "\n",
              "    .dataframe thead th {\n",
              "        text-align: right;\n",
              "    }\n",
              "</style>\n",
              "<table border=\"1\" class=\"dataframe\">\n",
              "  <thead>\n",
              "    <tr style=\"text-align: right;\">\n",
              "      <th></th>\n",
              "      <th>StartDate</th>\n",
              "      <th>Value (kWh)</th>\n",
              "      <th>day_of_week</th>\n",
              "      <th>notes</th>\n",
              "      <th>Date</th>\n",
              "    </tr>\n",
              "  </thead>\n",
              "  <tbody>\n",
              "    <tr>\n",
              "      <th>0</th>\n",
              "      <td>2016-06-01 00:00:00</td>\n",
              "      <td>1.057</td>\n",
              "      <td>2</td>\n",
              "      <td>weekday</td>\n",
              "      <td>2016-06-01</td>\n",
              "    </tr>\n",
              "    <tr>\n",
              "      <th>1</th>\n",
              "      <td>2016-06-01 01:00:00</td>\n",
              "      <td>1.171</td>\n",
              "      <td>2</td>\n",
              "      <td>weekday</td>\n",
              "      <td>2016-06-01</td>\n",
              "    </tr>\n",
              "    <tr>\n",
              "      <th>2</th>\n",
              "      <td>2016-06-01 02:00:00</td>\n",
              "      <td>0.560</td>\n",
              "      <td>2</td>\n",
              "      <td>weekday</td>\n",
              "      <td>2016-06-01</td>\n",
              "    </tr>\n",
              "    <tr>\n",
              "      <th>3</th>\n",
              "      <td>2016-06-01 03:00:00</td>\n",
              "      <td>0.828</td>\n",
              "      <td>2</td>\n",
              "      <td>weekday</td>\n",
              "      <td>2016-06-01</td>\n",
              "    </tr>\n",
              "    <tr>\n",
              "      <th>4</th>\n",
              "      <td>2016-06-01 04:00:00</td>\n",
              "      <td>0.932</td>\n",
              "      <td>2</td>\n",
              "      <td>weekday</td>\n",
              "      <td>2016-06-01</td>\n",
              "    </tr>\n",
              "    <tr>\n",
              "      <th>...</th>\n",
              "      <td>...</td>\n",
              "      <td>...</td>\n",
              "      <td>...</td>\n",
              "      <td>...</td>\n",
              "      <td>...</td>\n",
              "    </tr>\n",
              "    <tr>\n",
              "      <th>35947</th>\n",
              "      <td>2020-07-07 19:00:00</td>\n",
              "      <td>1.307</td>\n",
              "      <td>1</td>\n",
              "      <td>weekday</td>\n",
              "      <td>2020-07-07</td>\n",
              "    </tr>\n",
              "    <tr>\n",
              "      <th>35948</th>\n",
              "      <td>2020-07-07 20:00:00</td>\n",
              "      <td>2.872</td>\n",
              "      <td>1</td>\n",
              "      <td>weekday</td>\n",
              "      <td>2020-07-07</td>\n",
              "    </tr>\n",
              "    <tr>\n",
              "      <th>35949</th>\n",
              "      <td>2020-07-07 21:00:00</td>\n",
              "      <td>2.138</td>\n",
              "      <td>1</td>\n",
              "      <td>weekday</td>\n",
              "      <td>2020-07-07</td>\n",
              "    </tr>\n",
              "    <tr>\n",
              "      <th>35950</th>\n",
              "      <td>2020-07-07 22:00:00</td>\n",
              "      <td>2.199</td>\n",
              "      <td>1</td>\n",
              "      <td>weekday</td>\n",
              "      <td>2020-07-07</td>\n",
              "    </tr>\n",
              "    <tr>\n",
              "      <th>35951</th>\n",
              "      <td>2020-07-07 23:00:00</td>\n",
              "      <td>1.809</td>\n",
              "      <td>1</td>\n",
              "      <td>weekday</td>\n",
              "      <td>2020-07-07</td>\n",
              "    </tr>\n",
              "  </tbody>\n",
              "</table>\n",
              "<p>35952 rows × 5 columns</p>\n",
              "</div>"
            ]
          },
          "metadata": {
            "tags": []
          },
          "execution_count": 12
        }
      ],
      "metadata": {
        "colab": {
          "base_uri": "https://localhost:8080/",
          "height": 0
        },
        "id": "YkpjOmpAocQj",
        "outputId": "298e8659-14cc-4519-9880-dfae994189f6"
      }
    },
    {
      "cell_type": "code",
      "execution_count": 13,
      "source": [
        "power_usage_df1 = power_usage_df.groupby('Date').sum()\n",
        "\n",
        "power_usage_df1['day_of_week'] = power_usage_df1['day_of_week'].apply(lambda x: x/24)\n",
        "\n",
        "notes_col = power_usage_df.groupby('Date').first()['notes'].values\n",
        "power_usage_df1['notes'] = notes_col"
      ],
      "outputs": [],
      "metadata": {
        "id": "JtnUV0dUn-Ek"
      }
    },
    {
      "cell_type": "code",
      "execution_count": 14,
      "source": [
        "power_usage_df1"
      ],
      "outputs": [
        {
          "output_type": "execute_result",
          "data": {
            "text/plain": [
              "            Value (kWh)  day_of_week           notes\n",
              "Date                                                \n",
              "2016-06-01       29.691          2.0         weekday\n",
              "2016-06-02       28.789          5.0         weekend\n",
              "2016-06-03       19.247          6.0         weekend\n",
              "2016-06-04       22.883          2.0         weekday\n",
              "2016-06-05       25.195          4.0         weekday\n",
              "...                 ...          ...             ...\n",
              "2020-07-03       39.659          5.0  COVID_lockdown\n",
              "2020-07-04       38.071          1.0  COVID_lockdown\n",
              "2020-07-05       36.565          3.0  COVID_lockdown\n",
              "2020-07-06       39.900          6.0  COVID_lockdown\n",
              "2020-07-07       38.483          1.0         weekday\n",
              "\n",
              "[1498 rows x 3 columns]"
            ],
            "text/html": [
              "<div>\n",
              "<style scoped>\n",
              "    .dataframe tbody tr th:only-of-type {\n",
              "        vertical-align: middle;\n",
              "    }\n",
              "\n",
              "    .dataframe tbody tr th {\n",
              "        vertical-align: top;\n",
              "    }\n",
              "\n",
              "    .dataframe thead th {\n",
              "        text-align: right;\n",
              "    }\n",
              "</style>\n",
              "<table border=\"1\" class=\"dataframe\">\n",
              "  <thead>\n",
              "    <tr style=\"text-align: right;\">\n",
              "      <th></th>\n",
              "      <th>Value (kWh)</th>\n",
              "      <th>day_of_week</th>\n",
              "      <th>notes</th>\n",
              "    </tr>\n",
              "    <tr>\n",
              "      <th>Date</th>\n",
              "      <th></th>\n",
              "      <th></th>\n",
              "      <th></th>\n",
              "    </tr>\n",
              "  </thead>\n",
              "  <tbody>\n",
              "    <tr>\n",
              "      <th>2016-06-01</th>\n",
              "      <td>29.691</td>\n",
              "      <td>2.0</td>\n",
              "      <td>weekday</td>\n",
              "    </tr>\n",
              "    <tr>\n",
              "      <th>2016-06-02</th>\n",
              "      <td>28.789</td>\n",
              "      <td>5.0</td>\n",
              "      <td>weekend</td>\n",
              "    </tr>\n",
              "    <tr>\n",
              "      <th>2016-06-03</th>\n",
              "      <td>19.247</td>\n",
              "      <td>6.0</td>\n",
              "      <td>weekend</td>\n",
              "    </tr>\n",
              "    <tr>\n",
              "      <th>2016-06-04</th>\n",
              "      <td>22.883</td>\n",
              "      <td>2.0</td>\n",
              "      <td>weekday</td>\n",
              "    </tr>\n",
              "    <tr>\n",
              "      <th>2016-06-05</th>\n",
              "      <td>25.195</td>\n",
              "      <td>4.0</td>\n",
              "      <td>weekday</td>\n",
              "    </tr>\n",
              "    <tr>\n",
              "      <th>...</th>\n",
              "      <td>...</td>\n",
              "      <td>...</td>\n",
              "      <td>...</td>\n",
              "    </tr>\n",
              "    <tr>\n",
              "      <th>2020-07-03</th>\n",
              "      <td>39.659</td>\n",
              "      <td>5.0</td>\n",
              "      <td>COVID_lockdown</td>\n",
              "    </tr>\n",
              "    <tr>\n",
              "      <th>2020-07-04</th>\n",
              "      <td>38.071</td>\n",
              "      <td>1.0</td>\n",
              "      <td>COVID_lockdown</td>\n",
              "    </tr>\n",
              "    <tr>\n",
              "      <th>2020-07-05</th>\n",
              "      <td>36.565</td>\n",
              "      <td>3.0</td>\n",
              "      <td>COVID_lockdown</td>\n",
              "    </tr>\n",
              "    <tr>\n",
              "      <th>2020-07-06</th>\n",
              "      <td>39.900</td>\n",
              "      <td>6.0</td>\n",
              "      <td>COVID_lockdown</td>\n",
              "    </tr>\n",
              "    <tr>\n",
              "      <th>2020-07-07</th>\n",
              "      <td>38.483</td>\n",
              "      <td>1.0</td>\n",
              "      <td>weekday</td>\n",
              "    </tr>\n",
              "  </tbody>\n",
              "</table>\n",
              "<p>1498 rows × 3 columns</p>\n",
              "</div>"
            ]
          },
          "metadata": {
            "tags": []
          },
          "execution_count": 14
        }
      ],
      "metadata": {
        "colab": {
          "base_uri": "https://localhost:8080/",
          "height": 0
        },
        "id": "s74iisVaoJg0",
        "outputId": "4a511176-e449-44e1-b400-92c27e77ef3f"
      }
    },
    {
      "cell_type": "code",
      "execution_count": 15,
      "source": [
        "m = weather_df.shape[0]\n",
        "p2 = pd.Series(range(m), pd.period_range('2016-06-01', freq = '1D', periods = m))\n",
        "weather_df['Date'] = p2.to_frame().index\n",
        "\n",
        "weather_df['Date'] = weather_df['Date'].apply (lambda x: x.to_timestamp())"
      ],
      "outputs": [],
      "metadata": {
        "id": "0VkOGjyBuq9b"
      }
    },
    {
      "cell_type": "code",
      "execution_count": 16,
      "source": [
        "weather_df"
      ],
      "outputs": [
        {
          "output_type": "execute_result",
          "data": {
            "text/plain": [
              "           Date  Day  Temp_max  ...  Press_min  Precipit  day_of_week\n",
              "0    2016-06-01    1        85  ...       29.7      0.00            2\n",
              "1    2016-06-02    2        76  ...       29.7      4.33            5\n",
              "2    2016-06-03    3        79  ...       29.7      3.18            6\n",
              "3    2016-06-04    4        76  ...       29.7      2.37            2\n",
              "4    2016-06-05    5        82  ...       29.7      0.39            4\n",
              "...         ...  ...       ...  ...        ...       ...          ...\n",
              "1547 2020-08-26   26        95  ...       29.6      0.01            2\n",
              "1548 2020-08-27   27        99  ...       29.5      0.00            3\n",
              "1549 2020-08-28   28        98  ...       29.7      0.00            4\n",
              "1550 2020-08-29   29        98  ...       29.7      0.22            5\n",
              "1551 2020-08-30   30        97  ...       29.6      0.00            6\n",
              "\n",
              "[1552 rows x 19 columns]"
            ],
            "text/html": [
              "<div>\n",
              "<style scoped>\n",
              "    .dataframe tbody tr th:only-of-type {\n",
              "        vertical-align: middle;\n",
              "    }\n",
              "\n",
              "    .dataframe tbody tr th {\n",
              "        vertical-align: top;\n",
              "    }\n",
              "\n",
              "    .dataframe thead th {\n",
              "        text-align: right;\n",
              "    }\n",
              "</style>\n",
              "<table border=\"1\" class=\"dataframe\">\n",
              "  <thead>\n",
              "    <tr style=\"text-align: right;\">\n",
              "      <th></th>\n",
              "      <th>Date</th>\n",
              "      <th>Day</th>\n",
              "      <th>Temp_max</th>\n",
              "      <th>Temp_avg</th>\n",
              "      <th>Temp_min</th>\n",
              "      <th>Dew_max</th>\n",
              "      <th>Dew_avg</th>\n",
              "      <th>Dew_min</th>\n",
              "      <th>Hum_max</th>\n",
              "      <th>Hum_avg</th>\n",
              "      <th>Hum_min</th>\n",
              "      <th>Wind_max</th>\n",
              "      <th>Wind_avg</th>\n",
              "      <th>Wind_min</th>\n",
              "      <th>Press_max</th>\n",
              "      <th>Press_avg</th>\n",
              "      <th>Press_min</th>\n",
              "      <th>Precipit</th>\n",
              "      <th>day_of_week</th>\n",
              "    </tr>\n",
              "  </thead>\n",
              "  <tbody>\n",
              "    <tr>\n",
              "      <th>0</th>\n",
              "      <td>2016-06-01</td>\n",
              "      <td>1</td>\n",
              "      <td>85</td>\n",
              "      <td>74.8</td>\n",
              "      <td>68</td>\n",
              "      <td>74</td>\n",
              "      <td>71.4</td>\n",
              "      <td>66</td>\n",
              "      <td>100</td>\n",
              "      <td>89.4</td>\n",
              "      <td>65</td>\n",
              "      <td>21</td>\n",
              "      <td>9.5</td>\n",
              "      <td>0</td>\n",
              "      <td>29.8</td>\n",
              "      <td>29.8</td>\n",
              "      <td>29.7</td>\n",
              "      <td>0.00</td>\n",
              "      <td>2</td>\n",
              "    </tr>\n",
              "    <tr>\n",
              "      <th>1</th>\n",
              "      <td>2016-06-02</td>\n",
              "      <td>2</td>\n",
              "      <td>76</td>\n",
              "      <td>71.2</td>\n",
              "      <td>66</td>\n",
              "      <td>74</td>\n",
              "      <td>70.3</td>\n",
              "      <td>66</td>\n",
              "      <td>100</td>\n",
              "      <td>96.8</td>\n",
              "      <td>89</td>\n",
              "      <td>18</td>\n",
              "      <td>7.8</td>\n",
              "      <td>0</td>\n",
              "      <td>29.8</td>\n",
              "      <td>29.8</td>\n",
              "      <td>29.7</td>\n",
              "      <td>4.33</td>\n",
              "      <td>5</td>\n",
              "    </tr>\n",
              "    <tr>\n",
              "      <th>2</th>\n",
              "      <td>2016-06-03</td>\n",
              "      <td>3</td>\n",
              "      <td>79</td>\n",
              "      <td>72.1</td>\n",
              "      <td>68</td>\n",
              "      <td>72</td>\n",
              "      <td>70.0</td>\n",
              "      <td>68</td>\n",
              "      <td>100</td>\n",
              "      <td>93.6</td>\n",
              "      <td>72</td>\n",
              "      <td>18</td>\n",
              "      <td>4.7</td>\n",
              "      <td>0</td>\n",
              "      <td>29.8</td>\n",
              "      <td>29.8</td>\n",
              "      <td>29.7</td>\n",
              "      <td>3.18</td>\n",
              "      <td>6</td>\n",
              "    </tr>\n",
              "    <tr>\n",
              "      <th>3</th>\n",
              "      <td>2016-06-04</td>\n",
              "      <td>4</td>\n",
              "      <td>76</td>\n",
              "      <td>71.2</td>\n",
              "      <td>69</td>\n",
              "      <td>73</td>\n",
              "      <td>70.0</td>\n",
              "      <td>66</td>\n",
              "      <td>100</td>\n",
              "      <td>96.1</td>\n",
              "      <td>85</td>\n",
              "      <td>20</td>\n",
              "      <td>7.0</td>\n",
              "      <td>0</td>\n",
              "      <td>29.8</td>\n",
              "      <td>29.7</td>\n",
              "      <td>29.7</td>\n",
              "      <td>2.37</td>\n",
              "      <td>2</td>\n",
              "    </tr>\n",
              "    <tr>\n",
              "      <th>4</th>\n",
              "      <td>2016-06-05</td>\n",
              "      <td>5</td>\n",
              "      <td>82</td>\n",
              "      <td>73.8</td>\n",
              "      <td>68</td>\n",
              "      <td>72</td>\n",
              "      <td>70.0</td>\n",
              "      <td>68</td>\n",
              "      <td>100</td>\n",
              "      <td>88.7</td>\n",
              "      <td>62</td>\n",
              "      <td>17</td>\n",
              "      <td>7.7</td>\n",
              "      <td>0</td>\n",
              "      <td>29.7</td>\n",
              "      <td>29.7</td>\n",
              "      <td>29.7</td>\n",
              "      <td>0.39</td>\n",
              "      <td>4</td>\n",
              "    </tr>\n",
              "    <tr>\n",
              "      <th>...</th>\n",
              "      <td>...</td>\n",
              "      <td>...</td>\n",
              "      <td>...</td>\n",
              "      <td>...</td>\n",
              "      <td>...</td>\n",
              "      <td>...</td>\n",
              "      <td>...</td>\n",
              "      <td>...</td>\n",
              "      <td>...</td>\n",
              "      <td>...</td>\n",
              "      <td>...</td>\n",
              "      <td>...</td>\n",
              "      <td>...</td>\n",
              "      <td>...</td>\n",
              "      <td>...</td>\n",
              "      <td>...</td>\n",
              "      <td>...</td>\n",
              "      <td>...</td>\n",
              "      <td>...</td>\n",
              "    </tr>\n",
              "    <tr>\n",
              "      <th>1547</th>\n",
              "      <td>2020-08-26</td>\n",
              "      <td>26</td>\n",
              "      <td>95</td>\n",
              "      <td>83.4</td>\n",
              "      <td>79</td>\n",
              "      <td>79</td>\n",
              "      <td>75.7</td>\n",
              "      <td>73</td>\n",
              "      <td>94</td>\n",
              "      <td>78.2</td>\n",
              "      <td>54</td>\n",
              "      <td>21</td>\n",
              "      <td>12.4</td>\n",
              "      <td>8</td>\n",
              "      <td>29.7</td>\n",
              "      <td>29.7</td>\n",
              "      <td>29.6</td>\n",
              "      <td>0.01</td>\n",
              "      <td>2</td>\n",
              "    </tr>\n",
              "    <tr>\n",
              "      <th>1548</th>\n",
              "      <td>2020-08-27</td>\n",
              "      <td>27</td>\n",
              "      <td>99</td>\n",
              "      <td>87.1</td>\n",
              "      <td>78</td>\n",
              "      <td>75</td>\n",
              "      <td>72.0</td>\n",
              "      <td>69</td>\n",
              "      <td>82</td>\n",
              "      <td>62.7</td>\n",
              "      <td>39</td>\n",
              "      <td>14</td>\n",
              "      <td>8.0</td>\n",
              "      <td>0</td>\n",
              "      <td>29.7</td>\n",
              "      <td>29.6</td>\n",
              "      <td>29.5</td>\n",
              "      <td>0.00</td>\n",
              "      <td>3</td>\n",
              "    </tr>\n",
              "    <tr>\n",
              "      <th>1549</th>\n",
              "      <td>2020-08-28</td>\n",
              "      <td>28</td>\n",
              "      <td>98</td>\n",
              "      <td>86.5</td>\n",
              "      <td>79</td>\n",
              "      <td>79</td>\n",
              "      <td>77.2</td>\n",
              "      <td>74</td>\n",
              "      <td>94</td>\n",
              "      <td>75.6</td>\n",
              "      <td>49</td>\n",
              "      <td>18</td>\n",
              "      <td>8.1</td>\n",
              "      <td>0</td>\n",
              "      <td>29.8</td>\n",
              "      <td>29.7</td>\n",
              "      <td>29.7</td>\n",
              "      <td>0.00</td>\n",
              "      <td>4</td>\n",
              "    </tr>\n",
              "    <tr>\n",
              "      <th>1550</th>\n",
              "      <td>2020-08-29</td>\n",
              "      <td>29</td>\n",
              "      <td>98</td>\n",
              "      <td>87.5</td>\n",
              "      <td>79</td>\n",
              "      <td>79</td>\n",
              "      <td>75.8</td>\n",
              "      <td>72</td>\n",
              "      <td>94</td>\n",
              "      <td>70.4</td>\n",
              "      <td>43</td>\n",
              "      <td>15</td>\n",
              "      <td>6.5</td>\n",
              "      <td>0</td>\n",
              "      <td>29.8</td>\n",
              "      <td>29.7</td>\n",
              "      <td>29.7</td>\n",
              "      <td>0.22</td>\n",
              "      <td>5</td>\n",
              "    </tr>\n",
              "    <tr>\n",
              "      <th>1551</th>\n",
              "      <td>2020-08-30</td>\n",
              "      <td>30</td>\n",
              "      <td>97</td>\n",
              "      <td>86.9</td>\n",
              "      <td>78</td>\n",
              "      <td>78</td>\n",
              "      <td>76.3</td>\n",
              "      <td>74</td>\n",
              "      <td>94</td>\n",
              "      <td>72.6</td>\n",
              "      <td>50</td>\n",
              "      <td>14</td>\n",
              "      <td>5.5</td>\n",
              "      <td>0</td>\n",
              "      <td>29.7</td>\n",
              "      <td>29.7</td>\n",
              "      <td>29.6</td>\n",
              "      <td>0.00</td>\n",
              "      <td>6</td>\n",
              "    </tr>\n",
              "  </tbody>\n",
              "</table>\n",
              "<p>1552 rows × 19 columns</p>\n",
              "</div>"
            ]
          },
          "metadata": {
            "tags": []
          },
          "execution_count": 16
        }
      ],
      "metadata": {
        "colab": {
          "base_uri": "https://localhost:8080/",
          "height": 0
        },
        "id": "dc3zDhQNx3fN",
        "outputId": "0df8329b-df86-4ca3-bfce-fa600c2f0889"
      }
    },
    {
      "cell_type": "code",
      "execution_count": 17,
      "source": [
        "df_temp = power_usage_df1['Value (kWh)'].values\n",
        "k = power_usage_df1.shape[0]\n",
        "df = weather_df[0:k]\n",
        "df['kWh_usage'] = pd.Series(df_temp).to_frame()"
      ],
      "outputs": [
        {
          "output_type": "stream",
          "name": "stderr",
          "text": [
            "/usr/local/lib/python3.7/dist-packages/ipykernel_launcher.py:4: SettingWithCopyWarning: \n",
            "A value is trying to be set on a copy of a slice from a DataFrame.\n",
            "Try using .loc[row_indexer,col_indexer] = value instead\n",
            "\n",
            "See the caveats in the documentation: https://pandas.pydata.org/pandas-docs/stable/user_guide/indexing.html#returning-a-view-versus-a-copy\n",
            "  after removing the cwd from sys.path.\n"
          ]
        }
      ],
      "metadata": {
        "colab": {
          "base_uri": "https://localhost:8080/"
        },
        "id": "Xok8PNCD3Ks4",
        "outputId": "eec6b48d-6a70-43d0-a648-11d26305a668"
      }
    },
    {
      "cell_type": "code",
      "execution_count": 18,
      "source": [
        "df_temp = power_usage_df1['notes'].values\n",
        "df['tags'] = pd.Series(df_temp).to_frame()"
      ],
      "outputs": [
        {
          "output_type": "stream",
          "name": "stderr",
          "text": [
            "/usr/local/lib/python3.7/dist-packages/ipykernel_launcher.py:2: SettingWithCopyWarning: \n",
            "A value is trying to be set on a copy of a slice from a DataFrame.\n",
            "Try using .loc[row_indexer,col_indexer] = value instead\n",
            "\n",
            "See the caveats in the documentation: https://pandas.pydata.org/pandas-docs/stable/user_guide/indexing.html#returning-a-view-versus-a-copy\n",
            "  \n"
          ]
        }
      ],
      "metadata": {
        "colab": {
          "base_uri": "https://localhost:8080/"
        },
        "id": "3RytD-J5INt5",
        "outputId": "83ccc3c0-8b1e-433f-a4cd-f641985064bc"
      }
    },
    {
      "cell_type": "code",
      "execution_count": 19,
      "source": [
        "df"
      ],
      "outputs": [
        {
          "output_type": "execute_result",
          "data": {
            "text/plain": [
              "           Date  Day  Temp_max  ...  day_of_week  kWh_usage            tags\n",
              "0    2016-06-01    1        85  ...            2     29.691         weekday\n",
              "1    2016-06-02    2        76  ...            5     28.789         weekend\n",
              "2    2016-06-03    3        79  ...            6     19.247         weekend\n",
              "3    2016-06-04    4        76  ...            2     22.883         weekday\n",
              "4    2016-06-05    5        82  ...            4     25.195         weekday\n",
              "...         ...  ...       ...  ...          ...        ...             ...\n",
              "1493 2020-07-03    3        96  ...            5     39.659  COVID_lockdown\n",
              "1494 2020-07-04    4        97  ...            1     38.071  COVID_lockdown\n",
              "1495 2020-07-05    5        95  ...            3     36.565  COVID_lockdown\n",
              "1496 2020-07-06    6        91  ...            6     39.900  COVID_lockdown\n",
              "1497 2020-07-07    7        93  ...            1     38.483         weekday\n",
              "\n",
              "[1498 rows x 21 columns]"
            ],
            "text/html": [
              "<div>\n",
              "<style scoped>\n",
              "    .dataframe tbody tr th:only-of-type {\n",
              "        vertical-align: middle;\n",
              "    }\n",
              "\n",
              "    .dataframe tbody tr th {\n",
              "        vertical-align: top;\n",
              "    }\n",
              "\n",
              "    .dataframe thead th {\n",
              "        text-align: right;\n",
              "    }\n",
              "</style>\n",
              "<table border=\"1\" class=\"dataframe\">\n",
              "  <thead>\n",
              "    <tr style=\"text-align: right;\">\n",
              "      <th></th>\n",
              "      <th>Date</th>\n",
              "      <th>Day</th>\n",
              "      <th>Temp_max</th>\n",
              "      <th>Temp_avg</th>\n",
              "      <th>Temp_min</th>\n",
              "      <th>Dew_max</th>\n",
              "      <th>Dew_avg</th>\n",
              "      <th>Dew_min</th>\n",
              "      <th>Hum_max</th>\n",
              "      <th>Hum_avg</th>\n",
              "      <th>Hum_min</th>\n",
              "      <th>Wind_max</th>\n",
              "      <th>Wind_avg</th>\n",
              "      <th>Wind_min</th>\n",
              "      <th>Press_max</th>\n",
              "      <th>Press_avg</th>\n",
              "      <th>Press_min</th>\n",
              "      <th>Precipit</th>\n",
              "      <th>day_of_week</th>\n",
              "      <th>kWh_usage</th>\n",
              "      <th>tags</th>\n",
              "    </tr>\n",
              "  </thead>\n",
              "  <tbody>\n",
              "    <tr>\n",
              "      <th>0</th>\n",
              "      <td>2016-06-01</td>\n",
              "      <td>1</td>\n",
              "      <td>85</td>\n",
              "      <td>74.8</td>\n",
              "      <td>68</td>\n",
              "      <td>74</td>\n",
              "      <td>71.4</td>\n",
              "      <td>66</td>\n",
              "      <td>100</td>\n",
              "      <td>89.4</td>\n",
              "      <td>65</td>\n",
              "      <td>21</td>\n",
              "      <td>9.5</td>\n",
              "      <td>0</td>\n",
              "      <td>29.8</td>\n",
              "      <td>29.8</td>\n",
              "      <td>29.7</td>\n",
              "      <td>0.00</td>\n",
              "      <td>2</td>\n",
              "      <td>29.691</td>\n",
              "      <td>weekday</td>\n",
              "    </tr>\n",
              "    <tr>\n",
              "      <th>1</th>\n",
              "      <td>2016-06-02</td>\n",
              "      <td>2</td>\n",
              "      <td>76</td>\n",
              "      <td>71.2</td>\n",
              "      <td>66</td>\n",
              "      <td>74</td>\n",
              "      <td>70.3</td>\n",
              "      <td>66</td>\n",
              "      <td>100</td>\n",
              "      <td>96.8</td>\n",
              "      <td>89</td>\n",
              "      <td>18</td>\n",
              "      <td>7.8</td>\n",
              "      <td>0</td>\n",
              "      <td>29.8</td>\n",
              "      <td>29.8</td>\n",
              "      <td>29.7</td>\n",
              "      <td>4.33</td>\n",
              "      <td>5</td>\n",
              "      <td>28.789</td>\n",
              "      <td>weekend</td>\n",
              "    </tr>\n",
              "    <tr>\n",
              "      <th>2</th>\n",
              "      <td>2016-06-03</td>\n",
              "      <td>3</td>\n",
              "      <td>79</td>\n",
              "      <td>72.1</td>\n",
              "      <td>68</td>\n",
              "      <td>72</td>\n",
              "      <td>70.0</td>\n",
              "      <td>68</td>\n",
              "      <td>100</td>\n",
              "      <td>93.6</td>\n",
              "      <td>72</td>\n",
              "      <td>18</td>\n",
              "      <td>4.7</td>\n",
              "      <td>0</td>\n",
              "      <td>29.8</td>\n",
              "      <td>29.8</td>\n",
              "      <td>29.7</td>\n",
              "      <td>3.18</td>\n",
              "      <td>6</td>\n",
              "      <td>19.247</td>\n",
              "      <td>weekend</td>\n",
              "    </tr>\n",
              "    <tr>\n",
              "      <th>3</th>\n",
              "      <td>2016-06-04</td>\n",
              "      <td>4</td>\n",
              "      <td>76</td>\n",
              "      <td>71.2</td>\n",
              "      <td>69</td>\n",
              "      <td>73</td>\n",
              "      <td>70.0</td>\n",
              "      <td>66</td>\n",
              "      <td>100</td>\n",
              "      <td>96.1</td>\n",
              "      <td>85</td>\n",
              "      <td>20</td>\n",
              "      <td>7.0</td>\n",
              "      <td>0</td>\n",
              "      <td>29.8</td>\n",
              "      <td>29.7</td>\n",
              "      <td>29.7</td>\n",
              "      <td>2.37</td>\n",
              "      <td>2</td>\n",
              "      <td>22.883</td>\n",
              "      <td>weekday</td>\n",
              "    </tr>\n",
              "    <tr>\n",
              "      <th>4</th>\n",
              "      <td>2016-06-05</td>\n",
              "      <td>5</td>\n",
              "      <td>82</td>\n",
              "      <td>73.8</td>\n",
              "      <td>68</td>\n",
              "      <td>72</td>\n",
              "      <td>70.0</td>\n",
              "      <td>68</td>\n",
              "      <td>100</td>\n",
              "      <td>88.7</td>\n",
              "      <td>62</td>\n",
              "      <td>17</td>\n",
              "      <td>7.7</td>\n",
              "      <td>0</td>\n",
              "      <td>29.7</td>\n",
              "      <td>29.7</td>\n",
              "      <td>29.7</td>\n",
              "      <td>0.39</td>\n",
              "      <td>4</td>\n",
              "      <td>25.195</td>\n",
              "      <td>weekday</td>\n",
              "    </tr>\n",
              "    <tr>\n",
              "      <th>...</th>\n",
              "      <td>...</td>\n",
              "      <td>...</td>\n",
              "      <td>...</td>\n",
              "      <td>...</td>\n",
              "      <td>...</td>\n",
              "      <td>...</td>\n",
              "      <td>...</td>\n",
              "      <td>...</td>\n",
              "      <td>...</td>\n",
              "      <td>...</td>\n",
              "      <td>...</td>\n",
              "      <td>...</td>\n",
              "      <td>...</td>\n",
              "      <td>...</td>\n",
              "      <td>...</td>\n",
              "      <td>...</td>\n",
              "      <td>...</td>\n",
              "      <td>...</td>\n",
              "      <td>...</td>\n",
              "      <td>...</td>\n",
              "      <td>...</td>\n",
              "    </tr>\n",
              "    <tr>\n",
              "      <th>1493</th>\n",
              "      <td>2020-07-03</td>\n",
              "      <td>3</td>\n",
              "      <td>96</td>\n",
              "      <td>84.7</td>\n",
              "      <td>74</td>\n",
              "      <td>76</td>\n",
              "      <td>72.8</td>\n",
              "      <td>67</td>\n",
              "      <td>91</td>\n",
              "      <td>69.6</td>\n",
              "      <td>38</td>\n",
              "      <td>24</td>\n",
              "      <td>6.3</td>\n",
              "      <td>0</td>\n",
              "      <td>29.9</td>\n",
              "      <td>29.9</td>\n",
              "      <td>29.8</td>\n",
              "      <td>0.00</td>\n",
              "      <td>5</td>\n",
              "      <td>39.659</td>\n",
              "      <td>COVID_lockdown</td>\n",
              "    </tr>\n",
              "    <tr>\n",
              "      <th>1494</th>\n",
              "      <td>2020-07-04</td>\n",
              "      <td>4</td>\n",
              "      <td>97</td>\n",
              "      <td>84.6</td>\n",
              "      <td>73</td>\n",
              "      <td>76</td>\n",
              "      <td>72.9</td>\n",
              "      <td>70</td>\n",
              "      <td>94</td>\n",
              "      <td>70.5</td>\n",
              "      <td>43</td>\n",
              "      <td>10</td>\n",
              "      <td>3.6</td>\n",
              "      <td>0</td>\n",
              "      <td>29.9</td>\n",
              "      <td>29.8</td>\n",
              "      <td>29.7</td>\n",
              "      <td>0.00</td>\n",
              "      <td>1</td>\n",
              "      <td>38.071</td>\n",
              "      <td>COVID_lockdown</td>\n",
              "    </tr>\n",
              "    <tr>\n",
              "      <th>1495</th>\n",
              "      <td>2020-07-05</td>\n",
              "      <td>5</td>\n",
              "      <td>95</td>\n",
              "      <td>85.4</td>\n",
              "      <td>79</td>\n",
              "      <td>75</td>\n",
              "      <td>73.5</td>\n",
              "      <td>68</td>\n",
              "      <td>88</td>\n",
              "      <td>69.0</td>\n",
              "      <td>44</td>\n",
              "      <td>12</td>\n",
              "      <td>6.2</td>\n",
              "      <td>0</td>\n",
              "      <td>29.8</td>\n",
              "      <td>29.7</td>\n",
              "      <td>29.7</td>\n",
              "      <td>0.00</td>\n",
              "      <td>3</td>\n",
              "      <td>36.565</td>\n",
              "      <td>COVID_lockdown</td>\n",
              "    </tr>\n",
              "    <tr>\n",
              "      <th>1496</th>\n",
              "      <td>2020-07-06</td>\n",
              "      <td>6</td>\n",
              "      <td>91</td>\n",
              "      <td>85.5</td>\n",
              "      <td>82</td>\n",
              "      <td>77</td>\n",
              "      <td>75.5</td>\n",
              "      <td>72</td>\n",
              "      <td>82</td>\n",
              "      <td>71.9</td>\n",
              "      <td>59</td>\n",
              "      <td>10</td>\n",
              "      <td>6.0</td>\n",
              "      <td>0</td>\n",
              "      <td>29.8</td>\n",
              "      <td>29.8</td>\n",
              "      <td>29.7</td>\n",
              "      <td>0.00</td>\n",
              "      <td>6</td>\n",
              "      <td>39.900</td>\n",
              "      <td>COVID_lockdown</td>\n",
              "    </tr>\n",
              "    <tr>\n",
              "      <th>1497</th>\n",
              "      <td>2020-07-07</td>\n",
              "      <td>7</td>\n",
              "      <td>93</td>\n",
              "      <td>84.5</td>\n",
              "      <td>80</td>\n",
              "      <td>80</td>\n",
              "      <td>76.0</td>\n",
              "      <td>72</td>\n",
              "      <td>91</td>\n",
              "      <td>76.6</td>\n",
              "      <td>53</td>\n",
              "      <td>15</td>\n",
              "      <td>6.1</td>\n",
              "      <td>0</td>\n",
              "      <td>29.9</td>\n",
              "      <td>29.8</td>\n",
              "      <td>29.8</td>\n",
              "      <td>0.00</td>\n",
              "      <td>1</td>\n",
              "      <td>38.483</td>\n",
              "      <td>weekday</td>\n",
              "    </tr>\n",
              "  </tbody>\n",
              "</table>\n",
              "<p>1498 rows × 21 columns</p>\n",
              "</div>"
            ]
          },
          "metadata": {
            "tags": []
          },
          "execution_count": 19
        }
      ],
      "metadata": {
        "colab": {
          "base_uri": "https://localhost:8080/",
          "height": 0
        },
        "id": "WKdrb1Iox4tl",
        "outputId": "a3e94ee0-eb22-41de-cc75-3fc1f6dd26b0"
      }
    },
    {
      "cell_type": "markdown",
      "source": [
        "# Exploratory Data Analysis"
      ],
      "metadata": {
        "id": "HnZmnnoHD0tY"
      }
    },
    {
      "cell_type": "code",
      "execution_count": 20,
      "source": [
        "df.head()"
      ],
      "outputs": [
        {
          "output_type": "execute_result",
          "data": {
            "text/plain": [
              "        Date  Day  Temp_max  ...  day_of_week  kWh_usage     tags\n",
              "0 2016-06-01    1        85  ...            2     29.691  weekday\n",
              "1 2016-06-02    2        76  ...            5     28.789  weekend\n",
              "2 2016-06-03    3        79  ...            6     19.247  weekend\n",
              "3 2016-06-04    4        76  ...            2     22.883  weekday\n",
              "4 2016-06-05    5        82  ...            4     25.195  weekday\n",
              "\n",
              "[5 rows x 21 columns]"
            ],
            "text/html": [
              "<div>\n",
              "<style scoped>\n",
              "    .dataframe tbody tr th:only-of-type {\n",
              "        vertical-align: middle;\n",
              "    }\n",
              "\n",
              "    .dataframe tbody tr th {\n",
              "        vertical-align: top;\n",
              "    }\n",
              "\n",
              "    .dataframe thead th {\n",
              "        text-align: right;\n",
              "    }\n",
              "</style>\n",
              "<table border=\"1\" class=\"dataframe\">\n",
              "  <thead>\n",
              "    <tr style=\"text-align: right;\">\n",
              "      <th></th>\n",
              "      <th>Date</th>\n",
              "      <th>Day</th>\n",
              "      <th>Temp_max</th>\n",
              "      <th>Temp_avg</th>\n",
              "      <th>Temp_min</th>\n",
              "      <th>Dew_max</th>\n",
              "      <th>Dew_avg</th>\n",
              "      <th>Dew_min</th>\n",
              "      <th>Hum_max</th>\n",
              "      <th>Hum_avg</th>\n",
              "      <th>Hum_min</th>\n",
              "      <th>Wind_max</th>\n",
              "      <th>Wind_avg</th>\n",
              "      <th>Wind_min</th>\n",
              "      <th>Press_max</th>\n",
              "      <th>Press_avg</th>\n",
              "      <th>Press_min</th>\n",
              "      <th>Precipit</th>\n",
              "      <th>day_of_week</th>\n",
              "      <th>kWh_usage</th>\n",
              "      <th>tags</th>\n",
              "    </tr>\n",
              "  </thead>\n",
              "  <tbody>\n",
              "    <tr>\n",
              "      <th>0</th>\n",
              "      <td>2016-06-01</td>\n",
              "      <td>1</td>\n",
              "      <td>85</td>\n",
              "      <td>74.8</td>\n",
              "      <td>68</td>\n",
              "      <td>74</td>\n",
              "      <td>71.4</td>\n",
              "      <td>66</td>\n",
              "      <td>100</td>\n",
              "      <td>89.4</td>\n",
              "      <td>65</td>\n",
              "      <td>21</td>\n",
              "      <td>9.5</td>\n",
              "      <td>0</td>\n",
              "      <td>29.8</td>\n",
              "      <td>29.8</td>\n",
              "      <td>29.7</td>\n",
              "      <td>0.00</td>\n",
              "      <td>2</td>\n",
              "      <td>29.691</td>\n",
              "      <td>weekday</td>\n",
              "    </tr>\n",
              "    <tr>\n",
              "      <th>1</th>\n",
              "      <td>2016-06-02</td>\n",
              "      <td>2</td>\n",
              "      <td>76</td>\n",
              "      <td>71.2</td>\n",
              "      <td>66</td>\n",
              "      <td>74</td>\n",
              "      <td>70.3</td>\n",
              "      <td>66</td>\n",
              "      <td>100</td>\n",
              "      <td>96.8</td>\n",
              "      <td>89</td>\n",
              "      <td>18</td>\n",
              "      <td>7.8</td>\n",
              "      <td>0</td>\n",
              "      <td>29.8</td>\n",
              "      <td>29.8</td>\n",
              "      <td>29.7</td>\n",
              "      <td>4.33</td>\n",
              "      <td>5</td>\n",
              "      <td>28.789</td>\n",
              "      <td>weekend</td>\n",
              "    </tr>\n",
              "    <tr>\n",
              "      <th>2</th>\n",
              "      <td>2016-06-03</td>\n",
              "      <td>3</td>\n",
              "      <td>79</td>\n",
              "      <td>72.1</td>\n",
              "      <td>68</td>\n",
              "      <td>72</td>\n",
              "      <td>70.0</td>\n",
              "      <td>68</td>\n",
              "      <td>100</td>\n",
              "      <td>93.6</td>\n",
              "      <td>72</td>\n",
              "      <td>18</td>\n",
              "      <td>4.7</td>\n",
              "      <td>0</td>\n",
              "      <td>29.8</td>\n",
              "      <td>29.8</td>\n",
              "      <td>29.7</td>\n",
              "      <td>3.18</td>\n",
              "      <td>6</td>\n",
              "      <td>19.247</td>\n",
              "      <td>weekend</td>\n",
              "    </tr>\n",
              "    <tr>\n",
              "      <th>3</th>\n",
              "      <td>2016-06-04</td>\n",
              "      <td>4</td>\n",
              "      <td>76</td>\n",
              "      <td>71.2</td>\n",
              "      <td>69</td>\n",
              "      <td>73</td>\n",
              "      <td>70.0</td>\n",
              "      <td>66</td>\n",
              "      <td>100</td>\n",
              "      <td>96.1</td>\n",
              "      <td>85</td>\n",
              "      <td>20</td>\n",
              "      <td>7.0</td>\n",
              "      <td>0</td>\n",
              "      <td>29.8</td>\n",
              "      <td>29.7</td>\n",
              "      <td>29.7</td>\n",
              "      <td>2.37</td>\n",
              "      <td>2</td>\n",
              "      <td>22.883</td>\n",
              "      <td>weekday</td>\n",
              "    </tr>\n",
              "    <tr>\n",
              "      <th>4</th>\n",
              "      <td>2016-06-05</td>\n",
              "      <td>5</td>\n",
              "      <td>82</td>\n",
              "      <td>73.8</td>\n",
              "      <td>68</td>\n",
              "      <td>72</td>\n",
              "      <td>70.0</td>\n",
              "      <td>68</td>\n",
              "      <td>100</td>\n",
              "      <td>88.7</td>\n",
              "      <td>62</td>\n",
              "      <td>17</td>\n",
              "      <td>7.7</td>\n",
              "      <td>0</td>\n",
              "      <td>29.7</td>\n",
              "      <td>29.7</td>\n",
              "      <td>29.7</td>\n",
              "      <td>0.39</td>\n",
              "      <td>4</td>\n",
              "      <td>25.195</td>\n",
              "      <td>weekday</td>\n",
              "    </tr>\n",
              "  </tbody>\n",
              "</table>\n",
              "</div>"
            ]
          },
          "metadata": {
            "tags": []
          },
          "execution_count": 20
        }
      ],
      "metadata": {
        "colab": {
          "base_uri": "https://localhost:8080/",
          "height": 0
        },
        "id": "xqki6hiFD75c",
        "outputId": "1c066b80-1541-437b-aca8-26b4152b4b32"
      }
    },
    {
      "cell_type": "code",
      "execution_count": 21,
      "source": [
        "df.info()"
      ],
      "outputs": [
        {
          "output_type": "stream",
          "name": "stdout",
          "text": [
            "<class 'pandas.core.frame.DataFrame'>\n",
            "RangeIndex: 1498 entries, 0 to 1497\n",
            "Data columns (total 21 columns):\n",
            " #   Column       Non-Null Count  Dtype         \n",
            "---  ------       --------------  -----         \n",
            " 0   Date         1498 non-null   datetime64[ns]\n",
            " 1   Day          1498 non-null   int64         \n",
            " 2   Temp_max     1498 non-null   int64         \n",
            " 3   Temp_avg     1498 non-null   float64       \n",
            " 4   Temp_min     1498 non-null   int64         \n",
            " 5   Dew_max      1498 non-null   int64         \n",
            " 6   Dew_avg      1498 non-null   float64       \n",
            " 7   Dew_min      1498 non-null   int64         \n",
            " 8   Hum_max      1498 non-null   int64         \n",
            " 9   Hum_avg      1498 non-null   float64       \n",
            " 10  Hum_min      1498 non-null   int64         \n",
            " 11  Wind_max     1498 non-null   int64         \n",
            " 12  Wind_avg     1498 non-null   float64       \n",
            " 13  Wind_min     1498 non-null   int64         \n",
            " 14  Press_max    1498 non-null   float64       \n",
            " 15  Press_avg    1498 non-null   float64       \n",
            " 16  Press_min    1498 non-null   float64       \n",
            " 17  Precipit     1498 non-null   float64       \n",
            " 18  day_of_week  1498 non-null   int64         \n",
            " 19  kWh_usage    1498 non-null   float64       \n",
            " 20  tags         1498 non-null   object        \n",
            "dtypes: datetime64[ns](1), float64(9), int64(10), object(1)\n",
            "memory usage: 245.9+ KB\n"
          ]
        }
      ],
      "metadata": {
        "colab": {
          "base_uri": "https://localhost:8080/"
        },
        "id": "1PMZimYjD_uQ",
        "outputId": "fc03f6d3-e50d-4559-955e-08622aa041b1"
      }
    },
    {
      "cell_type": "code",
      "execution_count": 22,
      "source": [
        "df.isna().sum()"
      ],
      "outputs": [
        {
          "output_type": "execute_result",
          "data": {
            "text/plain": [
              "Date           0\n",
              "Day            0\n",
              "Temp_max       0\n",
              "Temp_avg       0\n",
              "Temp_min       0\n",
              "Dew_max        0\n",
              "Dew_avg        0\n",
              "Dew_min        0\n",
              "Hum_max        0\n",
              "Hum_avg        0\n",
              "Hum_min        0\n",
              "Wind_max       0\n",
              "Wind_avg       0\n",
              "Wind_min       0\n",
              "Press_max      0\n",
              "Press_avg      0\n",
              "Press_min      0\n",
              "Precipit       0\n",
              "day_of_week    0\n",
              "kWh_usage      0\n",
              "tags           0\n",
              "dtype: int64"
            ]
          },
          "metadata": {
            "tags": []
          },
          "execution_count": 22
        }
      ],
      "metadata": {
        "colab": {
          "base_uri": "https://localhost:8080/"
        },
        "id": "SHY0N3EuBUa-",
        "outputId": "449c03ef-c9f8-45e4-d4ec-6a9ea7ff89f8"
      }
    },
    {
      "cell_type": "code",
      "execution_count": 23,
      "source": [
        "df.corr()"
      ],
      "outputs": [
        {
          "output_type": "execute_result",
          "data": {
            "text/plain": [
              "                  Day  Temp_max  Temp_avg  ...  Precipit  day_of_week  kWh_usage\n",
              "Day          1.000000  0.005967  0.000755  ...  0.027902    -0.002588  -0.058705\n",
              "Temp_max     0.005967  1.000000  0.970671  ... -0.034092     0.020255   0.710673\n",
              "Temp_avg     0.000755  0.970671  1.000000  ...  0.001527     0.019368   0.720178\n",
              "Temp_min    -0.001977  0.896819  0.964856  ...  0.045736     0.017839   0.705234\n",
              "Dew_max      0.002429  0.853261  0.907404  ...  0.075256     0.020858   0.606610\n",
              "Dew_avg     -0.000676  0.863508  0.927545  ...  0.073098     0.017325   0.634184\n",
              "Dew_min     -0.006322  0.834735  0.902473  ...  0.078316     0.009499   0.645126\n",
              "Hum_max     -0.003976  0.198014  0.217103  ...  0.124446    -0.001444   0.100471\n",
              "Hum_avg     -0.005951  0.009409  0.105836  ...  0.203410    -0.000932  -0.022245\n",
              "Hum_min     -0.017581 -0.115138  0.032589  ...  0.215791    -0.003558  -0.075223\n",
              "Wind_max     0.070071 -0.017668  0.029039  ...  0.130945     0.009471  -0.049319\n",
              "Wind_avg     0.048668 -0.233705 -0.142861  ...  0.126045     0.003540  -0.209835\n",
              "Wind_min     0.019761 -0.222661 -0.135562  ...  0.057251    -0.030861  -0.136839\n",
              "Press_max   -0.041066 -0.641610 -0.681656  ... -0.123025    -0.008365  -0.385739\n",
              "Press_avg   -0.029535 -0.538695 -0.577216  ... -0.122457    -0.020566  -0.291159\n",
              "Press_min    0.026205 -0.041621 -0.065150  ... -0.019307     0.021412  -0.044568\n",
              "Precipit     0.027902 -0.034092  0.001527  ...  1.000000    -0.003220  -0.029940\n",
              "day_of_week -0.002588  0.020255  0.019368  ... -0.003220     1.000000   0.045454\n",
              "kWh_usage   -0.058705  0.710673  0.720178  ... -0.029940     0.045454   1.000000\n",
              "\n",
              "[19 rows x 19 columns]"
            ],
            "text/html": [
              "<div>\n",
              "<style scoped>\n",
              "    .dataframe tbody tr th:only-of-type {\n",
              "        vertical-align: middle;\n",
              "    }\n",
              "\n",
              "    .dataframe tbody tr th {\n",
              "        vertical-align: top;\n",
              "    }\n",
              "\n",
              "    .dataframe thead th {\n",
              "        text-align: right;\n",
              "    }\n",
              "</style>\n",
              "<table border=\"1\" class=\"dataframe\">\n",
              "  <thead>\n",
              "    <tr style=\"text-align: right;\">\n",
              "      <th></th>\n",
              "      <th>Day</th>\n",
              "      <th>Temp_max</th>\n",
              "      <th>Temp_avg</th>\n",
              "      <th>Temp_min</th>\n",
              "      <th>Dew_max</th>\n",
              "      <th>Dew_avg</th>\n",
              "      <th>Dew_min</th>\n",
              "      <th>Hum_max</th>\n",
              "      <th>Hum_avg</th>\n",
              "      <th>Hum_min</th>\n",
              "      <th>Wind_max</th>\n",
              "      <th>Wind_avg</th>\n",
              "      <th>Wind_min</th>\n",
              "      <th>Press_max</th>\n",
              "      <th>Press_avg</th>\n",
              "      <th>Press_min</th>\n",
              "      <th>Precipit</th>\n",
              "      <th>day_of_week</th>\n",
              "      <th>kWh_usage</th>\n",
              "    </tr>\n",
              "  </thead>\n",
              "  <tbody>\n",
              "    <tr>\n",
              "      <th>Day</th>\n",
              "      <td>1.000000</td>\n",
              "      <td>0.005967</td>\n",
              "      <td>0.000755</td>\n",
              "      <td>-0.001977</td>\n",
              "      <td>0.002429</td>\n",
              "      <td>-0.000676</td>\n",
              "      <td>-0.006322</td>\n",
              "      <td>-0.003976</td>\n",
              "      <td>-0.005951</td>\n",
              "      <td>-0.017581</td>\n",
              "      <td>0.070071</td>\n",
              "      <td>0.048668</td>\n",
              "      <td>0.019761</td>\n",
              "      <td>-0.041066</td>\n",
              "      <td>-0.029535</td>\n",
              "      <td>0.026205</td>\n",
              "      <td>0.027902</td>\n",
              "      <td>-0.002588</td>\n",
              "      <td>-0.058705</td>\n",
              "    </tr>\n",
              "    <tr>\n",
              "      <th>Temp_max</th>\n",
              "      <td>0.005967</td>\n",
              "      <td>1.000000</td>\n",
              "      <td>0.970671</td>\n",
              "      <td>0.896819</td>\n",
              "      <td>0.853261</td>\n",
              "      <td>0.863508</td>\n",
              "      <td>0.834735</td>\n",
              "      <td>0.198014</td>\n",
              "      <td>0.009409</td>\n",
              "      <td>-0.115138</td>\n",
              "      <td>-0.017668</td>\n",
              "      <td>-0.233705</td>\n",
              "      <td>-0.222661</td>\n",
              "      <td>-0.641610</td>\n",
              "      <td>-0.538695</td>\n",
              "      <td>-0.041621</td>\n",
              "      <td>-0.034092</td>\n",
              "      <td>0.020255</td>\n",
              "      <td>0.710673</td>\n",
              "    </tr>\n",
              "    <tr>\n",
              "      <th>Temp_avg</th>\n",
              "      <td>0.000755</td>\n",
              "      <td>0.970671</td>\n",
              "      <td>1.000000</td>\n",
              "      <td>0.964856</td>\n",
              "      <td>0.907404</td>\n",
              "      <td>0.927545</td>\n",
              "      <td>0.902473</td>\n",
              "      <td>0.217103</td>\n",
              "      <td>0.105836</td>\n",
              "      <td>0.032589</td>\n",
              "      <td>0.029039</td>\n",
              "      <td>-0.142861</td>\n",
              "      <td>-0.135562</td>\n",
              "      <td>-0.681656</td>\n",
              "      <td>-0.577216</td>\n",
              "      <td>-0.065150</td>\n",
              "      <td>0.001527</td>\n",
              "      <td>0.019368</td>\n",
              "      <td>0.720178</td>\n",
              "    </tr>\n",
              "    <tr>\n",
              "      <th>Temp_min</th>\n",
              "      <td>-0.001977</td>\n",
              "      <td>0.896819</td>\n",
              "      <td>0.964856</td>\n",
              "      <td>1.000000</td>\n",
              "      <td>0.899193</td>\n",
              "      <td>0.937564</td>\n",
              "      <td>0.940381</td>\n",
              "      <td>0.221901</td>\n",
              "      <td>0.211626</td>\n",
              "      <td>0.165240</td>\n",
              "      <td>0.060535</td>\n",
              "      <td>-0.071067</td>\n",
              "      <td>-0.044836</td>\n",
              "      <td>-0.677092</td>\n",
              "      <td>-0.563582</td>\n",
              "      <td>-0.077089</td>\n",
              "      <td>0.045736</td>\n",
              "      <td>0.017839</td>\n",
              "      <td>0.705234</td>\n",
              "    </tr>\n",
              "    <tr>\n",
              "      <th>Dew_max</th>\n",
              "      <td>0.002429</td>\n",
              "      <td>0.853261</td>\n",
              "      <td>0.907404</td>\n",
              "      <td>0.899193</td>\n",
              "      <td>1.000000</td>\n",
              "      <td>0.970852</td>\n",
              "      <td>0.904039</td>\n",
              "      <td>0.489682</td>\n",
              "      <td>0.443943</td>\n",
              "      <td>0.334323</td>\n",
              "      <td>0.133957</td>\n",
              "      <td>-0.050420</td>\n",
              "      <td>-0.090190</td>\n",
              "      <td>-0.700926</td>\n",
              "      <td>-0.633840</td>\n",
              "      <td>-0.091189</td>\n",
              "      <td>0.075256</td>\n",
              "      <td>0.020858</td>\n",
              "      <td>0.606610</td>\n",
              "    </tr>\n",
              "    <tr>\n",
              "      <th>Dew_avg</th>\n",
              "      <td>-0.000676</td>\n",
              "      <td>0.863508</td>\n",
              "      <td>0.927545</td>\n",
              "      <td>0.937564</td>\n",
              "      <td>0.970852</td>\n",
              "      <td>1.000000</td>\n",
              "      <td>0.968535</td>\n",
              "      <td>0.470792</td>\n",
              "      <td>0.466556</td>\n",
              "      <td>0.365303</td>\n",
              "      <td>0.078595</td>\n",
              "      <td>-0.094989</td>\n",
              "      <td>-0.092529</td>\n",
              "      <td>-0.711440</td>\n",
              "      <td>-0.619705</td>\n",
              "      <td>-0.091366</td>\n",
              "      <td>0.073098</td>\n",
              "      <td>0.017325</td>\n",
              "      <td>0.634184</td>\n",
              "    </tr>\n",
              "    <tr>\n",
              "      <th>Dew_min</th>\n",
              "      <td>-0.006322</td>\n",
              "      <td>0.834735</td>\n",
              "      <td>0.902473</td>\n",
              "      <td>0.940381</td>\n",
              "      <td>0.904039</td>\n",
              "      <td>0.968535</td>\n",
              "      <td>1.000000</td>\n",
              "      <td>0.415608</td>\n",
              "      <td>0.437150</td>\n",
              "      <td>0.363220</td>\n",
              "      <td>0.026391</td>\n",
              "      <td>-0.126508</td>\n",
              "      <td>-0.090757</td>\n",
              "      <td>-0.682932</td>\n",
              "      <td>-0.560050</td>\n",
              "      <td>-0.085538</td>\n",
              "      <td>0.078316</td>\n",
              "      <td>0.009499</td>\n",
              "      <td>0.645126</td>\n",
              "    </tr>\n",
              "    <tr>\n",
              "      <th>Hum_max</th>\n",
              "      <td>-0.003976</td>\n",
              "      <td>0.198014</td>\n",
              "      <td>0.217103</td>\n",
              "      <td>0.221901</td>\n",
              "      <td>0.489682</td>\n",
              "      <td>0.470792</td>\n",
              "      <td>0.415608</td>\n",
              "      <td>1.000000</td>\n",
              "      <td>0.763141</td>\n",
              "      <td>0.511610</td>\n",
              "      <td>-0.011091</td>\n",
              "      <td>-0.176681</td>\n",
              "      <td>-0.197516</td>\n",
              "      <td>-0.306529</td>\n",
              "      <td>-0.305726</td>\n",
              "      <td>-0.081099</td>\n",
              "      <td>0.124446</td>\n",
              "      <td>-0.001444</td>\n",
              "      <td>0.100471</td>\n",
              "    </tr>\n",
              "    <tr>\n",
              "      <th>Hum_avg</th>\n",
              "      <td>-0.005951</td>\n",
              "      <td>0.009409</td>\n",
              "      <td>0.105836</td>\n",
              "      <td>0.211626</td>\n",
              "      <td>0.443943</td>\n",
              "      <td>0.466556</td>\n",
              "      <td>0.437150</td>\n",
              "      <td>0.763141</td>\n",
              "      <td>1.000000</td>\n",
              "      <td>0.892976</td>\n",
              "      <td>0.129289</td>\n",
              "      <td>0.061033</td>\n",
              "      <td>0.052982</td>\n",
              "      <td>-0.291884</td>\n",
              "      <td>-0.296509</td>\n",
              "      <td>-0.096077</td>\n",
              "      <td>0.203410</td>\n",
              "      <td>-0.000932</td>\n",
              "      <td>-0.022245</td>\n",
              "    </tr>\n",
              "    <tr>\n",
              "      <th>Hum_min</th>\n",
              "      <td>-0.017581</td>\n",
              "      <td>-0.115138</td>\n",
              "      <td>0.032589</td>\n",
              "      <td>0.165240</td>\n",
              "      <td>0.334323</td>\n",
              "      <td>0.365303</td>\n",
              "      <td>0.363220</td>\n",
              "      <td>0.511610</td>\n",
              "      <td>0.892976</td>\n",
              "      <td>1.000000</td>\n",
              "      <td>0.183170</td>\n",
              "      <td>0.230082</td>\n",
              "      <td>0.205318</td>\n",
              "      <td>-0.213014</td>\n",
              "      <td>-0.223464</td>\n",
              "      <td>-0.101636</td>\n",
              "      <td>0.215791</td>\n",
              "      <td>-0.003558</td>\n",
              "      <td>-0.075223</td>\n",
              "    </tr>\n",
              "    <tr>\n",
              "      <th>Wind_max</th>\n",
              "      <td>0.070071</td>\n",
              "      <td>-0.017668</td>\n",
              "      <td>0.029039</td>\n",
              "      <td>0.060535</td>\n",
              "      <td>0.133957</td>\n",
              "      <td>0.078595</td>\n",
              "      <td>0.026391</td>\n",
              "      <td>-0.011091</td>\n",
              "      <td>0.129289</td>\n",
              "      <td>0.183170</td>\n",
              "      <td>1.000000</td>\n",
              "      <td>0.724824</td>\n",
              "      <td>0.303546</td>\n",
              "      <td>-0.123783</td>\n",
              "      <td>-0.185847</td>\n",
              "      <td>-0.045964</td>\n",
              "      <td>0.130945</td>\n",
              "      <td>0.009471</td>\n",
              "      <td>-0.049319</td>\n",
              "    </tr>\n",
              "    <tr>\n",
              "      <th>Wind_avg</th>\n",
              "      <td>0.048668</td>\n",
              "      <td>-0.233705</td>\n",
              "      <td>-0.142861</td>\n",
              "      <td>-0.071067</td>\n",
              "      <td>-0.050420</td>\n",
              "      <td>-0.094989</td>\n",
              "      <td>-0.126508</td>\n",
              "      <td>-0.176681</td>\n",
              "      <td>0.061033</td>\n",
              "      <td>0.230082</td>\n",
              "      <td>0.724824</td>\n",
              "      <td>1.000000</td>\n",
              "      <td>0.689796</td>\n",
              "      <td>-0.007542</td>\n",
              "      <td>-0.083270</td>\n",
              "      <td>-0.052182</td>\n",
              "      <td>0.126045</td>\n",
              "      <td>0.003540</td>\n",
              "      <td>-0.209835</td>\n",
              "    </tr>\n",
              "    <tr>\n",
              "      <th>Wind_min</th>\n",
              "      <td>0.019761</td>\n",
              "      <td>-0.222661</td>\n",
              "      <td>-0.135562</td>\n",
              "      <td>-0.044836</td>\n",
              "      <td>-0.090190</td>\n",
              "      <td>-0.092529</td>\n",
              "      <td>-0.090757</td>\n",
              "      <td>-0.197516</td>\n",
              "      <td>0.052982</td>\n",
              "      <td>0.205318</td>\n",
              "      <td>0.303546</td>\n",
              "      <td>0.689796</td>\n",
              "      <td>1.000000</td>\n",
              "      <td>0.040771</td>\n",
              "      <td>0.003607</td>\n",
              "      <td>0.005280</td>\n",
              "      <td>0.057251</td>\n",
              "      <td>-0.030861</td>\n",
              "      <td>-0.136839</td>\n",
              "    </tr>\n",
              "    <tr>\n",
              "      <th>Press_max</th>\n",
              "      <td>-0.041066</td>\n",
              "      <td>-0.641610</td>\n",
              "      <td>-0.681656</td>\n",
              "      <td>-0.677092</td>\n",
              "      <td>-0.700926</td>\n",
              "      <td>-0.711440</td>\n",
              "      <td>-0.682932</td>\n",
              "      <td>-0.306529</td>\n",
              "      <td>-0.291884</td>\n",
              "      <td>-0.213014</td>\n",
              "      <td>-0.123783</td>\n",
              "      <td>-0.007542</td>\n",
              "      <td>0.040771</td>\n",
              "      <td>1.000000</td>\n",
              "      <td>0.916347</td>\n",
              "      <td>0.190296</td>\n",
              "      <td>-0.123025</td>\n",
              "      <td>-0.008365</td>\n",
              "      <td>-0.385739</td>\n",
              "    </tr>\n",
              "    <tr>\n",
              "      <th>Press_avg</th>\n",
              "      <td>-0.029535</td>\n",
              "      <td>-0.538695</td>\n",
              "      <td>-0.577216</td>\n",
              "      <td>-0.563582</td>\n",
              "      <td>-0.633840</td>\n",
              "      <td>-0.619705</td>\n",
              "      <td>-0.560050</td>\n",
              "      <td>-0.305726</td>\n",
              "      <td>-0.296509</td>\n",
              "      <td>-0.223464</td>\n",
              "      <td>-0.185847</td>\n",
              "      <td>-0.083270</td>\n",
              "      <td>0.003607</td>\n",
              "      <td>0.916347</td>\n",
              "      <td>1.000000</td>\n",
              "      <td>0.360108</td>\n",
              "      <td>-0.122457</td>\n",
              "      <td>-0.020566</td>\n",
              "      <td>-0.291159</td>\n",
              "    </tr>\n",
              "    <tr>\n",
              "      <th>Press_min</th>\n",
              "      <td>0.026205</td>\n",
              "      <td>-0.041621</td>\n",
              "      <td>-0.065150</td>\n",
              "      <td>-0.077089</td>\n",
              "      <td>-0.091189</td>\n",
              "      <td>-0.091366</td>\n",
              "      <td>-0.085538</td>\n",
              "      <td>-0.081099</td>\n",
              "      <td>-0.096077</td>\n",
              "      <td>-0.101636</td>\n",
              "      <td>-0.045964</td>\n",
              "      <td>-0.052182</td>\n",
              "      <td>0.005280</td>\n",
              "      <td>0.190296</td>\n",
              "      <td>0.360108</td>\n",
              "      <td>1.000000</td>\n",
              "      <td>-0.019307</td>\n",
              "      <td>0.021412</td>\n",
              "      <td>-0.044568</td>\n",
              "    </tr>\n",
              "    <tr>\n",
              "      <th>Precipit</th>\n",
              "      <td>0.027902</td>\n",
              "      <td>-0.034092</td>\n",
              "      <td>0.001527</td>\n",
              "      <td>0.045736</td>\n",
              "      <td>0.075256</td>\n",
              "      <td>0.073098</td>\n",
              "      <td>0.078316</td>\n",
              "      <td>0.124446</td>\n",
              "      <td>0.203410</td>\n",
              "      <td>0.215791</td>\n",
              "      <td>0.130945</td>\n",
              "      <td>0.126045</td>\n",
              "      <td>0.057251</td>\n",
              "      <td>-0.123025</td>\n",
              "      <td>-0.122457</td>\n",
              "      <td>-0.019307</td>\n",
              "      <td>1.000000</td>\n",
              "      <td>-0.003220</td>\n",
              "      <td>-0.029940</td>\n",
              "    </tr>\n",
              "    <tr>\n",
              "      <th>day_of_week</th>\n",
              "      <td>-0.002588</td>\n",
              "      <td>0.020255</td>\n",
              "      <td>0.019368</td>\n",
              "      <td>0.017839</td>\n",
              "      <td>0.020858</td>\n",
              "      <td>0.017325</td>\n",
              "      <td>0.009499</td>\n",
              "      <td>-0.001444</td>\n",
              "      <td>-0.000932</td>\n",
              "      <td>-0.003558</td>\n",
              "      <td>0.009471</td>\n",
              "      <td>0.003540</td>\n",
              "      <td>-0.030861</td>\n",
              "      <td>-0.008365</td>\n",
              "      <td>-0.020566</td>\n",
              "      <td>0.021412</td>\n",
              "      <td>-0.003220</td>\n",
              "      <td>1.000000</td>\n",
              "      <td>0.045454</td>\n",
              "    </tr>\n",
              "    <tr>\n",
              "      <th>kWh_usage</th>\n",
              "      <td>-0.058705</td>\n",
              "      <td>0.710673</td>\n",
              "      <td>0.720178</td>\n",
              "      <td>0.705234</td>\n",
              "      <td>0.606610</td>\n",
              "      <td>0.634184</td>\n",
              "      <td>0.645126</td>\n",
              "      <td>0.100471</td>\n",
              "      <td>-0.022245</td>\n",
              "      <td>-0.075223</td>\n",
              "      <td>-0.049319</td>\n",
              "      <td>-0.209835</td>\n",
              "      <td>-0.136839</td>\n",
              "      <td>-0.385739</td>\n",
              "      <td>-0.291159</td>\n",
              "      <td>-0.044568</td>\n",
              "      <td>-0.029940</td>\n",
              "      <td>0.045454</td>\n",
              "      <td>1.000000</td>\n",
              "    </tr>\n",
              "  </tbody>\n",
              "</table>\n",
              "</div>"
            ]
          },
          "metadata": {
            "tags": []
          },
          "execution_count": 23
        }
      ],
      "metadata": {
        "colab": {
          "base_uri": "https://localhost:8080/",
          "height": 0
        },
        "id": "cxFMlIQ3-w4b",
        "outputId": "93c13ae0-c8ab-4220-e870-15728d9c54fe"
      }
    },
    {
      "cell_type": "code",
      "execution_count": 24,
      "source": [
        "!pip install plotly matplotlib seaborn --quiet"
      ],
      "outputs": [],
      "metadata": {
        "id": "uiNmCbBdCYOs"
      }
    },
    {
      "cell_type": "code",
      "execution_count": 25,
      "source": [
        "import plotly.express as px\n",
        "import matplotlib\n",
        "import matplotlib.pyplot as plt\n",
        "import seaborn as sns\n",
        "%matplotlib inline"
      ],
      "outputs": [],
      "metadata": {
        "id": "4sR5gXATDi_Y"
      }
    },
    {
      "cell_type": "code",
      "execution_count": 26,
      "source": [
        "sns.set_style('darkgrid')\n",
        "matplotlib.rcParams['font.size'] = 14\n",
        "matplotlib.rcParams['figure.figsize'] = (10, 6)\n",
        "matplotlib.rcParams['figure.facecolor'] = '#00000000'"
      ],
      "outputs": [],
      "metadata": {
        "id": "yd52WFKeDmFo"
      }
    },
    {
      "cell_type": "code",
      "execution_count": 27,
      "source": [
        "fig = px.histogram(df, x='Temp_avg', \n",
        "                   marginal='box', \n",
        "                   title='Distribution of Avg Temp')\n",
        "fig.update_layout(bargap=0.1)\n",
        "fig.show()"
      ],
      "outputs": [
        {
          "output_type": "display_data",
          "data": {
            "text/html": [
              "<html>\n",
              "<head><meta charset=\"utf-8\" /></head>\n",
              "<body>\n",
              "    <div>\n",
              "            <script src=\"https://cdnjs.cloudflare.com/ajax/libs/mathjax/2.7.5/MathJax.js?config=TeX-AMS-MML_SVG\"></script><script type=\"text/javascript\">if (window.MathJax) {MathJax.Hub.Config({SVG: {font: \"STIX-Web\"}});}</script>\n",
              "                <script type=\"text/javascript\">window.PlotlyConfig = {MathJaxConfig: 'local'};</script>\n",
              "        <script src=\"https://cdn.plot.ly/plotly-latest.min.js\"></script>    \n",
              "            <div id=\"b1142b47-13a5-41f5-881c-65895fa8befb\" class=\"plotly-graph-div\" style=\"height:525px; width:100%;\"></div>\n",
              "            <script type=\"text/javascript\">\n",
              "                \n",
              "                    window.PLOTLYENV=window.PLOTLYENV || {};\n",
              "                    \n",
              "                if (document.getElementById(\"b1142b47-13a5-41f5-881c-65895fa8befb\")) {\n",
              "                    Plotly.newPlot(\n",
              "                        'b1142b47-13a5-41f5-881c-65895fa8befb',\n",
              "                        [{\"alignmentgroup\": \"True\", \"bingroup\": \"x\", \"hoverlabel\": {\"namelength\": 0}, \"hovertemplate\": \"Temp_avg=%{x}<br>count=%{y}\", \"legendgroup\": \"\", \"marker\": {\"color\": \"#636efa\"}, \"name\": \"\", \"offsetgroup\": \"\", \"orientation\": \"v\", \"showlegend\": false, \"type\": \"histogram\", \"x\": [74.8, 71.2, 72.1, 71.2, 73.8, 76.6, 79.6, 79.3, 79.2, 80.6, 82.0, 78.7, 82.5, 85.7, 85.2, 86.5, 85.8, 84.8, 82.3, 82.9, 82.7, 83.2, 83.8, 82.0, 83.1, 84.8, 84.8, 82.2, 81.6, 83.8, 84.9, 86.2, 87.1, 87.7, 87.1, 87.0, 87.3, 87.0, 86.6, 86.0, 87.3, 87.4, 88.3, 86.7, 87.2, 86.0, 84.7, 84.1, 82.7, 85.6, 86.8, 87.5, 87.5, 88.3, 85.7, 81.1, 79.7, 81.0, 84.5, 85.8, 85.9, 86.5, 87.3, 87.4, 87.1, 87.1, 87.6, 88.5, 88.0, 89.0, 89.4, 89.8, 87.8, 82.8, 77.3, 78.6, 76.8, 77.3, 78.1, 81.8, 81.9, 80.7, 78.3, 83.1, 83.0, 79.6, 78.4, 78.3, 78.1, 77.6, 82.3, 84.5, 86.2, 84.9, 82.3, 81.5, 81.6, 83.2, 83.3, 84.3, 81.0, 78.4, 80.2, 80.3, 79.9, 82.9, 82.7, 81.9, 84.1, 85.0, 85.7, 84.5, 82.0, 82.2, 82.0, 79.7, 76.9, 76.8, 76.8, 76.6, 73.0, 68.8, 71.1, 74.0, 73.6, 77.0, 80.3, 80.2, 79.5, 76.2, 70.3, 69.2, 73.3, 77.8, 78.2, 76.2, 78.0, 78.5, 80.2, 80.9, 79.2, 75.4, 65.5, 61.8, 66.2, 70.8, 70.1, 71.4, 70.3, 72.5, 72.8, 69.9, 69.4, 74.6, 75.2, 75.4, 75.6, 72.6, 70.7, 69.1, 66.9, 68.3, 63.8, 64.3, 67.8, 60.6, 63.8, 68.0, 67.0, 70.4, 69.1, 53.8, 51.2, 59.3, 70.3, 66.1, 60.3, 64.1, 61.5, 62.8, 72.3, 70.6, 60.0, 53.0, 55.6, 52.6, 51.9, 51.7, 55.7, 52.6, 47.6, 43.4, 47.0, 67.3, 67.4, 67.9, 60.3, 50.6, 62.2, 73.9, 38.1, 39.0, 44.9, 61.7, 66.2, 68.6, 71.4, 73.4, 75.2, 72.9, 73.7, 64.3, 51.5, 62.1, 67.5, 66.9, 61.9, 46.5, 50.4, 35.1, 29.9, 37.3, 57.3, 69.8, 71.8, 71.5, 70.4, 67.7, 67.8, 71.7, 62.9, 63.5, 59.4, 65.1, 66.5, 61.8, 58.8, 67.3, 67.3, 50.0, 48.1, 52.0, 53.6, 60.3, 63.4, 68.8, 66.3, 54.4, 54.4, 70.3, 72.5, 75.2, 74.2, 58.9, 64.3, 74.9, 75.0, 69.0, 61.4, 53.6, 54.7, 58.3, 68.4, 71.6, 63.0, 62.4, 66.8, 67.2, 69.5, 56.8, 62.6, 73.2, 76.5, 73.6, 57.6, 58.4, 58.7, 64.6, 72.8, 71.6, 65.2, 72.0, 71.8, 67.5, 55.8, 57.3, 55.3, 56.3, 65.0, 71.3, 69.9, 72.8, 73.5, 73.7, 71.7, 72.2, 72.6, 71.4, 72.2, 75.7, 74.2, 72.3, 66.5, 70.2, 70.6, 74.3, 71.9, 74.6, 68.0, 64.6, 67.4, 69.4, 73.1, 74.3, 68.1, 68.5, 71.6, 71.0, 71.5, 75.7, 72.6, 70.5, 73.6, 76.2, 75.5, 71.1, 63.0, 67.3, 74.9, 79.5, 68.0, 81.4, 81.0, 65.8, 70.7, 74.1, 77.4, 66.5, 68.6, 70.8, 71.9, 72.6, 74.1, 75.8, 77.8, 76.4, 74.7, 75.1, 75.1, 77.8, 80.0, 81.9, 81.9, 82.3, 76.8, 71.7, 72.3, 70.8, 77.3, 80.8, 84.8, 82.2, 74.0, 78.3, 77.4, 77.0, 78.5, 79.7, 75.1, 74.8, 78.5, 82.1, 78.3, 77.1, 78.3, 81.2, 83.1, 82.8, 85.0, 85.1, 85.3, 84.6, 85.9, 85.7, 84.9, 80.1, 79.9, 85.6, 78.5, 78.0, 79.2, 78.5, 80.0, 81.1, 85.1, 84.9, 84.9, 85.7, 86.3, 85.8, 85.5, 85.0, 84.8, 81.3, 77.2, 82.3, 81.9, 83.6, 85.1, 79.7, 80.6, 83.9, 83.8, 83.8, 86.7, 85.3, 81.7, 85.0, 86.7, 86.0, 86.1, 86.3, 87.8, 88.3, 86.4, 81.9, 83.2, 79.8, 79.6, 81.0, 81.8, 84.1, 79.5, 77.4, 81.9, 83.6, 86.4, 87.2, 87.0, 87.4, 87.4, 87.6, 88.4, 87.5, 87.6, 86.4, 84.2, 85.0, 84.5, 83.0, 77.7, 77.3, 75.4, 72.4, 72.6, 78.2, 81.4, 80.7, 81.2, 80.7, 80.9, 81.6, 75.3, 72.1, 72.7, 74.2, 75.2, 73.8, 73.8, 77.4, 79.2, 79.3, 78.5, 80.4, 79.7, 82.0, 83.7, 79.1, 78.5, 79.7, 79.0, 80.0, 80.0, 81.5, 80.3, 80.9, 77.3, 77.9, 78.8, 78.5, 79.1, 76.8, 75.7, 78.2, 82.2, 82.5, 75.3, 71.0, 76.3, 79.8, 78.2, 77.3, 67.7, 63.4, 66.9, 72.0, 73.7, 76.0, 67.8, 64.4, 65.8, 60.6, 67.3, 63.0, 51.8, 54.0, 62.1, 68.7, 72.9, 78.5, 79.3, 75.7, 78.1, 79.2, 77.1, 58.8, 56.9, 59.6, 65.1, 68.2, 67.9, 67.1, 68.5, 72.1, 76.1, 73.5, 55.3, 54.3, 64.0, 59.8, 51.5, 56.4, 63.7, 62.9, 59.0, 62.7, 63.6, 62.3, 59.7, 60.0, 63.0, 72.7, 62.6, 44.9, 42.2, 34.6, 43.7, 49.3, 57.3, 53.8, 46.9, 53.7, 49.9, 51.1, 52.7, 63.2, 72.7, 67.3, 67.3, 69.1, 46.9, 49.8, 46.0, 48.9, 42.3, 41.2, 48.9, 53.5, 47.0, 34.6, 31.2, 33.9, 40.4, 45.9, 49.0, 58.8, 59.4, 49.9, 57.4, 59.3, 39.4, 40.0, 40.1, 51.0, 30.3, 27.6, 31.7, 48.2, 61.4, 68.5, 61.0, 50.9, 49.7, 47.3, 58.0, 62.1, 61.8, 54.3, 48.8, 56.0, 66.0, 54.3, 50.5, 61.2, 56.2, 66.7, 45.2, 48.7, 62.4, 64.2, 40.9, 41.1, 47.4, 67.3, 72.9, 71.1, 65.8, 67.3, 73.3, 74.5, 62.9, 60.0, 68.5, 74.9, 60.1, 59.9, 68.1, 75.8, 70.7, 63.0, 64.0, 70.2, 73.7, 63.7, 56.6, 56.0, 61.4, 72.7, 71.6, 56.9, 57.0, 58.0, 62.9, 74.5, 74.1, 74.3, 74.5, 62.3, 61.8, 63.3, 69.5, 74.1, 72.5, 74.6, 74.3, 69.8, 67.8, 67.0, 67.3, 70.3, 74.8, 76.8, 64.0, 64.8, 74.6, 61.2, 50.5, 58.3, 65.7, 65.0, 71.4, 77.5, 61.0, 57.0, 63.8, 71.8, 73.3, 68.9, 59.6, 67.9, 65.1, 66.3, 71.5, 73.4, 65.2, 67.2, 70.8, 71.0, 69.8, 74.1, 78.3, 79.0, 74.9, 71.3, 75.3, 78.3, 79.0, 78.1, 77.1, 79.8, 79.5, 80.6, 80.3, 81.0, 82.2, 84.2, 82.0, 82.2, 76.3, 74.3, 77.9, 76.2, 78.8, 80.8, 80.4, 79.4, 83.0, 85.2, 83.7, 84.7, 85.3, 86.1, 83.9, 82.8, 85.8, 83.3, 84.0, 83.9, 82.5, 86.2, 85.9, 86.8, 85.3, 83.3, 84.0, 84.9, 79.9, 77.8, 77.0, 78.4, 80.6, 84.6, 84.7, 85.1, 83.5, 84.8, 86.0, 86.2, 86.0, 85.5, 86.0, 86.0, 84.7, 75.5, 82.0, 82.2, 80.9, 77.8, 79.3, 83.0, 84.9, 84.1, 84.8, 84.9, 86.4, 86.6, 85.6, 87.5, 87.0, 87.8, 88.0, 87.5, 88.7, 86.4, 85.2, 87.1, 87.3, 87.2, 88.2, 87.7, 79.4, 82.5, 83.2, 83.8, 81.3, 82.7, 82.0, 82.3, 82.6, 82.3, 82.2, 80.3, 83.0, 84.9, 84.4, 85.0, 85.9, 86.4, 86.6, 87.2, 86.8, 85.2, 87.1, 85.8, 85.7, 87.5, 84.7, 84.6, 84.7, 80.1, 82.7, 84.3, 81.5, 78.1, 76.6, 79.6, 82.7, 83.1, 82.3, 81.0, 77.9, 75.9, 75.6, 79.1, 79.0, 76.2, 80.6, 83.2, 84.3, 85.9, 84.4, 79.7, 79.9, 78.5, 76.0, 79.3, 80.4, 78.8, 73.9, 74.8, 75.0, 76.4, 76.1, 78.3, 80.7, 80.8, 80.1, 81.8, 80.8, 79.3, 78.8, 75.3, 71.3, 71.9, 79.8, 82.0, 64.5, 58.3, 59.7, 63.2, 72.7, 67.3, 64.5, 58.8, 59.0, 64.9, 64.1, 63.0, 67.4, 71.6, 71.7, 74.8, 70.5, 60.9, 59.5, 66.7, 65.9, 73.1, 78.7, 78.3, 66.5, 55.6, 48.3, 52.0, 50.9, 38.8, 40.5, 45.4, 53.3, 59.2, 57.1, 49.1, 51.7, 51.3, 55.0, 62.0, 60.0, 66.2, 48.3, 48.0, 58.8, 70.0, 72.7, 70.7, 62.9, 56.5, 49.8, 47.8, 56.0, 63.3, 48.3, 45.2, 46.5, 48.7, 62.8, 65.5, 47.7, 53.6, 52.7, 57.0, 54.5, 54.8, 56.8, 52.6, 62.4, 60.3, 56.8, 63.6, 66.0, 61.4, 53.7, 49.6, 47.1, 49.9, 50.7, 52.3, 48.8, 47.7, 53.7, 58.9, 67.7, 66.1, 56.3, 50.8, 55.3, 59.9, 48.3, 45.6, 48.1, 55.8, 61.9, 62.3, 54.1, 40.9, 50.4, 66.9, 43.8, 44.1, 48.0, 52.7, 54.4, 58.1, 44.2, 45.3, 53.1, 60.1, 60.2, 64.9, 70.4, 71.6, 74.5, 63.9, 39.7, 41.6, 58.9, 68.7, 60.0, 52.4, 63.5, 68.3, 63.1, 60.3, 53.8, 47.9, 52.0, 51.8, 61.2, 70.6, 58.0, 53.7, 58.4, 64.7, 51.7, 53.1, 62.7, 54.6, 37.4, 39.3, 46.6, 62.3, 74.1, 74.7, 72.5, 71.7, 67.5, 72.1, 70.4, 58.1, 56.5, 55.6, 57.1, 58.7, 61.3, 64.4, 66.0, 65.1, 69.0, 73.1, 65.9, 62.3, 63.9, 69.5, 66.5, 50.8, 48.2, 54.7, 60.6, 72.3, 73.3, 73.6, 69.3, 69.3, 74.0, 75.5, 72.3, 66.1, 71.0, 58.0, 64.8, 70.5, 72.6, 66.7, 64.4, 64.7, 68.7, 70.8, 71.1, 71.5, 72.0, 73.3, 74.5, 72.4, 77.5, 79.4, 79.5, 74.9, 73.5, 73.3, 74.5, 74.3, 72.7, 77.3, 78.2, 70.8, 71.4, 69.8, 72.1, 74.5, 75.9, 75.4, 77.1, 80.0, 82.8, 82.3, 83.1, 83.6, 82.3, 81.4, 81.5, 80.8, 82.0, 83.4, 80.2, 81.3, 80.9, 81.9, 84.7, 84.1, 80.4, 75.4, 82.0, 83.0, 83.8, 84.8, 83.4, 79.0, 79.7, 81.0, 81.5, 85.3, 78.0, 76.8, 83.6, 86.0, 85.7, 86.7, 86.5, 87.5, 78.0, 76.1, 79.9, 79.6, 78.5, 75.9, 77.9, 82.7, 81.1, 80.9, 82.4, 85.3, 85.4, 86.0, 84.9, 86.8, 86.6, 86.8, 87.9, 83.4, 83.4, 85.5, 86.6, 86.3, 86.3, 85.8, 85.7, 84.3, 85.5, 82.1, 78.8, 78.5, 81.5, 84.3, 83.3, 82.5, 83.1, 84.0, 85.3, 86.2, 85.4, 84.6, 86.1, 87.0, 88.3, 88.8, 88.7, 88.2, 88.8, 89.6, 90.0, 87.7, 85.9, 85.5, 87.0, 87.9, 87.0, 84.3, 85.6, 85.6, 82.3, 84.0, 82.3, 85.8, 87.0, 82.1, 82.9, 84.5, 83.8, 86.1, 85.5, 85.4, 86.4, 86.5, 86.1, 85.0, 84.5, 84.6, 81.9, 81.2, 83.7, 82.9, 84.3, 83.5, 81.4, 77.3, 77.6, 77.1, 79.8, 81.5, 81.0, 81.2, 81.0, 80.3, 79.8, 78.4, 82.7, 83.1, 83.5, 81.8, 81.6, 80.8, 81.3, 81.0, 81.5, 77.0, 72.8, 76.8, 81.8, 66.4, 60.0, 68.3, 77.6, 82.3, 71.0, 60.2, 65.9, 75.5, 81.8, 73.9, 65.3, 66.1, 69.9, 56.6, 56.1, 64.0, 68.1, 70.0, 59.9, 46.8, 48.0, 55.7, 54.2, 64.4, 71.5, 68.0, 63.6, 51.9, 51.7, 59.8, 59.4, 39.0, 39.3, 45.4, 47.3, 48.4, 54.5, 58.3, 61.5, 68.4, 74.0, 68.2, 54.2, 54.9, 68.1, 76.8, 66.4, 67.2, 72.7, 75.8, 59.1, 51.2, 53.6, 58.5, 62.4, 66.0, 59.0, 60.9, 73.8, 53.4, 49.0, 50.8, 61.5, 59.6, 74.1, 62.9, 45.0, 44.0, 45.5, 49.7, 51.7, 51.2, 53.3, 57.0, 58.1, 59.7, 62.4, 69.6, 60.8, 50.3, 48.8, 55.0, 61.4, 58.0, 54.0, 58.3, 61.4, 55.2, 53.1, 69.2, 73.6, 54.1, 43.5, 57.4, 72.2, 72.8, 70.4, 65.2, 68.5, 51.5, 49.5, 48.8, 52.1, 57.5, 51.7, 55.2, 62.8, 56.2, 57.8, 50.1, 51.6, 51.9, 53.2, 61.4, 67.6, 70.7, 48.1, 42.1, 55.0, 58.8, 67.3, 70.4, 53.9, 53.9, 49.0, 47.5, 55.9, 63.4, 69.0, 71.0, 55.7, 48.5, 47.3, 50.0, 61.0, 64.7, 60.0, 49.8, 46.6, 54.7, 60.0, 67.1, 70.8, 72.6, 67.4, 62.0, 60.3, 53.7, 60.9, 67.9, 69.7, 70.4, 74.1, 73.7, 74.4, 73.7, 69.4, 74.5, 74.6, 77.8, 69.4, 57.5, 67.5, 74.7, 77.3, 76.8, 74.7, 78.1, 72.6, 68.0, 72.4, 70.3, 63.1, 68.3, 71.8, 58.6, 65.1, 71.1, 78.1, 78.5, 74.9, 68.4, 69.8, 79.5, 61.1, 57.9, 58.6, 62.0, 70.7, 68.6, 73.6, 70.3, 73.2, 77.2, 78.9, 75.6, 70.8, 71.5, 72.4, 78.4, 70.7, 70.7, 72.8, 76.0, 79.0, 78.7, 81.4, 74.0, 73.9, 78.4, 67.0, 68.8, 71.6, 75.2, 77.3, 78.6, 75.5, 72.5, 75.3, 79.8, 83.1, 81.7, 82.3, 83.3, 83.8, 77.4, 74.4, 75.5, 72.6, 77.2, 79.0, 79.3, 77.6, 78.3, 81.2, 79.3, 81.6, 82.6, 84.7, 85.0, 86.8, 86.7, 83.1, 79.9, 79.8, 81.3, 81.1, 82.4, 82.9, 82.7, 81.8, 80.6, 79.8, 82.7, 76.2, 80.3, 78.0, 76.6, 81.0, 84.2, 84.7, 85.5, 86.6, 86.4, 88.0, 84.7, 84.6, 85.4, 85.5, 84.5], \"xaxis\": \"x\", \"yaxis\": \"y\"}, {\"alignmentgroup\": \"True\", \"hoverlabel\": {\"namelength\": 0}, \"hovertemplate\": \"Temp_avg=%{x}\", \"legendgroup\": \"\", \"marker\": {\"color\": \"#636efa\"}, \"name\": \"\", \"notched\": true, \"offsetgroup\": \"\", \"showlegend\": false, \"type\": \"box\", \"x\": [74.8, 71.2, 72.1, 71.2, 73.8, 76.6, 79.6, 79.3, 79.2, 80.6, 82.0, 78.7, 82.5, 85.7, 85.2, 86.5, 85.8, 84.8, 82.3, 82.9, 82.7, 83.2, 83.8, 82.0, 83.1, 84.8, 84.8, 82.2, 81.6, 83.8, 84.9, 86.2, 87.1, 87.7, 87.1, 87.0, 87.3, 87.0, 86.6, 86.0, 87.3, 87.4, 88.3, 86.7, 87.2, 86.0, 84.7, 84.1, 82.7, 85.6, 86.8, 87.5, 87.5, 88.3, 85.7, 81.1, 79.7, 81.0, 84.5, 85.8, 85.9, 86.5, 87.3, 87.4, 87.1, 87.1, 87.6, 88.5, 88.0, 89.0, 89.4, 89.8, 87.8, 82.8, 77.3, 78.6, 76.8, 77.3, 78.1, 81.8, 81.9, 80.7, 78.3, 83.1, 83.0, 79.6, 78.4, 78.3, 78.1, 77.6, 82.3, 84.5, 86.2, 84.9, 82.3, 81.5, 81.6, 83.2, 83.3, 84.3, 81.0, 78.4, 80.2, 80.3, 79.9, 82.9, 82.7, 81.9, 84.1, 85.0, 85.7, 84.5, 82.0, 82.2, 82.0, 79.7, 76.9, 76.8, 76.8, 76.6, 73.0, 68.8, 71.1, 74.0, 73.6, 77.0, 80.3, 80.2, 79.5, 76.2, 70.3, 69.2, 73.3, 77.8, 78.2, 76.2, 78.0, 78.5, 80.2, 80.9, 79.2, 75.4, 65.5, 61.8, 66.2, 70.8, 70.1, 71.4, 70.3, 72.5, 72.8, 69.9, 69.4, 74.6, 75.2, 75.4, 75.6, 72.6, 70.7, 69.1, 66.9, 68.3, 63.8, 64.3, 67.8, 60.6, 63.8, 68.0, 67.0, 70.4, 69.1, 53.8, 51.2, 59.3, 70.3, 66.1, 60.3, 64.1, 61.5, 62.8, 72.3, 70.6, 60.0, 53.0, 55.6, 52.6, 51.9, 51.7, 55.7, 52.6, 47.6, 43.4, 47.0, 67.3, 67.4, 67.9, 60.3, 50.6, 62.2, 73.9, 38.1, 39.0, 44.9, 61.7, 66.2, 68.6, 71.4, 73.4, 75.2, 72.9, 73.7, 64.3, 51.5, 62.1, 67.5, 66.9, 61.9, 46.5, 50.4, 35.1, 29.9, 37.3, 57.3, 69.8, 71.8, 71.5, 70.4, 67.7, 67.8, 71.7, 62.9, 63.5, 59.4, 65.1, 66.5, 61.8, 58.8, 67.3, 67.3, 50.0, 48.1, 52.0, 53.6, 60.3, 63.4, 68.8, 66.3, 54.4, 54.4, 70.3, 72.5, 75.2, 74.2, 58.9, 64.3, 74.9, 75.0, 69.0, 61.4, 53.6, 54.7, 58.3, 68.4, 71.6, 63.0, 62.4, 66.8, 67.2, 69.5, 56.8, 62.6, 73.2, 76.5, 73.6, 57.6, 58.4, 58.7, 64.6, 72.8, 71.6, 65.2, 72.0, 71.8, 67.5, 55.8, 57.3, 55.3, 56.3, 65.0, 71.3, 69.9, 72.8, 73.5, 73.7, 71.7, 72.2, 72.6, 71.4, 72.2, 75.7, 74.2, 72.3, 66.5, 70.2, 70.6, 74.3, 71.9, 74.6, 68.0, 64.6, 67.4, 69.4, 73.1, 74.3, 68.1, 68.5, 71.6, 71.0, 71.5, 75.7, 72.6, 70.5, 73.6, 76.2, 75.5, 71.1, 63.0, 67.3, 74.9, 79.5, 68.0, 81.4, 81.0, 65.8, 70.7, 74.1, 77.4, 66.5, 68.6, 70.8, 71.9, 72.6, 74.1, 75.8, 77.8, 76.4, 74.7, 75.1, 75.1, 77.8, 80.0, 81.9, 81.9, 82.3, 76.8, 71.7, 72.3, 70.8, 77.3, 80.8, 84.8, 82.2, 74.0, 78.3, 77.4, 77.0, 78.5, 79.7, 75.1, 74.8, 78.5, 82.1, 78.3, 77.1, 78.3, 81.2, 83.1, 82.8, 85.0, 85.1, 85.3, 84.6, 85.9, 85.7, 84.9, 80.1, 79.9, 85.6, 78.5, 78.0, 79.2, 78.5, 80.0, 81.1, 85.1, 84.9, 84.9, 85.7, 86.3, 85.8, 85.5, 85.0, 84.8, 81.3, 77.2, 82.3, 81.9, 83.6, 85.1, 79.7, 80.6, 83.9, 83.8, 83.8, 86.7, 85.3, 81.7, 85.0, 86.7, 86.0, 86.1, 86.3, 87.8, 88.3, 86.4, 81.9, 83.2, 79.8, 79.6, 81.0, 81.8, 84.1, 79.5, 77.4, 81.9, 83.6, 86.4, 87.2, 87.0, 87.4, 87.4, 87.6, 88.4, 87.5, 87.6, 86.4, 84.2, 85.0, 84.5, 83.0, 77.7, 77.3, 75.4, 72.4, 72.6, 78.2, 81.4, 80.7, 81.2, 80.7, 80.9, 81.6, 75.3, 72.1, 72.7, 74.2, 75.2, 73.8, 73.8, 77.4, 79.2, 79.3, 78.5, 80.4, 79.7, 82.0, 83.7, 79.1, 78.5, 79.7, 79.0, 80.0, 80.0, 81.5, 80.3, 80.9, 77.3, 77.9, 78.8, 78.5, 79.1, 76.8, 75.7, 78.2, 82.2, 82.5, 75.3, 71.0, 76.3, 79.8, 78.2, 77.3, 67.7, 63.4, 66.9, 72.0, 73.7, 76.0, 67.8, 64.4, 65.8, 60.6, 67.3, 63.0, 51.8, 54.0, 62.1, 68.7, 72.9, 78.5, 79.3, 75.7, 78.1, 79.2, 77.1, 58.8, 56.9, 59.6, 65.1, 68.2, 67.9, 67.1, 68.5, 72.1, 76.1, 73.5, 55.3, 54.3, 64.0, 59.8, 51.5, 56.4, 63.7, 62.9, 59.0, 62.7, 63.6, 62.3, 59.7, 60.0, 63.0, 72.7, 62.6, 44.9, 42.2, 34.6, 43.7, 49.3, 57.3, 53.8, 46.9, 53.7, 49.9, 51.1, 52.7, 63.2, 72.7, 67.3, 67.3, 69.1, 46.9, 49.8, 46.0, 48.9, 42.3, 41.2, 48.9, 53.5, 47.0, 34.6, 31.2, 33.9, 40.4, 45.9, 49.0, 58.8, 59.4, 49.9, 57.4, 59.3, 39.4, 40.0, 40.1, 51.0, 30.3, 27.6, 31.7, 48.2, 61.4, 68.5, 61.0, 50.9, 49.7, 47.3, 58.0, 62.1, 61.8, 54.3, 48.8, 56.0, 66.0, 54.3, 50.5, 61.2, 56.2, 66.7, 45.2, 48.7, 62.4, 64.2, 40.9, 41.1, 47.4, 67.3, 72.9, 71.1, 65.8, 67.3, 73.3, 74.5, 62.9, 60.0, 68.5, 74.9, 60.1, 59.9, 68.1, 75.8, 70.7, 63.0, 64.0, 70.2, 73.7, 63.7, 56.6, 56.0, 61.4, 72.7, 71.6, 56.9, 57.0, 58.0, 62.9, 74.5, 74.1, 74.3, 74.5, 62.3, 61.8, 63.3, 69.5, 74.1, 72.5, 74.6, 74.3, 69.8, 67.8, 67.0, 67.3, 70.3, 74.8, 76.8, 64.0, 64.8, 74.6, 61.2, 50.5, 58.3, 65.7, 65.0, 71.4, 77.5, 61.0, 57.0, 63.8, 71.8, 73.3, 68.9, 59.6, 67.9, 65.1, 66.3, 71.5, 73.4, 65.2, 67.2, 70.8, 71.0, 69.8, 74.1, 78.3, 79.0, 74.9, 71.3, 75.3, 78.3, 79.0, 78.1, 77.1, 79.8, 79.5, 80.6, 80.3, 81.0, 82.2, 84.2, 82.0, 82.2, 76.3, 74.3, 77.9, 76.2, 78.8, 80.8, 80.4, 79.4, 83.0, 85.2, 83.7, 84.7, 85.3, 86.1, 83.9, 82.8, 85.8, 83.3, 84.0, 83.9, 82.5, 86.2, 85.9, 86.8, 85.3, 83.3, 84.0, 84.9, 79.9, 77.8, 77.0, 78.4, 80.6, 84.6, 84.7, 85.1, 83.5, 84.8, 86.0, 86.2, 86.0, 85.5, 86.0, 86.0, 84.7, 75.5, 82.0, 82.2, 80.9, 77.8, 79.3, 83.0, 84.9, 84.1, 84.8, 84.9, 86.4, 86.6, 85.6, 87.5, 87.0, 87.8, 88.0, 87.5, 88.7, 86.4, 85.2, 87.1, 87.3, 87.2, 88.2, 87.7, 79.4, 82.5, 83.2, 83.8, 81.3, 82.7, 82.0, 82.3, 82.6, 82.3, 82.2, 80.3, 83.0, 84.9, 84.4, 85.0, 85.9, 86.4, 86.6, 87.2, 86.8, 85.2, 87.1, 85.8, 85.7, 87.5, 84.7, 84.6, 84.7, 80.1, 82.7, 84.3, 81.5, 78.1, 76.6, 79.6, 82.7, 83.1, 82.3, 81.0, 77.9, 75.9, 75.6, 79.1, 79.0, 76.2, 80.6, 83.2, 84.3, 85.9, 84.4, 79.7, 79.9, 78.5, 76.0, 79.3, 80.4, 78.8, 73.9, 74.8, 75.0, 76.4, 76.1, 78.3, 80.7, 80.8, 80.1, 81.8, 80.8, 79.3, 78.8, 75.3, 71.3, 71.9, 79.8, 82.0, 64.5, 58.3, 59.7, 63.2, 72.7, 67.3, 64.5, 58.8, 59.0, 64.9, 64.1, 63.0, 67.4, 71.6, 71.7, 74.8, 70.5, 60.9, 59.5, 66.7, 65.9, 73.1, 78.7, 78.3, 66.5, 55.6, 48.3, 52.0, 50.9, 38.8, 40.5, 45.4, 53.3, 59.2, 57.1, 49.1, 51.7, 51.3, 55.0, 62.0, 60.0, 66.2, 48.3, 48.0, 58.8, 70.0, 72.7, 70.7, 62.9, 56.5, 49.8, 47.8, 56.0, 63.3, 48.3, 45.2, 46.5, 48.7, 62.8, 65.5, 47.7, 53.6, 52.7, 57.0, 54.5, 54.8, 56.8, 52.6, 62.4, 60.3, 56.8, 63.6, 66.0, 61.4, 53.7, 49.6, 47.1, 49.9, 50.7, 52.3, 48.8, 47.7, 53.7, 58.9, 67.7, 66.1, 56.3, 50.8, 55.3, 59.9, 48.3, 45.6, 48.1, 55.8, 61.9, 62.3, 54.1, 40.9, 50.4, 66.9, 43.8, 44.1, 48.0, 52.7, 54.4, 58.1, 44.2, 45.3, 53.1, 60.1, 60.2, 64.9, 70.4, 71.6, 74.5, 63.9, 39.7, 41.6, 58.9, 68.7, 60.0, 52.4, 63.5, 68.3, 63.1, 60.3, 53.8, 47.9, 52.0, 51.8, 61.2, 70.6, 58.0, 53.7, 58.4, 64.7, 51.7, 53.1, 62.7, 54.6, 37.4, 39.3, 46.6, 62.3, 74.1, 74.7, 72.5, 71.7, 67.5, 72.1, 70.4, 58.1, 56.5, 55.6, 57.1, 58.7, 61.3, 64.4, 66.0, 65.1, 69.0, 73.1, 65.9, 62.3, 63.9, 69.5, 66.5, 50.8, 48.2, 54.7, 60.6, 72.3, 73.3, 73.6, 69.3, 69.3, 74.0, 75.5, 72.3, 66.1, 71.0, 58.0, 64.8, 70.5, 72.6, 66.7, 64.4, 64.7, 68.7, 70.8, 71.1, 71.5, 72.0, 73.3, 74.5, 72.4, 77.5, 79.4, 79.5, 74.9, 73.5, 73.3, 74.5, 74.3, 72.7, 77.3, 78.2, 70.8, 71.4, 69.8, 72.1, 74.5, 75.9, 75.4, 77.1, 80.0, 82.8, 82.3, 83.1, 83.6, 82.3, 81.4, 81.5, 80.8, 82.0, 83.4, 80.2, 81.3, 80.9, 81.9, 84.7, 84.1, 80.4, 75.4, 82.0, 83.0, 83.8, 84.8, 83.4, 79.0, 79.7, 81.0, 81.5, 85.3, 78.0, 76.8, 83.6, 86.0, 85.7, 86.7, 86.5, 87.5, 78.0, 76.1, 79.9, 79.6, 78.5, 75.9, 77.9, 82.7, 81.1, 80.9, 82.4, 85.3, 85.4, 86.0, 84.9, 86.8, 86.6, 86.8, 87.9, 83.4, 83.4, 85.5, 86.6, 86.3, 86.3, 85.8, 85.7, 84.3, 85.5, 82.1, 78.8, 78.5, 81.5, 84.3, 83.3, 82.5, 83.1, 84.0, 85.3, 86.2, 85.4, 84.6, 86.1, 87.0, 88.3, 88.8, 88.7, 88.2, 88.8, 89.6, 90.0, 87.7, 85.9, 85.5, 87.0, 87.9, 87.0, 84.3, 85.6, 85.6, 82.3, 84.0, 82.3, 85.8, 87.0, 82.1, 82.9, 84.5, 83.8, 86.1, 85.5, 85.4, 86.4, 86.5, 86.1, 85.0, 84.5, 84.6, 81.9, 81.2, 83.7, 82.9, 84.3, 83.5, 81.4, 77.3, 77.6, 77.1, 79.8, 81.5, 81.0, 81.2, 81.0, 80.3, 79.8, 78.4, 82.7, 83.1, 83.5, 81.8, 81.6, 80.8, 81.3, 81.0, 81.5, 77.0, 72.8, 76.8, 81.8, 66.4, 60.0, 68.3, 77.6, 82.3, 71.0, 60.2, 65.9, 75.5, 81.8, 73.9, 65.3, 66.1, 69.9, 56.6, 56.1, 64.0, 68.1, 70.0, 59.9, 46.8, 48.0, 55.7, 54.2, 64.4, 71.5, 68.0, 63.6, 51.9, 51.7, 59.8, 59.4, 39.0, 39.3, 45.4, 47.3, 48.4, 54.5, 58.3, 61.5, 68.4, 74.0, 68.2, 54.2, 54.9, 68.1, 76.8, 66.4, 67.2, 72.7, 75.8, 59.1, 51.2, 53.6, 58.5, 62.4, 66.0, 59.0, 60.9, 73.8, 53.4, 49.0, 50.8, 61.5, 59.6, 74.1, 62.9, 45.0, 44.0, 45.5, 49.7, 51.7, 51.2, 53.3, 57.0, 58.1, 59.7, 62.4, 69.6, 60.8, 50.3, 48.8, 55.0, 61.4, 58.0, 54.0, 58.3, 61.4, 55.2, 53.1, 69.2, 73.6, 54.1, 43.5, 57.4, 72.2, 72.8, 70.4, 65.2, 68.5, 51.5, 49.5, 48.8, 52.1, 57.5, 51.7, 55.2, 62.8, 56.2, 57.8, 50.1, 51.6, 51.9, 53.2, 61.4, 67.6, 70.7, 48.1, 42.1, 55.0, 58.8, 67.3, 70.4, 53.9, 53.9, 49.0, 47.5, 55.9, 63.4, 69.0, 71.0, 55.7, 48.5, 47.3, 50.0, 61.0, 64.7, 60.0, 49.8, 46.6, 54.7, 60.0, 67.1, 70.8, 72.6, 67.4, 62.0, 60.3, 53.7, 60.9, 67.9, 69.7, 70.4, 74.1, 73.7, 74.4, 73.7, 69.4, 74.5, 74.6, 77.8, 69.4, 57.5, 67.5, 74.7, 77.3, 76.8, 74.7, 78.1, 72.6, 68.0, 72.4, 70.3, 63.1, 68.3, 71.8, 58.6, 65.1, 71.1, 78.1, 78.5, 74.9, 68.4, 69.8, 79.5, 61.1, 57.9, 58.6, 62.0, 70.7, 68.6, 73.6, 70.3, 73.2, 77.2, 78.9, 75.6, 70.8, 71.5, 72.4, 78.4, 70.7, 70.7, 72.8, 76.0, 79.0, 78.7, 81.4, 74.0, 73.9, 78.4, 67.0, 68.8, 71.6, 75.2, 77.3, 78.6, 75.5, 72.5, 75.3, 79.8, 83.1, 81.7, 82.3, 83.3, 83.8, 77.4, 74.4, 75.5, 72.6, 77.2, 79.0, 79.3, 77.6, 78.3, 81.2, 79.3, 81.6, 82.6, 84.7, 85.0, 86.8, 86.7, 83.1, 79.9, 79.8, 81.3, 81.1, 82.4, 82.9, 82.7, 81.8, 80.6, 79.8, 82.7, 76.2, 80.3, 78.0, 76.6, 81.0, 84.2, 84.7, 85.5, 86.6, 86.4, 88.0, 84.7, 84.6, 85.4, 85.5, 84.5], \"xaxis\": \"x2\", \"yaxis\": \"y2\"}],\n",
              "                        {\"bargap\": 0.1, \"barmode\": \"relative\", \"legend\": {\"tracegroupgap\": 0}, \"template\": {\"data\": {\"bar\": [{\"error_x\": {\"color\": \"#2a3f5f\"}, \"error_y\": {\"color\": \"#2a3f5f\"}, \"marker\": {\"line\": {\"color\": \"#E5ECF6\", \"width\": 0.5}}, \"type\": \"bar\"}], \"barpolar\": [{\"marker\": {\"line\": {\"color\": \"#E5ECF6\", \"width\": 0.5}}, \"type\": \"barpolar\"}], \"carpet\": [{\"aaxis\": {\"endlinecolor\": \"#2a3f5f\", \"gridcolor\": \"white\", \"linecolor\": \"white\", \"minorgridcolor\": \"white\", \"startlinecolor\": \"#2a3f5f\"}, \"baxis\": {\"endlinecolor\": \"#2a3f5f\", \"gridcolor\": \"white\", \"linecolor\": \"white\", \"minorgridcolor\": \"white\", \"startlinecolor\": \"#2a3f5f\"}, \"type\": \"carpet\"}], \"choropleth\": [{\"colorbar\": {\"outlinewidth\": 0, \"ticks\": \"\"}, \"type\": \"choropleth\"}], \"contour\": [{\"colorbar\": {\"outlinewidth\": 0, \"ticks\": \"\"}, \"colorscale\": [[0.0, \"#0d0887\"], [0.1111111111111111, \"#46039f\"], [0.2222222222222222, \"#7201a8\"], [0.3333333333333333, \"#9c179e\"], [0.4444444444444444, \"#bd3786\"], [0.5555555555555556, \"#d8576b\"], [0.6666666666666666, \"#ed7953\"], [0.7777777777777778, \"#fb9f3a\"], [0.8888888888888888, \"#fdca26\"], [1.0, \"#f0f921\"]], \"type\": \"contour\"}], \"contourcarpet\": [{\"colorbar\": {\"outlinewidth\": 0, \"ticks\": \"\"}, \"type\": \"contourcarpet\"}], \"heatmap\": [{\"colorbar\": {\"outlinewidth\": 0, \"ticks\": \"\"}, \"colorscale\": [[0.0, \"#0d0887\"], [0.1111111111111111, \"#46039f\"], [0.2222222222222222, \"#7201a8\"], [0.3333333333333333, \"#9c179e\"], [0.4444444444444444, \"#bd3786\"], [0.5555555555555556, \"#d8576b\"], [0.6666666666666666, \"#ed7953\"], [0.7777777777777778, \"#fb9f3a\"], [0.8888888888888888, \"#fdca26\"], [1.0, \"#f0f921\"]], \"type\": \"heatmap\"}], \"heatmapgl\": [{\"colorbar\": {\"outlinewidth\": 0, \"ticks\": \"\"}, \"colorscale\": [[0.0, \"#0d0887\"], [0.1111111111111111, \"#46039f\"], [0.2222222222222222, \"#7201a8\"], [0.3333333333333333, \"#9c179e\"], [0.4444444444444444, \"#bd3786\"], [0.5555555555555556, \"#d8576b\"], [0.6666666666666666, \"#ed7953\"], [0.7777777777777778, \"#fb9f3a\"], [0.8888888888888888, \"#fdca26\"], [1.0, \"#f0f921\"]], \"type\": \"heatmapgl\"}], \"histogram\": [{\"marker\": {\"colorbar\": {\"outlinewidth\": 0, \"ticks\": \"\"}}, \"type\": \"histogram\"}], \"histogram2d\": [{\"colorbar\": {\"outlinewidth\": 0, \"ticks\": \"\"}, \"colorscale\": [[0.0, \"#0d0887\"], [0.1111111111111111, \"#46039f\"], [0.2222222222222222, \"#7201a8\"], [0.3333333333333333, \"#9c179e\"], [0.4444444444444444, \"#bd3786\"], [0.5555555555555556, \"#d8576b\"], [0.6666666666666666, \"#ed7953\"], [0.7777777777777778, \"#fb9f3a\"], [0.8888888888888888, \"#fdca26\"], [1.0, \"#f0f921\"]], \"type\": \"histogram2d\"}], \"histogram2dcontour\": [{\"colorbar\": {\"outlinewidth\": 0, \"ticks\": \"\"}, \"colorscale\": [[0.0, \"#0d0887\"], [0.1111111111111111, \"#46039f\"], [0.2222222222222222, \"#7201a8\"], [0.3333333333333333, \"#9c179e\"], [0.4444444444444444, \"#bd3786\"], [0.5555555555555556, \"#d8576b\"], [0.6666666666666666, \"#ed7953\"], [0.7777777777777778, \"#fb9f3a\"], [0.8888888888888888, \"#fdca26\"], [1.0, \"#f0f921\"]], \"type\": \"histogram2dcontour\"}], \"mesh3d\": [{\"colorbar\": {\"outlinewidth\": 0, \"ticks\": \"\"}, \"type\": \"mesh3d\"}], \"parcoords\": [{\"line\": {\"colorbar\": {\"outlinewidth\": 0, \"ticks\": \"\"}}, \"type\": \"parcoords\"}], \"pie\": [{\"automargin\": true, \"type\": \"pie\"}], \"scatter\": [{\"marker\": {\"colorbar\": {\"outlinewidth\": 0, \"ticks\": \"\"}}, \"type\": \"scatter\"}], \"scatter3d\": [{\"line\": {\"colorbar\": {\"outlinewidth\": 0, \"ticks\": \"\"}}, \"marker\": {\"colorbar\": {\"outlinewidth\": 0, \"ticks\": \"\"}}, \"type\": \"scatter3d\"}], \"scattercarpet\": [{\"marker\": {\"colorbar\": {\"outlinewidth\": 0, \"ticks\": \"\"}}, \"type\": \"scattercarpet\"}], \"scattergeo\": [{\"marker\": {\"colorbar\": {\"outlinewidth\": 0, \"ticks\": \"\"}}, \"type\": \"scattergeo\"}], \"scattergl\": [{\"marker\": {\"colorbar\": {\"outlinewidth\": 0, \"ticks\": \"\"}}, \"type\": \"scattergl\"}], \"scattermapbox\": [{\"marker\": {\"colorbar\": {\"outlinewidth\": 0, \"ticks\": \"\"}}, \"type\": \"scattermapbox\"}], \"scatterpolar\": [{\"marker\": {\"colorbar\": {\"outlinewidth\": 0, \"ticks\": \"\"}}, \"type\": \"scatterpolar\"}], \"scatterpolargl\": [{\"marker\": {\"colorbar\": {\"outlinewidth\": 0, \"ticks\": \"\"}}, \"type\": \"scatterpolargl\"}], \"scatterternary\": [{\"marker\": {\"colorbar\": {\"outlinewidth\": 0, \"ticks\": \"\"}}, \"type\": \"scatterternary\"}], \"surface\": [{\"colorbar\": {\"outlinewidth\": 0, \"ticks\": \"\"}, \"colorscale\": [[0.0, \"#0d0887\"], [0.1111111111111111, \"#46039f\"], [0.2222222222222222, \"#7201a8\"], [0.3333333333333333, \"#9c179e\"], [0.4444444444444444, \"#bd3786\"], [0.5555555555555556, \"#d8576b\"], [0.6666666666666666, \"#ed7953\"], [0.7777777777777778, \"#fb9f3a\"], [0.8888888888888888, \"#fdca26\"], [1.0, \"#f0f921\"]], \"type\": \"surface\"}], \"table\": [{\"cells\": {\"fill\": {\"color\": \"#EBF0F8\"}, \"line\": {\"color\": \"white\"}}, \"header\": {\"fill\": {\"color\": \"#C8D4E3\"}, \"line\": {\"color\": \"white\"}}, \"type\": \"table\"}]}, \"layout\": {\"annotationdefaults\": {\"arrowcolor\": \"#2a3f5f\", \"arrowhead\": 0, \"arrowwidth\": 1}, \"coloraxis\": {\"colorbar\": {\"outlinewidth\": 0, \"ticks\": \"\"}}, \"colorscale\": {\"diverging\": [[0, \"#8e0152\"], [0.1, \"#c51b7d\"], [0.2, \"#de77ae\"], [0.3, \"#f1b6da\"], [0.4, \"#fde0ef\"], [0.5, \"#f7f7f7\"], [0.6, \"#e6f5d0\"], [0.7, \"#b8e186\"], [0.8, \"#7fbc41\"], [0.9, \"#4d9221\"], [1, \"#276419\"]], \"sequential\": [[0.0, \"#0d0887\"], [0.1111111111111111, \"#46039f\"], [0.2222222222222222, \"#7201a8\"], [0.3333333333333333, \"#9c179e\"], [0.4444444444444444, \"#bd3786\"], [0.5555555555555556, \"#d8576b\"], [0.6666666666666666, \"#ed7953\"], [0.7777777777777778, \"#fb9f3a\"], [0.8888888888888888, \"#fdca26\"], [1.0, \"#f0f921\"]], \"sequentialminus\": [[0.0, \"#0d0887\"], [0.1111111111111111, \"#46039f\"], [0.2222222222222222, \"#7201a8\"], [0.3333333333333333, \"#9c179e\"], [0.4444444444444444, \"#bd3786\"], [0.5555555555555556, \"#d8576b\"], [0.6666666666666666, \"#ed7953\"], [0.7777777777777778, \"#fb9f3a\"], [0.8888888888888888, \"#fdca26\"], [1.0, \"#f0f921\"]]}, \"colorway\": [\"#636efa\", \"#EF553B\", \"#00cc96\", \"#ab63fa\", \"#FFA15A\", \"#19d3f3\", \"#FF6692\", \"#B6E880\", \"#FF97FF\", \"#FECB52\"], \"font\": {\"color\": \"#2a3f5f\"}, \"geo\": {\"bgcolor\": \"white\", \"lakecolor\": \"white\", \"landcolor\": \"#E5ECF6\", \"showlakes\": true, \"showland\": true, \"subunitcolor\": \"white\"}, \"hoverlabel\": {\"align\": \"left\"}, \"hovermode\": \"closest\", \"mapbox\": {\"style\": \"light\"}, \"paper_bgcolor\": \"white\", \"plot_bgcolor\": \"#E5ECF6\", \"polar\": {\"angularaxis\": {\"gridcolor\": \"white\", \"linecolor\": \"white\", \"ticks\": \"\"}, \"bgcolor\": \"#E5ECF6\", \"radialaxis\": {\"gridcolor\": \"white\", \"linecolor\": \"white\", \"ticks\": \"\"}}, \"scene\": {\"xaxis\": {\"backgroundcolor\": \"#E5ECF6\", \"gridcolor\": \"white\", \"gridwidth\": 2, \"linecolor\": \"white\", \"showbackground\": true, \"ticks\": \"\", \"zerolinecolor\": \"white\"}, \"yaxis\": {\"backgroundcolor\": \"#E5ECF6\", \"gridcolor\": \"white\", \"gridwidth\": 2, \"linecolor\": \"white\", \"showbackground\": true, \"ticks\": \"\", \"zerolinecolor\": \"white\"}, \"zaxis\": {\"backgroundcolor\": \"#E5ECF6\", \"gridcolor\": \"white\", \"gridwidth\": 2, \"linecolor\": \"white\", \"showbackground\": true, \"ticks\": \"\", \"zerolinecolor\": \"white\"}}, \"shapedefaults\": {\"line\": {\"color\": \"#2a3f5f\"}}, \"ternary\": {\"aaxis\": {\"gridcolor\": \"white\", \"linecolor\": \"white\", \"ticks\": \"\"}, \"baxis\": {\"gridcolor\": \"white\", \"linecolor\": \"white\", \"ticks\": \"\"}, \"bgcolor\": \"#E5ECF6\", \"caxis\": {\"gridcolor\": \"white\", \"linecolor\": \"white\", \"ticks\": \"\"}}, \"title\": {\"x\": 0.05}, \"xaxis\": {\"automargin\": true, \"gridcolor\": \"white\", \"linecolor\": \"white\", \"ticks\": \"\", \"title\": {\"standoff\": 15}, \"zerolinecolor\": \"white\", \"zerolinewidth\": 2}, \"yaxis\": {\"automargin\": true, \"gridcolor\": \"white\", \"linecolor\": \"white\", \"ticks\": \"\", \"title\": {\"standoff\": 15}, \"zerolinecolor\": \"white\", \"zerolinewidth\": 2}}}, \"title\": {\"text\": \"Distribution of Avg Temp\"}, \"xaxis\": {\"anchor\": \"y\", \"domain\": [0.0, 1.0], \"title\": {\"text\": \"Temp_avg\"}}, \"xaxis2\": {\"anchor\": \"y2\", \"domain\": [0.0, 1.0], \"matches\": \"x\", \"showgrid\": true, \"showticklabels\": false}, \"yaxis\": {\"anchor\": \"x\", \"domain\": [0.0, 0.8316], \"title\": {\"text\": \"count\"}}, \"yaxis2\": {\"anchor\": \"x2\", \"domain\": [0.8416, 1.0], \"matches\": \"y2\", \"showgrid\": false, \"showline\": false, \"showticklabels\": false, \"ticks\": \"\"}},\n",
              "                        {\"responsive\": true}\n",
              "                    ).then(function(){\n",
              "                            \n",
              "var gd = document.getElementById('b1142b47-13a5-41f5-881c-65895fa8befb');\n",
              "var x = new MutationObserver(function (mutations, observer) {{\n",
              "        var display = window.getComputedStyle(gd).display;\n",
              "        if (!display || display === 'none') {{\n",
              "            console.log([gd, 'removed!']);\n",
              "            Plotly.purge(gd);\n",
              "            observer.disconnect();\n",
              "        }}\n",
              "}});\n",
              "\n",
              "// Listen for the removal of the full notebook cells\n",
              "var notebookContainer = gd.closest('#notebook-container');\n",
              "if (notebookContainer) {{\n",
              "    x.observe(notebookContainer, {childList: true});\n",
              "}}\n",
              "\n",
              "// Listen for the clearing of the current output cell\n",
              "var outputEl = gd.closest('.output');\n",
              "if (outputEl) {{\n",
              "    x.observe(outputEl, {childList: true});\n",
              "}}\n",
              "\n",
              "                        })\n",
              "                };\n",
              "                \n",
              "            </script>\n",
              "        </div>\n",
              "</body>\n",
              "</html>"
            ]
          },
          "metadata": {
            "tags": []
          }
        }
      ],
      "metadata": {
        "colab": {
          "base_uri": "https://localhost:8080/",
          "height": 0
        },
        "id": "EZ7EeCTUDqSw",
        "outputId": "b083540c-0dfd-4ef6-f133-38770226d48d"
      }
    },
    {
      "cell_type": "markdown",
      "source": [
        "Temperature distribution is not uniform. We have more warmer days than colder days. We also have very few data on days with temperature below 35. Median of Average-temperature lies at 73.8"
      ],
      "metadata": {
        "id": "ivYqgqfcGDMC"
      }
    },
    {
      "cell_type": "code",
      "execution_count": 28,
      "source": [
        "fig = px.histogram(df, x='Dew_avg', \n",
        "                   marginal='box', \n",
        "                   title='Distribution of Avg Dew')\n",
        "fig.update_layout(bargap=0.1)\n",
        "fig.show()"
      ],
      "outputs": [
        {
          "output_type": "display_data",
          "data": {
            "text/html": [
              "<html>\n",
              "<head><meta charset=\"utf-8\" /></head>\n",
              "<body>\n",
              "    <div>\n",
              "            <script src=\"https://cdnjs.cloudflare.com/ajax/libs/mathjax/2.7.5/MathJax.js?config=TeX-AMS-MML_SVG\"></script><script type=\"text/javascript\">if (window.MathJax) {MathJax.Hub.Config({SVG: {font: \"STIX-Web\"}});}</script>\n",
              "                <script type=\"text/javascript\">window.PlotlyConfig = {MathJaxConfig: 'local'};</script>\n",
              "        <script src=\"https://cdn.plot.ly/plotly-latest.min.js\"></script>    \n",
              "            <div id=\"b68061bf-4ad3-4c59-a3c4-bc84ca66732f\" class=\"plotly-graph-div\" style=\"height:525px; width:100%;\"></div>\n",
              "            <script type=\"text/javascript\">\n",
              "                \n",
              "                    window.PLOTLYENV=window.PLOTLYENV || {};\n",
              "                    \n",
              "                if (document.getElementById(\"b68061bf-4ad3-4c59-a3c4-bc84ca66732f\")) {\n",
              "                    Plotly.newPlot(\n",
              "                        'b68061bf-4ad3-4c59-a3c4-bc84ca66732f',\n",
              "                        [{\"alignmentgroup\": \"True\", \"bingroup\": \"x\", \"hoverlabel\": {\"namelength\": 0}, \"hovertemplate\": \"Dew_avg=%{x}<br>count=%{y}\", \"legendgroup\": \"\", \"marker\": {\"color\": \"#636efa\"}, \"name\": \"\", \"offsetgroup\": \"\", \"orientation\": \"v\", \"showlegend\": false, \"type\": \"histogram\", \"x\": [71.4, 70.3, 70.0, 70.0, 70.0, 70.8, 70.2, 69.0, 69.9, 73.3, 75.0, 74.7, 75.1, 74.6, 74.4, 74.6, 75.1, 73.7, 71.5, 73.6, 73.9, 73.3, 71.0, 73.4, 74.7, 73.8, 74.1, 73.8, 73.6, 72.7, 74.0, 73.1, 74.1, 74.8, 75.3, 74.4, 75.2, 74.0, 74.6, 74.0, 72.6, 74.0, 74.6, 73.8, 73.1, 72.3, 73.0, 75.0, 75.4, 74.0, 71.9, 72.6, 73.8, 73.9, 74.0, 74.6, 74.6, 75.2, 74.0, 73.8, 75.0, 73.3, 73.9, 73.8, 74.4, 74.2, 72.8, 73.0, 73.1, 74.4, 74.7, 75.7, 74.8, 75.4, 73.1, 74.8, 74.4, 73.8, 74.9, 74.8, 74.8, 74.5, 74.7, 76.0, 75.4, 74.6, 73.0, 72.9, 73.1, 73.1, 72.4, 73.6, 73.3, 73.6, 70.6, 74.2, 75.6, 73.8, 73.8, 75.1, 74.7, 73.3, 71.0, 73.2, 73.8, 72.5, 73.1, 75.5, 75.2, 75.4, 75.0, 74.7, 70.8, 72.4, 74.5, 74.9, 73.4, 72.0, 68.6, 63.1, 59.7, 54.4, 59.4, 60.6, 62.5, 68.9, 73.5, 73.2, 68.4, 62.8, 48.9, 52.6, 67.9, 70.6, 69.4, 68.6, 69.7, 71.3, 70.8, 71.0, 72.3, 67.6, 47.7, 46.3, 55.2, 61.3, 62.9, 60.6, 60.3, 61.5, 64.8, 64.0, 63.8, 69.4, 69.9, 69.6, 68.1, 57.7, 62.8, 64.8, 63.0, 61.1, 49.7, 50.5, 55.8, 47.8, 54.8, 54.8, 54.3, 62.2, 58.8, 31.6, 33.7, 50.9, 61.9, 56.5, 51.5, 57.0, 53.2, 55.3, 64.1, 64.8, 36.8, 35.0, 45.8, 50.2, 50.0, 49.9, 50.1, 49.7, 40.2, 25.7, 32.5, 61.2, 64.3, 63.7, 54.7, 37.7, 57.5, 67.4, 22.0, 16.5, 24.2, 45.9, 57.7, 65.3, 67.1, 68.2, 69.3, 68.3, 67.7, 44.8, 28.3, 59.2, 63.8, 62.2, 46.3, 38.7, 45.8, 28.7, 15.2, 23.7, 49.8, 61.1, 63.4, 64.7, 66.2, 64.3, 63.8, 65.2, 60.9, 61.3, 56.9, 61.2, 61.0, 42.9, 37.3, 57.6, 49.0, 30.0, 25.8, 27.6, 31.0, 34.3, 48.5, 60.2, 56.9, 43.2, 43.8, 64.9, 65.5, 61.4, 58.6, 37.5, 57.0, 67.0, 65.4, 62.4, 56.2, 37.2, 36.0, 54.4, 61.6, 67.6, 61.0, 54.2, 49.0, 56.0, 55.4, 33.4, 53.4, 67.3, 68.0, 54.4, 26.2, 33.1, 50.7, 62.2, 67.5, 63.3, 52.5, 66.3, 66.5, 65.0, 49.5, 48.8, 38.4, 48.0, 58.3, 61.5, 63.0, 63.8, 61.8, 58.8, 61.6, 60.0, 64.0, 57.7, 64.1, 67.2, 68.0, 67.6, 52.9, 54.0, 62.7, 68.2, 52.9, 60.2, 49.5, 40.5, 47.5, 53.6, 60.3, 67.3, 64.1, 64.0, 63.2, 62.4, 64.1, 66.9, 66.2, 65.8, 67.4, 67.5, 67.5, 62.3, 45.8, 50.0, 64.2, 66.3, 52.7, 71.6, 73.8, 48.0, 49.0, 59.1, 69.7, 44.4, 44.4, 49.0, 56.6, 60.3, 66.1, 67.0, 69.8, 64.2, 59.9, 63.0, 63.8, 64.8, 68.7, 71.1, 72.4, 72.8, 71.2, 68.2, 62.7, 51.2, 58.9, 71.5, 73.8, 73.3, 68.5, 69.5, 70.2, 70.7, 72.8, 73.5, 70.7, 70.8, 70.7, 67.5, 61.6, 64.6, 67.9, 71.4, 74.1, 75.0, 73.6, 73.2, 72.2, 73.2, 73.4, 73.0, 72.4, 71.1, 74.1, 75.1, 74.3, 72.8, 71.1, 72.6, 72.4, 74.7, 76.1, 74.0, 74.6, 74.3, 74.3, 74.3, 73.6, 73.0, 72.0, 72.1, 72.5, 73.9, 74.3, 74.5, 73.8, 73.8, 72.3, 74.7, 75.0, 74.3, 74.2, 74.5, 74.1, 74.5, 72.9, 74.3, 73.2, 73.3, 74.5, 74.5, 73.5, 65.5, 70.7, 73.9, 73.1, 74.4, 74.8, 76.4, 75.9, 73.5, 74.6, 76.0, 75.8, 75.5, 75.0, 74.1, 74.1, 76.0, 73.8, 75.2, 74.7, 73.9, 74.8, 73.0, 73.4, 73.2, 73.7, 75.1, 73.8, 70.0, 69.7, 67.8, 66.8, 69.5, 70.2, 70.9, 71.5, 72.0, 62.3, 56.4, 57.5, 59.4, 60.2, 59.0, 58.3, 64.9, 68.2, 70.4, 70.8, 71.9, 75.0, 74.2, 75.3, 74.1, 72.3, 72.1, 72.0, 72.2, 71.8, 72.3, 73.0, 69.3, 61.3, 64.9, 72.3, 76.1, 70.2, 67.2, 65.4, 71.1, 71.4, 73.0, 65.7, 55.5, 66.1, 72.0, 72.8, 68.7, 48.1, 47.2, 56.4, 62.8, 70.3, 72.9, 64.4, 49.3, 39.8, 38.1, 51.5, 49.7, 29.0, 30.4, 50.5, 64.7, 69.6, 73.0, 73.4, 71.4, 72.1, 71.0, 69.2, 53.7, 51.3, 48.4, 54.9, 58.4, 60.3, 59.5, 63.2, 68.1, 67.9, 61.2, 35.5, 42.9, 58.1, 49.0, 36.9, 41.5, 55.8, 51.0, 45.4, 58.1, 61.2, 45.3, 49.8, 54.5, 62.4, 69.6, 57.2, 40.7, 38.1, 29.1, 34.3, 34.6, 35.5, 32.3, 33.6, 42.9, 35.5, 41.5, 50.6, 60.8, 69.5, 56.6, 62.3, 64.0, 37.2, 40.3, 35.9, 42.9, 40.0, 36.5, 37.6, 50.0, 42.0, 16.2, 13.9, 15.8, 23.4, 32.4, 40.5, 56.2, 50.5, 47.1, 54.7, 55.4, 21.4, 23.2, 28.0, 42.8, 26.2, 13.2, 17.8, 42.2, 60.3, 65.4, 41.6, 28.2, 27.5, 34.1, 53.3, 61.9, 56.3, 33.1, 31.2, 46.3, 56.0, 33.6, 44.4, 59.4, 51.9, 65.1, 43.5, 41.5, 57.3, 63.2, 36.2, 36.5, 45.6, 63.9, 65.9, 65.1, 60.5, 62.5, 66.3, 68.8, 61.6, 58.8, 64.9, 68.9, 58.1, 55.5, 64.2, 68.1, 59.6, 54.1, 53.5, 65.2, 64.1, 31.6, 28.3, 35.5, 51.0, 67.0, 61.6, 38.1, 39.1, 40.0, 53.1, 66.4, 68.1, 68.3, 53.5, 40.1, 39.9, 50.3, 58.8, 65.6, 66.5, 67.5, 68.9, 67.2, 62.1, 51.8, 57.1, 62.3, 67.5, 67.5, 43.4, 56.1, 69.1, 58.9, 45.6, 55.2, 49.6, 50.0, 62.5, 70.3, 50.4, 34.6, 43.1, 57.9, 64.3, 43.3, 46.4, 64.1, 58.8, 52.0, 57.8, 60.8, 49.3, 51.9, 54.4, 57.5, 62.8, 68.6, 70.9, 70.6, 70.2, 64.2, 59.3, 60.5, 59.7, 60.4, 63.3, 68.2, 71.8, 71.9, 68.9, 66.4, 65.1, 66.8, 70.6, 71.5, 72.4, 70.7, 71.5, 71.8, 71.1, 72.7, 72.4, 72.2, 72.5, 73.0, 73.1, 74.2, 74.9, 75.1, 73.7, 72.9, 73.7, 74.8, 73.7, 72.2, 72.5, 73.8, 74.2, 74.0, 73.4, 72.8, 73.9, 73.1, 77.4, 76.0, 75.8, 76.5, 77.1, 77.2, 76.3, 75.8, 76.3, 75.7, 74.9, 75.7, 75.3, 75.5, 75.1, 74.7, 73.8, 74.0, 73.5, 74.6, 74.7, 75.1, 75.3, 74.5, 75.3, 75.3, 74.7, 75.7, 75.8, 75.1, 75.2, 75.8, 75.8, 75.1, 76.0, 74.6, 73.6, 73.4, 69.6, 69.1, 69.5, 73.8, 74.3, 75.3, 75.8, 69.0, 68.2, 70.5, 75.3, 74.9, 76.8, 76.0, 74.8, 76.2, 75.3, 77.0, 76.1, 75.4, 75.1, 76.5, 76.9, 76.5, 76.5, 75.8, 76.5, 76.8, 75.0, 75.4, 74.6, 76.1, 76.5, 76.8, 77.0, 76.0, 74.6, 75.1, 76.8, 77.0, 76.4, 77.0, 75.9, 75.7, 76.3, 75.4, 75.0, 75.0, 74.6, 75.5, 75.4, 75.4, 75.4, 75.9, 75.0, 75.6, 75.6, 76.6, 78.3, 77.6, 71.7, 71.8, 75.7, 76.0, 70.2, 72.4, 74.2, 74.0, 73.8, 75.1, 77.0, 75.2, 76.2, 75.3, 76.3, 75.2, 75.5, 69.9, 60.5, 65.0, 72.3, 74.2, 63.7, 57.5, 58.1, 58.8, 69.0, 66.1, 53.5, 51.4, 55.0, 63.3, 61.0, 57.0, 58.1, 63.3, 62.9, 67.1, 69.3, 53.5, 47.7, 55.9, 61.8, 69.5, 75.5, 74.7, 65.8, 53.1, 41.1, 49.2, 49.4, 31.3, 26.0, 32.8, 42.2, 52.7, 55.8, 47.9, 43.1, 45.6, 48.3, 58.2, 54.4, 55.5, 32.1, 34.7, 52.3, 67.3, 70.2, 55.5, 45.8, 40.9, 37.5, 35.3, 53.5, 62.4, 46.9, 41.4, 36.5, 40.7, 56.0, 58.7, 43.1, 39.6, 44.7, 50.1, 53.0, 54.2, 44.4, 32.7, 52.7, 50.9, 50.4, 61.9, 64.9, 56.3, 41.9, 41.7, 45.4, 48.2, 45.5, 50.7, 47.6, 41.5, 44.5, 54.6, 61.1, 61.3, 39.9, 35.5, 48.5, 53.6, 37.8, 37.2, 40.8, 53.3, 59.2, 61.0, 45.0, 28.8, 43.8, 59.4, 37.7, 31.0, 36.3, 47.9, 46.6, 48.9, 25.1, 28.4, 50.0, 58.5, 58.8, 64.2, 67.9, 68.9, 69.3, 57.3, 27.7, 32.1, 54.3, 67.3, 45.2, 40.1, 55.8, 63.9, 59.8, 55.9, 36.3, 44.8, 44.7, 49.9, 60.9, 59.0, 34.1, 43.9, 58.3, 64.7, 51.2, 50.9, 60.5, 52.4, 29.1, 20.7, 31.3, 59.4, 69.3, 69.1, 69.1, 68.2, 66.3, 69.5, 53.2, 33.8, 34.2, 37.6, 39.7, 43.3, 45.7, 44.5, 48.7, 58.7, 64.3, 64.8, 50.8, 47.0, 55.4, 62.6, 60.7, 38.7, 38.6, 40.6, 54.7, 69.0, 69.9, 71.0, 68.0, 63.1, 58.6, 60.9, 65.9, 57.0, 65.6, 42.4, 52.5, 62.7, 70.2, 62.9, 45.6, 47.0, 57.8, 63.9, 68.4, 69.1, 62.4, 61.5, 61.8, 64.3, 70.8, 72.0, 71.9, 69.9, 71.3, 67.2, 65.3, 66.5, 71.3, 73.5, 74.9, 68.2, 70.4, 63.1, 61.4, 63.8, 65.5, 65.2, 71.5, 75.1, 77.1, 75.4, 74.7, 75.5, 75.6, 74.2, 73.8, 72.6, 69.7, 74.6, 71.0, 74.6, 75.3, 73.3, 74.0, 72.9, 74.0, 75.1, 72.7, 72.5, 71.8, 74.2, 73.3, 65.0, 65.1, 66.2, 70.5, 75.0, 74.3, 71.3, 75.9, 77.0, 78.1, 79.3, 79.8, 79.1, 72.8, 72.9, 76.5, 75.8, 73.2, 73.0, 71.8, 74.5, 75.7, 76.4, 76.5, 77.0, 76.3, 77.0, 77.8, 75.5, 74.1, 73.9, 71.5, 72.7, 71.8, 75.5, 75.4, 75.4, 73.6, 73.7, 74.6, 74.6, 74.4, 70.4, 60.5, 60.0, 65.0, 72.0, 72.4, 72.5, 73.2, 73.1, 72.9, 72.2, 73.3, 73.1, 73.5, 73.8, 73.5, 74.5, 74.0, 74.0, 74.9, 74.3, 73.6, 74.8, 73.2, 74.7, 74.7, 75.1, 75.1, 74.3, 72.5, 73.4, 74.9, 73.8, 75.7, 76.1, 75.3, 74.1, 73.0, 73.9, 72.5, 69.5, 67.3, 69.4, 70.1, 68.4, 69.8, 70.8, 70.8, 71.5, 73.6, 73.7, 72.8, 70.9, 68.8, 69.7, 71.5, 73.8, 74.9, 74.5, 74.6, 73.0, 74.8, 75.7, 71.3, 70.6, 69.8, 74.1, 73.8, 73.8, 75.0, 73.1, 72.9, 72.0, 70.5, 70.4, 71.8, 69.4, 61.0, 68.1, 70.2, 60.0, 44.6, 55.0, 70.7, 73.4, 66.7, 50.9, 56.3, 67.3, 73.1, 63.9, 44.1, 52.1, 62.6, 52.0, 47.0, 55.3, 61.7, 66.2, 56.7, 32.0, 36.5, 41.2, 42.0, 59.1, 65.0, 57.9, 60.3, 46.3, 38.9, 49.9, 53.3, 24.7, 26.3, 39.9, 38.9, 37.8, 44.1, 47.0, 52.0, 61.2, 66.3, 62.6, 43.1, 42.3, 60.1, 68.4, 36.9, 55.0, 69.4, 68.7, 31.2, 33.0, 40.8, 42.3, 53.4, 56.4, 46.8, 54.0, 65.6, 47.8, 36.6, 41.9, 50.6, 49.2, 66.6, 56.0, 30.3, 26.1, 31.3, 39.3, 39.9, 39.8, 39.8, 46.7, 52.0, 53.9, 59.4, 65.0, 51.8, 31.0, 31.3, 46.3, 59.4, 50.4, 37.2, 41.5, 50.0, 30.8, 43.5, 62.4, 66.8, 46.1, 38.7, 54.5, 68.4, 67.9, 66.0, 61.6, 63.2, 26.8, 28.1, 32.8, 47.7, 52.2, 38.8, 45.3, 56.4, 51.5, 53.5, 40.8, 45.4, 44.8, 37.0, 38.8, 58.7, 63.6, 43.0, 28.3, 35.8, 45.4, 62.3, 65.4, 51.3, 50.6, 39.8, 35.1, 48.1, 58.3, 64.0, 64.9, 51.5, 43.2, 32.4, 35.5, 53.8, 57.4, 46.0, 28.0, 27.3, 34.3, 44.0, 59.7, 64.2, 66.6, 63.1, 44.5, 30.7, 39.2, 51.4, 61.2, 64.5, 62.5, 63.2, 66.5, 67.2, 66.9, 64.0, 66.4, 66.6, 67.4, 66.1, 53.9, 63.1, 67.7, 67.7, 67.5, 67.2, 67.0, 63.8, 48.7, 60.7, 59.2, 50.1, 60.4, 65.0, 56.3, 59.5, 67.4, 71.5, 70.9, 68.0, 59.2, 61.6, 64.0, 45.8, 44.1, 41.9, 48.3, 64.2, 64.3, 69.8, 63.8, 65.5, 70.5, 62.4, 62.3, 57.0, 51.9, 60.6, 71.4, 58.1, 48.6, 57.6, 64.0, 65.2, 68.5, 70.0, 55.1, 60.5, 65.3, 50.3, 52.2, 55.4, 65.4, 68.7, 70.8, 70.5, 65.7, 63.3, 62.5, 68.8, 71.5, 71.7, 72.5, 73.6, 71.0, 66.5, 65.0, 64.1, 69.0, 67.1, 66.3, 70.3, 69.0, 69.5, 72.0, 72.3, 72.1, 71.8, 70.9, 72.3, 74.7, 58.3, 56.4, 59.0, 59.1, 64.9, 70.7, 66.0, 65.8, 67.0, 70.8, 72.9, 73.1, 71.8, 71.5, 72.3, 72.7, 75.2, 75.5, 75.1, 75.5, 75.5, 75.5, 74.6, 72.8, 72.9, 73.5, 75.5, 76.0], \"xaxis\": \"x\", \"yaxis\": \"y\"}, {\"alignmentgroup\": \"True\", \"hoverlabel\": {\"namelength\": 0}, \"hovertemplate\": \"Dew_avg=%{x}\", \"legendgroup\": \"\", \"marker\": {\"color\": \"#636efa\"}, \"name\": \"\", \"notched\": true, \"offsetgroup\": \"\", \"showlegend\": false, \"type\": \"box\", \"x\": [71.4, 70.3, 70.0, 70.0, 70.0, 70.8, 70.2, 69.0, 69.9, 73.3, 75.0, 74.7, 75.1, 74.6, 74.4, 74.6, 75.1, 73.7, 71.5, 73.6, 73.9, 73.3, 71.0, 73.4, 74.7, 73.8, 74.1, 73.8, 73.6, 72.7, 74.0, 73.1, 74.1, 74.8, 75.3, 74.4, 75.2, 74.0, 74.6, 74.0, 72.6, 74.0, 74.6, 73.8, 73.1, 72.3, 73.0, 75.0, 75.4, 74.0, 71.9, 72.6, 73.8, 73.9, 74.0, 74.6, 74.6, 75.2, 74.0, 73.8, 75.0, 73.3, 73.9, 73.8, 74.4, 74.2, 72.8, 73.0, 73.1, 74.4, 74.7, 75.7, 74.8, 75.4, 73.1, 74.8, 74.4, 73.8, 74.9, 74.8, 74.8, 74.5, 74.7, 76.0, 75.4, 74.6, 73.0, 72.9, 73.1, 73.1, 72.4, 73.6, 73.3, 73.6, 70.6, 74.2, 75.6, 73.8, 73.8, 75.1, 74.7, 73.3, 71.0, 73.2, 73.8, 72.5, 73.1, 75.5, 75.2, 75.4, 75.0, 74.7, 70.8, 72.4, 74.5, 74.9, 73.4, 72.0, 68.6, 63.1, 59.7, 54.4, 59.4, 60.6, 62.5, 68.9, 73.5, 73.2, 68.4, 62.8, 48.9, 52.6, 67.9, 70.6, 69.4, 68.6, 69.7, 71.3, 70.8, 71.0, 72.3, 67.6, 47.7, 46.3, 55.2, 61.3, 62.9, 60.6, 60.3, 61.5, 64.8, 64.0, 63.8, 69.4, 69.9, 69.6, 68.1, 57.7, 62.8, 64.8, 63.0, 61.1, 49.7, 50.5, 55.8, 47.8, 54.8, 54.8, 54.3, 62.2, 58.8, 31.6, 33.7, 50.9, 61.9, 56.5, 51.5, 57.0, 53.2, 55.3, 64.1, 64.8, 36.8, 35.0, 45.8, 50.2, 50.0, 49.9, 50.1, 49.7, 40.2, 25.7, 32.5, 61.2, 64.3, 63.7, 54.7, 37.7, 57.5, 67.4, 22.0, 16.5, 24.2, 45.9, 57.7, 65.3, 67.1, 68.2, 69.3, 68.3, 67.7, 44.8, 28.3, 59.2, 63.8, 62.2, 46.3, 38.7, 45.8, 28.7, 15.2, 23.7, 49.8, 61.1, 63.4, 64.7, 66.2, 64.3, 63.8, 65.2, 60.9, 61.3, 56.9, 61.2, 61.0, 42.9, 37.3, 57.6, 49.0, 30.0, 25.8, 27.6, 31.0, 34.3, 48.5, 60.2, 56.9, 43.2, 43.8, 64.9, 65.5, 61.4, 58.6, 37.5, 57.0, 67.0, 65.4, 62.4, 56.2, 37.2, 36.0, 54.4, 61.6, 67.6, 61.0, 54.2, 49.0, 56.0, 55.4, 33.4, 53.4, 67.3, 68.0, 54.4, 26.2, 33.1, 50.7, 62.2, 67.5, 63.3, 52.5, 66.3, 66.5, 65.0, 49.5, 48.8, 38.4, 48.0, 58.3, 61.5, 63.0, 63.8, 61.8, 58.8, 61.6, 60.0, 64.0, 57.7, 64.1, 67.2, 68.0, 67.6, 52.9, 54.0, 62.7, 68.2, 52.9, 60.2, 49.5, 40.5, 47.5, 53.6, 60.3, 67.3, 64.1, 64.0, 63.2, 62.4, 64.1, 66.9, 66.2, 65.8, 67.4, 67.5, 67.5, 62.3, 45.8, 50.0, 64.2, 66.3, 52.7, 71.6, 73.8, 48.0, 49.0, 59.1, 69.7, 44.4, 44.4, 49.0, 56.6, 60.3, 66.1, 67.0, 69.8, 64.2, 59.9, 63.0, 63.8, 64.8, 68.7, 71.1, 72.4, 72.8, 71.2, 68.2, 62.7, 51.2, 58.9, 71.5, 73.8, 73.3, 68.5, 69.5, 70.2, 70.7, 72.8, 73.5, 70.7, 70.8, 70.7, 67.5, 61.6, 64.6, 67.9, 71.4, 74.1, 75.0, 73.6, 73.2, 72.2, 73.2, 73.4, 73.0, 72.4, 71.1, 74.1, 75.1, 74.3, 72.8, 71.1, 72.6, 72.4, 74.7, 76.1, 74.0, 74.6, 74.3, 74.3, 74.3, 73.6, 73.0, 72.0, 72.1, 72.5, 73.9, 74.3, 74.5, 73.8, 73.8, 72.3, 74.7, 75.0, 74.3, 74.2, 74.5, 74.1, 74.5, 72.9, 74.3, 73.2, 73.3, 74.5, 74.5, 73.5, 65.5, 70.7, 73.9, 73.1, 74.4, 74.8, 76.4, 75.9, 73.5, 74.6, 76.0, 75.8, 75.5, 75.0, 74.1, 74.1, 76.0, 73.8, 75.2, 74.7, 73.9, 74.8, 73.0, 73.4, 73.2, 73.7, 75.1, 73.8, 70.0, 69.7, 67.8, 66.8, 69.5, 70.2, 70.9, 71.5, 72.0, 62.3, 56.4, 57.5, 59.4, 60.2, 59.0, 58.3, 64.9, 68.2, 70.4, 70.8, 71.9, 75.0, 74.2, 75.3, 74.1, 72.3, 72.1, 72.0, 72.2, 71.8, 72.3, 73.0, 69.3, 61.3, 64.9, 72.3, 76.1, 70.2, 67.2, 65.4, 71.1, 71.4, 73.0, 65.7, 55.5, 66.1, 72.0, 72.8, 68.7, 48.1, 47.2, 56.4, 62.8, 70.3, 72.9, 64.4, 49.3, 39.8, 38.1, 51.5, 49.7, 29.0, 30.4, 50.5, 64.7, 69.6, 73.0, 73.4, 71.4, 72.1, 71.0, 69.2, 53.7, 51.3, 48.4, 54.9, 58.4, 60.3, 59.5, 63.2, 68.1, 67.9, 61.2, 35.5, 42.9, 58.1, 49.0, 36.9, 41.5, 55.8, 51.0, 45.4, 58.1, 61.2, 45.3, 49.8, 54.5, 62.4, 69.6, 57.2, 40.7, 38.1, 29.1, 34.3, 34.6, 35.5, 32.3, 33.6, 42.9, 35.5, 41.5, 50.6, 60.8, 69.5, 56.6, 62.3, 64.0, 37.2, 40.3, 35.9, 42.9, 40.0, 36.5, 37.6, 50.0, 42.0, 16.2, 13.9, 15.8, 23.4, 32.4, 40.5, 56.2, 50.5, 47.1, 54.7, 55.4, 21.4, 23.2, 28.0, 42.8, 26.2, 13.2, 17.8, 42.2, 60.3, 65.4, 41.6, 28.2, 27.5, 34.1, 53.3, 61.9, 56.3, 33.1, 31.2, 46.3, 56.0, 33.6, 44.4, 59.4, 51.9, 65.1, 43.5, 41.5, 57.3, 63.2, 36.2, 36.5, 45.6, 63.9, 65.9, 65.1, 60.5, 62.5, 66.3, 68.8, 61.6, 58.8, 64.9, 68.9, 58.1, 55.5, 64.2, 68.1, 59.6, 54.1, 53.5, 65.2, 64.1, 31.6, 28.3, 35.5, 51.0, 67.0, 61.6, 38.1, 39.1, 40.0, 53.1, 66.4, 68.1, 68.3, 53.5, 40.1, 39.9, 50.3, 58.8, 65.6, 66.5, 67.5, 68.9, 67.2, 62.1, 51.8, 57.1, 62.3, 67.5, 67.5, 43.4, 56.1, 69.1, 58.9, 45.6, 55.2, 49.6, 50.0, 62.5, 70.3, 50.4, 34.6, 43.1, 57.9, 64.3, 43.3, 46.4, 64.1, 58.8, 52.0, 57.8, 60.8, 49.3, 51.9, 54.4, 57.5, 62.8, 68.6, 70.9, 70.6, 70.2, 64.2, 59.3, 60.5, 59.7, 60.4, 63.3, 68.2, 71.8, 71.9, 68.9, 66.4, 65.1, 66.8, 70.6, 71.5, 72.4, 70.7, 71.5, 71.8, 71.1, 72.7, 72.4, 72.2, 72.5, 73.0, 73.1, 74.2, 74.9, 75.1, 73.7, 72.9, 73.7, 74.8, 73.7, 72.2, 72.5, 73.8, 74.2, 74.0, 73.4, 72.8, 73.9, 73.1, 77.4, 76.0, 75.8, 76.5, 77.1, 77.2, 76.3, 75.8, 76.3, 75.7, 74.9, 75.7, 75.3, 75.5, 75.1, 74.7, 73.8, 74.0, 73.5, 74.6, 74.7, 75.1, 75.3, 74.5, 75.3, 75.3, 74.7, 75.7, 75.8, 75.1, 75.2, 75.8, 75.8, 75.1, 76.0, 74.6, 73.6, 73.4, 69.6, 69.1, 69.5, 73.8, 74.3, 75.3, 75.8, 69.0, 68.2, 70.5, 75.3, 74.9, 76.8, 76.0, 74.8, 76.2, 75.3, 77.0, 76.1, 75.4, 75.1, 76.5, 76.9, 76.5, 76.5, 75.8, 76.5, 76.8, 75.0, 75.4, 74.6, 76.1, 76.5, 76.8, 77.0, 76.0, 74.6, 75.1, 76.8, 77.0, 76.4, 77.0, 75.9, 75.7, 76.3, 75.4, 75.0, 75.0, 74.6, 75.5, 75.4, 75.4, 75.4, 75.9, 75.0, 75.6, 75.6, 76.6, 78.3, 77.6, 71.7, 71.8, 75.7, 76.0, 70.2, 72.4, 74.2, 74.0, 73.8, 75.1, 77.0, 75.2, 76.2, 75.3, 76.3, 75.2, 75.5, 69.9, 60.5, 65.0, 72.3, 74.2, 63.7, 57.5, 58.1, 58.8, 69.0, 66.1, 53.5, 51.4, 55.0, 63.3, 61.0, 57.0, 58.1, 63.3, 62.9, 67.1, 69.3, 53.5, 47.7, 55.9, 61.8, 69.5, 75.5, 74.7, 65.8, 53.1, 41.1, 49.2, 49.4, 31.3, 26.0, 32.8, 42.2, 52.7, 55.8, 47.9, 43.1, 45.6, 48.3, 58.2, 54.4, 55.5, 32.1, 34.7, 52.3, 67.3, 70.2, 55.5, 45.8, 40.9, 37.5, 35.3, 53.5, 62.4, 46.9, 41.4, 36.5, 40.7, 56.0, 58.7, 43.1, 39.6, 44.7, 50.1, 53.0, 54.2, 44.4, 32.7, 52.7, 50.9, 50.4, 61.9, 64.9, 56.3, 41.9, 41.7, 45.4, 48.2, 45.5, 50.7, 47.6, 41.5, 44.5, 54.6, 61.1, 61.3, 39.9, 35.5, 48.5, 53.6, 37.8, 37.2, 40.8, 53.3, 59.2, 61.0, 45.0, 28.8, 43.8, 59.4, 37.7, 31.0, 36.3, 47.9, 46.6, 48.9, 25.1, 28.4, 50.0, 58.5, 58.8, 64.2, 67.9, 68.9, 69.3, 57.3, 27.7, 32.1, 54.3, 67.3, 45.2, 40.1, 55.8, 63.9, 59.8, 55.9, 36.3, 44.8, 44.7, 49.9, 60.9, 59.0, 34.1, 43.9, 58.3, 64.7, 51.2, 50.9, 60.5, 52.4, 29.1, 20.7, 31.3, 59.4, 69.3, 69.1, 69.1, 68.2, 66.3, 69.5, 53.2, 33.8, 34.2, 37.6, 39.7, 43.3, 45.7, 44.5, 48.7, 58.7, 64.3, 64.8, 50.8, 47.0, 55.4, 62.6, 60.7, 38.7, 38.6, 40.6, 54.7, 69.0, 69.9, 71.0, 68.0, 63.1, 58.6, 60.9, 65.9, 57.0, 65.6, 42.4, 52.5, 62.7, 70.2, 62.9, 45.6, 47.0, 57.8, 63.9, 68.4, 69.1, 62.4, 61.5, 61.8, 64.3, 70.8, 72.0, 71.9, 69.9, 71.3, 67.2, 65.3, 66.5, 71.3, 73.5, 74.9, 68.2, 70.4, 63.1, 61.4, 63.8, 65.5, 65.2, 71.5, 75.1, 77.1, 75.4, 74.7, 75.5, 75.6, 74.2, 73.8, 72.6, 69.7, 74.6, 71.0, 74.6, 75.3, 73.3, 74.0, 72.9, 74.0, 75.1, 72.7, 72.5, 71.8, 74.2, 73.3, 65.0, 65.1, 66.2, 70.5, 75.0, 74.3, 71.3, 75.9, 77.0, 78.1, 79.3, 79.8, 79.1, 72.8, 72.9, 76.5, 75.8, 73.2, 73.0, 71.8, 74.5, 75.7, 76.4, 76.5, 77.0, 76.3, 77.0, 77.8, 75.5, 74.1, 73.9, 71.5, 72.7, 71.8, 75.5, 75.4, 75.4, 73.6, 73.7, 74.6, 74.6, 74.4, 70.4, 60.5, 60.0, 65.0, 72.0, 72.4, 72.5, 73.2, 73.1, 72.9, 72.2, 73.3, 73.1, 73.5, 73.8, 73.5, 74.5, 74.0, 74.0, 74.9, 74.3, 73.6, 74.8, 73.2, 74.7, 74.7, 75.1, 75.1, 74.3, 72.5, 73.4, 74.9, 73.8, 75.7, 76.1, 75.3, 74.1, 73.0, 73.9, 72.5, 69.5, 67.3, 69.4, 70.1, 68.4, 69.8, 70.8, 70.8, 71.5, 73.6, 73.7, 72.8, 70.9, 68.8, 69.7, 71.5, 73.8, 74.9, 74.5, 74.6, 73.0, 74.8, 75.7, 71.3, 70.6, 69.8, 74.1, 73.8, 73.8, 75.0, 73.1, 72.9, 72.0, 70.5, 70.4, 71.8, 69.4, 61.0, 68.1, 70.2, 60.0, 44.6, 55.0, 70.7, 73.4, 66.7, 50.9, 56.3, 67.3, 73.1, 63.9, 44.1, 52.1, 62.6, 52.0, 47.0, 55.3, 61.7, 66.2, 56.7, 32.0, 36.5, 41.2, 42.0, 59.1, 65.0, 57.9, 60.3, 46.3, 38.9, 49.9, 53.3, 24.7, 26.3, 39.9, 38.9, 37.8, 44.1, 47.0, 52.0, 61.2, 66.3, 62.6, 43.1, 42.3, 60.1, 68.4, 36.9, 55.0, 69.4, 68.7, 31.2, 33.0, 40.8, 42.3, 53.4, 56.4, 46.8, 54.0, 65.6, 47.8, 36.6, 41.9, 50.6, 49.2, 66.6, 56.0, 30.3, 26.1, 31.3, 39.3, 39.9, 39.8, 39.8, 46.7, 52.0, 53.9, 59.4, 65.0, 51.8, 31.0, 31.3, 46.3, 59.4, 50.4, 37.2, 41.5, 50.0, 30.8, 43.5, 62.4, 66.8, 46.1, 38.7, 54.5, 68.4, 67.9, 66.0, 61.6, 63.2, 26.8, 28.1, 32.8, 47.7, 52.2, 38.8, 45.3, 56.4, 51.5, 53.5, 40.8, 45.4, 44.8, 37.0, 38.8, 58.7, 63.6, 43.0, 28.3, 35.8, 45.4, 62.3, 65.4, 51.3, 50.6, 39.8, 35.1, 48.1, 58.3, 64.0, 64.9, 51.5, 43.2, 32.4, 35.5, 53.8, 57.4, 46.0, 28.0, 27.3, 34.3, 44.0, 59.7, 64.2, 66.6, 63.1, 44.5, 30.7, 39.2, 51.4, 61.2, 64.5, 62.5, 63.2, 66.5, 67.2, 66.9, 64.0, 66.4, 66.6, 67.4, 66.1, 53.9, 63.1, 67.7, 67.7, 67.5, 67.2, 67.0, 63.8, 48.7, 60.7, 59.2, 50.1, 60.4, 65.0, 56.3, 59.5, 67.4, 71.5, 70.9, 68.0, 59.2, 61.6, 64.0, 45.8, 44.1, 41.9, 48.3, 64.2, 64.3, 69.8, 63.8, 65.5, 70.5, 62.4, 62.3, 57.0, 51.9, 60.6, 71.4, 58.1, 48.6, 57.6, 64.0, 65.2, 68.5, 70.0, 55.1, 60.5, 65.3, 50.3, 52.2, 55.4, 65.4, 68.7, 70.8, 70.5, 65.7, 63.3, 62.5, 68.8, 71.5, 71.7, 72.5, 73.6, 71.0, 66.5, 65.0, 64.1, 69.0, 67.1, 66.3, 70.3, 69.0, 69.5, 72.0, 72.3, 72.1, 71.8, 70.9, 72.3, 74.7, 58.3, 56.4, 59.0, 59.1, 64.9, 70.7, 66.0, 65.8, 67.0, 70.8, 72.9, 73.1, 71.8, 71.5, 72.3, 72.7, 75.2, 75.5, 75.1, 75.5, 75.5, 75.5, 74.6, 72.8, 72.9, 73.5, 75.5, 76.0], \"xaxis\": \"x2\", \"yaxis\": \"y2\"}],\n",
              "                        {\"bargap\": 0.1, \"barmode\": \"relative\", \"legend\": {\"tracegroupgap\": 0}, \"template\": {\"data\": {\"bar\": [{\"error_x\": {\"color\": \"#2a3f5f\"}, \"error_y\": {\"color\": \"#2a3f5f\"}, \"marker\": {\"line\": {\"color\": \"#E5ECF6\", \"width\": 0.5}}, \"type\": \"bar\"}], \"barpolar\": [{\"marker\": {\"line\": {\"color\": \"#E5ECF6\", \"width\": 0.5}}, \"type\": \"barpolar\"}], \"carpet\": [{\"aaxis\": {\"endlinecolor\": \"#2a3f5f\", \"gridcolor\": \"white\", \"linecolor\": \"white\", \"minorgridcolor\": \"white\", \"startlinecolor\": \"#2a3f5f\"}, \"baxis\": {\"endlinecolor\": \"#2a3f5f\", \"gridcolor\": \"white\", \"linecolor\": \"white\", \"minorgridcolor\": \"white\", \"startlinecolor\": \"#2a3f5f\"}, \"type\": \"carpet\"}], \"choropleth\": [{\"colorbar\": {\"outlinewidth\": 0, \"ticks\": \"\"}, \"type\": \"choropleth\"}], \"contour\": [{\"colorbar\": {\"outlinewidth\": 0, \"ticks\": \"\"}, \"colorscale\": [[0.0, \"#0d0887\"], [0.1111111111111111, \"#46039f\"], [0.2222222222222222, \"#7201a8\"], [0.3333333333333333, \"#9c179e\"], [0.4444444444444444, \"#bd3786\"], [0.5555555555555556, \"#d8576b\"], [0.6666666666666666, \"#ed7953\"], [0.7777777777777778, \"#fb9f3a\"], [0.8888888888888888, \"#fdca26\"], [1.0, \"#f0f921\"]], \"type\": \"contour\"}], \"contourcarpet\": [{\"colorbar\": {\"outlinewidth\": 0, \"ticks\": \"\"}, \"type\": \"contourcarpet\"}], \"heatmap\": [{\"colorbar\": {\"outlinewidth\": 0, \"ticks\": \"\"}, \"colorscale\": [[0.0, \"#0d0887\"], [0.1111111111111111, \"#46039f\"], [0.2222222222222222, \"#7201a8\"], [0.3333333333333333, \"#9c179e\"], [0.4444444444444444, \"#bd3786\"], [0.5555555555555556, \"#d8576b\"], [0.6666666666666666, \"#ed7953\"], [0.7777777777777778, \"#fb9f3a\"], [0.8888888888888888, \"#fdca26\"], [1.0, \"#f0f921\"]], \"type\": \"heatmap\"}], \"heatmapgl\": [{\"colorbar\": {\"outlinewidth\": 0, \"ticks\": \"\"}, \"colorscale\": [[0.0, \"#0d0887\"], [0.1111111111111111, \"#46039f\"], [0.2222222222222222, \"#7201a8\"], [0.3333333333333333, \"#9c179e\"], [0.4444444444444444, \"#bd3786\"], [0.5555555555555556, \"#d8576b\"], [0.6666666666666666, \"#ed7953\"], [0.7777777777777778, \"#fb9f3a\"], [0.8888888888888888, \"#fdca26\"], [1.0, \"#f0f921\"]], \"type\": \"heatmapgl\"}], \"histogram\": [{\"marker\": {\"colorbar\": {\"outlinewidth\": 0, \"ticks\": \"\"}}, \"type\": \"histogram\"}], \"histogram2d\": [{\"colorbar\": {\"outlinewidth\": 0, \"ticks\": \"\"}, \"colorscale\": [[0.0, \"#0d0887\"], [0.1111111111111111, \"#46039f\"], [0.2222222222222222, \"#7201a8\"], [0.3333333333333333, \"#9c179e\"], [0.4444444444444444, \"#bd3786\"], [0.5555555555555556, \"#d8576b\"], [0.6666666666666666, \"#ed7953\"], [0.7777777777777778, \"#fb9f3a\"], [0.8888888888888888, \"#fdca26\"], [1.0, \"#f0f921\"]], \"type\": \"histogram2d\"}], \"histogram2dcontour\": [{\"colorbar\": {\"outlinewidth\": 0, \"ticks\": \"\"}, \"colorscale\": [[0.0, \"#0d0887\"], [0.1111111111111111, \"#46039f\"], [0.2222222222222222, \"#7201a8\"], [0.3333333333333333, \"#9c179e\"], [0.4444444444444444, \"#bd3786\"], [0.5555555555555556, \"#d8576b\"], [0.6666666666666666, \"#ed7953\"], [0.7777777777777778, \"#fb9f3a\"], [0.8888888888888888, \"#fdca26\"], [1.0, \"#f0f921\"]], \"type\": \"histogram2dcontour\"}], \"mesh3d\": [{\"colorbar\": {\"outlinewidth\": 0, \"ticks\": \"\"}, \"type\": \"mesh3d\"}], \"parcoords\": [{\"line\": {\"colorbar\": {\"outlinewidth\": 0, \"ticks\": \"\"}}, \"type\": \"parcoords\"}], \"pie\": [{\"automargin\": true, \"type\": \"pie\"}], \"scatter\": [{\"marker\": {\"colorbar\": {\"outlinewidth\": 0, \"ticks\": \"\"}}, \"type\": \"scatter\"}], \"scatter3d\": [{\"line\": {\"colorbar\": {\"outlinewidth\": 0, \"ticks\": \"\"}}, \"marker\": {\"colorbar\": {\"outlinewidth\": 0, \"ticks\": \"\"}}, \"type\": \"scatter3d\"}], \"scattercarpet\": [{\"marker\": {\"colorbar\": {\"outlinewidth\": 0, \"ticks\": \"\"}}, \"type\": \"scattercarpet\"}], \"scattergeo\": [{\"marker\": {\"colorbar\": {\"outlinewidth\": 0, \"ticks\": \"\"}}, \"type\": \"scattergeo\"}], \"scattergl\": [{\"marker\": {\"colorbar\": {\"outlinewidth\": 0, \"ticks\": \"\"}}, \"type\": \"scattergl\"}], \"scattermapbox\": [{\"marker\": {\"colorbar\": {\"outlinewidth\": 0, \"ticks\": \"\"}}, \"type\": \"scattermapbox\"}], \"scatterpolar\": [{\"marker\": {\"colorbar\": {\"outlinewidth\": 0, \"ticks\": \"\"}}, \"type\": \"scatterpolar\"}], \"scatterpolargl\": [{\"marker\": {\"colorbar\": {\"outlinewidth\": 0, \"ticks\": \"\"}}, \"type\": \"scatterpolargl\"}], \"scatterternary\": [{\"marker\": {\"colorbar\": {\"outlinewidth\": 0, \"ticks\": \"\"}}, \"type\": \"scatterternary\"}], \"surface\": [{\"colorbar\": {\"outlinewidth\": 0, \"ticks\": \"\"}, \"colorscale\": [[0.0, \"#0d0887\"], [0.1111111111111111, \"#46039f\"], [0.2222222222222222, \"#7201a8\"], [0.3333333333333333, \"#9c179e\"], [0.4444444444444444, \"#bd3786\"], [0.5555555555555556, \"#d8576b\"], [0.6666666666666666, \"#ed7953\"], [0.7777777777777778, \"#fb9f3a\"], [0.8888888888888888, \"#fdca26\"], [1.0, \"#f0f921\"]], \"type\": \"surface\"}], \"table\": [{\"cells\": {\"fill\": {\"color\": \"#EBF0F8\"}, \"line\": {\"color\": \"white\"}}, \"header\": {\"fill\": {\"color\": \"#C8D4E3\"}, \"line\": {\"color\": \"white\"}}, \"type\": \"table\"}]}, \"layout\": {\"annotationdefaults\": {\"arrowcolor\": \"#2a3f5f\", \"arrowhead\": 0, \"arrowwidth\": 1}, \"coloraxis\": {\"colorbar\": {\"outlinewidth\": 0, \"ticks\": \"\"}}, \"colorscale\": {\"diverging\": [[0, \"#8e0152\"], [0.1, \"#c51b7d\"], [0.2, \"#de77ae\"], [0.3, \"#f1b6da\"], [0.4, \"#fde0ef\"], [0.5, \"#f7f7f7\"], [0.6, \"#e6f5d0\"], [0.7, \"#b8e186\"], [0.8, \"#7fbc41\"], [0.9, \"#4d9221\"], [1, \"#276419\"]], \"sequential\": [[0.0, \"#0d0887\"], [0.1111111111111111, \"#46039f\"], [0.2222222222222222, \"#7201a8\"], [0.3333333333333333, \"#9c179e\"], [0.4444444444444444, \"#bd3786\"], [0.5555555555555556, \"#d8576b\"], [0.6666666666666666, \"#ed7953\"], [0.7777777777777778, \"#fb9f3a\"], [0.8888888888888888, \"#fdca26\"], [1.0, \"#f0f921\"]], \"sequentialminus\": [[0.0, \"#0d0887\"], [0.1111111111111111, \"#46039f\"], [0.2222222222222222, \"#7201a8\"], [0.3333333333333333, \"#9c179e\"], [0.4444444444444444, \"#bd3786\"], [0.5555555555555556, \"#d8576b\"], [0.6666666666666666, \"#ed7953\"], [0.7777777777777778, \"#fb9f3a\"], [0.8888888888888888, \"#fdca26\"], [1.0, \"#f0f921\"]]}, \"colorway\": [\"#636efa\", \"#EF553B\", \"#00cc96\", \"#ab63fa\", \"#FFA15A\", \"#19d3f3\", \"#FF6692\", \"#B6E880\", \"#FF97FF\", \"#FECB52\"], \"font\": {\"color\": \"#2a3f5f\"}, \"geo\": {\"bgcolor\": \"white\", \"lakecolor\": \"white\", \"landcolor\": \"#E5ECF6\", \"showlakes\": true, \"showland\": true, \"subunitcolor\": \"white\"}, \"hoverlabel\": {\"align\": \"left\"}, \"hovermode\": \"closest\", \"mapbox\": {\"style\": \"light\"}, \"paper_bgcolor\": \"white\", \"plot_bgcolor\": \"#E5ECF6\", \"polar\": {\"angularaxis\": {\"gridcolor\": \"white\", \"linecolor\": \"white\", \"ticks\": \"\"}, \"bgcolor\": \"#E5ECF6\", \"radialaxis\": {\"gridcolor\": \"white\", \"linecolor\": \"white\", \"ticks\": \"\"}}, \"scene\": {\"xaxis\": {\"backgroundcolor\": \"#E5ECF6\", \"gridcolor\": \"white\", \"gridwidth\": 2, \"linecolor\": \"white\", \"showbackground\": true, \"ticks\": \"\", \"zerolinecolor\": \"white\"}, \"yaxis\": {\"backgroundcolor\": \"#E5ECF6\", \"gridcolor\": \"white\", \"gridwidth\": 2, \"linecolor\": \"white\", \"showbackground\": true, \"ticks\": \"\", \"zerolinecolor\": \"white\"}, \"zaxis\": {\"backgroundcolor\": \"#E5ECF6\", \"gridcolor\": \"white\", \"gridwidth\": 2, \"linecolor\": \"white\", \"showbackground\": true, \"ticks\": \"\", \"zerolinecolor\": \"white\"}}, \"shapedefaults\": {\"line\": {\"color\": \"#2a3f5f\"}}, \"ternary\": {\"aaxis\": {\"gridcolor\": \"white\", \"linecolor\": \"white\", \"ticks\": \"\"}, \"baxis\": {\"gridcolor\": \"white\", \"linecolor\": \"white\", \"ticks\": \"\"}, \"bgcolor\": \"#E5ECF6\", \"caxis\": {\"gridcolor\": \"white\", \"linecolor\": \"white\", \"ticks\": \"\"}}, \"title\": {\"x\": 0.05}, \"xaxis\": {\"automargin\": true, \"gridcolor\": \"white\", \"linecolor\": \"white\", \"ticks\": \"\", \"title\": {\"standoff\": 15}, \"zerolinecolor\": \"white\", \"zerolinewidth\": 2}, \"yaxis\": {\"automargin\": true, \"gridcolor\": \"white\", \"linecolor\": \"white\", \"ticks\": \"\", \"title\": {\"standoff\": 15}, \"zerolinecolor\": \"white\", \"zerolinewidth\": 2}}}, \"title\": {\"text\": \"Distribution of Avg Dew\"}, \"xaxis\": {\"anchor\": \"y\", \"domain\": [0.0, 1.0], \"title\": {\"text\": \"Dew_avg\"}}, \"xaxis2\": {\"anchor\": \"y2\", \"domain\": [0.0, 1.0], \"matches\": \"x\", \"showgrid\": true, \"showticklabels\": false}, \"yaxis\": {\"anchor\": \"x\", \"domain\": [0.0, 0.8316], \"title\": {\"text\": \"count\"}}, \"yaxis2\": {\"anchor\": \"x2\", \"domain\": [0.8416, 1.0], \"matches\": \"y2\", \"showgrid\": false, \"showline\": false, \"showticklabels\": false, \"ticks\": \"\"}},\n",
              "                        {\"responsive\": true}\n",
              "                    ).then(function(){\n",
              "                            \n",
              "var gd = document.getElementById('b68061bf-4ad3-4c59-a3c4-bc84ca66732f');\n",
              "var x = new MutationObserver(function (mutations, observer) {{\n",
              "        var display = window.getComputedStyle(gd).display;\n",
              "        if (!display || display === 'none') {{\n",
              "            console.log([gd, 'removed!']);\n",
              "            Plotly.purge(gd);\n",
              "            observer.disconnect();\n",
              "        }}\n",
              "}});\n",
              "\n",
              "// Listen for the removal of the full notebook cells\n",
              "var notebookContainer = gd.closest('#notebook-container');\n",
              "if (notebookContainer) {{\n",
              "    x.observe(notebookContainer, {childList: true});\n",
              "}}\n",
              "\n",
              "// Listen for the clearing of the current output cell\n",
              "var outputEl = gd.closest('.output');\n",
              "if (outputEl) {{\n",
              "    x.observe(outputEl, {childList: true});\n",
              "}}\n",
              "\n",
              "                        })\n",
              "                };\n",
              "                \n",
              "            </script>\n",
              "        </div>\n",
              "</body>\n",
              "</html>"
            ]
          },
          "metadata": {
            "tags": []
          }
        }
      ],
      "metadata": {
        "colab": {
          "base_uri": "https://localhost:8080/",
          "height": 0
        },
        "id": "jGeOZp4uFoN7",
        "outputId": "41a2e239-d899-414e-f370-7fadeb671d73"
      }
    },
    {
      "cell_type": "code",
      "execution_count": 29,
      "source": [
        "fig = px.histogram(df, x='Hum_avg', \n",
        "                   marginal='box', \n",
        "                   title='Distribution of Avg Humidity')\n",
        "fig.update_layout(bargap=0.1)\n",
        "fig.show()"
      ],
      "outputs": [
        {
          "output_type": "display_data",
          "data": {
            "text/html": [
              "<html>\n",
              "<head><meta charset=\"utf-8\" /></head>\n",
              "<body>\n",
              "    <div>\n",
              "            <script src=\"https://cdnjs.cloudflare.com/ajax/libs/mathjax/2.7.5/MathJax.js?config=TeX-AMS-MML_SVG\"></script><script type=\"text/javascript\">if (window.MathJax) {MathJax.Hub.Config({SVG: {font: \"STIX-Web\"}});}</script>\n",
              "                <script type=\"text/javascript\">window.PlotlyConfig = {MathJaxConfig: 'local'};</script>\n",
              "        <script src=\"https://cdn.plot.ly/plotly-latest.min.js\"></script>    \n",
              "            <div id=\"fb0a16d9-ce9d-4154-9c17-b420e000a59c\" class=\"plotly-graph-div\" style=\"height:525px; width:100%;\"></div>\n",
              "            <script type=\"text/javascript\">\n",
              "                \n",
              "                    window.PLOTLYENV=window.PLOTLYENV || {};\n",
              "                    \n",
              "                if (document.getElementById(\"fb0a16d9-ce9d-4154-9c17-b420e000a59c\")) {\n",
              "                    Plotly.newPlot(\n",
              "                        'fb0a16d9-ce9d-4154-9c17-b420e000a59c',\n",
              "                        [{\"alignmentgroup\": \"True\", \"bingroup\": \"x\", \"hoverlabel\": {\"namelength\": 0}, \"hovertemplate\": \"Hum_avg=%{x}<br>count=%{y}\", \"legendgroup\": \"\", \"marker\": {\"color\": \"#636efa\"}, \"name\": \"\", \"offsetgroup\": \"\", \"orientation\": \"v\", \"showlegend\": false, \"type\": \"histogram\", \"x\": [89.4, 96.8, 93.6, 96.1, 88.7, 84.0, 75.2, 73.3, 75.3, 80.0, 79.8, 88.0, 80.0, 70.8, 72.3, 69.8, 71.9, 71.0, 71.1, 75.0, 76.1, 73.5, 66.9, 76.2, 76.7, 71.3, 71.8, 77.2, 78.3, 71.3, 71.6, 67.2, 66.5, 66.7, 69.3, 67.6, 68.9, 67.2, 69.3, 69.7, 63.8, 66.1, 65.7, 68.2, 65.8, 66.3, 69.3, 75.0, 79.3, 70.8, 64.8, 64.0, 65.4, 64.4, 69.2, 81.4, 84.6, 83.5, 72.7, 69.7, 71.2, 67.3, 66.3, 66.4, 68.0, 66.9, 64.1, 63.2, 64.1, 64.4, 64.2, 65.8, 67.6, 79.9, 87.2, 88.4, 92.4, 89.2, 90.2, 80.5, 79.7, 81.9, 89.5, 80.5, 79.1, 85.2, 84.4, 84.3, 85.1, 86.0, 73.5, 71.0, 67.1, 70.0, 68.8, 79.3, 82.7, 75.0, 74.6, 74.9, 81.9, 84.6, 75.4, 80.5, 82.8, 72.7, 74.8, 81.8, 76.5, 75.0, 72.2, 74.5, 71.5, 74.1, 78.9, 85.9, 89.3, 86.0, 76.8, 65.6, 65.8, 63.2, 68.7, 66.0, 71.1, 77.6, 81.3, 80.7, 72.1, 65.4, 49.3, 58.9, 83.6, 79.9, 77.2, 78.5, 77.6, 80.5, 75.4, 74.7, 81.0, 78.4, 54.4, 61.7, 69.4, 75.1, 80.3, 72.7, 74.4, 72.6, 78.6, 84.8, 84.6, 84.5, 84.7, 83.5, 79.3, 61.2, 76.5, 86.5, 87.4, 78.5, 62.6, 63.3, 67.8, 63.7, 74.5, 68.0, 68.3, 78.2, 71.0, 45.0, 55.7, 76.7, 76.3, 73.0, 75.3, 79.0, 76.1, 77.4, 77.2, 82.9, 44.5, 55.1, 71.2, 91.6, 93.2, 93.7, 83.1, 89.8, 76.4, 50.9, 58.3, 80.8, 90.0, 86.5, 82.0, 62.2, 84.6, 80.6, 52.9, 42.4, 46.8, 57.0, 75.5, 89.7, 86.7, 84.3, 82.6, 86.3, 82.2, 53.6, 41.9, 90.2, 88.1, 86.1, 61.1, 74.7, 84.1, 77.8, 57.1, 60.8, 76.3, 74.3, 75.9, 80.7, 87.2, 89.6, 87.3, 81.1, 93.3, 92.8, 91.4, 88.0, 84.2, 51.4, 47.6, 72.2, 58.1, 47.8, 44.4, 40.1, 45.4, 43.6, 62.5, 76.1, 73.2, 67.0, 68.1, 83.8, 79.0, 65.2, 62.6, 46.7, 77.5, 77.4, 73.6, 80.7, 83.5, 55.4, 54.4, 87.2, 81.5, 87.4, 92.8, 77.8, 56.0, 71.0, 67.0, 43.8, 72.7, 82.3, 75.7, 55.5, 31.5, 42.0, 75.1, 91.7, 83.6, 75.7, 65.9, 82.8, 83.9, 91.7, 80.0, 74.3, 55.8, 74.9, 79.1, 72.3, 80.8, 75.3, 70.6, 64.1, 74.5, 70.4, 74.8, 64.6, 77.3, 76.3, 82.0, 85.3, 65.1, 61.0, 77.0, 81.5, 55.1, 65.8, 54.6, 46.2, 52.9, 60.1, 65.1, 78.8, 87.2, 86.0, 77.7, 76.3, 79.8, 75.5, 81.3, 85.7, 82.0, 75.9, 78.3, 74.5, 54.5, 58.0, 69.3, 65.2, 60.7, 72.8, 78.7, 55.4, 50.6, 62.6, 77.6, 47.9, 45.3, 50.7, 61.7, 67.0, 76.5, 74.7, 77.2, 69.0, 61.6, 67.8, 70.1, 65.8, 69.0, 70.8, 73.5, 73.9, 83.3, 88.3, 73.5, 55.0, 55.5, 74.0, 70.4, 74.8, 83.4, 75.7, 79.5, 81.3, 82.9, 82.4, 86.9, 87.6, 78.3, 64.0, 58.5, 66.3, 71.5, 73.4, 75.2, 77.6, 70.1, 69.0, 66.7, 69.4, 67.5, 68.3, 67.6, 74.9, 83.0, 72.0, 87.2, 84.6, 77.1, 82.7, 78.6, 81.3, 75.3, 71.7, 72.2, 70.1, 69.0, 69.2, 69.4, 68.7, 67.5, 75.7, 85.9, 76.3, 78.5, 75.2, 71.0, 83.4, 77.5, 74.5, 75.3, 74.2, 68.0, 71.1, 79.2, 71.5, 65.4, 69.0, 66.6, 66.8, 66.9, 65.4, 66.6, 59.0, 67.1, 82.8, 81.2, 81.3, 80.3, 78.1, 88.8, 88.0, 79.8, 79.8, 72.1, 69.8, 69.0, 66.1, 66.1, 69.2, 64.0, 68.5, 67.4, 68.4, 74.9, 69.7, 70.5, 74.0, 87.5, 92.6, 95.0, 92.1, 90.4, 71.1, 63.0, 70.4, 72.3, 74.1, 74.5, 74.5, 67.7, 60.2, 61.3, 61.8, 61.7, 62.0, 62.5, 66.8, 71.3, 76.1, 79.8, 77.1, 86.2, 78.9, 76.3, 84.8, 83.2, 79.0, 81.1, 78.5, 77.8, 75.6, 79.8, 69.5, 59.6, 66.3, 81.8, 92.2, 75.5, 74.3, 72.9, 79.4, 71.9, 75.2, 74.1, 59.3, 72.0, 79.6, 85.9, 77.0, 51.0, 59.0, 72.3, 75.2, 89.3, 91.1, 89.6, 63.8, 45.5, 48.5, 60.0, 64.3, 43.7, 48.0, 68.7, 88.4, 90.1, 84.5, 83.1, 88.2, 83.6, 77.7, 78.3, 83.6, 82.6, 69.3, 70.0, 72.3, 78.8, 78.6, 84.8, 88.1, 77.7, 67.8, 50.3, 67.9, 82.0, 69.4, 60.9, 63.5, 78.3, 69.0, 64.2, 86.6, 92.7, 57.9, 72.6, 85.1, 97.8, 90.3, 83.7, 85.6, 85.2, 82.5, 74.9, 62.1, 50.2, 46.3, 64.1, 68.8, 59.0, 72.9, 93.0, 92.2, 90.5, 72.5, 84.8, 84.8, 70.5, 73.3, 69.7, 81.0, 91.5, 83.6, 65.5, 88.1, 83.8, 48.6, 49.6, 50.3, 55.0, 60.6, 75.0, 91.5, 74.9, 90.2, 91.0, 87.5, 49.2, 53.2, 65.5, 75.9, 84.7, 56.2, 58.5, 80.7, 96.0, 89.9, 54.3, 47.3, 46.4, 65.3, 85.0, 99.2, 83.8, 48.1, 53.2, 72.9, 72.5, 47.0, 81.8, 94.1, 85.7, 94.7, 93.9, 76.9, 83.6, 96.7, 83.7, 83.8, 93.5, 89.7, 79.7, 82.1, 83.2, 84.7, 79.4, 82.2, 95.6, 95.8, 89.5, 82.2, 93.3, 86.8, 87.9, 78.1, 70.0, 74.0, 70.8, 84.3, 73.4, 33.1, 34.7, 48.2, 70.7, 83.0, 72.3, 50.4, 56.3, 54.9, 72.9, 77.1, 82.2, 82.7, 59.5, 45.4, 50.0, 65.7, 70.9, 75.2, 82.8, 79.7, 83.5, 91.7, 84.2, 60.5, 72.8, 78.0, 79.5, 73.7, 51.6, 74.0, 83.3, 91.7, 83.3, 89.6, 59.9, 62.5, 75.4, 78.8, 71.0, 46.3, 52.8, 64.6, 74.3, 41.4, 62.4, 87.8, 81.7, 63.6, 65.8, 67.1, 58.9, 61.3, 60.7, 66.1, 79.8, 82.9, 78.3, 76.3, 85.3, 80.5, 60.2, 57.5, 55.7, 60.0, 66.3, 70.0, 78.5, 77.0, 71.5, 65.2, 60.0, 58.8, 70.7, 72.2, 88.2, 89.2, 82.2, 87.3, 78.8, 77.6, 78.8, 80.2, 73.1, 68.5, 72.1, 72.0, 73.2, 71.4, 73.8, 73.3, 69.2, 77.6, 73.0, 70.8, 73.7, 68.8, 70.2, 67.5, 70.0, 72.1, 73.3, 69.8, 92.2, 94.3, 95.7, 94.0, 89.5, 80.4, 77.2, 75.2, 79.6, 75.6, 71.3, 71.9, 71.9, 74.1, 71.6, 70.7, 72.1, 95.4, 77.8, 79.8, 83.2, 91.6, 88.2, 77.6, 74.8, 76.3, 73.6, 75.2, 72.2, 71.0, 73.6, 70.1, 71.9, 69.2, 70.0, 69.2, 64.2, 66.6, 62.8, 57.7, 58.1, 66.7, 66.2, 68.4, 89.1, 68.5, 64.2, 67.4, 82.9, 78.8, 84.9, 82.9, 78.8, 83.6, 82.3, 90.1, 80.8, 75.1, 75.4, 77.2, 75.8, 74.0, 73.3, 71.1, 73.0, 78.4, 69.4, 72.6, 70.8, 69.8, 78.1, 78.5, 78.6, 87.5, 78.4, 76.0, 86.1, 96.4, 99.2, 92.4, 81.3, 79.8, 82.7, 85.3, 91.8, 96.9, 97.0, 89.0, 88.9, 97.4, 85.8, 80.7, 75.0, 72.5, 76.2, 90.7, 95.2, 97.0, 87.5, 79.5, 86.4, 91.4, 88.8, 92.3, 97.5, 92.6, 93.1, 90.8, 89.5, 84.8, 88.9, 82.3, 87.0, 88.0, 90.5, 84.7, 71.1, 80.1, 79.9, 78.6, 97.3, 97.2, 94.7, 86.0, 88.4, 95.8, 69.8, 76.5, 86.8, 94.6, 90.4, 82.8, 76.0, 77.9, 77.5, 78.8, 96.0, 78.6, 68.6, 69.4, 87.5, 89.5, 90.4, 89.5, 97.3, 91.5, 76.5, 90.5, 94.8, 74.6, 60.8, 66.4, 71.1, 81.5, 95.8, 95.7, 74.6, 82.8, 80.8, 88.0, 85.6, 72.4, 55.0, 64.6, 80.6, 91.6, 92.3, 64.3, 58.4, 57.8, 64.5, 65.5, 91.2, 96.9, 95.2, 86.5, 72.2, 77.9, 79.2, 80.1, 84.6, 61.6, 75.7, 81.2, 95.2, 97.7, 69.1, 48.6, 72.3, 75.3, 79.9, 94.6, 96.3, 85.0, 65.7, 74.4, 94.3, 94.3, 84.8, 94.4, 95.7, 80.8, 77.1, 87.3, 80.1, 85.8, 57.3, 59.5, 79.7, 81.9, 68.2, 73.8, 76.2, 91.8, 91.4, 95.6, 72.5, 64.1, 79.5, 77.5, 80.6, 65.0, 68.2, 85.6, 78.1, 74.1, 49.8, 54.3, 89.5, 94.7, 95.2, 97.6, 92.4, 91.5, 84.7, 79.9, 62.5, 69.2, 85.1, 95.5, 60.9, 66.1, 78.3, 86.5, 89.3, 86.2, 53.4, 90.6, 78.8, 93.7, 98.9, 71.5, 42.1, 71.7, 99.6, 99.9, 98.4, 92.4, 92.7, 92.6, 72.7, 49.3, 57.3, 90.1, 85.5, 83.6, 89.8, 89.6, 95.7, 91.5, 59.8, 40.6, 44.0, 53.7, 57.0, 60.2, 62.5, 55.3, 59.4, 81.1, 85.9, 77.0, 60.8, 60.3, 76.3, 80.0, 81.9, 63.6, 71.2, 65.4, 81.7, 90.5, 89.8, 92.0, 95.4, 82.8, 65.6, 64.9, 80.8, 73.4, 84.3, 58.6, 67.4, 77.6, 92.2, 88.5, 53.3, 57.8, 71.4, 80.3, 91.4, 92.7, 75.4, 69.2, 66.5, 77.2, 80.7, 78.7, 78.0, 85.1, 92.9, 83.3, 75.0, 78.4, 95.3, 88.2, 90.1, 91.6, 96.8, 80.8, 72.5, 72.6, 72.4, 73.5, 83.9, 85.1, 84.1, 80.7, 76.1, 76.9, 80.3, 79.5, 78.5, 77.5, 68.5, 75.5, 74.2, 81.3, 84.2, 77.6, 73.2, 71.9, 83.0, 99.1, 75.8, 72.5, 69.2, 72.3, 72.3, 63.4, 64.7, 63.0, 70.5, 72.4, 88.9, 84.6, 79.7, 75.5, 79.0, 79.5, 80.7, 76.7, 85.2, 90.1, 89.6, 89.1, 85.7, 91.7, 82.8, 77.5, 84.3, 87.0, 83.2, 78.5, 76.6, 76.2, 80.7, 71.6, 68.1, 66.4, 59.9, 70.7, 69.0, 72.5, 71.0, 70.9, 67.8, 68.1, 70.5, 73.6, 70.5, 68.5, 55.5, 55.4, 59.9, 68.2, 70.6, 73.7, 74.4, 71.7, 68.1, 65.0, 67.8, 69.3, 67.5, 66.7, 64.2, 64.8, 64.2, 65.1, 65.3, 63.0, 61.2, 67.8, 68.1, 71.4, 67.7, 67.3, 69.4, 72.8, 67.4, 68.3, 79.0, 72.8, 81.4, 74.7, 69.7, 78.5, 73.5, 72.4, 70.2, 61.6, 57.5, 60.6, 61.1, 58.6, 61.9, 65.5, 66.1, 67.4, 77.4, 79.2, 72.2, 70.2, 63.2, 65.9, 73.8, 89.2, 91.5, 91.6, 84.4, 77.0, 82.1, 84.2, 74.6, 74.2, 74.0, 86.9, 76.0, 74.2, 76.8, 76.8, 77.0, 76.5, 71.6, 71.7, 74.1, 77.9, 67.8, 76.0, 69.6, 80.3, 58.3, 63.7, 79.4, 76.1, 86.1, 72.5, 73.3, 77.6, 75.9, 72.7, 50.6, 63.2, 78.5, 84.5, 72.8, 75.4, 80.7, 87.9, 89.1, 58.6, 67.3, 62.6, 67.6, 83.3, 80.8, 72.7, 88.8, 82.1, 65.6, 72.6, 80.7, 58.5, 61.3, 81.5, 76.0, 70.3, 71.0, 70.6, 75.0, 79.2, 77.2, 82.6, 67.7, 66.3, 76.6, 75.8, 36.1, 67.1, 89.4, 79.0, 35.8, 53.3, 67.5, 60.6, 73.5, 73.6, 65.8, 79.5, 76.6, 81.7, 64.3, 72.7, 69.0, 72.5, 78.7, 78.6, 57.6, 55.0, 61.6, 68.0, 64.5, 67.1, 64.5, 70.9, 82.0, 83.0, 90.0, 85.9, 75.6, 51.8, 55.3, 73.8, 93.0, 77.6, 56.4, 59.0, 68.8, 43.6, 72.1, 79.1, 79.4, 75.0, 83.8, 90.1, 88.2, 85.1, 86.1, 88.3, 83.6, 41.0, 46.2, 56.9, 85.7, 83.0, 66.9, 71.7, 81.5, 84.9, 85.7, 70.4, 79.3, 77.6, 59.9, 47.8, 73.3, 78.5, 82.8, 62.0, 52.8, 63.4, 83.9, 84.4, 90.7, 88.8, 71.8, 65.5, 75.2, 84.1, 84.8, 81.3, 86.2, 82.5, 58.6, 60.1, 77.6, 79.3, 62.7, 43.5, 51.3, 50.8, 59.5, 77.5, 80.4, 82.2, 86.0, 56.1, 36.6, 59.7, 72.9, 79.7, 84.6, 77.9, 69.8, 78.8, 79.1, 80.5, 83.5, 77.2, 76.8, 71.1, 89.3, 87.8, 86.2, 79.6, 73.7, 75.4, 78.7, 71.1, 74.3, 56.2, 67.3, 69.4, 65.7, 76.0, 80.0, 91.8, 82.6, 88.4, 81.2, 78.0, 79.9, 74.3, 75.4, 63.0, 57.8, 62.6, 56.5, 62.5, 80.4, 86.2, 87.8, 81.5, 78.8, 80.1, 61.3, 66.7, 63.1, 54.2, 68.2, 79.0, 69.6, 48.3, 61.7, 67.7, 63.9, 72.9, 69.4, 55.8, 65.0, 64.7, 56.1, 58.6, 59.5, 72.2, 75.9, 77.9, 85.0, 80.1, 68.0, 59.8, 63.8, 73.5, 71.1, 71.4, 71.9, 81.1, 77.4, 72.2, 76.8, 76.8, 69.0, 65.3, 79.4, 74.5, 69.2, 79.3, 75.3, 72.6, 66.9, 64.0, 63.2, 69.0, 46.5, 47.0, 50.8, 49.8, 59.3, 69.6, 60.8, 59.3, 63.5, 73.0, 80.3, 73.8, 86.5, 75.8, 83.3, 87.8, 82.5, 76.0, 74.0, 72.2, 70.2, 71.0, 66.2, 69.6, 70.5, 69.0, 71.9, 76.6], \"xaxis\": \"x\", \"yaxis\": \"y\"}, {\"alignmentgroup\": \"True\", \"hoverlabel\": {\"namelength\": 0}, \"hovertemplate\": \"Hum_avg=%{x}\", \"legendgroup\": \"\", \"marker\": {\"color\": \"#636efa\"}, \"name\": \"\", \"notched\": true, \"offsetgroup\": \"\", \"showlegend\": false, \"type\": \"box\", \"x\": [89.4, 96.8, 93.6, 96.1, 88.7, 84.0, 75.2, 73.3, 75.3, 80.0, 79.8, 88.0, 80.0, 70.8, 72.3, 69.8, 71.9, 71.0, 71.1, 75.0, 76.1, 73.5, 66.9, 76.2, 76.7, 71.3, 71.8, 77.2, 78.3, 71.3, 71.6, 67.2, 66.5, 66.7, 69.3, 67.6, 68.9, 67.2, 69.3, 69.7, 63.8, 66.1, 65.7, 68.2, 65.8, 66.3, 69.3, 75.0, 79.3, 70.8, 64.8, 64.0, 65.4, 64.4, 69.2, 81.4, 84.6, 83.5, 72.7, 69.7, 71.2, 67.3, 66.3, 66.4, 68.0, 66.9, 64.1, 63.2, 64.1, 64.4, 64.2, 65.8, 67.6, 79.9, 87.2, 88.4, 92.4, 89.2, 90.2, 80.5, 79.7, 81.9, 89.5, 80.5, 79.1, 85.2, 84.4, 84.3, 85.1, 86.0, 73.5, 71.0, 67.1, 70.0, 68.8, 79.3, 82.7, 75.0, 74.6, 74.9, 81.9, 84.6, 75.4, 80.5, 82.8, 72.7, 74.8, 81.8, 76.5, 75.0, 72.2, 74.5, 71.5, 74.1, 78.9, 85.9, 89.3, 86.0, 76.8, 65.6, 65.8, 63.2, 68.7, 66.0, 71.1, 77.6, 81.3, 80.7, 72.1, 65.4, 49.3, 58.9, 83.6, 79.9, 77.2, 78.5, 77.6, 80.5, 75.4, 74.7, 81.0, 78.4, 54.4, 61.7, 69.4, 75.1, 80.3, 72.7, 74.4, 72.6, 78.6, 84.8, 84.6, 84.5, 84.7, 83.5, 79.3, 61.2, 76.5, 86.5, 87.4, 78.5, 62.6, 63.3, 67.8, 63.7, 74.5, 68.0, 68.3, 78.2, 71.0, 45.0, 55.7, 76.7, 76.3, 73.0, 75.3, 79.0, 76.1, 77.4, 77.2, 82.9, 44.5, 55.1, 71.2, 91.6, 93.2, 93.7, 83.1, 89.8, 76.4, 50.9, 58.3, 80.8, 90.0, 86.5, 82.0, 62.2, 84.6, 80.6, 52.9, 42.4, 46.8, 57.0, 75.5, 89.7, 86.7, 84.3, 82.6, 86.3, 82.2, 53.6, 41.9, 90.2, 88.1, 86.1, 61.1, 74.7, 84.1, 77.8, 57.1, 60.8, 76.3, 74.3, 75.9, 80.7, 87.2, 89.6, 87.3, 81.1, 93.3, 92.8, 91.4, 88.0, 84.2, 51.4, 47.6, 72.2, 58.1, 47.8, 44.4, 40.1, 45.4, 43.6, 62.5, 76.1, 73.2, 67.0, 68.1, 83.8, 79.0, 65.2, 62.6, 46.7, 77.5, 77.4, 73.6, 80.7, 83.5, 55.4, 54.4, 87.2, 81.5, 87.4, 92.8, 77.8, 56.0, 71.0, 67.0, 43.8, 72.7, 82.3, 75.7, 55.5, 31.5, 42.0, 75.1, 91.7, 83.6, 75.7, 65.9, 82.8, 83.9, 91.7, 80.0, 74.3, 55.8, 74.9, 79.1, 72.3, 80.8, 75.3, 70.6, 64.1, 74.5, 70.4, 74.8, 64.6, 77.3, 76.3, 82.0, 85.3, 65.1, 61.0, 77.0, 81.5, 55.1, 65.8, 54.6, 46.2, 52.9, 60.1, 65.1, 78.8, 87.2, 86.0, 77.7, 76.3, 79.8, 75.5, 81.3, 85.7, 82.0, 75.9, 78.3, 74.5, 54.5, 58.0, 69.3, 65.2, 60.7, 72.8, 78.7, 55.4, 50.6, 62.6, 77.6, 47.9, 45.3, 50.7, 61.7, 67.0, 76.5, 74.7, 77.2, 69.0, 61.6, 67.8, 70.1, 65.8, 69.0, 70.8, 73.5, 73.9, 83.3, 88.3, 73.5, 55.0, 55.5, 74.0, 70.4, 74.8, 83.4, 75.7, 79.5, 81.3, 82.9, 82.4, 86.9, 87.6, 78.3, 64.0, 58.5, 66.3, 71.5, 73.4, 75.2, 77.6, 70.1, 69.0, 66.7, 69.4, 67.5, 68.3, 67.6, 74.9, 83.0, 72.0, 87.2, 84.6, 77.1, 82.7, 78.6, 81.3, 75.3, 71.7, 72.2, 70.1, 69.0, 69.2, 69.4, 68.7, 67.5, 75.7, 85.9, 76.3, 78.5, 75.2, 71.0, 83.4, 77.5, 74.5, 75.3, 74.2, 68.0, 71.1, 79.2, 71.5, 65.4, 69.0, 66.6, 66.8, 66.9, 65.4, 66.6, 59.0, 67.1, 82.8, 81.2, 81.3, 80.3, 78.1, 88.8, 88.0, 79.8, 79.8, 72.1, 69.8, 69.0, 66.1, 66.1, 69.2, 64.0, 68.5, 67.4, 68.4, 74.9, 69.7, 70.5, 74.0, 87.5, 92.6, 95.0, 92.1, 90.4, 71.1, 63.0, 70.4, 72.3, 74.1, 74.5, 74.5, 67.7, 60.2, 61.3, 61.8, 61.7, 62.0, 62.5, 66.8, 71.3, 76.1, 79.8, 77.1, 86.2, 78.9, 76.3, 84.8, 83.2, 79.0, 81.1, 78.5, 77.8, 75.6, 79.8, 69.5, 59.6, 66.3, 81.8, 92.2, 75.5, 74.3, 72.9, 79.4, 71.9, 75.2, 74.1, 59.3, 72.0, 79.6, 85.9, 77.0, 51.0, 59.0, 72.3, 75.2, 89.3, 91.1, 89.6, 63.8, 45.5, 48.5, 60.0, 64.3, 43.7, 48.0, 68.7, 88.4, 90.1, 84.5, 83.1, 88.2, 83.6, 77.7, 78.3, 83.6, 82.6, 69.3, 70.0, 72.3, 78.8, 78.6, 84.8, 88.1, 77.7, 67.8, 50.3, 67.9, 82.0, 69.4, 60.9, 63.5, 78.3, 69.0, 64.2, 86.6, 92.7, 57.9, 72.6, 85.1, 97.8, 90.3, 83.7, 85.6, 85.2, 82.5, 74.9, 62.1, 50.2, 46.3, 64.1, 68.8, 59.0, 72.9, 93.0, 92.2, 90.5, 72.5, 84.8, 84.8, 70.5, 73.3, 69.7, 81.0, 91.5, 83.6, 65.5, 88.1, 83.8, 48.6, 49.6, 50.3, 55.0, 60.6, 75.0, 91.5, 74.9, 90.2, 91.0, 87.5, 49.2, 53.2, 65.5, 75.9, 84.7, 56.2, 58.5, 80.7, 96.0, 89.9, 54.3, 47.3, 46.4, 65.3, 85.0, 99.2, 83.8, 48.1, 53.2, 72.9, 72.5, 47.0, 81.8, 94.1, 85.7, 94.7, 93.9, 76.9, 83.6, 96.7, 83.7, 83.8, 93.5, 89.7, 79.7, 82.1, 83.2, 84.7, 79.4, 82.2, 95.6, 95.8, 89.5, 82.2, 93.3, 86.8, 87.9, 78.1, 70.0, 74.0, 70.8, 84.3, 73.4, 33.1, 34.7, 48.2, 70.7, 83.0, 72.3, 50.4, 56.3, 54.9, 72.9, 77.1, 82.2, 82.7, 59.5, 45.4, 50.0, 65.7, 70.9, 75.2, 82.8, 79.7, 83.5, 91.7, 84.2, 60.5, 72.8, 78.0, 79.5, 73.7, 51.6, 74.0, 83.3, 91.7, 83.3, 89.6, 59.9, 62.5, 75.4, 78.8, 71.0, 46.3, 52.8, 64.6, 74.3, 41.4, 62.4, 87.8, 81.7, 63.6, 65.8, 67.1, 58.9, 61.3, 60.7, 66.1, 79.8, 82.9, 78.3, 76.3, 85.3, 80.5, 60.2, 57.5, 55.7, 60.0, 66.3, 70.0, 78.5, 77.0, 71.5, 65.2, 60.0, 58.8, 70.7, 72.2, 88.2, 89.2, 82.2, 87.3, 78.8, 77.6, 78.8, 80.2, 73.1, 68.5, 72.1, 72.0, 73.2, 71.4, 73.8, 73.3, 69.2, 77.6, 73.0, 70.8, 73.7, 68.8, 70.2, 67.5, 70.0, 72.1, 73.3, 69.8, 92.2, 94.3, 95.7, 94.0, 89.5, 80.4, 77.2, 75.2, 79.6, 75.6, 71.3, 71.9, 71.9, 74.1, 71.6, 70.7, 72.1, 95.4, 77.8, 79.8, 83.2, 91.6, 88.2, 77.6, 74.8, 76.3, 73.6, 75.2, 72.2, 71.0, 73.6, 70.1, 71.9, 69.2, 70.0, 69.2, 64.2, 66.6, 62.8, 57.7, 58.1, 66.7, 66.2, 68.4, 89.1, 68.5, 64.2, 67.4, 82.9, 78.8, 84.9, 82.9, 78.8, 83.6, 82.3, 90.1, 80.8, 75.1, 75.4, 77.2, 75.8, 74.0, 73.3, 71.1, 73.0, 78.4, 69.4, 72.6, 70.8, 69.8, 78.1, 78.5, 78.6, 87.5, 78.4, 76.0, 86.1, 96.4, 99.2, 92.4, 81.3, 79.8, 82.7, 85.3, 91.8, 96.9, 97.0, 89.0, 88.9, 97.4, 85.8, 80.7, 75.0, 72.5, 76.2, 90.7, 95.2, 97.0, 87.5, 79.5, 86.4, 91.4, 88.8, 92.3, 97.5, 92.6, 93.1, 90.8, 89.5, 84.8, 88.9, 82.3, 87.0, 88.0, 90.5, 84.7, 71.1, 80.1, 79.9, 78.6, 97.3, 97.2, 94.7, 86.0, 88.4, 95.8, 69.8, 76.5, 86.8, 94.6, 90.4, 82.8, 76.0, 77.9, 77.5, 78.8, 96.0, 78.6, 68.6, 69.4, 87.5, 89.5, 90.4, 89.5, 97.3, 91.5, 76.5, 90.5, 94.8, 74.6, 60.8, 66.4, 71.1, 81.5, 95.8, 95.7, 74.6, 82.8, 80.8, 88.0, 85.6, 72.4, 55.0, 64.6, 80.6, 91.6, 92.3, 64.3, 58.4, 57.8, 64.5, 65.5, 91.2, 96.9, 95.2, 86.5, 72.2, 77.9, 79.2, 80.1, 84.6, 61.6, 75.7, 81.2, 95.2, 97.7, 69.1, 48.6, 72.3, 75.3, 79.9, 94.6, 96.3, 85.0, 65.7, 74.4, 94.3, 94.3, 84.8, 94.4, 95.7, 80.8, 77.1, 87.3, 80.1, 85.8, 57.3, 59.5, 79.7, 81.9, 68.2, 73.8, 76.2, 91.8, 91.4, 95.6, 72.5, 64.1, 79.5, 77.5, 80.6, 65.0, 68.2, 85.6, 78.1, 74.1, 49.8, 54.3, 89.5, 94.7, 95.2, 97.6, 92.4, 91.5, 84.7, 79.9, 62.5, 69.2, 85.1, 95.5, 60.9, 66.1, 78.3, 86.5, 89.3, 86.2, 53.4, 90.6, 78.8, 93.7, 98.9, 71.5, 42.1, 71.7, 99.6, 99.9, 98.4, 92.4, 92.7, 92.6, 72.7, 49.3, 57.3, 90.1, 85.5, 83.6, 89.8, 89.6, 95.7, 91.5, 59.8, 40.6, 44.0, 53.7, 57.0, 60.2, 62.5, 55.3, 59.4, 81.1, 85.9, 77.0, 60.8, 60.3, 76.3, 80.0, 81.9, 63.6, 71.2, 65.4, 81.7, 90.5, 89.8, 92.0, 95.4, 82.8, 65.6, 64.9, 80.8, 73.4, 84.3, 58.6, 67.4, 77.6, 92.2, 88.5, 53.3, 57.8, 71.4, 80.3, 91.4, 92.7, 75.4, 69.2, 66.5, 77.2, 80.7, 78.7, 78.0, 85.1, 92.9, 83.3, 75.0, 78.4, 95.3, 88.2, 90.1, 91.6, 96.8, 80.8, 72.5, 72.6, 72.4, 73.5, 83.9, 85.1, 84.1, 80.7, 76.1, 76.9, 80.3, 79.5, 78.5, 77.5, 68.5, 75.5, 74.2, 81.3, 84.2, 77.6, 73.2, 71.9, 83.0, 99.1, 75.8, 72.5, 69.2, 72.3, 72.3, 63.4, 64.7, 63.0, 70.5, 72.4, 88.9, 84.6, 79.7, 75.5, 79.0, 79.5, 80.7, 76.7, 85.2, 90.1, 89.6, 89.1, 85.7, 91.7, 82.8, 77.5, 84.3, 87.0, 83.2, 78.5, 76.6, 76.2, 80.7, 71.6, 68.1, 66.4, 59.9, 70.7, 69.0, 72.5, 71.0, 70.9, 67.8, 68.1, 70.5, 73.6, 70.5, 68.5, 55.5, 55.4, 59.9, 68.2, 70.6, 73.7, 74.4, 71.7, 68.1, 65.0, 67.8, 69.3, 67.5, 66.7, 64.2, 64.8, 64.2, 65.1, 65.3, 63.0, 61.2, 67.8, 68.1, 71.4, 67.7, 67.3, 69.4, 72.8, 67.4, 68.3, 79.0, 72.8, 81.4, 74.7, 69.7, 78.5, 73.5, 72.4, 70.2, 61.6, 57.5, 60.6, 61.1, 58.6, 61.9, 65.5, 66.1, 67.4, 77.4, 79.2, 72.2, 70.2, 63.2, 65.9, 73.8, 89.2, 91.5, 91.6, 84.4, 77.0, 82.1, 84.2, 74.6, 74.2, 74.0, 86.9, 76.0, 74.2, 76.8, 76.8, 77.0, 76.5, 71.6, 71.7, 74.1, 77.9, 67.8, 76.0, 69.6, 80.3, 58.3, 63.7, 79.4, 76.1, 86.1, 72.5, 73.3, 77.6, 75.9, 72.7, 50.6, 63.2, 78.5, 84.5, 72.8, 75.4, 80.7, 87.9, 89.1, 58.6, 67.3, 62.6, 67.6, 83.3, 80.8, 72.7, 88.8, 82.1, 65.6, 72.6, 80.7, 58.5, 61.3, 81.5, 76.0, 70.3, 71.0, 70.6, 75.0, 79.2, 77.2, 82.6, 67.7, 66.3, 76.6, 75.8, 36.1, 67.1, 89.4, 79.0, 35.8, 53.3, 67.5, 60.6, 73.5, 73.6, 65.8, 79.5, 76.6, 81.7, 64.3, 72.7, 69.0, 72.5, 78.7, 78.6, 57.6, 55.0, 61.6, 68.0, 64.5, 67.1, 64.5, 70.9, 82.0, 83.0, 90.0, 85.9, 75.6, 51.8, 55.3, 73.8, 93.0, 77.6, 56.4, 59.0, 68.8, 43.6, 72.1, 79.1, 79.4, 75.0, 83.8, 90.1, 88.2, 85.1, 86.1, 88.3, 83.6, 41.0, 46.2, 56.9, 85.7, 83.0, 66.9, 71.7, 81.5, 84.9, 85.7, 70.4, 79.3, 77.6, 59.9, 47.8, 73.3, 78.5, 82.8, 62.0, 52.8, 63.4, 83.9, 84.4, 90.7, 88.8, 71.8, 65.5, 75.2, 84.1, 84.8, 81.3, 86.2, 82.5, 58.6, 60.1, 77.6, 79.3, 62.7, 43.5, 51.3, 50.8, 59.5, 77.5, 80.4, 82.2, 86.0, 56.1, 36.6, 59.7, 72.9, 79.7, 84.6, 77.9, 69.8, 78.8, 79.1, 80.5, 83.5, 77.2, 76.8, 71.1, 89.3, 87.8, 86.2, 79.6, 73.7, 75.4, 78.7, 71.1, 74.3, 56.2, 67.3, 69.4, 65.7, 76.0, 80.0, 91.8, 82.6, 88.4, 81.2, 78.0, 79.9, 74.3, 75.4, 63.0, 57.8, 62.6, 56.5, 62.5, 80.4, 86.2, 87.8, 81.5, 78.8, 80.1, 61.3, 66.7, 63.1, 54.2, 68.2, 79.0, 69.6, 48.3, 61.7, 67.7, 63.9, 72.9, 69.4, 55.8, 65.0, 64.7, 56.1, 58.6, 59.5, 72.2, 75.9, 77.9, 85.0, 80.1, 68.0, 59.8, 63.8, 73.5, 71.1, 71.4, 71.9, 81.1, 77.4, 72.2, 76.8, 76.8, 69.0, 65.3, 79.4, 74.5, 69.2, 79.3, 75.3, 72.6, 66.9, 64.0, 63.2, 69.0, 46.5, 47.0, 50.8, 49.8, 59.3, 69.6, 60.8, 59.3, 63.5, 73.0, 80.3, 73.8, 86.5, 75.8, 83.3, 87.8, 82.5, 76.0, 74.0, 72.2, 70.2, 71.0, 66.2, 69.6, 70.5, 69.0, 71.9, 76.6], \"xaxis\": \"x2\", \"yaxis\": \"y2\"}],\n",
              "                        {\"bargap\": 0.1, \"barmode\": \"relative\", \"legend\": {\"tracegroupgap\": 0}, \"template\": {\"data\": {\"bar\": [{\"error_x\": {\"color\": \"#2a3f5f\"}, \"error_y\": {\"color\": \"#2a3f5f\"}, \"marker\": {\"line\": {\"color\": \"#E5ECF6\", \"width\": 0.5}}, \"type\": \"bar\"}], \"barpolar\": [{\"marker\": {\"line\": {\"color\": \"#E5ECF6\", \"width\": 0.5}}, \"type\": \"barpolar\"}], \"carpet\": [{\"aaxis\": {\"endlinecolor\": \"#2a3f5f\", \"gridcolor\": \"white\", \"linecolor\": \"white\", \"minorgridcolor\": \"white\", \"startlinecolor\": \"#2a3f5f\"}, \"baxis\": {\"endlinecolor\": \"#2a3f5f\", \"gridcolor\": \"white\", \"linecolor\": \"white\", \"minorgridcolor\": \"white\", \"startlinecolor\": \"#2a3f5f\"}, \"type\": \"carpet\"}], \"choropleth\": [{\"colorbar\": {\"outlinewidth\": 0, \"ticks\": \"\"}, \"type\": \"choropleth\"}], \"contour\": [{\"colorbar\": {\"outlinewidth\": 0, \"ticks\": \"\"}, \"colorscale\": [[0.0, \"#0d0887\"], [0.1111111111111111, \"#46039f\"], [0.2222222222222222, \"#7201a8\"], [0.3333333333333333, \"#9c179e\"], [0.4444444444444444, \"#bd3786\"], [0.5555555555555556, \"#d8576b\"], [0.6666666666666666, \"#ed7953\"], [0.7777777777777778, \"#fb9f3a\"], [0.8888888888888888, \"#fdca26\"], [1.0, \"#f0f921\"]], \"type\": \"contour\"}], \"contourcarpet\": [{\"colorbar\": {\"outlinewidth\": 0, \"ticks\": \"\"}, \"type\": \"contourcarpet\"}], \"heatmap\": [{\"colorbar\": {\"outlinewidth\": 0, \"ticks\": \"\"}, \"colorscale\": [[0.0, \"#0d0887\"], [0.1111111111111111, \"#46039f\"], [0.2222222222222222, \"#7201a8\"], [0.3333333333333333, \"#9c179e\"], [0.4444444444444444, \"#bd3786\"], [0.5555555555555556, \"#d8576b\"], [0.6666666666666666, \"#ed7953\"], [0.7777777777777778, \"#fb9f3a\"], [0.8888888888888888, \"#fdca26\"], [1.0, \"#f0f921\"]], \"type\": \"heatmap\"}], \"heatmapgl\": [{\"colorbar\": {\"outlinewidth\": 0, \"ticks\": \"\"}, \"colorscale\": [[0.0, \"#0d0887\"], [0.1111111111111111, \"#46039f\"], [0.2222222222222222, \"#7201a8\"], [0.3333333333333333, \"#9c179e\"], [0.4444444444444444, \"#bd3786\"], [0.5555555555555556, \"#d8576b\"], [0.6666666666666666, \"#ed7953\"], [0.7777777777777778, \"#fb9f3a\"], [0.8888888888888888, \"#fdca26\"], [1.0, \"#f0f921\"]], \"type\": \"heatmapgl\"}], \"histogram\": [{\"marker\": {\"colorbar\": {\"outlinewidth\": 0, \"ticks\": \"\"}}, \"type\": \"histogram\"}], \"histogram2d\": [{\"colorbar\": {\"outlinewidth\": 0, \"ticks\": \"\"}, \"colorscale\": [[0.0, \"#0d0887\"], [0.1111111111111111, \"#46039f\"], [0.2222222222222222, \"#7201a8\"], [0.3333333333333333, \"#9c179e\"], [0.4444444444444444, \"#bd3786\"], [0.5555555555555556, \"#d8576b\"], [0.6666666666666666, \"#ed7953\"], [0.7777777777777778, \"#fb9f3a\"], [0.8888888888888888, \"#fdca26\"], [1.0, \"#f0f921\"]], \"type\": \"histogram2d\"}], \"histogram2dcontour\": [{\"colorbar\": {\"outlinewidth\": 0, \"ticks\": \"\"}, \"colorscale\": [[0.0, \"#0d0887\"], [0.1111111111111111, \"#46039f\"], [0.2222222222222222, \"#7201a8\"], [0.3333333333333333, \"#9c179e\"], [0.4444444444444444, \"#bd3786\"], [0.5555555555555556, \"#d8576b\"], [0.6666666666666666, \"#ed7953\"], [0.7777777777777778, \"#fb9f3a\"], [0.8888888888888888, \"#fdca26\"], [1.0, \"#f0f921\"]], \"type\": \"histogram2dcontour\"}], \"mesh3d\": [{\"colorbar\": {\"outlinewidth\": 0, \"ticks\": \"\"}, \"type\": \"mesh3d\"}], \"parcoords\": [{\"line\": {\"colorbar\": {\"outlinewidth\": 0, \"ticks\": \"\"}}, \"type\": \"parcoords\"}], \"pie\": [{\"automargin\": true, \"type\": \"pie\"}], \"scatter\": [{\"marker\": {\"colorbar\": {\"outlinewidth\": 0, \"ticks\": \"\"}}, \"type\": \"scatter\"}], \"scatter3d\": [{\"line\": {\"colorbar\": {\"outlinewidth\": 0, \"ticks\": \"\"}}, \"marker\": {\"colorbar\": {\"outlinewidth\": 0, \"ticks\": \"\"}}, \"type\": \"scatter3d\"}], \"scattercarpet\": [{\"marker\": {\"colorbar\": {\"outlinewidth\": 0, \"ticks\": \"\"}}, \"type\": \"scattercarpet\"}], \"scattergeo\": [{\"marker\": {\"colorbar\": {\"outlinewidth\": 0, \"ticks\": \"\"}}, \"type\": \"scattergeo\"}], \"scattergl\": [{\"marker\": {\"colorbar\": {\"outlinewidth\": 0, \"ticks\": \"\"}}, \"type\": \"scattergl\"}], \"scattermapbox\": [{\"marker\": {\"colorbar\": {\"outlinewidth\": 0, \"ticks\": \"\"}}, \"type\": \"scattermapbox\"}], \"scatterpolar\": [{\"marker\": {\"colorbar\": {\"outlinewidth\": 0, \"ticks\": \"\"}}, \"type\": \"scatterpolar\"}], \"scatterpolargl\": [{\"marker\": {\"colorbar\": {\"outlinewidth\": 0, \"ticks\": \"\"}}, \"type\": \"scatterpolargl\"}], \"scatterternary\": [{\"marker\": {\"colorbar\": {\"outlinewidth\": 0, \"ticks\": \"\"}}, \"type\": \"scatterternary\"}], \"surface\": [{\"colorbar\": {\"outlinewidth\": 0, \"ticks\": \"\"}, \"colorscale\": [[0.0, \"#0d0887\"], [0.1111111111111111, \"#46039f\"], [0.2222222222222222, \"#7201a8\"], [0.3333333333333333, \"#9c179e\"], [0.4444444444444444, \"#bd3786\"], [0.5555555555555556, \"#d8576b\"], [0.6666666666666666, \"#ed7953\"], [0.7777777777777778, \"#fb9f3a\"], [0.8888888888888888, \"#fdca26\"], [1.0, \"#f0f921\"]], \"type\": \"surface\"}], \"table\": [{\"cells\": {\"fill\": {\"color\": \"#EBF0F8\"}, \"line\": {\"color\": \"white\"}}, \"header\": {\"fill\": {\"color\": \"#C8D4E3\"}, \"line\": {\"color\": \"white\"}}, \"type\": \"table\"}]}, \"layout\": {\"annotationdefaults\": {\"arrowcolor\": \"#2a3f5f\", \"arrowhead\": 0, \"arrowwidth\": 1}, \"coloraxis\": {\"colorbar\": {\"outlinewidth\": 0, \"ticks\": \"\"}}, \"colorscale\": {\"diverging\": [[0, \"#8e0152\"], [0.1, \"#c51b7d\"], [0.2, \"#de77ae\"], [0.3, \"#f1b6da\"], [0.4, \"#fde0ef\"], [0.5, \"#f7f7f7\"], [0.6, \"#e6f5d0\"], [0.7, \"#b8e186\"], [0.8, \"#7fbc41\"], [0.9, \"#4d9221\"], [1, \"#276419\"]], \"sequential\": [[0.0, \"#0d0887\"], [0.1111111111111111, \"#46039f\"], [0.2222222222222222, \"#7201a8\"], [0.3333333333333333, \"#9c179e\"], [0.4444444444444444, \"#bd3786\"], [0.5555555555555556, \"#d8576b\"], [0.6666666666666666, \"#ed7953\"], [0.7777777777777778, \"#fb9f3a\"], [0.8888888888888888, \"#fdca26\"], [1.0, \"#f0f921\"]], \"sequentialminus\": [[0.0, \"#0d0887\"], [0.1111111111111111, \"#46039f\"], [0.2222222222222222, \"#7201a8\"], [0.3333333333333333, \"#9c179e\"], [0.4444444444444444, \"#bd3786\"], [0.5555555555555556, \"#d8576b\"], [0.6666666666666666, \"#ed7953\"], [0.7777777777777778, \"#fb9f3a\"], [0.8888888888888888, \"#fdca26\"], [1.0, \"#f0f921\"]]}, \"colorway\": [\"#636efa\", \"#EF553B\", \"#00cc96\", \"#ab63fa\", \"#FFA15A\", \"#19d3f3\", \"#FF6692\", \"#B6E880\", \"#FF97FF\", \"#FECB52\"], \"font\": {\"color\": \"#2a3f5f\"}, \"geo\": {\"bgcolor\": \"white\", \"lakecolor\": \"white\", \"landcolor\": \"#E5ECF6\", \"showlakes\": true, \"showland\": true, \"subunitcolor\": \"white\"}, \"hoverlabel\": {\"align\": \"left\"}, \"hovermode\": \"closest\", \"mapbox\": {\"style\": \"light\"}, \"paper_bgcolor\": \"white\", \"plot_bgcolor\": \"#E5ECF6\", \"polar\": {\"angularaxis\": {\"gridcolor\": \"white\", \"linecolor\": \"white\", \"ticks\": \"\"}, \"bgcolor\": \"#E5ECF6\", \"radialaxis\": {\"gridcolor\": \"white\", \"linecolor\": \"white\", \"ticks\": \"\"}}, \"scene\": {\"xaxis\": {\"backgroundcolor\": \"#E5ECF6\", \"gridcolor\": \"white\", \"gridwidth\": 2, \"linecolor\": \"white\", \"showbackground\": true, \"ticks\": \"\", \"zerolinecolor\": \"white\"}, \"yaxis\": {\"backgroundcolor\": \"#E5ECF6\", \"gridcolor\": \"white\", \"gridwidth\": 2, \"linecolor\": \"white\", \"showbackground\": true, \"ticks\": \"\", \"zerolinecolor\": \"white\"}, \"zaxis\": {\"backgroundcolor\": \"#E5ECF6\", \"gridcolor\": \"white\", \"gridwidth\": 2, \"linecolor\": \"white\", \"showbackground\": true, \"ticks\": \"\", \"zerolinecolor\": \"white\"}}, \"shapedefaults\": {\"line\": {\"color\": \"#2a3f5f\"}}, \"ternary\": {\"aaxis\": {\"gridcolor\": \"white\", \"linecolor\": \"white\", \"ticks\": \"\"}, \"baxis\": {\"gridcolor\": \"white\", \"linecolor\": \"white\", \"ticks\": \"\"}, \"bgcolor\": \"#E5ECF6\", \"caxis\": {\"gridcolor\": \"white\", \"linecolor\": \"white\", \"ticks\": \"\"}}, \"title\": {\"x\": 0.05}, \"xaxis\": {\"automargin\": true, \"gridcolor\": \"white\", \"linecolor\": \"white\", \"ticks\": \"\", \"title\": {\"standoff\": 15}, \"zerolinecolor\": \"white\", \"zerolinewidth\": 2}, \"yaxis\": {\"automargin\": true, \"gridcolor\": \"white\", \"linecolor\": \"white\", \"ticks\": \"\", \"title\": {\"standoff\": 15}, \"zerolinecolor\": \"white\", \"zerolinewidth\": 2}}}, \"title\": {\"text\": \"Distribution of Avg Humidity\"}, \"xaxis\": {\"anchor\": \"y\", \"domain\": [0.0, 1.0], \"title\": {\"text\": \"Hum_avg\"}}, \"xaxis2\": {\"anchor\": \"y2\", \"domain\": [0.0, 1.0], \"matches\": \"x\", \"showgrid\": true, \"showticklabels\": false}, \"yaxis\": {\"anchor\": \"x\", \"domain\": [0.0, 0.8316], \"title\": {\"text\": \"count\"}}, \"yaxis2\": {\"anchor\": \"x2\", \"domain\": [0.8416, 1.0], \"matches\": \"y2\", \"showgrid\": false, \"showline\": false, \"showticklabels\": false, \"ticks\": \"\"}},\n",
              "                        {\"responsive\": true}\n",
              "                    ).then(function(){\n",
              "                            \n",
              "var gd = document.getElementById('fb0a16d9-ce9d-4154-9c17-b420e000a59c');\n",
              "var x = new MutationObserver(function (mutations, observer) {{\n",
              "        var display = window.getComputedStyle(gd).display;\n",
              "        if (!display || display === 'none') {{\n",
              "            console.log([gd, 'removed!']);\n",
              "            Plotly.purge(gd);\n",
              "            observer.disconnect();\n",
              "        }}\n",
              "}});\n",
              "\n",
              "// Listen for the removal of the full notebook cells\n",
              "var notebookContainer = gd.closest('#notebook-container');\n",
              "if (notebookContainer) {{\n",
              "    x.observe(notebookContainer, {childList: true});\n",
              "}}\n",
              "\n",
              "// Listen for the clearing of the current output cell\n",
              "var outputEl = gd.closest('.output');\n",
              "if (outputEl) {{\n",
              "    x.observe(outputEl, {childList: true});\n",
              "}}\n",
              "\n",
              "                        })\n",
              "                };\n",
              "                \n",
              "            </script>\n",
              "        </div>\n",
              "</body>\n",
              "</html>"
            ]
          },
          "metadata": {
            "tags": []
          }
        }
      ],
      "metadata": {
        "colab": {
          "base_uri": "https://localhost:8080/",
          "height": 0
        },
        "id": "2ENIpJQhG0oQ",
        "outputId": "085a319b-bb8b-42bc-9d60-f49c641387c7"
      }
    },
    {
      "cell_type": "code",
      "execution_count": 30,
      "source": [
        "fig = px.histogram(df, x='Wind_avg', \n",
        "                   marginal='box', \n",
        "                   title='Distribution of Avg Wind')\n",
        "fig.update_layout(bargap=0.1)\n",
        "fig.show()"
      ],
      "outputs": [
        {
          "output_type": "display_data",
          "data": {
            "text/html": [
              "<html>\n",
              "<head><meta charset=\"utf-8\" /></head>\n",
              "<body>\n",
              "    <div>\n",
              "            <script src=\"https://cdnjs.cloudflare.com/ajax/libs/mathjax/2.7.5/MathJax.js?config=TeX-AMS-MML_SVG\"></script><script type=\"text/javascript\">if (window.MathJax) {MathJax.Hub.Config({SVG: {font: \"STIX-Web\"}});}</script>\n",
              "                <script type=\"text/javascript\">window.PlotlyConfig = {MathJaxConfig: 'local'};</script>\n",
              "        <script src=\"https://cdn.plot.ly/plotly-latest.min.js\"></script>    \n",
              "            <div id=\"51cf6e34-ef3e-49a1-bd1a-ac0201574687\" class=\"plotly-graph-div\" style=\"height:525px; width:100%;\"></div>\n",
              "            <script type=\"text/javascript\">\n",
              "                \n",
              "                    window.PLOTLYENV=window.PLOTLYENV || {};\n",
              "                    \n",
              "                if (document.getElementById(\"51cf6e34-ef3e-49a1-bd1a-ac0201574687\")) {\n",
              "                    Plotly.newPlot(\n",
              "                        '51cf6e34-ef3e-49a1-bd1a-ac0201574687',\n",
              "                        [{\"alignmentgroup\": \"True\", \"bingroup\": \"x\", \"hoverlabel\": {\"namelength\": 0}, \"hovertemplate\": \"Wind_avg=%{x}<br>count=%{y}\", \"legendgroup\": \"\", \"marker\": {\"color\": \"#636efa\"}, \"name\": \"\", \"offsetgroup\": \"\", \"orientation\": \"v\", \"showlegend\": false, \"type\": \"histogram\", \"x\": [9.5, 7.8, 4.7, 7.0, 7.7, 4.7, 5.0, 4.8, 6.7, 5.7, 5.4, 6.7, 5.0, 6.3, 6.1, 6.5, 5.1, 6.6, 5.8, 5.0, 4.1, 7.2, 6.0, 6.0, 4.9, 3.5, 2.0, 5.2, 5.2, 6.0, 5.7, 5.5, 9.5, 9.5, 9.3, 9.9, 9.6, 7.9, 7.1, 7.4, 11.1, 9.6, 8.9, 7.4, 6.9, 5.6, 6.0, 3.5, 5.3, 3.9, 3.9, 3.4, 5.5, 5.5, 6.7, 5.1, 4.4, 4.7, 4.4, 4.2, 5.6, 6.0, 4.6, 4.5, 4.8, 4.1, 5.8, 5.2, 5.0, 6.3, 5.7, 8.0, 8.4, 8.0, 4.7, 6.1, 6.6, 8.3, 5.1, 6.0, 5.7, 5.9, 6.3, 7.6, 6.2, 5.1, 6.8, 7.9, 8.3, 8.5, 7.0, 5.9, 6.3, 7.4, 8.0, 5.6, 5.8, 7.0, 4.3, 6.5, 3.7, 4.9, 4.4, 5.5, 8.2, 7.8, 7.0, 7.0, 3.1, 4.1, 4.4, 5.2, 4.6, 6.7, 7.5, 6.8, 7.0, 7.2, 7.5, 2.8, 6.7, 3.9, 3.3, 4.4, 5.8, 8.0, 7.4, 8.1, 7.3, 9.3, 7.9, 3.5, 7.6, 8.0, 4.3, 5.6, 7.0, 5.8, 6.7, 6.5, 6.5, 7.7, 9.5, 4.6, 6.0, 5.0, 5.2, 4.1, 4.0, 4.6, 6.3, 4.5, 6.0, 7.4, 7.4, 5.5, 4.7, 6.4, 8.4, 9.0, 7.4, 9.5, 5.9, 4.4, 5.8, 5.8, 3.4, 4.7, 4.6, 7.5, 10.4, 11.8, 4.8, 6.5, 9.4, 8.3, 3.7, 4.3, 5.5, 11.5, 9.0, 4.9, 8.9, 5.6, 11.4, 12.3, 10.3, 7.7, 5.3, 6.1, 18.6, 9.6, 8.2, 8.4, 2.2, 5.2, 6.9, 9.8, 7.6, 11.5, 20.0, 11.0, 3.8, 5.8, 4.7, 8.4, 10.2, 14.7, 10.2, 2.9, 5.4, 13.4, 6.8, 2.4, 2.7, 8.3, 8.6, 8.1, 7.0, 15.8, 10.6, 5.8, 11.0, 10.4, 12.6, 11.1, 11.2, 8.6, 13.5, 11.3, 9.0, 6.1, 4.6, 6.5, 5.6, 14.9, 7.0, 11.1, 10.7, 8.4, 6.0, 9.1, 8.2, 6.1, 6.2, 7.9, 8.1, 12.2, 9.9, 9.8, 10.8, 8.2, 10.7, 8.6, 9.7, 9.9, 5.9, 10.2, 14.1, 11.6, 2.7, 8.7, 7.0, 14.0, 8.3, 5.9, 4.4, 9.0, 9.6, 8.6, 12.2, 8.6, 12.1, 11.2, 9.8, 9.5, 9.0, 12.5, 13.6, 9.0, 9.4, 9.3, 5.7, 7.7, 12.6, 7.1, 5.4, 8.2, 11.7, 11.8, 4.5, 6.3, 7.3, 7.1, 5.9, 11.1, 15.7, 6.2, 9.3, 8.1, 12.2, 8.0, 6.2, 8.8, 12.9, 12.9, 7.3, 9.1, 12.7, 3.1, 4.5, 9.3, 12.8, 12.1, 9.6, 6.3, 7.7, 8.4, 5.9, 8.6, 7.0, 8.3, 9.0, 8.1, 7.3, 10.8, 11.8, 4.1, 12.5, 12.8, 9.4, 15.8, 18.6, 10.2, 7.1, 10.4, 12.5, 15.5, 8.2, 3.9, 7.3, 10.1, 9.7, 11.0, 10.0, 8.9, 8.3, 5.4, 8.5, 14.8, 14.0, 15.5, 16.0, 8.3, 8.1, 9.8, 8.8, 9.1, 10.5, 11.0, 11.1, 11.7, 7.1, 7.9, 6.6, 9.3, 7.1, 6.2, 6.5, 5.1, 8.4, 7.7, 6.1, 4.8, 8.4, 8.8, 10.8, 13.5, 10.1, 7.2, 8.3, 9.1, 9.4, 4.2, 9.5, 15.7, 9.8, 9.3, 6.5, 8.2, 8.3, 7.8, 10.3, 8.1, 10.8, 7.4, 8.4, 8.1, 6.3, 7.7, 6.3, 4.7, 4.5, 7.7, 7.4, 4.6, 6.8, 5.0, 4.4, 6.7, 4.6, 4.5, 3.9, 3.8, 4.8, 5.6, 6.6, 6.8, 7.2, 7.9, 7.2, 5.5, 6.0, 7.3, 6.8, 6.7, 7.3, 8.4, 5.8, 6.0, 6.1, 6.3, 6.0, 5.0, 5.0, 5.8, 4.8, 5.7, 7.0, 8.3, 7.8, 9.0, 7.3, 5.8, 4.8, 5.3, 6.0, 3.8, 5.4, 7.6, 14.7, 18.4, 15.3, 23.9, 21.9, 14.8, 7.0, 4.3, 3.0, 3.5, 4.4, 2.9, 10.1, 6.4, 6.5, 7.0, 8.0, 7.3, 4.7, 4.8, 7.1, 6.3, 4.1, 4.1, 4.9, 5.7, 7.1, 7.3, 4.3, 6.0, 6.8, 7.7, 5.1, 4.0, 4.8, 8.7, 6.3, 4.1, 9.3, 9.2, 9.2, 5.6, 4.2, 4.3, 2.9, 4.5, 9.0, 7.4, 3.5, 3.9, 4.4, 8.1, 11.6, 5.0, 3.8, 6.3, 10.9, 7.0, 9.9, 1.9, 10.3, 4.5, 7.0, 11.2, 11.1, 3.4, 4.8, 7.2, 6.2, 6.9, 6.0, 4.2, 7.8, 7.2, 6.4, 11.1, 10.0, 6.8, 8.5, 4.8, 5.2, 6.8, 5.2, 7.1, 8.3, 13.3, 9.3, 6.4, 7.3, 11.4, 2.7, 4.0, 3.9, 4.2, 4.7, 6.1, 2.5, 5.0, 2.2, 2.4, 6.5, 8.8, 12.2, 11.5, 11.2, 6.5, 3.0, 2.9, 5.3, 8.1, 2.7, 3.5, 7.8, 9.4, 3.2, 6.4, 10.3, 5.2, 6.8, 12.7, 8.1, 8.0, 8.9, 10.6, 12.5, 8.2, 6.9, 7.8, 13.6, 14.8, 9.9, 6.0, 3.1, 5.3, 7.0, 8.3, 10.3, 6.7, 8.1, 11.1, 14.5, 6.5, 6.2, 7.6, 17.7, 8.7, 4.7, 9.2, 7.2, 12.2, 9.6, 5.6, 3.9, 5.9, 9.0, 5.7, 8.0, 10.0, 6.5, 7.5, 5.9, 14.3, 7.6, 6.7, 8.1, 8.6, 13.5, 6.0, 5.8, 4.9, 14.3, 10.3, 6.2, 6.8, 8.9, 6.1, 5.9, 11.1, 14.9, 14.6, 9.2, 5.2, 8.9, 9.5, 8.9, 8.3, 11.8, 11.0, 12.2, 7.2, 9.8, 13.3, 8.4, 9.4, 8.9, 7.4, 8.5, 7.2, 12.5, 9.5, 3.4, 4.4, 9.0, 8.6, 7.6, 4.4, 9.1, 10.8, 4.3, 9.6, 10.8, 10.0, 8.6, 15.6, 13.7, 10.2, 7.5, 9.2, 7.0, 7.2, 9.1, 11.2, 14.8, 11.3, 10.0, 10.5, 7.6, 8.1, 8.8, 6.0, 12.4, 14.2, 12.5, 9.9, 6.1, 11.5, 6.8, 10.8, 10.0, 11.3, 9.8, 6.3, 3.0, 6.2, 8.4, 5.0, 3.5, 7.8, 11.0, 13.9, 14.5, 14.4, 8.6, 6.1, 3.3, 4.5, 5.6, 7.4, 8.5, 10.9, 11.0, 8.2, 6.7, 4.4, 5.1, 5.0, 8.7, 12.4, 10.8, 5.6, 3.8, 5.1, 6.3, 3.5, 8.9, 4.8, 3.2, 5.5, 7.8, 10.2, 7.6, 6.6, 7.4, 5.1, 6.2, 5.2, 7.3, 5.5, 6.0, 9.5, 10.1, 9.7, 7.3, 5.9, 8.8, 11.4, 10.1, 11.7, 12.3, 10.2, 4.4, 6.7, 9.0, 10.5, 10.1, 6.7, 6.1, 8.1, 8.7, 7.9, 7.8, 4.9, 7.1, 5.8, 6.7, 6.6, 5.6, 4.6, 3.5, 3.5, 4.8, 5.3, 4.6, 5.4, 5.0, 4.9, 6.3, 6.5, 7.3, 7.6, 6.5, 8.2, 7.2, 7.2, 4.6, 5.8, 4.8, 5.5, 5.7, 6.3, 7.0, 4.8, 3.3, 5.8, 6.9, 7.6, 6.1, 4.9, 5.9, 4.5, 6.6, 5.7, 5.7, 7.2, 9.1, 7.1, 6.4, 6.8, 6.3, 7.0, 7.3, 7.4, 6.3, 5.8, 5.7, 7.7, 5.9, 7.7, 7.5, 6.8, 7.0, 5.9, 7.2, 6.8, 8.0, 9.2, 6.2, 4.3, 5.3, 4.0, 3.6, 5.5, 7.6, 9.0, 10.4, 8.5, 8.0, 2.4, 3.8, 4.1, 4.7, 7.2, 7.3, 5.3, 5.6, 4.5, 5.5, 4.1, 6.9, 7.1, 8.0, 7.1, 7.5, 5.1, 3.7, 3.6, 6.7, 6.5, 9.5, 9.7, 10.7, 6.7, 7.2, 8.2, 10.1, 8.5, 11.6, 11.3, 10.8, 10.1, 7.3, 9.2, 9.5, 6.4, 8.9, 9.7, 7.8, 5.3, 4.1, 6.0, 4.3, 8.8, 10.2, 9.7, 4.5, 8.9, 7.3, 6.7, 4.5, 4.7, 7.9, 13.8, 8.6, 9.1, 13.3, 14.8, 7.7, 2.2, 3.3, 6.0, 8.5, 9.2, 8.0, 4.4, 4.3, 4.4, 2.9, 11.2, 10.2, 3.0, 5.4, 8.0, 9.6, 6.6, 5.6, 10.1, 7.8, 4.7, 7.1, 9.4, 12.1, 9.6, 4.3, 5.1, 8.6, 10.0, 12.7, 8.3, 1.6, 2.7, 4.5, 5.3, 12.4, 7.8, 8.4, 7.7, 7.6, 6.5, 20.6, 8.3, 9.2, 11.7, 6.9, 5.1, 5.0, 10.5, 8.2, 5.6, 3.5, 5.6, 6.3, 3.4, 9.3, 3.9, 8.9, 8.4, 8.0, 6.1, 4.6, 8.3, 5.4, 6.6, 17.5, 6.8, 9.3, 13.7, 14.5, 3.7, 5.8, 5.3, 5.1, 9.1, 13.5, 7.2, 8.9, 7.0, 7.3, 7.7, 5.3, 8.0, 11.9, 14.1, 15.9, 10.0, 9.8, 7.9, 11.0, 5.8, 7.9, 6.3, 5.6, 10.5, 14.5, 10.9, 8.5, 10.0, 6.5, 10.2, 9.3, 9.8, 8.3, 4.8, 9.2, 4.8, 7.0, 12.0, 14.0, 9.4, 8.9, 8.2, 9.8, 9.3, 7.0, 8.6, 12.9, 12.8, 11.1, 13.6, 6.8, 5.3, 5.9, 6.2, 2.8, 3.2, 5.1, 9.4, 7.3, 7.2, 6.7, 8.9, 9.0, 10.7, 12.0, 14.6, 4.6, 4.1, 10.3, 7.7, 7.2, 11.3, 9.5, 9.3, 3.7, 11.4, 8.5, 10.3, 12.2, 11.4, 7.8, 13.0, 13.9, 11.3, 13.2, 2.8, 11.4, 11.8, 8.7, 10.5, 8.4, 4.8, 9.1, 9.1, 12.8, 16.7, 15.5, 10.9, 9.1, 6.8, 6.8, 7.4, 10.0, 11.4, 10.8, 8.6, 6.4, 8.5, 5.8, 7.5, 6.7, 7.2, 11.3, 13.0, 9.2, 16.2, 16.0, 17.2, 17.5, 14.1, 11.9, 9.8, 9.4, 12.8, 8.0, 6.8, 4.8, 3.4, 4.7, 5.3, 7.6, 12.9, 5.7, 7.7, 5.2, 5.5, 9.4, 7.4, 3.5, 5.8, 9.5, 10.3, 13.3, 6.2, 4.3, 8.1, 8.7, 12.0, 12.1, 13.8, 9.9, 7.8, 7.7, 4.0, 4.3, 6.5, 3.4, 6.7, 8.3, 6.9, 8.8, 6.5, 5.0, 4.8, 5.7, 5.4, 3.2, 6.3, 10.6, 12.6, 6.5, 9.1, 9.2, 7.2, 7.7, 7.9, 8.4, 6.3, 4.0, 10.2, 10.0, 6.1, 6.9, 7.0, 7.6, 7.9, 8.0, 5.9, 4.3, 3.6, 3.7, 6.2, 4.7, 5.4, 6.5, 7.4, 7.5, 5.9, 6.6, 7.3, 6.4, 6.7, 4.8, 6.2, 8.1, 8.3, 7.1, 4.5, 4.4, 7.8, 6.9, 5.8, 6.4, 6.6, 6.4, 4.8, 3.7, 6.4, 6.1, 6.1, 6.8, 7.2, 7.4, 3.9, 5.1, 5.2, 5.5, 7.7, 6.1, 5.4, 6.7, 4.5, 7.2, 6.0, 9.5, 12.6, 6.7, 9.9, 8.9, 10.2, 7.5, 5.5, 5.9, 5.7, 4.7, 6.2, 8.8, 10.0, 10.0, 8.0, 5.9, 6.2, 4.4, 3.8, 5.0, 10.7, 7.7, 7.3, 10.0, 12.6, 11.0, 5.4, 7.9, 6.3, 8.4, 6.6, 4.5, 4.0, 8.1, 9.3, 5.7, 9.2, 11.3, 13.8, 7.6, 6.0, 8.4, 8.6, 11.3, 13.8, 4.3, 5.5, 4.5, 7.5, 6.3, 6.3, 8.5, 10.9, 2.4, 4.9, 12.1, 16.4, 4.2, 9.0, 5.1, 2.3, 1.6, 2.3, 3.6, 10.7, 11.0, 7.4, 8.1, 2.6, 7.8, 9.6, 14.1, 12.0, 13.6, 10.1, 10.1, 6.5, 2.8, 2.9, 5.4, 7.6, 5.6, 6.2, 6.8, 14.8, 10.3, 3.3, 4.5, 5.4, 10.2, 13.2, 14.7, 2.6, 4.5, 7.6, 5.6, 7.2, 3.8, 2.6, 3.8, 3.5, 5.9, 10.1, 9.9, 5.7, 2.7, 7.3, 3.6, 6.2, 5.3, 5.7, 4.8, 6.0, 9.7, 13.6, 18.1, 11.9, 6.3, 6.8, 4.7, 7.2, 9.0, 12.7, 6.0, 13.5, 7.9, 6.4, 13.4, 7.1, 2.9, 8.8, 5.1, 6.9, 9.1, 12.0, 7.6, 5.8, 5.2, 7.2, 11.9, 8.6, 13.4, 11.5, 6.1, 8.2, 11.9, 11.3, 10.1, 7.7, 10.3, 6.1, 8.6, 4.0, 7.8, 8.4, 10.3, 15.6, 10.1, 5.1, 9.8, 5.3, 7.8, 15.0, 3.3, 4.9, 7.8, 11.1, 6.8, 6.6, 11.3, 11.9, 7.8, 8.2, 13.5, 9.0, 4.2, 6.1, 9.0, 9.7, 9.8, 7.5, 6.4, 9.8, 10.7, 12.6, 8.4, 10.8, 7.8, 7.4, 8.0, 7.2, 7.6, 10.9, 7.8, 7.0, 8.6, 10.9, 9.2, 10.5, 8.5, 9.9, 7.8, 5.7, 5.0, 5.1, 8.3, 9.7, 12.2, 11.8, 12.9, 12.0, 7.3, 10.0, 5.8, 7.3, 6.7, 5.7, 8.1, 10.9, 9.2, 8.7, 7.9, 4.9, 12.2, 10.3, 10.5, 4.5, 7.3, 9.6, 8.9, 7.8, 6.9, 9.1, 11.0, 14.6, 11.9, 6.6, 7.9, 13.4, 10.8, 8.0, 8.1, 8.8, 8.4, 4.1, 7.4, 6.4, 11.2, 10.3, 12.9, 12.8, 8.6, 5.9, 9.6, 5.5, 7.7, 7.1, 6.4, 6.3, 6.7, 5.8, 4.2, 4.3, 7.0, 9.8, 7.3, 8.4, 8.0, 5.5, 7.5, 7.7, 7.0, 8.1, 5.6, 5.8, 7.6, 9.6, 6.0, 7.8, 6.9, 6.3, 5.9, 4.9, 6.2, 9.3, 10.3, 11.8, 10.4, 9.8, 6.0, 6.3, 3.6, 6.2, 6.0, 6.1], \"xaxis\": \"x\", \"yaxis\": \"y\"}, {\"alignmentgroup\": \"True\", \"hoverlabel\": {\"namelength\": 0}, \"hovertemplate\": \"Wind_avg=%{x}\", \"legendgroup\": \"\", \"marker\": {\"color\": \"#636efa\"}, \"name\": \"\", \"notched\": true, \"offsetgroup\": \"\", \"showlegend\": false, \"type\": \"box\", \"x\": [9.5, 7.8, 4.7, 7.0, 7.7, 4.7, 5.0, 4.8, 6.7, 5.7, 5.4, 6.7, 5.0, 6.3, 6.1, 6.5, 5.1, 6.6, 5.8, 5.0, 4.1, 7.2, 6.0, 6.0, 4.9, 3.5, 2.0, 5.2, 5.2, 6.0, 5.7, 5.5, 9.5, 9.5, 9.3, 9.9, 9.6, 7.9, 7.1, 7.4, 11.1, 9.6, 8.9, 7.4, 6.9, 5.6, 6.0, 3.5, 5.3, 3.9, 3.9, 3.4, 5.5, 5.5, 6.7, 5.1, 4.4, 4.7, 4.4, 4.2, 5.6, 6.0, 4.6, 4.5, 4.8, 4.1, 5.8, 5.2, 5.0, 6.3, 5.7, 8.0, 8.4, 8.0, 4.7, 6.1, 6.6, 8.3, 5.1, 6.0, 5.7, 5.9, 6.3, 7.6, 6.2, 5.1, 6.8, 7.9, 8.3, 8.5, 7.0, 5.9, 6.3, 7.4, 8.0, 5.6, 5.8, 7.0, 4.3, 6.5, 3.7, 4.9, 4.4, 5.5, 8.2, 7.8, 7.0, 7.0, 3.1, 4.1, 4.4, 5.2, 4.6, 6.7, 7.5, 6.8, 7.0, 7.2, 7.5, 2.8, 6.7, 3.9, 3.3, 4.4, 5.8, 8.0, 7.4, 8.1, 7.3, 9.3, 7.9, 3.5, 7.6, 8.0, 4.3, 5.6, 7.0, 5.8, 6.7, 6.5, 6.5, 7.7, 9.5, 4.6, 6.0, 5.0, 5.2, 4.1, 4.0, 4.6, 6.3, 4.5, 6.0, 7.4, 7.4, 5.5, 4.7, 6.4, 8.4, 9.0, 7.4, 9.5, 5.9, 4.4, 5.8, 5.8, 3.4, 4.7, 4.6, 7.5, 10.4, 11.8, 4.8, 6.5, 9.4, 8.3, 3.7, 4.3, 5.5, 11.5, 9.0, 4.9, 8.9, 5.6, 11.4, 12.3, 10.3, 7.7, 5.3, 6.1, 18.6, 9.6, 8.2, 8.4, 2.2, 5.2, 6.9, 9.8, 7.6, 11.5, 20.0, 11.0, 3.8, 5.8, 4.7, 8.4, 10.2, 14.7, 10.2, 2.9, 5.4, 13.4, 6.8, 2.4, 2.7, 8.3, 8.6, 8.1, 7.0, 15.8, 10.6, 5.8, 11.0, 10.4, 12.6, 11.1, 11.2, 8.6, 13.5, 11.3, 9.0, 6.1, 4.6, 6.5, 5.6, 14.9, 7.0, 11.1, 10.7, 8.4, 6.0, 9.1, 8.2, 6.1, 6.2, 7.9, 8.1, 12.2, 9.9, 9.8, 10.8, 8.2, 10.7, 8.6, 9.7, 9.9, 5.9, 10.2, 14.1, 11.6, 2.7, 8.7, 7.0, 14.0, 8.3, 5.9, 4.4, 9.0, 9.6, 8.6, 12.2, 8.6, 12.1, 11.2, 9.8, 9.5, 9.0, 12.5, 13.6, 9.0, 9.4, 9.3, 5.7, 7.7, 12.6, 7.1, 5.4, 8.2, 11.7, 11.8, 4.5, 6.3, 7.3, 7.1, 5.9, 11.1, 15.7, 6.2, 9.3, 8.1, 12.2, 8.0, 6.2, 8.8, 12.9, 12.9, 7.3, 9.1, 12.7, 3.1, 4.5, 9.3, 12.8, 12.1, 9.6, 6.3, 7.7, 8.4, 5.9, 8.6, 7.0, 8.3, 9.0, 8.1, 7.3, 10.8, 11.8, 4.1, 12.5, 12.8, 9.4, 15.8, 18.6, 10.2, 7.1, 10.4, 12.5, 15.5, 8.2, 3.9, 7.3, 10.1, 9.7, 11.0, 10.0, 8.9, 8.3, 5.4, 8.5, 14.8, 14.0, 15.5, 16.0, 8.3, 8.1, 9.8, 8.8, 9.1, 10.5, 11.0, 11.1, 11.7, 7.1, 7.9, 6.6, 9.3, 7.1, 6.2, 6.5, 5.1, 8.4, 7.7, 6.1, 4.8, 8.4, 8.8, 10.8, 13.5, 10.1, 7.2, 8.3, 9.1, 9.4, 4.2, 9.5, 15.7, 9.8, 9.3, 6.5, 8.2, 8.3, 7.8, 10.3, 8.1, 10.8, 7.4, 8.4, 8.1, 6.3, 7.7, 6.3, 4.7, 4.5, 7.7, 7.4, 4.6, 6.8, 5.0, 4.4, 6.7, 4.6, 4.5, 3.9, 3.8, 4.8, 5.6, 6.6, 6.8, 7.2, 7.9, 7.2, 5.5, 6.0, 7.3, 6.8, 6.7, 7.3, 8.4, 5.8, 6.0, 6.1, 6.3, 6.0, 5.0, 5.0, 5.8, 4.8, 5.7, 7.0, 8.3, 7.8, 9.0, 7.3, 5.8, 4.8, 5.3, 6.0, 3.8, 5.4, 7.6, 14.7, 18.4, 15.3, 23.9, 21.9, 14.8, 7.0, 4.3, 3.0, 3.5, 4.4, 2.9, 10.1, 6.4, 6.5, 7.0, 8.0, 7.3, 4.7, 4.8, 7.1, 6.3, 4.1, 4.1, 4.9, 5.7, 7.1, 7.3, 4.3, 6.0, 6.8, 7.7, 5.1, 4.0, 4.8, 8.7, 6.3, 4.1, 9.3, 9.2, 9.2, 5.6, 4.2, 4.3, 2.9, 4.5, 9.0, 7.4, 3.5, 3.9, 4.4, 8.1, 11.6, 5.0, 3.8, 6.3, 10.9, 7.0, 9.9, 1.9, 10.3, 4.5, 7.0, 11.2, 11.1, 3.4, 4.8, 7.2, 6.2, 6.9, 6.0, 4.2, 7.8, 7.2, 6.4, 11.1, 10.0, 6.8, 8.5, 4.8, 5.2, 6.8, 5.2, 7.1, 8.3, 13.3, 9.3, 6.4, 7.3, 11.4, 2.7, 4.0, 3.9, 4.2, 4.7, 6.1, 2.5, 5.0, 2.2, 2.4, 6.5, 8.8, 12.2, 11.5, 11.2, 6.5, 3.0, 2.9, 5.3, 8.1, 2.7, 3.5, 7.8, 9.4, 3.2, 6.4, 10.3, 5.2, 6.8, 12.7, 8.1, 8.0, 8.9, 10.6, 12.5, 8.2, 6.9, 7.8, 13.6, 14.8, 9.9, 6.0, 3.1, 5.3, 7.0, 8.3, 10.3, 6.7, 8.1, 11.1, 14.5, 6.5, 6.2, 7.6, 17.7, 8.7, 4.7, 9.2, 7.2, 12.2, 9.6, 5.6, 3.9, 5.9, 9.0, 5.7, 8.0, 10.0, 6.5, 7.5, 5.9, 14.3, 7.6, 6.7, 8.1, 8.6, 13.5, 6.0, 5.8, 4.9, 14.3, 10.3, 6.2, 6.8, 8.9, 6.1, 5.9, 11.1, 14.9, 14.6, 9.2, 5.2, 8.9, 9.5, 8.9, 8.3, 11.8, 11.0, 12.2, 7.2, 9.8, 13.3, 8.4, 9.4, 8.9, 7.4, 8.5, 7.2, 12.5, 9.5, 3.4, 4.4, 9.0, 8.6, 7.6, 4.4, 9.1, 10.8, 4.3, 9.6, 10.8, 10.0, 8.6, 15.6, 13.7, 10.2, 7.5, 9.2, 7.0, 7.2, 9.1, 11.2, 14.8, 11.3, 10.0, 10.5, 7.6, 8.1, 8.8, 6.0, 12.4, 14.2, 12.5, 9.9, 6.1, 11.5, 6.8, 10.8, 10.0, 11.3, 9.8, 6.3, 3.0, 6.2, 8.4, 5.0, 3.5, 7.8, 11.0, 13.9, 14.5, 14.4, 8.6, 6.1, 3.3, 4.5, 5.6, 7.4, 8.5, 10.9, 11.0, 8.2, 6.7, 4.4, 5.1, 5.0, 8.7, 12.4, 10.8, 5.6, 3.8, 5.1, 6.3, 3.5, 8.9, 4.8, 3.2, 5.5, 7.8, 10.2, 7.6, 6.6, 7.4, 5.1, 6.2, 5.2, 7.3, 5.5, 6.0, 9.5, 10.1, 9.7, 7.3, 5.9, 8.8, 11.4, 10.1, 11.7, 12.3, 10.2, 4.4, 6.7, 9.0, 10.5, 10.1, 6.7, 6.1, 8.1, 8.7, 7.9, 7.8, 4.9, 7.1, 5.8, 6.7, 6.6, 5.6, 4.6, 3.5, 3.5, 4.8, 5.3, 4.6, 5.4, 5.0, 4.9, 6.3, 6.5, 7.3, 7.6, 6.5, 8.2, 7.2, 7.2, 4.6, 5.8, 4.8, 5.5, 5.7, 6.3, 7.0, 4.8, 3.3, 5.8, 6.9, 7.6, 6.1, 4.9, 5.9, 4.5, 6.6, 5.7, 5.7, 7.2, 9.1, 7.1, 6.4, 6.8, 6.3, 7.0, 7.3, 7.4, 6.3, 5.8, 5.7, 7.7, 5.9, 7.7, 7.5, 6.8, 7.0, 5.9, 7.2, 6.8, 8.0, 9.2, 6.2, 4.3, 5.3, 4.0, 3.6, 5.5, 7.6, 9.0, 10.4, 8.5, 8.0, 2.4, 3.8, 4.1, 4.7, 7.2, 7.3, 5.3, 5.6, 4.5, 5.5, 4.1, 6.9, 7.1, 8.0, 7.1, 7.5, 5.1, 3.7, 3.6, 6.7, 6.5, 9.5, 9.7, 10.7, 6.7, 7.2, 8.2, 10.1, 8.5, 11.6, 11.3, 10.8, 10.1, 7.3, 9.2, 9.5, 6.4, 8.9, 9.7, 7.8, 5.3, 4.1, 6.0, 4.3, 8.8, 10.2, 9.7, 4.5, 8.9, 7.3, 6.7, 4.5, 4.7, 7.9, 13.8, 8.6, 9.1, 13.3, 14.8, 7.7, 2.2, 3.3, 6.0, 8.5, 9.2, 8.0, 4.4, 4.3, 4.4, 2.9, 11.2, 10.2, 3.0, 5.4, 8.0, 9.6, 6.6, 5.6, 10.1, 7.8, 4.7, 7.1, 9.4, 12.1, 9.6, 4.3, 5.1, 8.6, 10.0, 12.7, 8.3, 1.6, 2.7, 4.5, 5.3, 12.4, 7.8, 8.4, 7.7, 7.6, 6.5, 20.6, 8.3, 9.2, 11.7, 6.9, 5.1, 5.0, 10.5, 8.2, 5.6, 3.5, 5.6, 6.3, 3.4, 9.3, 3.9, 8.9, 8.4, 8.0, 6.1, 4.6, 8.3, 5.4, 6.6, 17.5, 6.8, 9.3, 13.7, 14.5, 3.7, 5.8, 5.3, 5.1, 9.1, 13.5, 7.2, 8.9, 7.0, 7.3, 7.7, 5.3, 8.0, 11.9, 14.1, 15.9, 10.0, 9.8, 7.9, 11.0, 5.8, 7.9, 6.3, 5.6, 10.5, 14.5, 10.9, 8.5, 10.0, 6.5, 10.2, 9.3, 9.8, 8.3, 4.8, 9.2, 4.8, 7.0, 12.0, 14.0, 9.4, 8.9, 8.2, 9.8, 9.3, 7.0, 8.6, 12.9, 12.8, 11.1, 13.6, 6.8, 5.3, 5.9, 6.2, 2.8, 3.2, 5.1, 9.4, 7.3, 7.2, 6.7, 8.9, 9.0, 10.7, 12.0, 14.6, 4.6, 4.1, 10.3, 7.7, 7.2, 11.3, 9.5, 9.3, 3.7, 11.4, 8.5, 10.3, 12.2, 11.4, 7.8, 13.0, 13.9, 11.3, 13.2, 2.8, 11.4, 11.8, 8.7, 10.5, 8.4, 4.8, 9.1, 9.1, 12.8, 16.7, 15.5, 10.9, 9.1, 6.8, 6.8, 7.4, 10.0, 11.4, 10.8, 8.6, 6.4, 8.5, 5.8, 7.5, 6.7, 7.2, 11.3, 13.0, 9.2, 16.2, 16.0, 17.2, 17.5, 14.1, 11.9, 9.8, 9.4, 12.8, 8.0, 6.8, 4.8, 3.4, 4.7, 5.3, 7.6, 12.9, 5.7, 7.7, 5.2, 5.5, 9.4, 7.4, 3.5, 5.8, 9.5, 10.3, 13.3, 6.2, 4.3, 8.1, 8.7, 12.0, 12.1, 13.8, 9.9, 7.8, 7.7, 4.0, 4.3, 6.5, 3.4, 6.7, 8.3, 6.9, 8.8, 6.5, 5.0, 4.8, 5.7, 5.4, 3.2, 6.3, 10.6, 12.6, 6.5, 9.1, 9.2, 7.2, 7.7, 7.9, 8.4, 6.3, 4.0, 10.2, 10.0, 6.1, 6.9, 7.0, 7.6, 7.9, 8.0, 5.9, 4.3, 3.6, 3.7, 6.2, 4.7, 5.4, 6.5, 7.4, 7.5, 5.9, 6.6, 7.3, 6.4, 6.7, 4.8, 6.2, 8.1, 8.3, 7.1, 4.5, 4.4, 7.8, 6.9, 5.8, 6.4, 6.6, 6.4, 4.8, 3.7, 6.4, 6.1, 6.1, 6.8, 7.2, 7.4, 3.9, 5.1, 5.2, 5.5, 7.7, 6.1, 5.4, 6.7, 4.5, 7.2, 6.0, 9.5, 12.6, 6.7, 9.9, 8.9, 10.2, 7.5, 5.5, 5.9, 5.7, 4.7, 6.2, 8.8, 10.0, 10.0, 8.0, 5.9, 6.2, 4.4, 3.8, 5.0, 10.7, 7.7, 7.3, 10.0, 12.6, 11.0, 5.4, 7.9, 6.3, 8.4, 6.6, 4.5, 4.0, 8.1, 9.3, 5.7, 9.2, 11.3, 13.8, 7.6, 6.0, 8.4, 8.6, 11.3, 13.8, 4.3, 5.5, 4.5, 7.5, 6.3, 6.3, 8.5, 10.9, 2.4, 4.9, 12.1, 16.4, 4.2, 9.0, 5.1, 2.3, 1.6, 2.3, 3.6, 10.7, 11.0, 7.4, 8.1, 2.6, 7.8, 9.6, 14.1, 12.0, 13.6, 10.1, 10.1, 6.5, 2.8, 2.9, 5.4, 7.6, 5.6, 6.2, 6.8, 14.8, 10.3, 3.3, 4.5, 5.4, 10.2, 13.2, 14.7, 2.6, 4.5, 7.6, 5.6, 7.2, 3.8, 2.6, 3.8, 3.5, 5.9, 10.1, 9.9, 5.7, 2.7, 7.3, 3.6, 6.2, 5.3, 5.7, 4.8, 6.0, 9.7, 13.6, 18.1, 11.9, 6.3, 6.8, 4.7, 7.2, 9.0, 12.7, 6.0, 13.5, 7.9, 6.4, 13.4, 7.1, 2.9, 8.8, 5.1, 6.9, 9.1, 12.0, 7.6, 5.8, 5.2, 7.2, 11.9, 8.6, 13.4, 11.5, 6.1, 8.2, 11.9, 11.3, 10.1, 7.7, 10.3, 6.1, 8.6, 4.0, 7.8, 8.4, 10.3, 15.6, 10.1, 5.1, 9.8, 5.3, 7.8, 15.0, 3.3, 4.9, 7.8, 11.1, 6.8, 6.6, 11.3, 11.9, 7.8, 8.2, 13.5, 9.0, 4.2, 6.1, 9.0, 9.7, 9.8, 7.5, 6.4, 9.8, 10.7, 12.6, 8.4, 10.8, 7.8, 7.4, 8.0, 7.2, 7.6, 10.9, 7.8, 7.0, 8.6, 10.9, 9.2, 10.5, 8.5, 9.9, 7.8, 5.7, 5.0, 5.1, 8.3, 9.7, 12.2, 11.8, 12.9, 12.0, 7.3, 10.0, 5.8, 7.3, 6.7, 5.7, 8.1, 10.9, 9.2, 8.7, 7.9, 4.9, 12.2, 10.3, 10.5, 4.5, 7.3, 9.6, 8.9, 7.8, 6.9, 9.1, 11.0, 14.6, 11.9, 6.6, 7.9, 13.4, 10.8, 8.0, 8.1, 8.8, 8.4, 4.1, 7.4, 6.4, 11.2, 10.3, 12.9, 12.8, 8.6, 5.9, 9.6, 5.5, 7.7, 7.1, 6.4, 6.3, 6.7, 5.8, 4.2, 4.3, 7.0, 9.8, 7.3, 8.4, 8.0, 5.5, 7.5, 7.7, 7.0, 8.1, 5.6, 5.8, 7.6, 9.6, 6.0, 7.8, 6.9, 6.3, 5.9, 4.9, 6.2, 9.3, 10.3, 11.8, 10.4, 9.8, 6.0, 6.3, 3.6, 6.2, 6.0, 6.1], \"xaxis\": \"x2\", \"yaxis\": \"y2\"}],\n",
              "                        {\"bargap\": 0.1, \"barmode\": \"relative\", \"legend\": {\"tracegroupgap\": 0}, \"template\": {\"data\": {\"bar\": [{\"error_x\": {\"color\": \"#2a3f5f\"}, \"error_y\": {\"color\": \"#2a3f5f\"}, \"marker\": {\"line\": {\"color\": \"#E5ECF6\", \"width\": 0.5}}, \"type\": \"bar\"}], \"barpolar\": [{\"marker\": {\"line\": {\"color\": \"#E5ECF6\", \"width\": 0.5}}, \"type\": \"barpolar\"}], \"carpet\": [{\"aaxis\": {\"endlinecolor\": \"#2a3f5f\", \"gridcolor\": \"white\", \"linecolor\": \"white\", \"minorgridcolor\": \"white\", \"startlinecolor\": \"#2a3f5f\"}, \"baxis\": {\"endlinecolor\": \"#2a3f5f\", \"gridcolor\": \"white\", \"linecolor\": \"white\", \"minorgridcolor\": \"white\", \"startlinecolor\": \"#2a3f5f\"}, \"type\": \"carpet\"}], \"choropleth\": [{\"colorbar\": {\"outlinewidth\": 0, \"ticks\": \"\"}, \"type\": \"choropleth\"}], \"contour\": [{\"colorbar\": {\"outlinewidth\": 0, \"ticks\": \"\"}, \"colorscale\": [[0.0, \"#0d0887\"], [0.1111111111111111, \"#46039f\"], [0.2222222222222222, \"#7201a8\"], [0.3333333333333333, \"#9c179e\"], [0.4444444444444444, \"#bd3786\"], [0.5555555555555556, \"#d8576b\"], [0.6666666666666666, \"#ed7953\"], [0.7777777777777778, \"#fb9f3a\"], [0.8888888888888888, \"#fdca26\"], [1.0, \"#f0f921\"]], \"type\": \"contour\"}], \"contourcarpet\": [{\"colorbar\": {\"outlinewidth\": 0, \"ticks\": \"\"}, \"type\": \"contourcarpet\"}], \"heatmap\": [{\"colorbar\": {\"outlinewidth\": 0, \"ticks\": \"\"}, \"colorscale\": [[0.0, \"#0d0887\"], [0.1111111111111111, \"#46039f\"], [0.2222222222222222, \"#7201a8\"], [0.3333333333333333, \"#9c179e\"], [0.4444444444444444, \"#bd3786\"], [0.5555555555555556, \"#d8576b\"], [0.6666666666666666, \"#ed7953\"], [0.7777777777777778, \"#fb9f3a\"], [0.8888888888888888, \"#fdca26\"], [1.0, \"#f0f921\"]], \"type\": \"heatmap\"}], \"heatmapgl\": [{\"colorbar\": {\"outlinewidth\": 0, \"ticks\": \"\"}, \"colorscale\": [[0.0, \"#0d0887\"], [0.1111111111111111, \"#46039f\"], [0.2222222222222222, \"#7201a8\"], [0.3333333333333333, \"#9c179e\"], [0.4444444444444444, \"#bd3786\"], [0.5555555555555556, \"#d8576b\"], [0.6666666666666666, \"#ed7953\"], [0.7777777777777778, \"#fb9f3a\"], [0.8888888888888888, \"#fdca26\"], [1.0, \"#f0f921\"]], \"type\": \"heatmapgl\"}], \"histogram\": [{\"marker\": {\"colorbar\": {\"outlinewidth\": 0, \"ticks\": \"\"}}, \"type\": \"histogram\"}], \"histogram2d\": [{\"colorbar\": {\"outlinewidth\": 0, \"ticks\": \"\"}, \"colorscale\": [[0.0, \"#0d0887\"], [0.1111111111111111, \"#46039f\"], [0.2222222222222222, \"#7201a8\"], [0.3333333333333333, \"#9c179e\"], [0.4444444444444444, \"#bd3786\"], [0.5555555555555556, \"#d8576b\"], [0.6666666666666666, \"#ed7953\"], [0.7777777777777778, \"#fb9f3a\"], [0.8888888888888888, \"#fdca26\"], [1.0, \"#f0f921\"]], \"type\": \"histogram2d\"}], \"histogram2dcontour\": [{\"colorbar\": {\"outlinewidth\": 0, \"ticks\": \"\"}, \"colorscale\": [[0.0, \"#0d0887\"], [0.1111111111111111, \"#46039f\"], [0.2222222222222222, \"#7201a8\"], [0.3333333333333333, \"#9c179e\"], [0.4444444444444444, \"#bd3786\"], [0.5555555555555556, \"#d8576b\"], [0.6666666666666666, \"#ed7953\"], [0.7777777777777778, \"#fb9f3a\"], [0.8888888888888888, \"#fdca26\"], [1.0, \"#f0f921\"]], \"type\": \"histogram2dcontour\"}], \"mesh3d\": [{\"colorbar\": {\"outlinewidth\": 0, \"ticks\": \"\"}, \"type\": \"mesh3d\"}], \"parcoords\": [{\"line\": {\"colorbar\": {\"outlinewidth\": 0, \"ticks\": \"\"}}, \"type\": \"parcoords\"}], \"pie\": [{\"automargin\": true, \"type\": \"pie\"}], \"scatter\": [{\"marker\": {\"colorbar\": {\"outlinewidth\": 0, \"ticks\": \"\"}}, \"type\": \"scatter\"}], \"scatter3d\": [{\"line\": {\"colorbar\": {\"outlinewidth\": 0, \"ticks\": \"\"}}, \"marker\": {\"colorbar\": {\"outlinewidth\": 0, \"ticks\": \"\"}}, \"type\": \"scatter3d\"}], \"scattercarpet\": [{\"marker\": {\"colorbar\": {\"outlinewidth\": 0, \"ticks\": \"\"}}, \"type\": \"scattercarpet\"}], \"scattergeo\": [{\"marker\": {\"colorbar\": {\"outlinewidth\": 0, \"ticks\": \"\"}}, \"type\": \"scattergeo\"}], \"scattergl\": [{\"marker\": {\"colorbar\": {\"outlinewidth\": 0, \"ticks\": \"\"}}, \"type\": \"scattergl\"}], \"scattermapbox\": [{\"marker\": {\"colorbar\": {\"outlinewidth\": 0, \"ticks\": \"\"}}, \"type\": \"scattermapbox\"}], \"scatterpolar\": [{\"marker\": {\"colorbar\": {\"outlinewidth\": 0, \"ticks\": \"\"}}, \"type\": \"scatterpolar\"}], \"scatterpolargl\": [{\"marker\": {\"colorbar\": {\"outlinewidth\": 0, \"ticks\": \"\"}}, \"type\": \"scatterpolargl\"}], \"scatterternary\": [{\"marker\": {\"colorbar\": {\"outlinewidth\": 0, \"ticks\": \"\"}}, \"type\": \"scatterternary\"}], \"surface\": [{\"colorbar\": {\"outlinewidth\": 0, \"ticks\": \"\"}, \"colorscale\": [[0.0, \"#0d0887\"], [0.1111111111111111, \"#46039f\"], [0.2222222222222222, \"#7201a8\"], [0.3333333333333333, \"#9c179e\"], [0.4444444444444444, \"#bd3786\"], [0.5555555555555556, \"#d8576b\"], [0.6666666666666666, \"#ed7953\"], [0.7777777777777778, \"#fb9f3a\"], [0.8888888888888888, \"#fdca26\"], [1.0, \"#f0f921\"]], \"type\": \"surface\"}], \"table\": [{\"cells\": {\"fill\": {\"color\": \"#EBF0F8\"}, \"line\": {\"color\": \"white\"}}, \"header\": {\"fill\": {\"color\": \"#C8D4E3\"}, \"line\": {\"color\": \"white\"}}, \"type\": \"table\"}]}, \"layout\": {\"annotationdefaults\": {\"arrowcolor\": \"#2a3f5f\", \"arrowhead\": 0, \"arrowwidth\": 1}, \"coloraxis\": {\"colorbar\": {\"outlinewidth\": 0, \"ticks\": \"\"}}, \"colorscale\": {\"diverging\": [[0, \"#8e0152\"], [0.1, \"#c51b7d\"], [0.2, \"#de77ae\"], [0.3, \"#f1b6da\"], [0.4, \"#fde0ef\"], [0.5, \"#f7f7f7\"], [0.6, \"#e6f5d0\"], [0.7, \"#b8e186\"], [0.8, \"#7fbc41\"], [0.9, \"#4d9221\"], [1, \"#276419\"]], \"sequential\": [[0.0, \"#0d0887\"], [0.1111111111111111, \"#46039f\"], [0.2222222222222222, \"#7201a8\"], [0.3333333333333333, \"#9c179e\"], [0.4444444444444444, \"#bd3786\"], [0.5555555555555556, \"#d8576b\"], [0.6666666666666666, \"#ed7953\"], [0.7777777777777778, \"#fb9f3a\"], [0.8888888888888888, \"#fdca26\"], [1.0, \"#f0f921\"]], \"sequentialminus\": [[0.0, \"#0d0887\"], [0.1111111111111111, \"#46039f\"], [0.2222222222222222, \"#7201a8\"], [0.3333333333333333, \"#9c179e\"], [0.4444444444444444, \"#bd3786\"], [0.5555555555555556, \"#d8576b\"], [0.6666666666666666, \"#ed7953\"], [0.7777777777777778, \"#fb9f3a\"], [0.8888888888888888, \"#fdca26\"], [1.0, \"#f0f921\"]]}, \"colorway\": [\"#636efa\", \"#EF553B\", \"#00cc96\", \"#ab63fa\", \"#FFA15A\", \"#19d3f3\", \"#FF6692\", \"#B6E880\", \"#FF97FF\", \"#FECB52\"], \"font\": {\"color\": \"#2a3f5f\"}, \"geo\": {\"bgcolor\": \"white\", \"lakecolor\": \"white\", \"landcolor\": \"#E5ECF6\", \"showlakes\": true, \"showland\": true, \"subunitcolor\": \"white\"}, \"hoverlabel\": {\"align\": \"left\"}, \"hovermode\": \"closest\", \"mapbox\": {\"style\": \"light\"}, \"paper_bgcolor\": \"white\", \"plot_bgcolor\": \"#E5ECF6\", \"polar\": {\"angularaxis\": {\"gridcolor\": \"white\", \"linecolor\": \"white\", \"ticks\": \"\"}, \"bgcolor\": \"#E5ECF6\", \"radialaxis\": {\"gridcolor\": \"white\", \"linecolor\": \"white\", \"ticks\": \"\"}}, \"scene\": {\"xaxis\": {\"backgroundcolor\": \"#E5ECF6\", \"gridcolor\": \"white\", \"gridwidth\": 2, \"linecolor\": \"white\", \"showbackground\": true, \"ticks\": \"\", \"zerolinecolor\": \"white\"}, \"yaxis\": {\"backgroundcolor\": \"#E5ECF6\", \"gridcolor\": \"white\", \"gridwidth\": 2, \"linecolor\": \"white\", \"showbackground\": true, \"ticks\": \"\", \"zerolinecolor\": \"white\"}, \"zaxis\": {\"backgroundcolor\": \"#E5ECF6\", \"gridcolor\": \"white\", \"gridwidth\": 2, \"linecolor\": \"white\", \"showbackground\": true, \"ticks\": \"\", \"zerolinecolor\": \"white\"}}, \"shapedefaults\": {\"line\": {\"color\": \"#2a3f5f\"}}, \"ternary\": {\"aaxis\": {\"gridcolor\": \"white\", \"linecolor\": \"white\", \"ticks\": \"\"}, \"baxis\": {\"gridcolor\": \"white\", \"linecolor\": \"white\", \"ticks\": \"\"}, \"bgcolor\": \"#E5ECF6\", \"caxis\": {\"gridcolor\": \"white\", \"linecolor\": \"white\", \"ticks\": \"\"}}, \"title\": {\"x\": 0.05}, \"xaxis\": {\"automargin\": true, \"gridcolor\": \"white\", \"linecolor\": \"white\", \"ticks\": \"\", \"title\": {\"standoff\": 15}, \"zerolinecolor\": \"white\", \"zerolinewidth\": 2}, \"yaxis\": {\"automargin\": true, \"gridcolor\": \"white\", \"linecolor\": \"white\", \"ticks\": \"\", \"title\": {\"standoff\": 15}, \"zerolinecolor\": \"white\", \"zerolinewidth\": 2}}}, \"title\": {\"text\": \"Distribution of Avg Wind\"}, \"xaxis\": {\"anchor\": \"y\", \"domain\": [0.0, 1.0], \"title\": {\"text\": \"Wind_avg\"}}, \"xaxis2\": {\"anchor\": \"y2\", \"domain\": [0.0, 1.0], \"matches\": \"x\", \"showgrid\": true, \"showticklabels\": false}, \"yaxis\": {\"anchor\": \"x\", \"domain\": [0.0, 0.8316], \"title\": {\"text\": \"count\"}}, \"yaxis2\": {\"anchor\": \"x2\", \"domain\": [0.8416, 1.0], \"matches\": \"y2\", \"showgrid\": false, \"showline\": false, \"showticklabels\": false, \"ticks\": \"\"}},\n",
              "                        {\"responsive\": true}\n",
              "                    ).then(function(){\n",
              "                            \n",
              "var gd = document.getElementById('51cf6e34-ef3e-49a1-bd1a-ac0201574687');\n",
              "var x = new MutationObserver(function (mutations, observer) {{\n",
              "        var display = window.getComputedStyle(gd).display;\n",
              "        if (!display || display === 'none') {{\n",
              "            console.log([gd, 'removed!']);\n",
              "            Plotly.purge(gd);\n",
              "            observer.disconnect();\n",
              "        }}\n",
              "}});\n",
              "\n",
              "// Listen for the removal of the full notebook cells\n",
              "var notebookContainer = gd.closest('#notebook-container');\n",
              "if (notebookContainer) {{\n",
              "    x.observe(notebookContainer, {childList: true});\n",
              "}}\n",
              "\n",
              "// Listen for the clearing of the current output cell\n",
              "var outputEl = gd.closest('.output');\n",
              "if (outputEl) {{\n",
              "    x.observe(outputEl, {childList: true});\n",
              "}}\n",
              "\n",
              "                        })\n",
              "                };\n",
              "                \n",
              "            </script>\n",
              "        </div>\n",
              "</body>\n",
              "</html>"
            ]
          },
          "metadata": {
            "tags": []
          }
        }
      ],
      "metadata": {
        "colab": {
          "base_uri": "https://localhost:8080/",
          "height": 0
        },
        "id": "3bWmhmcKHWkl",
        "outputId": "8f5dd62f-6aef-43a0-cfe1-14e206955a25"
      }
    },
    {
      "cell_type": "code",
      "execution_count": 31,
      "source": [
        "fig = px.histogram(df, x='Press_avg', \n",
        "                   marginal='box', \n",
        "                   title='Distribution of Avg Pressure')\n",
        "fig.update_layout(bargap=0.1)\n",
        "fig.show()"
      ],
      "outputs": [
        {
          "output_type": "display_data",
          "data": {
            "text/html": [
              "<html>\n",
              "<head><meta charset=\"utf-8\" /></head>\n",
              "<body>\n",
              "    <div>\n",
              "            <script src=\"https://cdnjs.cloudflare.com/ajax/libs/mathjax/2.7.5/MathJax.js?config=TeX-AMS-MML_SVG\"></script><script type=\"text/javascript\">if (window.MathJax) {MathJax.Hub.Config({SVG: {font: \"STIX-Web\"}});}</script>\n",
              "                <script type=\"text/javascript\">window.PlotlyConfig = {MathJaxConfig: 'local'};</script>\n",
              "        <script src=\"https://cdn.plot.ly/plotly-latest.min.js\"></script>    \n",
              "            <div id=\"f7a12c6c-e54c-4cc7-8e1c-fe13cc2a8664\" class=\"plotly-graph-div\" style=\"height:525px; width:100%;\"></div>\n",
              "            <script type=\"text/javascript\">\n",
              "                \n",
              "                    window.PLOTLYENV=window.PLOTLYENV || {};\n",
              "                    \n",
              "                if (document.getElementById(\"f7a12c6c-e54c-4cc7-8e1c-fe13cc2a8664\")) {\n",
              "                    Plotly.newPlot(\n",
              "                        'f7a12c6c-e54c-4cc7-8e1c-fe13cc2a8664',\n",
              "                        [{\"alignmentgroup\": \"True\", \"bingroup\": \"x\", \"hoverlabel\": {\"namelength\": 0}, \"hovertemplate\": \"Press_avg=%{x}<br>count=%{y}\", \"legendgroup\": \"\", \"marker\": {\"color\": \"#636efa\"}, \"name\": \"\", \"offsetgroup\": \"\", \"orientation\": \"v\", \"showlegend\": false, \"type\": \"histogram\", \"x\": [29.8, 29.8, 29.8, 29.7, 29.7, 29.7, 29.8, 29.8, 29.8, 29.8, 29.9, 29.9, 29.8, 29.8, 29.8, 29.9, 29.8, 29.9, 30.0, 30.0, 30.0, 29.9, 29.9, 29.9, 29.9, 29.9, 29.9, 29.9, 29.8, 29.8, 29.9, 29.9, 29.9, 29.9, 29.9, 29.9, 29.9, 29.9, 29.9, 29.9, 29.8, 29.9, 29.9, 29.9, 29.9, 29.9, 29.9, 30.0, 30.0, 30.0, 30.0, 29.9, 29.8, 29.8, 29.8, 29.8, 29.9, 29.9, 29.9, 29.9, 29.9, 29.9, 29.9, 29.9, 29.8, 29.8, 29.8, 29.8, 29.8, 29.8, 29.8, 29.8, 29.7, 29.7, 29.8, 29.9, 29.9, 30.0, 29.9, 29.8, 29.8, 29.9, 30.0, 30.0, 30.0, 29.9, 29.9, 29.8, 29.8, 29.8, 29.8, 29.8, 29.8, 29.8, 29.8, 29.9, 29.9, 30.0, 30.0, 29.9, 29.8, 29.9, 29.9, 29.8, 29.9, 29.9, 29.9, 29.8, 29.8, 29.8, 29.9, 29.9, 29.9, 29.9, 29.9, 29.9, 29.9, 29.9, 29.9, 29.9, 30.0, 30.0, 29.9, 29.9, 29.8, 29.7, 29.8, 29.8, 29.9, 30.0, 30.1, 30.0, 30.0, 29.9, 30.0, 30.0, 29.9, 29.9, 29.8, 29.8, 29.8, 29.9, 30.1, 30.1, 30.1, 30.1, 30.1, 30.0, 30.1, 30.1, 30.0, 30.0, 29.9, 29.9, 30.0, 30.1, 30.1, 30.1, 30.0, 30.0, 30.0, 30.1, 30.1, 30.1, 30.1, 30.1, 30.0, 29.9, 29.9, 29.8, 30.0, 30.3, 30.2, 30.0, 29.9, 30.0, 30.1, 30.2, 30.2, 29.9, 29.5, 29.5, 29.9, 30.0, 30.0, 29.8, 28.8, 29.7, 29.8, 30.0, 30.3, 30.4, 30.3, 29.9, 29.9, 29.9, 30.0, 30.2, 29.8, 29.7, 30.2, 30.5, 30.3, 30.1, 30.1, 30.0, 30.0, 29.9, 30.0, 30.1, 30.0, 30.2, 30.2, 29.8, 29.7, 29.7, 29.9, 30.0, 29.8, 30.1, 30.5, 30.5, 30.2, 30.0, 29.9, 30.0, 30.2, 30.2, 30.0, 29.9, 29.9, 29.9, 29.7, 29.6, 29.5, 29.5, 29.8, 29.7, 29.7, 30.1, 30.2, 30.2, 30.1, 30.1, 30.0, 29.9, 30.0, 30.2, 30.1, 30.0, 29.9, 29.7, 29.7, 30.1, 30.1, 29.9, 30.0, 30.0, 29.7, 30.0, 30.0, 29.8, 29.7, 29.8, 29.9, 29.8, 29.7, 29.6, 29.6, 30.0, 29.9, 29.9, 29.8, 29.9, 30.2, 30.4, 30.3, 30.0, 29.9, 30.0, 30.1, 30.0, 30.0, 30.0, 30.0, 30.0, 30.1, 30.2, 30.1, 30.1, 30.1, 30.1, 30.0, 30.0, 30.0, 30.0, 29.9, 29.9, 29.8, 29.8, 29.7, 29.7, 29.7, 29.7, 29.8, 29.6, 29.6, 29.6, 29.8, 30.1, 30.1, 29.9, 29.9, 29.9, 30.0, 30.0, 30.0, 30.0, 29.9, 29.9, 29.9, 29.9, 29.9, 29.9, 29.8, 29.8, 29.9, 29.8, 29.5, 29.4, 29.6, 29.5, 29.5, 29.8, 29.9, 29.8, 29.7, 29.9, 29.9, 29.9, 29.9, 29.9, 29.9, 29.9, 29.8, 29.7, 29.8, 29.8, 29.8, 29.8, 29.7, 29.7, 29.7, 29.8, 29.9, 29.8, 29.7, 29.7, 29.7, 29.8, 29.8, 29.8, 29.9, 29.9, 29.9, 29.9, 29.8, 29.8, 29.7, 29.6, 29.6, 29.8, 29.8, 29.8, 29.8, 29.8, 29.8, 29.8, 29.8, 29.8, 29.8, 29.7, 29.7, 29.8, 29.8, 29.6, 29.5, 29.7, 29.9, 30.0, 29.9, 29.9, 29.8, 29.8, 29.8, 29.9, 30.0, 29.9, 29.9, 29.9, 30.0, 29.9, 29.9, 29.9, 29.9, 29.9, 29.9, 30.0, 30.0, 29.9, 29.8, 29.8, 29.9, 30.0, 29.9, 29.9, 29.8, 29.8, 29.9, 29.9, 29.9, 29.9, 29.8, 29.8, 29.8, 29.9, 29.9, 29.9, 29.9, 29.9, 29.9, 29.8, 29.8, 29.8, 29.9, 29.9, 29.9, 29.8, 29.8, 29.8, 29.8, 29.8, 29.9, 29.9, 29.9, 29.9, 29.9, 29.9, 29.8, 29.8, 29.7, 29.7, 29.6, 29.6, 29.6, 29.6, 29.8, 29.9, 29.9, 29.9, 29.9, 29.9, 29.9, 30.0, 30.0, 30.0, 29.9, 29.9, 29.7, 29.7, 29.8, 29.8, 29.9, 29.9, 29.9, 29.8, 29.8, 29.8, 29.8, 29.8, 29.8, 29.7, 29.8, 29.8, 29.8, 29.9, 29.9, 29.8, 29.8, 30.0, 30.0, 29.9, 29.8, 29.6, 29.6, 29.7, 29.9, 30.0, 29.9, 29.9, 29.9, 30.0, 30.1, 30.1, 30.0, 30.0, 29.9, 29.8, 29.9, 30.0, 30.1, 30.1, 29.8, 29.8, 30.0, 29.9, 29.9, 29.9, 29.8, 29.9, 29.9, 29.9, 29.9, 29.9, 29.9, 30.0, 30.1, 30.1, 30.0, 30.1, 30.1, 30.0, 29.9, 30.0, 29.9, 29.8, 30.1, 30.0, 29.8, 30.1, 30.0, 29.9, 29.9, 30.1, 30.0, 30.0, 30.1, 30.1, 30.0, 30.0, 30.0, 29.8, 30.0, 30.2, 30.2, 30.1, 30.1, 30.3, 30.1, 30.1, 30.0, 29.9, 30.1, 30.0, 30.0, 30.0, 29.9, 29.9, 29.8, 29.8, 30.1, 30.1, 30.2, 30.1, 30.3, 30.3, 30.2, 30.0, 30.2, 30.5, 30.4, 30.3, 30.2, 30.3, 30.2, 29.9, 29.9, 30.0, 29.8, 29.7, 30.1, 30.4, 30.4, 30.2, 30.5, 30.6, 30.4, 30.1, 29.9, 29.8, 29.9, 30.1, 30.3, 30.3, 30.1, 30.0, 30.1, 30.3, 30.3, 30.0, 29.9, 30.2, 30.0, 29.9, 30.0, 29.9, 30.1, 30.2, 30.0, 29.8, 30.0, 30.2, 30.3, 30.1, 30.0, 30.0, 30.0, 30.0, 29.9, 29.9, 30.0, 30.1, 30.0, 29.8, 29.9, 30.0, 29.9, 29.8, 29.9, 30.1, 30.1, 29.9, 29.8, 29.9, 30.1, 30.1, 29.9, 29.7, 29.8, 30.1, 30.1, 30.1, 29.9, 29.8, 29.8, 29.7, 29.6, 29.9, 30.0, 30.1, 30.0, 29.8, 29.8, 29.8, 29.9, 29.7, 29.7, 30.1, 30.0, 29.9, 29.8, 29.7, 30.0, 30.0, 29.7, 29.7, 29.8, 29.9, 30.1, 30.1, 29.8, 29.6, 29.8, 30.0, 30.1, 29.9, 29.9, 30.1, 30.1, 29.9, 29.9, 29.9, 29.9, 29.9, 29.9, 29.9, 29.9, 30.0, 30.0, 29.9, 29.9, 29.9, 29.9, 30.0, 30.0, 30.0, 29.9, 29.9, 29.9, 29.9, 29.9, 29.9, 29.9, 29.8, 29.8, 29.7, 29.7, 29.8, 29.9, 29.9, 29.9, 29.9, 29.9, 29.8, 29.7, 29.7, 29.7, 29.6, 29.7, 29.7, 29.8, 29.8, 29.9, 29.9, 29.8, 29.7, 29.8, 29.9, 29.9, 29.8, 29.8, 29.8, 29.9, 29.9, 29.8, 29.8, 29.8, 29.8, 29.8, 29.7, 29.8, 29.8, 29.7, 29.8, 29.9, 29.9, 29.9, 29.9, 29.9, 29.9, 29.8, 29.9, 29.8, 29.9, 30.0, 30.0, 29.9, 29.9, 30.0, 30.0, 29.9, 29.9, 29.9, 29.9, 29.9, 29.9, 29.9, 29.9, 29.8, 29.8, 29.9, 29.8, 29.8, 29.8, 29.9, 29.9, 29.9, 29.9, 29.9, 29.8, 29.9, 29.8, 29.9, 29.9, 29.9, 30.0, 29.9, 29.9, 29.9, 29.9, 29.9, 29.9, 29.9, 29.9, 29.9, 29.9, 29.9, 29.9, 29.9, 29.8, 29.9, 29.9, 30.0, 29.9, 29.8, 29.9, 29.9, 29.9, 29.9, 29.9, 29.9, 29.8, 29.8, 29.8, 29.8, 29.9, 29.9, 29.9, 29.9, 29.8, 29.7, 29.8, 29.8, 29.9, 29.8, 29.8, 29.8, 29.8, 29.8, 29.8, 29.8, 29.8, 29.8, 29.8, 29.8, 29.8, 29.8, 29.9, 29.9, 29.9, 30.0, 30.0, 30.0, 30.0, 29.9, 29.9, 29.9, 29.8, 29.8, 29.7, 29.6, 29.7, 29.9, 29.8, 29.7, 29.7, 29.9, 30.0, 30.1, 30.1, 30.0, 30.0, 30.1, 30.0, 30.0, 29.9, 29.8, 29.8, 29.9, 30.0, 30.0, 29.9, 29.7, 29.8, 29.9, 29.9, 29.9, 29.7, 29.8, 29.8, 29.9, 30.1, 30.2, 30.0, 29.9, 30.3, 30.3, 30.2, 30.1, 30.0, 30.0, 30.1, 30.2, 30.2, 30.1, 29.8, 29.7, 29.8, 30.1, 30.1, 29.9, 29.8, 29.7, 29.6, 29.7, 30.0, 30.2, 30.3, 30.1, 30.0, 29.9, 30.2, 30.3, 30.2, 29.9, 29.6, 29.8, 30.0, 30.2, 30.1, 30.0, 29.7, 29.7, 29.9, 29.9, 30.1, 30.1, 30.0, 29.8, 29.7, 29.9, 30.0, 29.9, 29.8, 30.0, 29.9, 29.9, 29.9, 30.0, 30.0, 30.0, 30.1, 30.3, 30.2, 30.0, 29.9, 30.2, 30.3, 30.2, 30.1, 30.0, 29.9, 29.9, 30.2, 30.1, 29.8, 29.9, 30.1, 30.2, 30.1, 30.0, 29.8, 30.1, 30.1, 30.0, 30.0, 30.0, 29.8, 29.8, 29.8, 29.8, 29.9, 30.4, 30.3, 30.0, 29.8, 30.0, 30.1, 29.8, 29.7, 29.6, 29.7, 30.0, 29.8, 29.8, 29.8, 29.8, 29.8, 30.1, 30.1, 30.0, 29.9, 29.9, 29.9, 29.9, 29.9, 30.2, 30.3, 30.3, 30.0, 29.8, 29.7, 29.9, 30.0, 30.0, 29.6, 29.8, 30.2, 30.2, 30.2, 30.1, 30.1, 30.1, 30.1, 30.0, 30.0, 30.0, 30.0, 30.1, 30.1, 30.1, 29.9, 29.9, 30.1, 30.1, 30.1, 30.0, 29.9, 29.8, 29.8, 29.8, 29.7, 29.8, 29.6, 29.6, 29.7, 29.5, 29.8, 29.9, 29.9, 29.7, 29.6, 29.9, 29.9, 29.9, 29.9, 29.9, 29.8, 29.7, 29.9, 29.8, 29.8, 29.8, 29.8, 29.8, 29.9, 29.8, 29.7, 29.8, 29.8, 29.8, 29.6, 29.7, 29.8, 29.7, 29.8, 29.8, 29.9, 29.9, 29.9, 29.8, 29.6, 29.7, 29.7, 29.6, 29.7, 29.9, 29.9, 29.9, 29.9, 29.8, 29.7, 29.7, 29.8, 29.8, 29.8, 29.8, 29.8, 29.8, 29.7, 29.6, 29.6, 29.6, 29.8, 30.0, 29.9, 29.9, 29.9, 29.9, 29.8, 29.8, 29.8, 29.8, 29.7, 29.7, 29.8, 29.8, 29.8, 29.8, 29.9, 30.0, 30.0, 30.0, 29.9, 29.9, 29.9, 29.9, 29.8, 29.9, 29.9, 29.9, 29.9, 29.8, 29.8, 29.8, 29.8, 29.7, 29.6, 29.7, 29.8, 29.9, 29.9, 29.9, 29.9, 29.8, 29.8, 29.9, 29.9, 29.9, 29.9, 30.0, 30.0, 30.0, 29.9, 29.9, 29.9, 29.9, 29.8, 29.8, 29.8, 29.8, 29.8, 29.8, 29.8, 29.8, 29.8, 29.8, 29.8, 29.8, 29.8, 29.8, 29.8, 29.8, 29.8, 29.9, 29.9, 29.9, 29.8, 29.8, 29.8, 29.7, 29.7, 29.8, 29.9, 29.9, 29.9, 29.9, 29.9, 29.9, 29.8, 29.9, 29.9, 29.9, 29.9, 29.9, 29.9, 29.9, 30.0, 29.9, 29.9, 29.9, 29.9, 29.8, 29.8, 29.7, 29.8, 29.9, 29.9, 29.9, 29.9, 29.8, 29.8, 29.8, 29.8, 29.8, 29.9, 29.9, 29.9, 29.9, 29.9, 29.9, 29.8, 29.8, 29.9, 29.9, 29.8, 29.8, 29.9, 30.0, 29.9, 29.8, 29.8, 29.9, 29.9, 29.7, 29.6, 29.7, 29.7, 30.0, 30.0, 29.9, 29.9, 29.8, 29.9, 29.9, 29.8, 29.8, 30.2, 30.2, 30.2, 30.1, 29.9, 30.0, 30.1, 30.0, 30.2, 30.1, 30.0, 29.9, 30.3, 30.2, 30.1, 30.2, 30.1, 29.9, 29.8, 29.9, 29.9, 29.9, 29.9, 29.9, 29.9, 29.6, 29.6, 30.0, 30.1, 29.9, 29.7, 30.0, 30.1, 29.9, 29.9, 29.9, 30.0, 30.1, 29.9, 29.7, 30.0, 30.3, 30.1, 29.8, 29.7, 29.7, 29.8, 30.2, 30.3, 30.3, 30.2, 30.2, 30.1, 30.0, 29.9, 29.9, 29.9, 29.9, 29.7, 29.7, 30.0, 30.1, 29.8, 29.6, 29.8, 30.2, 30.2, 30.0, 30.3, 30.2, 29.9, 29.8, 29.9, 30.1, 30.1, 30.0, 30.0, 30.1, 30.1, 30.0, 30.3, 30.4, 30.3, 29.9, 29.8, 30.0, 30.0, 29.9, 29.9, 29.8, 29.9, 30.0, 30.0, 30.1, 30.0, 29.8, 29.7, 29.6, 29.7, 29.8, 30.0, 29.9, 29.8, 29.9, 29.8, 30.1, 30.3, 30.1, 29.9, 29.8, 29.9, 30.1, 30.2, 30.4, 30.3, 29.9, 29.7, 29.8, 30.2, 30.3, 30.2, 30.1, 29.9, 29.7, 29.7, 29.6, 30.1, 30.3, 30.3, 30.2, 30.1, 30.1, 30.0, 29.8, 29.9, 30.0, 30.1, 30.0, 30.0, 29.9, 29.9, 30.1, 30.1, 30.0, 29.9, 29.8, 29.8, 29.8, 29.7, 29.7, 30.0, 29.9, 29.8, 29.9, 29.8, 29.8, 29.8, 29.9, 29.9, 29.8, 29.8, 29.7, 29.9, 29.7, 29.5, 29.9, 30.0, 30.0, 30.0, 29.9, 29.8, 29.6, 29.7, 29.8, 29.7, 29.6, 29.7, 29.9, 30.0, 30.0, 29.8, 29.9, 29.9, 29.9, 29.9, 29.9, 29.8, 29.8, 30.0, 29.9, 29.8, 30.0, 30.1, 30.0, 29.9, 29.8, 29.8, 29.7, 29.6, 29.8, 29.8, 29.7, 29.7, 29.7, 29.8, 29.8, 29.7, 29.6, 29.8, 29.8, 29.8, 29.9, 29.9, 29.9, 30.0, 29.9, 29.8, 29.8, 29.8, 29.7, 29.6, 29.5, 29.6, 29.9, 30.1, 30.1, 29.9, 29.9, 30.0, 30.0, 29.9, 29.9, 29.9, 29.9, 29.8, 29.8, 29.8, 29.7, 29.8, 29.9, 29.9, 29.8, 29.8, 29.8, 29.8, 29.8, 29.9, 29.8, 29.7, 29.8, 29.8], \"xaxis\": \"x\", \"yaxis\": \"y\"}, {\"alignmentgroup\": \"True\", \"hoverlabel\": {\"namelength\": 0}, \"hovertemplate\": \"Press_avg=%{x}\", \"legendgroup\": \"\", \"marker\": {\"color\": \"#636efa\"}, \"name\": \"\", \"notched\": true, \"offsetgroup\": \"\", \"showlegend\": false, \"type\": \"box\", \"x\": [29.8, 29.8, 29.8, 29.7, 29.7, 29.7, 29.8, 29.8, 29.8, 29.8, 29.9, 29.9, 29.8, 29.8, 29.8, 29.9, 29.8, 29.9, 30.0, 30.0, 30.0, 29.9, 29.9, 29.9, 29.9, 29.9, 29.9, 29.9, 29.8, 29.8, 29.9, 29.9, 29.9, 29.9, 29.9, 29.9, 29.9, 29.9, 29.9, 29.9, 29.8, 29.9, 29.9, 29.9, 29.9, 29.9, 29.9, 30.0, 30.0, 30.0, 30.0, 29.9, 29.8, 29.8, 29.8, 29.8, 29.9, 29.9, 29.9, 29.9, 29.9, 29.9, 29.9, 29.9, 29.8, 29.8, 29.8, 29.8, 29.8, 29.8, 29.8, 29.8, 29.7, 29.7, 29.8, 29.9, 29.9, 30.0, 29.9, 29.8, 29.8, 29.9, 30.0, 30.0, 30.0, 29.9, 29.9, 29.8, 29.8, 29.8, 29.8, 29.8, 29.8, 29.8, 29.8, 29.9, 29.9, 30.0, 30.0, 29.9, 29.8, 29.9, 29.9, 29.8, 29.9, 29.9, 29.9, 29.8, 29.8, 29.8, 29.9, 29.9, 29.9, 29.9, 29.9, 29.9, 29.9, 29.9, 29.9, 29.9, 30.0, 30.0, 29.9, 29.9, 29.8, 29.7, 29.8, 29.8, 29.9, 30.0, 30.1, 30.0, 30.0, 29.9, 30.0, 30.0, 29.9, 29.9, 29.8, 29.8, 29.8, 29.9, 30.1, 30.1, 30.1, 30.1, 30.1, 30.0, 30.1, 30.1, 30.0, 30.0, 29.9, 29.9, 30.0, 30.1, 30.1, 30.1, 30.0, 30.0, 30.0, 30.1, 30.1, 30.1, 30.1, 30.1, 30.0, 29.9, 29.9, 29.8, 30.0, 30.3, 30.2, 30.0, 29.9, 30.0, 30.1, 30.2, 30.2, 29.9, 29.5, 29.5, 29.9, 30.0, 30.0, 29.8, 28.8, 29.7, 29.8, 30.0, 30.3, 30.4, 30.3, 29.9, 29.9, 29.9, 30.0, 30.2, 29.8, 29.7, 30.2, 30.5, 30.3, 30.1, 30.1, 30.0, 30.0, 29.9, 30.0, 30.1, 30.0, 30.2, 30.2, 29.8, 29.7, 29.7, 29.9, 30.0, 29.8, 30.1, 30.5, 30.5, 30.2, 30.0, 29.9, 30.0, 30.2, 30.2, 30.0, 29.9, 29.9, 29.9, 29.7, 29.6, 29.5, 29.5, 29.8, 29.7, 29.7, 30.1, 30.2, 30.2, 30.1, 30.1, 30.0, 29.9, 30.0, 30.2, 30.1, 30.0, 29.9, 29.7, 29.7, 30.1, 30.1, 29.9, 30.0, 30.0, 29.7, 30.0, 30.0, 29.8, 29.7, 29.8, 29.9, 29.8, 29.7, 29.6, 29.6, 30.0, 29.9, 29.9, 29.8, 29.9, 30.2, 30.4, 30.3, 30.0, 29.9, 30.0, 30.1, 30.0, 30.0, 30.0, 30.0, 30.0, 30.1, 30.2, 30.1, 30.1, 30.1, 30.1, 30.0, 30.0, 30.0, 30.0, 29.9, 29.9, 29.8, 29.8, 29.7, 29.7, 29.7, 29.7, 29.8, 29.6, 29.6, 29.6, 29.8, 30.1, 30.1, 29.9, 29.9, 29.9, 30.0, 30.0, 30.0, 30.0, 29.9, 29.9, 29.9, 29.9, 29.9, 29.9, 29.8, 29.8, 29.9, 29.8, 29.5, 29.4, 29.6, 29.5, 29.5, 29.8, 29.9, 29.8, 29.7, 29.9, 29.9, 29.9, 29.9, 29.9, 29.9, 29.9, 29.8, 29.7, 29.8, 29.8, 29.8, 29.8, 29.7, 29.7, 29.7, 29.8, 29.9, 29.8, 29.7, 29.7, 29.7, 29.8, 29.8, 29.8, 29.9, 29.9, 29.9, 29.9, 29.8, 29.8, 29.7, 29.6, 29.6, 29.8, 29.8, 29.8, 29.8, 29.8, 29.8, 29.8, 29.8, 29.8, 29.8, 29.7, 29.7, 29.8, 29.8, 29.6, 29.5, 29.7, 29.9, 30.0, 29.9, 29.9, 29.8, 29.8, 29.8, 29.9, 30.0, 29.9, 29.9, 29.9, 30.0, 29.9, 29.9, 29.9, 29.9, 29.9, 29.9, 30.0, 30.0, 29.9, 29.8, 29.8, 29.9, 30.0, 29.9, 29.9, 29.8, 29.8, 29.9, 29.9, 29.9, 29.9, 29.8, 29.8, 29.8, 29.9, 29.9, 29.9, 29.9, 29.9, 29.9, 29.8, 29.8, 29.8, 29.9, 29.9, 29.9, 29.8, 29.8, 29.8, 29.8, 29.8, 29.9, 29.9, 29.9, 29.9, 29.9, 29.9, 29.8, 29.8, 29.7, 29.7, 29.6, 29.6, 29.6, 29.6, 29.8, 29.9, 29.9, 29.9, 29.9, 29.9, 29.9, 30.0, 30.0, 30.0, 29.9, 29.9, 29.7, 29.7, 29.8, 29.8, 29.9, 29.9, 29.9, 29.8, 29.8, 29.8, 29.8, 29.8, 29.8, 29.7, 29.8, 29.8, 29.8, 29.9, 29.9, 29.8, 29.8, 30.0, 30.0, 29.9, 29.8, 29.6, 29.6, 29.7, 29.9, 30.0, 29.9, 29.9, 29.9, 30.0, 30.1, 30.1, 30.0, 30.0, 29.9, 29.8, 29.9, 30.0, 30.1, 30.1, 29.8, 29.8, 30.0, 29.9, 29.9, 29.9, 29.8, 29.9, 29.9, 29.9, 29.9, 29.9, 29.9, 30.0, 30.1, 30.1, 30.0, 30.1, 30.1, 30.0, 29.9, 30.0, 29.9, 29.8, 30.1, 30.0, 29.8, 30.1, 30.0, 29.9, 29.9, 30.1, 30.0, 30.0, 30.1, 30.1, 30.0, 30.0, 30.0, 29.8, 30.0, 30.2, 30.2, 30.1, 30.1, 30.3, 30.1, 30.1, 30.0, 29.9, 30.1, 30.0, 30.0, 30.0, 29.9, 29.9, 29.8, 29.8, 30.1, 30.1, 30.2, 30.1, 30.3, 30.3, 30.2, 30.0, 30.2, 30.5, 30.4, 30.3, 30.2, 30.3, 30.2, 29.9, 29.9, 30.0, 29.8, 29.7, 30.1, 30.4, 30.4, 30.2, 30.5, 30.6, 30.4, 30.1, 29.9, 29.8, 29.9, 30.1, 30.3, 30.3, 30.1, 30.0, 30.1, 30.3, 30.3, 30.0, 29.9, 30.2, 30.0, 29.9, 30.0, 29.9, 30.1, 30.2, 30.0, 29.8, 30.0, 30.2, 30.3, 30.1, 30.0, 30.0, 30.0, 30.0, 29.9, 29.9, 30.0, 30.1, 30.0, 29.8, 29.9, 30.0, 29.9, 29.8, 29.9, 30.1, 30.1, 29.9, 29.8, 29.9, 30.1, 30.1, 29.9, 29.7, 29.8, 30.1, 30.1, 30.1, 29.9, 29.8, 29.8, 29.7, 29.6, 29.9, 30.0, 30.1, 30.0, 29.8, 29.8, 29.8, 29.9, 29.7, 29.7, 30.1, 30.0, 29.9, 29.8, 29.7, 30.0, 30.0, 29.7, 29.7, 29.8, 29.9, 30.1, 30.1, 29.8, 29.6, 29.8, 30.0, 30.1, 29.9, 29.9, 30.1, 30.1, 29.9, 29.9, 29.9, 29.9, 29.9, 29.9, 29.9, 29.9, 30.0, 30.0, 29.9, 29.9, 29.9, 29.9, 30.0, 30.0, 30.0, 29.9, 29.9, 29.9, 29.9, 29.9, 29.9, 29.9, 29.8, 29.8, 29.7, 29.7, 29.8, 29.9, 29.9, 29.9, 29.9, 29.9, 29.8, 29.7, 29.7, 29.7, 29.6, 29.7, 29.7, 29.8, 29.8, 29.9, 29.9, 29.8, 29.7, 29.8, 29.9, 29.9, 29.8, 29.8, 29.8, 29.9, 29.9, 29.8, 29.8, 29.8, 29.8, 29.8, 29.7, 29.8, 29.8, 29.7, 29.8, 29.9, 29.9, 29.9, 29.9, 29.9, 29.9, 29.8, 29.9, 29.8, 29.9, 30.0, 30.0, 29.9, 29.9, 30.0, 30.0, 29.9, 29.9, 29.9, 29.9, 29.9, 29.9, 29.9, 29.9, 29.8, 29.8, 29.9, 29.8, 29.8, 29.8, 29.9, 29.9, 29.9, 29.9, 29.9, 29.8, 29.9, 29.8, 29.9, 29.9, 29.9, 30.0, 29.9, 29.9, 29.9, 29.9, 29.9, 29.9, 29.9, 29.9, 29.9, 29.9, 29.9, 29.9, 29.9, 29.8, 29.9, 29.9, 30.0, 29.9, 29.8, 29.9, 29.9, 29.9, 29.9, 29.9, 29.9, 29.8, 29.8, 29.8, 29.8, 29.9, 29.9, 29.9, 29.9, 29.8, 29.7, 29.8, 29.8, 29.9, 29.8, 29.8, 29.8, 29.8, 29.8, 29.8, 29.8, 29.8, 29.8, 29.8, 29.8, 29.8, 29.8, 29.9, 29.9, 29.9, 30.0, 30.0, 30.0, 30.0, 29.9, 29.9, 29.9, 29.8, 29.8, 29.7, 29.6, 29.7, 29.9, 29.8, 29.7, 29.7, 29.9, 30.0, 30.1, 30.1, 30.0, 30.0, 30.1, 30.0, 30.0, 29.9, 29.8, 29.8, 29.9, 30.0, 30.0, 29.9, 29.7, 29.8, 29.9, 29.9, 29.9, 29.7, 29.8, 29.8, 29.9, 30.1, 30.2, 30.0, 29.9, 30.3, 30.3, 30.2, 30.1, 30.0, 30.0, 30.1, 30.2, 30.2, 30.1, 29.8, 29.7, 29.8, 30.1, 30.1, 29.9, 29.8, 29.7, 29.6, 29.7, 30.0, 30.2, 30.3, 30.1, 30.0, 29.9, 30.2, 30.3, 30.2, 29.9, 29.6, 29.8, 30.0, 30.2, 30.1, 30.0, 29.7, 29.7, 29.9, 29.9, 30.1, 30.1, 30.0, 29.8, 29.7, 29.9, 30.0, 29.9, 29.8, 30.0, 29.9, 29.9, 29.9, 30.0, 30.0, 30.0, 30.1, 30.3, 30.2, 30.0, 29.9, 30.2, 30.3, 30.2, 30.1, 30.0, 29.9, 29.9, 30.2, 30.1, 29.8, 29.9, 30.1, 30.2, 30.1, 30.0, 29.8, 30.1, 30.1, 30.0, 30.0, 30.0, 29.8, 29.8, 29.8, 29.8, 29.9, 30.4, 30.3, 30.0, 29.8, 30.0, 30.1, 29.8, 29.7, 29.6, 29.7, 30.0, 29.8, 29.8, 29.8, 29.8, 29.8, 30.1, 30.1, 30.0, 29.9, 29.9, 29.9, 29.9, 29.9, 30.2, 30.3, 30.3, 30.0, 29.8, 29.7, 29.9, 30.0, 30.0, 29.6, 29.8, 30.2, 30.2, 30.2, 30.1, 30.1, 30.1, 30.1, 30.0, 30.0, 30.0, 30.0, 30.1, 30.1, 30.1, 29.9, 29.9, 30.1, 30.1, 30.1, 30.0, 29.9, 29.8, 29.8, 29.8, 29.7, 29.8, 29.6, 29.6, 29.7, 29.5, 29.8, 29.9, 29.9, 29.7, 29.6, 29.9, 29.9, 29.9, 29.9, 29.9, 29.8, 29.7, 29.9, 29.8, 29.8, 29.8, 29.8, 29.8, 29.9, 29.8, 29.7, 29.8, 29.8, 29.8, 29.6, 29.7, 29.8, 29.7, 29.8, 29.8, 29.9, 29.9, 29.9, 29.8, 29.6, 29.7, 29.7, 29.6, 29.7, 29.9, 29.9, 29.9, 29.9, 29.8, 29.7, 29.7, 29.8, 29.8, 29.8, 29.8, 29.8, 29.8, 29.7, 29.6, 29.6, 29.6, 29.8, 30.0, 29.9, 29.9, 29.9, 29.9, 29.8, 29.8, 29.8, 29.8, 29.7, 29.7, 29.8, 29.8, 29.8, 29.8, 29.9, 30.0, 30.0, 30.0, 29.9, 29.9, 29.9, 29.9, 29.8, 29.9, 29.9, 29.9, 29.9, 29.8, 29.8, 29.8, 29.8, 29.7, 29.6, 29.7, 29.8, 29.9, 29.9, 29.9, 29.9, 29.8, 29.8, 29.9, 29.9, 29.9, 29.9, 30.0, 30.0, 30.0, 29.9, 29.9, 29.9, 29.9, 29.8, 29.8, 29.8, 29.8, 29.8, 29.8, 29.8, 29.8, 29.8, 29.8, 29.8, 29.8, 29.8, 29.8, 29.8, 29.8, 29.8, 29.9, 29.9, 29.9, 29.8, 29.8, 29.8, 29.7, 29.7, 29.8, 29.9, 29.9, 29.9, 29.9, 29.9, 29.9, 29.8, 29.9, 29.9, 29.9, 29.9, 29.9, 29.9, 29.9, 30.0, 29.9, 29.9, 29.9, 29.9, 29.8, 29.8, 29.7, 29.8, 29.9, 29.9, 29.9, 29.9, 29.8, 29.8, 29.8, 29.8, 29.8, 29.9, 29.9, 29.9, 29.9, 29.9, 29.9, 29.8, 29.8, 29.9, 29.9, 29.8, 29.8, 29.9, 30.0, 29.9, 29.8, 29.8, 29.9, 29.9, 29.7, 29.6, 29.7, 29.7, 30.0, 30.0, 29.9, 29.9, 29.8, 29.9, 29.9, 29.8, 29.8, 30.2, 30.2, 30.2, 30.1, 29.9, 30.0, 30.1, 30.0, 30.2, 30.1, 30.0, 29.9, 30.3, 30.2, 30.1, 30.2, 30.1, 29.9, 29.8, 29.9, 29.9, 29.9, 29.9, 29.9, 29.9, 29.6, 29.6, 30.0, 30.1, 29.9, 29.7, 30.0, 30.1, 29.9, 29.9, 29.9, 30.0, 30.1, 29.9, 29.7, 30.0, 30.3, 30.1, 29.8, 29.7, 29.7, 29.8, 30.2, 30.3, 30.3, 30.2, 30.2, 30.1, 30.0, 29.9, 29.9, 29.9, 29.9, 29.7, 29.7, 30.0, 30.1, 29.8, 29.6, 29.8, 30.2, 30.2, 30.0, 30.3, 30.2, 29.9, 29.8, 29.9, 30.1, 30.1, 30.0, 30.0, 30.1, 30.1, 30.0, 30.3, 30.4, 30.3, 29.9, 29.8, 30.0, 30.0, 29.9, 29.9, 29.8, 29.9, 30.0, 30.0, 30.1, 30.0, 29.8, 29.7, 29.6, 29.7, 29.8, 30.0, 29.9, 29.8, 29.9, 29.8, 30.1, 30.3, 30.1, 29.9, 29.8, 29.9, 30.1, 30.2, 30.4, 30.3, 29.9, 29.7, 29.8, 30.2, 30.3, 30.2, 30.1, 29.9, 29.7, 29.7, 29.6, 30.1, 30.3, 30.3, 30.2, 30.1, 30.1, 30.0, 29.8, 29.9, 30.0, 30.1, 30.0, 30.0, 29.9, 29.9, 30.1, 30.1, 30.0, 29.9, 29.8, 29.8, 29.8, 29.7, 29.7, 30.0, 29.9, 29.8, 29.9, 29.8, 29.8, 29.8, 29.9, 29.9, 29.8, 29.8, 29.7, 29.9, 29.7, 29.5, 29.9, 30.0, 30.0, 30.0, 29.9, 29.8, 29.6, 29.7, 29.8, 29.7, 29.6, 29.7, 29.9, 30.0, 30.0, 29.8, 29.9, 29.9, 29.9, 29.9, 29.9, 29.8, 29.8, 30.0, 29.9, 29.8, 30.0, 30.1, 30.0, 29.9, 29.8, 29.8, 29.7, 29.6, 29.8, 29.8, 29.7, 29.7, 29.7, 29.8, 29.8, 29.7, 29.6, 29.8, 29.8, 29.8, 29.9, 29.9, 29.9, 30.0, 29.9, 29.8, 29.8, 29.8, 29.7, 29.6, 29.5, 29.6, 29.9, 30.1, 30.1, 29.9, 29.9, 30.0, 30.0, 29.9, 29.9, 29.9, 29.9, 29.8, 29.8, 29.8, 29.7, 29.8, 29.9, 29.9, 29.8, 29.8, 29.8, 29.8, 29.8, 29.9, 29.8, 29.7, 29.8, 29.8], \"xaxis\": \"x2\", \"yaxis\": \"y2\"}],\n",
              "                        {\"bargap\": 0.1, \"barmode\": \"relative\", \"legend\": {\"tracegroupgap\": 0}, \"template\": {\"data\": {\"bar\": [{\"error_x\": {\"color\": \"#2a3f5f\"}, \"error_y\": {\"color\": \"#2a3f5f\"}, \"marker\": {\"line\": {\"color\": \"#E5ECF6\", \"width\": 0.5}}, \"type\": \"bar\"}], \"barpolar\": [{\"marker\": {\"line\": {\"color\": \"#E5ECF6\", \"width\": 0.5}}, \"type\": \"barpolar\"}], \"carpet\": [{\"aaxis\": {\"endlinecolor\": \"#2a3f5f\", \"gridcolor\": \"white\", \"linecolor\": \"white\", \"minorgridcolor\": \"white\", \"startlinecolor\": \"#2a3f5f\"}, \"baxis\": {\"endlinecolor\": \"#2a3f5f\", \"gridcolor\": \"white\", \"linecolor\": \"white\", \"minorgridcolor\": \"white\", \"startlinecolor\": \"#2a3f5f\"}, \"type\": \"carpet\"}], \"choropleth\": [{\"colorbar\": {\"outlinewidth\": 0, \"ticks\": \"\"}, \"type\": \"choropleth\"}], \"contour\": [{\"colorbar\": {\"outlinewidth\": 0, \"ticks\": \"\"}, \"colorscale\": [[0.0, \"#0d0887\"], [0.1111111111111111, \"#46039f\"], [0.2222222222222222, \"#7201a8\"], [0.3333333333333333, \"#9c179e\"], [0.4444444444444444, \"#bd3786\"], [0.5555555555555556, \"#d8576b\"], [0.6666666666666666, \"#ed7953\"], [0.7777777777777778, \"#fb9f3a\"], [0.8888888888888888, \"#fdca26\"], [1.0, \"#f0f921\"]], \"type\": \"contour\"}], \"contourcarpet\": [{\"colorbar\": {\"outlinewidth\": 0, \"ticks\": \"\"}, \"type\": \"contourcarpet\"}], \"heatmap\": [{\"colorbar\": {\"outlinewidth\": 0, \"ticks\": \"\"}, \"colorscale\": [[0.0, \"#0d0887\"], [0.1111111111111111, \"#46039f\"], [0.2222222222222222, \"#7201a8\"], [0.3333333333333333, \"#9c179e\"], [0.4444444444444444, \"#bd3786\"], [0.5555555555555556, \"#d8576b\"], [0.6666666666666666, \"#ed7953\"], [0.7777777777777778, \"#fb9f3a\"], [0.8888888888888888, \"#fdca26\"], [1.0, \"#f0f921\"]], \"type\": \"heatmap\"}], \"heatmapgl\": [{\"colorbar\": {\"outlinewidth\": 0, \"ticks\": \"\"}, \"colorscale\": [[0.0, \"#0d0887\"], [0.1111111111111111, \"#46039f\"], [0.2222222222222222, \"#7201a8\"], [0.3333333333333333, \"#9c179e\"], [0.4444444444444444, \"#bd3786\"], [0.5555555555555556, \"#d8576b\"], [0.6666666666666666, \"#ed7953\"], [0.7777777777777778, \"#fb9f3a\"], [0.8888888888888888, \"#fdca26\"], [1.0, \"#f0f921\"]], \"type\": \"heatmapgl\"}], \"histogram\": [{\"marker\": {\"colorbar\": {\"outlinewidth\": 0, \"ticks\": \"\"}}, \"type\": \"histogram\"}], \"histogram2d\": [{\"colorbar\": {\"outlinewidth\": 0, \"ticks\": \"\"}, \"colorscale\": [[0.0, \"#0d0887\"], [0.1111111111111111, \"#46039f\"], [0.2222222222222222, \"#7201a8\"], [0.3333333333333333, \"#9c179e\"], [0.4444444444444444, \"#bd3786\"], [0.5555555555555556, \"#d8576b\"], [0.6666666666666666, \"#ed7953\"], [0.7777777777777778, \"#fb9f3a\"], [0.8888888888888888, \"#fdca26\"], [1.0, \"#f0f921\"]], \"type\": \"histogram2d\"}], \"histogram2dcontour\": [{\"colorbar\": {\"outlinewidth\": 0, \"ticks\": \"\"}, \"colorscale\": [[0.0, \"#0d0887\"], [0.1111111111111111, \"#46039f\"], [0.2222222222222222, \"#7201a8\"], [0.3333333333333333, \"#9c179e\"], [0.4444444444444444, \"#bd3786\"], [0.5555555555555556, \"#d8576b\"], [0.6666666666666666, \"#ed7953\"], [0.7777777777777778, \"#fb9f3a\"], [0.8888888888888888, \"#fdca26\"], [1.0, \"#f0f921\"]], \"type\": \"histogram2dcontour\"}], \"mesh3d\": [{\"colorbar\": {\"outlinewidth\": 0, \"ticks\": \"\"}, \"type\": \"mesh3d\"}], \"parcoords\": [{\"line\": {\"colorbar\": {\"outlinewidth\": 0, \"ticks\": \"\"}}, \"type\": \"parcoords\"}], \"pie\": [{\"automargin\": true, \"type\": \"pie\"}], \"scatter\": [{\"marker\": {\"colorbar\": {\"outlinewidth\": 0, \"ticks\": \"\"}}, \"type\": \"scatter\"}], \"scatter3d\": [{\"line\": {\"colorbar\": {\"outlinewidth\": 0, \"ticks\": \"\"}}, \"marker\": {\"colorbar\": {\"outlinewidth\": 0, \"ticks\": \"\"}}, \"type\": \"scatter3d\"}], \"scattercarpet\": [{\"marker\": {\"colorbar\": {\"outlinewidth\": 0, \"ticks\": \"\"}}, \"type\": \"scattercarpet\"}], \"scattergeo\": [{\"marker\": {\"colorbar\": {\"outlinewidth\": 0, \"ticks\": \"\"}}, \"type\": \"scattergeo\"}], \"scattergl\": [{\"marker\": {\"colorbar\": {\"outlinewidth\": 0, \"ticks\": \"\"}}, \"type\": \"scattergl\"}], \"scattermapbox\": [{\"marker\": {\"colorbar\": {\"outlinewidth\": 0, \"ticks\": \"\"}}, \"type\": \"scattermapbox\"}], \"scatterpolar\": [{\"marker\": {\"colorbar\": {\"outlinewidth\": 0, \"ticks\": \"\"}}, \"type\": \"scatterpolar\"}], \"scatterpolargl\": [{\"marker\": {\"colorbar\": {\"outlinewidth\": 0, \"ticks\": \"\"}}, \"type\": \"scatterpolargl\"}], \"scatterternary\": [{\"marker\": {\"colorbar\": {\"outlinewidth\": 0, \"ticks\": \"\"}}, \"type\": \"scatterternary\"}], \"surface\": [{\"colorbar\": {\"outlinewidth\": 0, \"ticks\": \"\"}, \"colorscale\": [[0.0, \"#0d0887\"], [0.1111111111111111, \"#46039f\"], [0.2222222222222222, \"#7201a8\"], [0.3333333333333333, \"#9c179e\"], [0.4444444444444444, \"#bd3786\"], [0.5555555555555556, \"#d8576b\"], [0.6666666666666666, \"#ed7953\"], [0.7777777777777778, \"#fb9f3a\"], [0.8888888888888888, \"#fdca26\"], [1.0, \"#f0f921\"]], \"type\": \"surface\"}], \"table\": [{\"cells\": {\"fill\": {\"color\": \"#EBF0F8\"}, \"line\": {\"color\": \"white\"}}, \"header\": {\"fill\": {\"color\": \"#C8D4E3\"}, \"line\": {\"color\": \"white\"}}, \"type\": \"table\"}]}, \"layout\": {\"annotationdefaults\": {\"arrowcolor\": \"#2a3f5f\", \"arrowhead\": 0, \"arrowwidth\": 1}, \"coloraxis\": {\"colorbar\": {\"outlinewidth\": 0, \"ticks\": \"\"}}, \"colorscale\": {\"diverging\": [[0, \"#8e0152\"], [0.1, \"#c51b7d\"], [0.2, \"#de77ae\"], [0.3, \"#f1b6da\"], [0.4, \"#fde0ef\"], [0.5, \"#f7f7f7\"], [0.6, \"#e6f5d0\"], [0.7, \"#b8e186\"], [0.8, \"#7fbc41\"], [0.9, \"#4d9221\"], [1, \"#276419\"]], \"sequential\": [[0.0, \"#0d0887\"], [0.1111111111111111, \"#46039f\"], [0.2222222222222222, \"#7201a8\"], [0.3333333333333333, \"#9c179e\"], [0.4444444444444444, \"#bd3786\"], [0.5555555555555556, \"#d8576b\"], [0.6666666666666666, \"#ed7953\"], [0.7777777777777778, \"#fb9f3a\"], [0.8888888888888888, \"#fdca26\"], [1.0, \"#f0f921\"]], \"sequentialminus\": [[0.0, \"#0d0887\"], [0.1111111111111111, \"#46039f\"], [0.2222222222222222, \"#7201a8\"], [0.3333333333333333, \"#9c179e\"], [0.4444444444444444, \"#bd3786\"], [0.5555555555555556, \"#d8576b\"], [0.6666666666666666, \"#ed7953\"], [0.7777777777777778, \"#fb9f3a\"], [0.8888888888888888, \"#fdca26\"], [1.0, \"#f0f921\"]]}, \"colorway\": [\"#636efa\", \"#EF553B\", \"#00cc96\", \"#ab63fa\", \"#FFA15A\", \"#19d3f3\", \"#FF6692\", \"#B6E880\", \"#FF97FF\", \"#FECB52\"], \"font\": {\"color\": \"#2a3f5f\"}, \"geo\": {\"bgcolor\": \"white\", \"lakecolor\": \"white\", \"landcolor\": \"#E5ECF6\", \"showlakes\": true, \"showland\": true, \"subunitcolor\": \"white\"}, \"hoverlabel\": {\"align\": \"left\"}, \"hovermode\": \"closest\", \"mapbox\": {\"style\": \"light\"}, \"paper_bgcolor\": \"white\", \"plot_bgcolor\": \"#E5ECF6\", \"polar\": {\"angularaxis\": {\"gridcolor\": \"white\", \"linecolor\": \"white\", \"ticks\": \"\"}, \"bgcolor\": \"#E5ECF6\", \"radialaxis\": {\"gridcolor\": \"white\", \"linecolor\": \"white\", \"ticks\": \"\"}}, \"scene\": {\"xaxis\": {\"backgroundcolor\": \"#E5ECF6\", \"gridcolor\": \"white\", \"gridwidth\": 2, \"linecolor\": \"white\", \"showbackground\": true, \"ticks\": \"\", \"zerolinecolor\": \"white\"}, \"yaxis\": {\"backgroundcolor\": \"#E5ECF6\", \"gridcolor\": \"white\", \"gridwidth\": 2, \"linecolor\": \"white\", \"showbackground\": true, \"ticks\": \"\", \"zerolinecolor\": \"white\"}, \"zaxis\": {\"backgroundcolor\": \"#E5ECF6\", \"gridcolor\": \"white\", \"gridwidth\": 2, \"linecolor\": \"white\", \"showbackground\": true, \"ticks\": \"\", \"zerolinecolor\": \"white\"}}, \"shapedefaults\": {\"line\": {\"color\": \"#2a3f5f\"}}, \"ternary\": {\"aaxis\": {\"gridcolor\": \"white\", \"linecolor\": \"white\", \"ticks\": \"\"}, \"baxis\": {\"gridcolor\": \"white\", \"linecolor\": \"white\", \"ticks\": \"\"}, \"bgcolor\": \"#E5ECF6\", \"caxis\": {\"gridcolor\": \"white\", \"linecolor\": \"white\", \"ticks\": \"\"}}, \"title\": {\"x\": 0.05}, \"xaxis\": {\"automargin\": true, \"gridcolor\": \"white\", \"linecolor\": \"white\", \"ticks\": \"\", \"title\": {\"standoff\": 15}, \"zerolinecolor\": \"white\", \"zerolinewidth\": 2}, \"yaxis\": {\"automargin\": true, \"gridcolor\": \"white\", \"linecolor\": \"white\", \"ticks\": \"\", \"title\": {\"standoff\": 15}, \"zerolinecolor\": \"white\", \"zerolinewidth\": 2}}}, \"title\": {\"text\": \"Distribution of Avg Pressure\"}, \"xaxis\": {\"anchor\": \"y\", \"domain\": [0.0, 1.0], \"title\": {\"text\": \"Press_avg\"}}, \"xaxis2\": {\"anchor\": \"y2\", \"domain\": [0.0, 1.0], \"matches\": \"x\", \"showgrid\": true, \"showticklabels\": false}, \"yaxis\": {\"anchor\": \"x\", \"domain\": [0.0, 0.8316], \"title\": {\"text\": \"count\"}}, \"yaxis2\": {\"anchor\": \"x2\", \"domain\": [0.8416, 1.0], \"matches\": \"y2\", \"showgrid\": false, \"showline\": false, \"showticklabels\": false, \"ticks\": \"\"}},\n",
              "                        {\"responsive\": true}\n",
              "                    ).then(function(){\n",
              "                            \n",
              "var gd = document.getElementById('f7a12c6c-e54c-4cc7-8e1c-fe13cc2a8664');\n",
              "var x = new MutationObserver(function (mutations, observer) {{\n",
              "        var display = window.getComputedStyle(gd).display;\n",
              "        if (!display || display === 'none') {{\n",
              "            console.log([gd, 'removed!']);\n",
              "            Plotly.purge(gd);\n",
              "            observer.disconnect();\n",
              "        }}\n",
              "}});\n",
              "\n",
              "// Listen for the removal of the full notebook cells\n",
              "var notebookContainer = gd.closest('#notebook-container');\n",
              "if (notebookContainer) {{\n",
              "    x.observe(notebookContainer, {childList: true});\n",
              "}}\n",
              "\n",
              "// Listen for the clearing of the current output cell\n",
              "var outputEl = gd.closest('.output');\n",
              "if (outputEl) {{\n",
              "    x.observe(outputEl, {childList: true});\n",
              "}}\n",
              "\n",
              "                        })\n",
              "                };\n",
              "                \n",
              "            </script>\n",
              "        </div>\n",
              "</body>\n",
              "</html>"
            ]
          },
          "metadata": {
            "tags": []
          }
        }
      ],
      "metadata": {
        "colab": {
          "base_uri": "https://localhost:8080/",
          "height": 0
        },
        "id": "brcuQ71bHfYF",
        "outputId": "b6e838f0-6030-4d13-e160-81dfd9af19ec"
      }
    },
    {
      "cell_type": "code",
      "execution_count": 32,
      "source": [
        "fig = px.histogram(df, x='Precipit', \n",
        "                   marginal='box', \n",
        "                   title='Distribution of Precipitation')\n",
        "fig.update_layout(bargap=0.1)\n",
        "fig.show()"
      ],
      "outputs": [
        {
          "output_type": "display_data",
          "data": {
            "text/html": [
              "<html>\n",
              "<head><meta charset=\"utf-8\" /></head>\n",
              "<body>\n",
              "    <div>\n",
              "            <script src=\"https://cdnjs.cloudflare.com/ajax/libs/mathjax/2.7.5/MathJax.js?config=TeX-AMS-MML_SVG\"></script><script type=\"text/javascript\">if (window.MathJax) {MathJax.Hub.Config({SVG: {font: \"STIX-Web\"}});}</script>\n",
              "                <script type=\"text/javascript\">window.PlotlyConfig = {MathJaxConfig: 'local'};</script>\n",
              "        <script src=\"https://cdn.plot.ly/plotly-latest.min.js\"></script>    \n",
              "            <div id=\"f3b3be81-5b44-4b3d-8f1f-09182d5263fd\" class=\"plotly-graph-div\" style=\"height:525px; width:100%;\"></div>\n",
              "            <script type=\"text/javascript\">\n",
              "                \n",
              "                    window.PLOTLYENV=window.PLOTLYENV || {};\n",
              "                    \n",
              "                if (document.getElementById(\"f3b3be81-5b44-4b3d-8f1f-09182d5263fd\")) {\n",
              "                    Plotly.newPlot(\n",
              "                        'f3b3be81-5b44-4b3d-8f1f-09182d5263fd',\n",
              "                        [{\"alignmentgroup\": \"True\", \"bingroup\": \"x\", \"hoverlabel\": {\"namelength\": 0}, \"hovertemplate\": \"Precipit=%{x}<br>count=%{y}\", \"legendgroup\": \"\", \"marker\": {\"color\": \"#636efa\"}, \"name\": \"\", \"offsetgroup\": \"\", \"orientation\": \"v\", \"showlegend\": false, \"type\": \"histogram\", \"x\": [0.0, 4.33, 3.18, 2.37, 0.39, 0.44, 0.0, 0.0, 0.0, 0.0, 0.0, 0.0, 2.11, 0.0, 0.0, 0.0, 0.0, 0.0, 0.0, 0.0, 0.0, 0.02, 0.0, 0.0, 0.0, 0.06, 0.0, 0.0, 0.0, 0.0, 0.0, 0.0, 0.0, 0.0, 0.0, 0.0, 0.0, 0.0, 0.0, 0.28, 0.0, 0.0, 0.0, 0.0, 0.0, 0.0, 0.0, 0.0, 0.24, 0.22, 0.01, 0.0, 0.0, 0.0, 0.0, 0.0, 0.0, 0.22, 0.12, 0.0, 0.0, 0.0, 0.0, 0.0, 0.0, 0.0, 0.0, 0.0, 0.0, 0.0, 0.0, 0.0, 0.0, 0.0, 1.19, 1.3, 1.91, 1.57, 1.73, 0.19, 0.39, 0.53, 0.0, 0.33, 0.0, 0.0, 0.42, 0.74, 0.0, 0.0, 0.1, 0.0, 0.01, 0.0, 0.0, 0.0, 0.29, 0.02, 0.0, 0.0, 0.0, 0.04, 0.0, 0.0, 0.0, 0.1, 0.0, 0.0, 0.01, 0.0, 0.0, 0.0, 0.0, 0.0, 0.0, 0.0, 0.69, 0.53, 0.02, 0.0, 0.0, 0.0, 0.0, 0.0, 0.0, 0.0, 0.0, 0.0, 0.01, 0.0, 0.0, 0.0, 0.0, 0.11, 0.0, 0.0, 0.02, 0.0, 0.0, 0.0, 0.0, 0.0, 0.0, 0.0, 0.0, 0.0, 0.0, 0.0, 0.0, 0.0, 0.0, 0.0, 0.0, 0.0, 0.05, 0.0, 0.0, 0.0, 0.0, 1.53, 0.0, 0.0, 0.0, 0.0, 0.0, 0.0, 0.0, 0.0, 0.0, 0.0, 0.0, 0.04, 0.0, 0.0, 0.0, 0.0, 0.31, 0.0, 0.01, 0.0, 0.04, 0.01, 0.0, 0.0, 0.0, 0.54, 0.0, 1.1, 0.44, 0.0, 0.28, 0.0, 0.0, 0.0, 0.08, 0.0, 0.0, 0.0, 0.0, 0.11, 0.0, 0.0, 0.0, 0.0, 0.0, 0.05, 0.04, 0.0, 0.01, 0.0, 0.02, 0.0, 0.0, 0.0, 0.3, 0.07, 1.22, 0.0, 0.0, 0.0, 0.27, 0.0, 0.0, 0.0, 0.0, 0.0, 0.11, 0.07, 0.0, 0.16, 0.17, 1.81, 0.79, 0.42, 0.95, 0.05, 0.0, 0.0, 0.0, 0.0, 0.0, 0.0, 0.0, 0.0, 0.0, 0.0, 0.0, 0.0, 0.0, 0.03, 0.02, 0.0, 0.0, 0.0, 0.0, 0.0, 0.0, 0.0, 0.0, 0.78, 0.0, 0.0, 0.19, 0.0, 0.0, 1.39, 0.0, 0.0, 0.0, 0.0, 0.0, 0.01, 0.0, 0.0, 0.0, 0.0, 0.0, 0.09, 0.95, 0.24, 0.02, 0.0, 0.0, 0.0, 1.37, 0.0, 0.0, 0.0, 0.0, 0.0, 0.0, 0.0, 0.0, 0.0, 0.0, 0.0, 0.0, 1.28, 0.0, 0.0, 0.0, 0.0, 1.68, 0.0, 0.0, 0.07, 0.02, 0.0, 0.0, 0.0, 0.0, 0.0, 0.0, 0.0, 0.14, 0.73, 0.19, 0.0, 0.0, 0.0, 0.0, 0.23, 0.28, 0.01, 0.0, 0.0, 0.0, 0.0, 0.0, 0.0, 0.0, 0.0, 0.0, 0.01, 0.0, 0.0, 0.0, 0.2, 0.0, 0.0, 0.0, 0.0, 0.0, 0.02, 0.0, 0.33, 0.0, 0.0, 0.0, 0.0, 0.0, 0.0, 0.0, 0.01, 0.0, 0.04, 0.19, 0.02, 0.0, 0.0, 0.0, 0.0, 1.47, 0.0, 0.0, 0.18, 0.07, 0.03, 0.28, 0.92, 1.67, 0.15, 0.0, 0.0, 0.0, 0.0, 0.02, 0.02, 0.07, 0.0, 0.0, 0.0, 0.0, 0.0, 0.0, 0.0, 0.22, 0.07, 0.38, 2.34, 0.21, 0.0, 0.48, 0.0, 0.17, 0.0, 0.0, 0.0, 0.0, 0.0, 0.0, 0.0, 0.0, 0.0, 2.31, 0.5, 0.0, 0.02, 0.01, 0.0, 1.2, 0.0, 0.0, 0.68, 0.0, 0.0, 0.5, 0.9, 0.17, 0.0, 0.0, 0.0, 0.0, 0.0, 0.0, 0.0, 0.0, 0.0, 0.09, 0.03, 1.23, 0.39, 0.1, 5.71, 0.03, 0.0, 0.12, 0.0, 0.0, 0.0, 0.0, 0.0, 0.0, 0.0, 0.0, 0.0, 0.0, 0.0, 0.0, 0.15, 0.0, 0.89, 13.43, 10.75, 5.28, 0.91, 0.0, 0.0, 0.0, 0.0, 0.0, 0.0, 0.06, 0.0, 0.0, 0.0, 0.0, 0.0, 0.0, 0.0, 0.0, 0.0, 0.0, 0.0, 0.0, 0.42, 0.0, 0.48, 0.02, 0.0, 0.0, 0.01, 0.0, 0.0, 0.0, 0.24, 0.0, 0.0, 0.0, 0.01, 2.12, 0.0, 0.0, 0.0, 0.0, 0.0, 0.0, 0.0, 0.0, 0.0, 0.0, 0.0, 0.0, 0.0, 0.0, 0.0, 0.01, 0.01, 0.04, 0.97, 0.0, 0.0, 0.0, 0.0, 0.0, 0.0, 0.0, 0.0, 0.7, 0.0, 0.0, 0.0, 0.0, 0.0, 0.0, 0.0, 0.06, 0.0, 0.0, 0.0, 0.0, 0.0, 0.0, 0.0, 0.0, 0.0, 0.0, 0.0, 0.0, 0.0, 0.0, 0.0, 0.0, 0.0, 0.0, 0.0, 0.0, 0.0, 0.0, 0.0, 0.0, 0.55, 0.29, 0.09, 0.36, 0.51, 0.0, 0.0, 0.0, 0.0, 0.0, 0.0, 0.0, 0.0, 0.82, 0.0, 0.05, 0.75, 0.0, 0.0, 0.07, 0.0, 0.0, 0.0, 0.2, 0.02, 0.0, 0.0, 0.01, 0.0, 0.0, 0.0, 0.0, 0.0, 0.0, 0.0, 0.33, 0.0, 0.0, 0.01, 0.96, 0.0, 0.0, 0.0, 0.17, 0.18, 0.0, 0.0, 0.07, 0.02, 0.6, 0.0, 0.0, 0.0, 0.0, 0.23, 0.49, 0.0, 0.0, 0.0, 0.0, 0.0, 0.0, 0.04, 0.0, 0.02, 0.18, 0.19, 0.0, 0.98, 0.69, 0.0, 0.0, 0.6, 0.01, 0.0, 0.0, 0.0, 0.0, 0.0, 0.13, 1.61, 0.1, 0.01, 0.17, 1.0, 0.0, 0.0, 0.0, 0.01, 0.0, 0.0, 0.02, 0.0, 0.0, 0.0, 0.0, 0.0, 0.0, 0.01, 0.0, 0.0, 0.0, 0.0, 0.0, 0.0, 0.0, 0.0, 0.0, 0.0, 0.0, 0.0, 0.0, 0.0, 0.0, 0.04, 2.89, 0.0, 0.0, 0.0, 0.0, 0.0, 0.01, 0.0, 0.0, 0.29, 0.0, 0.01, 0.02, 0.0, 0.0, 0.0, 0.28, 0.17, 0.0, 0.0, 0.0, 0.0, 0.0, 0.0, 1.12, 0.0, 0.0, 0.0, 0.0, 0.0, 0.0, 0.0, 0.0, 0.0, 0.0, 0.0, 0.0, 1.33, 0.1, 0.0, 0.0, 0.0, 0.0, 0.0, 0.0, 0.0, 0.0, 0.0, 0.0, 0.0, 0.0, 0.0, 0.0, 1.06, 0.39, 0.16, 0.17, 0.0, 0.03, 0.59, 0.0, 0.0, 0.0, 0.0, 0.0, 0.0, 0.0, 0.01, 0.0, 0.0, 0.25, 0.0, 0.0, 0.0, 0.0, 0.0, 0.0, 0.0, 0.0, 0.0, 0.07, 1.21, 2.42, 0.73, 1.43, 0.0, 0.0, 0.0, 0.0, 0.51, 0.0, 0.0, 0.01, 0.0, 0.0, 0.0, 0.0, 0.04, 4.15, 0.05, 0.03, 0.0, 0.19, 0.0, 0.0, 0.0, 0.0, 0.0, 0.02, 0.0, 0.0, 0.0, 0.0, 0.0, 0.0, 0.0, 0.0, 0.0, 0.0, 0.0, 0.0, 0.0, 0.0, 0.0, 0.0, 1.56, 0.0, 0.0, 0.0, 0.04, 0.04, 0.47, 0.0, 0.0, 0.01, 0.0, 0.09, 0.0, 0.0, 0.0, 0.0, 0.0, 0.0, 0.0, 0.0, 0.0, 0.05, 0.0, 0.0, 0.0, 0.0, 0.0, 0.0, 0.0, 0.01, 0.0, 0.0, 0.19, 0.67, 0.33, 0.26, 0.0, 0.0, 1.33, 0.04, 0.01, 0.48, 0.03, 0.46, 0.56, 0.66, 0.0, 0.0, 0.0, 0.0, 0.0, 0.69, 0.41, 1.22, 0.0, 0.0, 0.17, 0.24, 0.0, 0.0, 0.83, 0.0, 0.9, 0.0, 0.03, 0.0, 0.0, 0.0, 0.02, 0.34, 0.1, 0.0, 0.0, 0.0, 0.0, 0.0, 0.97, 0.0, 1.02, 0.0, 0.55, 0.03, 0.0, 0.02, 0.38, 0.4, 0.0, 0.0, 0.0, 0.0, 0.0, 0.0, 2.26, 0.0, 0.0, 0.0, 0.71, 0.03, 0.0, 0.0, 0.13, 0.03, 0.0, 0.13, 0.06, 0.0, 0.0, 0.0, 0.0, 0.0, 0.3, 0.01, 0.0, 0.18, 0.0, 0.01, 0.0, 0.0, 0.0, 0.0, 0.0, 0.16, 0.01, 0.0, 0.0, 0.0, 0.0, 0.0, 0.03, 4.61, 0.09, 0.0, 0.0, 0.0, 0.68, 0.01, 0.0, 0.0, 0.0, 0.0, 0.08, 0.07, 0.0, 0.0, 0.0, 0.0, 0.0, 0.0, 1.3, 0.4, 0.0, 0.0, 0.32, 0.03, 0.0, 1.47, 0.16, 0.0, 0.0, 0.0, 0.0, 0.0, 0.0, 0.0, 0.61, 0.0, 0.0, 0.0, 0.0, 0.07, 0.0, 0.5, 0.0, 0.0, 0.0, 0.72, 0.23, 0.0, 0.0, 0.03, 0.0, 0.15, 0.0, 0.0, 0.14, 0.01, 0.05, 0.01, 0.0, 0.0, 0.0, 0.02, 0.0, 0.0, 0.1, 0.24, 0.0, 0.0, 0.0, 0.01, 0.01, 0.06, 0.0, 0.27, 0.0, 0.19, 0.0, 0.0, 0.0, 0.03, 0.56, 0.03, 0.14, 0.0, 0.08, 0.0, 0.0, 0.0, 0.0, 0.01, 0.0, 0.0, 0.0, 0.0, 0.0, 0.38, 0.0, 0.0, 0.0, 0.0, 0.0, 0.0, 0.0, 0.0, 0.0, 0.0, 0.0, 0.0, 0.0, 0.0, 0.0, 0.03, 0.0, 0.0, 0.0, 0.0, 0.34, 0.01, 0.0, 0.02, 0.97, 0.01, 0.0, 0.0, 0.04, 0.15, 0.19, 0.0, 0.0, 0.0, 0.78, 0.76, 0.0, 0.0, 0.0, 0.0, 0.02, 0.07, 0.0, 0.0, 0.0, 0.0, 0.0, 0.0, 0.0, 0.45, 0.88, 0.0, 0.0, 0.0, 1.92, 0.08, 3.15, 0.0, 0.4, 0.0, 0.0, 0.0, 0.0, 0.0, 0.0, 0.09, 0.0, 0.0, 0.0, 0.0, 0.0, 0.0, 0.0, 0.0, 0.0, 0.0, 0.0, 0.06, 0.13, 0.0, 0.0, 0.0, 0.74, 1.72, 0.0, 0.0, 0.0, 0.0, 0.0, 0.01, 0.0, 0.0, 0.0, 0.0, 1.51, 0.0, 0.0, 0.0, 0.0, 0.0, 0.02, 0.88, 0.42, 0.3, 0.02, 0.08, 0.38, 0.8, 0.0, 0.0, 0.13, 1.21, 0.0, 0.0, 0.0, 0.0, 0.31, 0.0, 0.0, 0.0, 0.0, 0.45, 0.0, 0.0, 0.0, 0.21, 0.0, 0.0, 0.01, 0.0, 0.0, 0.0, 0.0, 0.0, 0.0, 0.0, 0.04, 0.42, 0.01, 0.0, 0.0, 0.0, 0.0, 0.13, 0.0, 0.0, 0.0, 0.0, 0.0, 0.0, 0.0, 0.0, 0.0, 0.0, 0.0, 0.0, 0.0, 0.05, 0.0, 0.09, 0.0, 0.02, 0.16, 0.01, 1.5, 0.0, 0.0, 0.29, 0.17, 0.0, 0.0, 0.0, 0.0, 0.0, 0.0, 0.0, 0.0, 0.0, 0.0, 0.0, 1.63, 0.05, 0.05, 0.0, 0.0, 0.0, 0.05, 1.15, 1.39, 9.21, 0.88, 0.0, 0.0, 0.26, 0.0, 0.0, 0.0, 0.28, 0.0, 0.0, 0.0, 0.0, 0.0, 0.02, 0.0, 0.0, 0.0, 0.0, 0.0, 0.0, 0.0, 0.49, 0.0, 0.0, 0.11, 1.03, 0.0, 0.0, 0.0, 0.0, 0.26, 0.35, 0.0, 0.0, 0.93, 0.26, 0.0, 0.0, 0.0, 2.11, 0.24, 0.0, 0.0, 0.0, 0.0, 0.0, 0.0, 0.0, 0.0, 0.01, 0.0, 0.0, 0.01, 0.0, 0.0, 0.16, 0.0, 0.0, 0.0, 0.0, 0.0, 0.0, 0.03, 0.01, 0.0, 0.0, 0.0, 0.0, 0.0, 0.0, 0.0, 0.07, 0.0, 0.0, 0.0, 0.0, 0.0, 0.0, 0.0, 0.0, 0.01, 0.22, 0.0, 0.0, 0.0, 0.0, 0.0, 0.06, 0.0, 0.0, 0.0, 0.02, 0.0, 0.0, 0.0, 0.0, 0.0, 0.0, 0.0, 0.12, 0.71, 0.0, 0.0, 0.12, 0.19, 0.0, 0.0, 0.0, 0.0, 0.0, 0.0, 0.0, 1.11, 0.0, 0.0, 0.12, 0.23, 0.0, 0.01, 0.01, 0.01, 0.0, 0.0, 0.0, 1.4, 0.0, 0.0, 0.13, 0.0, 0.0, 0.51, 0.0, 0.0, 0.0, 0.0, 0.0, 0.0, 0.0, 0.09, 0.0, 0.0, 0.0, 0.11, 0.03, 0.05, 0.01, 0.0, 0.0, 0.0, 0.0, 0.01, 0.0, 0.09, 0.5, 0.0, 0.0, 0.34, 0.35, 0.0, 0.0, 0.0, 0.0, 0.0, 0.04, 0.0, 0.02, 0.11, 0.0, 0.0, 0.0, 0.0, 0.0, 0.6, 0.0, 0.0, 0.0, 0.0, 0.0, 0.0, 0.0, 0.0, 0.04, 1.04, 0.36, 0.01, 0.0, 0.0, 0.0, 0.0, 0.0, 0.04, 0.0, 0.02, 0.0, 0.0, 0.0, 0.57, 0.77, 0.0, 0.27, 0.0, 0.0, 1.57, 0.0, 0.0, 0.01, 0.0, 0.0, 0.0, 0.0, 0.0, 1.14, 0.84, 0.0, 0.0, 0.0, 0.0, 0.11, 0.0, 0.0, 0.0, 0.87, 0.05, 0.0, 0.0, 0.0, 0.0, 0.0, 0.25, 0.0, 0.0, 0.0, 0.0, 0.0, 0.0, 0.0, 0.02, 0.02, 0.42, 0.03, 0.01, 0.0, 0.0, 0.0, 0.0, 0.0, 0.0, 1.63, 0.44, 0.0, 0.63, 0.0, 0.0, 0.0, 0.11, 0.0, 0.0, 1.02, 0.1, 0.0, 0.02, 0.0, 0.0, 0.09, 0.0, 0.0, 0.0, 0.0, 0.0, 0.0, 0.0, 0.0, 0.0, 0.0, 0.13, 0.0, 1.22, 0.42, 1.12, 0.39, 0.0, 0.0, 0.0, 0.0, 0.0, 0.0, 0.0, 0.0, 0.0, 0.0, 0.0], \"xaxis\": \"x\", \"yaxis\": \"y\"}, {\"alignmentgroup\": \"True\", \"hoverlabel\": {\"namelength\": 0}, \"hovertemplate\": \"Precipit=%{x}\", \"legendgroup\": \"\", \"marker\": {\"color\": \"#636efa\"}, \"name\": \"\", \"notched\": true, \"offsetgroup\": \"\", \"showlegend\": false, \"type\": \"box\", \"x\": [0.0, 4.33, 3.18, 2.37, 0.39, 0.44, 0.0, 0.0, 0.0, 0.0, 0.0, 0.0, 2.11, 0.0, 0.0, 0.0, 0.0, 0.0, 0.0, 0.0, 0.0, 0.02, 0.0, 0.0, 0.0, 0.06, 0.0, 0.0, 0.0, 0.0, 0.0, 0.0, 0.0, 0.0, 0.0, 0.0, 0.0, 0.0, 0.0, 0.28, 0.0, 0.0, 0.0, 0.0, 0.0, 0.0, 0.0, 0.0, 0.24, 0.22, 0.01, 0.0, 0.0, 0.0, 0.0, 0.0, 0.0, 0.22, 0.12, 0.0, 0.0, 0.0, 0.0, 0.0, 0.0, 0.0, 0.0, 0.0, 0.0, 0.0, 0.0, 0.0, 0.0, 0.0, 1.19, 1.3, 1.91, 1.57, 1.73, 0.19, 0.39, 0.53, 0.0, 0.33, 0.0, 0.0, 0.42, 0.74, 0.0, 0.0, 0.1, 0.0, 0.01, 0.0, 0.0, 0.0, 0.29, 0.02, 0.0, 0.0, 0.0, 0.04, 0.0, 0.0, 0.0, 0.1, 0.0, 0.0, 0.01, 0.0, 0.0, 0.0, 0.0, 0.0, 0.0, 0.0, 0.69, 0.53, 0.02, 0.0, 0.0, 0.0, 0.0, 0.0, 0.0, 0.0, 0.0, 0.0, 0.01, 0.0, 0.0, 0.0, 0.0, 0.11, 0.0, 0.0, 0.02, 0.0, 0.0, 0.0, 0.0, 0.0, 0.0, 0.0, 0.0, 0.0, 0.0, 0.0, 0.0, 0.0, 0.0, 0.0, 0.0, 0.0, 0.05, 0.0, 0.0, 0.0, 0.0, 1.53, 0.0, 0.0, 0.0, 0.0, 0.0, 0.0, 0.0, 0.0, 0.0, 0.0, 0.0, 0.04, 0.0, 0.0, 0.0, 0.0, 0.31, 0.0, 0.01, 0.0, 0.04, 0.01, 0.0, 0.0, 0.0, 0.54, 0.0, 1.1, 0.44, 0.0, 0.28, 0.0, 0.0, 0.0, 0.08, 0.0, 0.0, 0.0, 0.0, 0.11, 0.0, 0.0, 0.0, 0.0, 0.0, 0.05, 0.04, 0.0, 0.01, 0.0, 0.02, 0.0, 0.0, 0.0, 0.3, 0.07, 1.22, 0.0, 0.0, 0.0, 0.27, 0.0, 0.0, 0.0, 0.0, 0.0, 0.11, 0.07, 0.0, 0.16, 0.17, 1.81, 0.79, 0.42, 0.95, 0.05, 0.0, 0.0, 0.0, 0.0, 0.0, 0.0, 0.0, 0.0, 0.0, 0.0, 0.0, 0.0, 0.0, 0.03, 0.02, 0.0, 0.0, 0.0, 0.0, 0.0, 0.0, 0.0, 0.0, 0.78, 0.0, 0.0, 0.19, 0.0, 0.0, 1.39, 0.0, 0.0, 0.0, 0.0, 0.0, 0.01, 0.0, 0.0, 0.0, 0.0, 0.0, 0.09, 0.95, 0.24, 0.02, 0.0, 0.0, 0.0, 1.37, 0.0, 0.0, 0.0, 0.0, 0.0, 0.0, 0.0, 0.0, 0.0, 0.0, 0.0, 0.0, 1.28, 0.0, 0.0, 0.0, 0.0, 1.68, 0.0, 0.0, 0.07, 0.02, 0.0, 0.0, 0.0, 0.0, 0.0, 0.0, 0.0, 0.14, 0.73, 0.19, 0.0, 0.0, 0.0, 0.0, 0.23, 0.28, 0.01, 0.0, 0.0, 0.0, 0.0, 0.0, 0.0, 0.0, 0.0, 0.0, 0.01, 0.0, 0.0, 0.0, 0.2, 0.0, 0.0, 0.0, 0.0, 0.0, 0.02, 0.0, 0.33, 0.0, 0.0, 0.0, 0.0, 0.0, 0.0, 0.0, 0.01, 0.0, 0.04, 0.19, 0.02, 0.0, 0.0, 0.0, 0.0, 1.47, 0.0, 0.0, 0.18, 0.07, 0.03, 0.28, 0.92, 1.67, 0.15, 0.0, 0.0, 0.0, 0.0, 0.02, 0.02, 0.07, 0.0, 0.0, 0.0, 0.0, 0.0, 0.0, 0.0, 0.22, 0.07, 0.38, 2.34, 0.21, 0.0, 0.48, 0.0, 0.17, 0.0, 0.0, 0.0, 0.0, 0.0, 0.0, 0.0, 0.0, 0.0, 2.31, 0.5, 0.0, 0.02, 0.01, 0.0, 1.2, 0.0, 0.0, 0.68, 0.0, 0.0, 0.5, 0.9, 0.17, 0.0, 0.0, 0.0, 0.0, 0.0, 0.0, 0.0, 0.0, 0.0, 0.09, 0.03, 1.23, 0.39, 0.1, 5.71, 0.03, 0.0, 0.12, 0.0, 0.0, 0.0, 0.0, 0.0, 0.0, 0.0, 0.0, 0.0, 0.0, 0.0, 0.0, 0.15, 0.0, 0.89, 13.43, 10.75, 5.28, 0.91, 0.0, 0.0, 0.0, 0.0, 0.0, 0.0, 0.06, 0.0, 0.0, 0.0, 0.0, 0.0, 0.0, 0.0, 0.0, 0.0, 0.0, 0.0, 0.0, 0.42, 0.0, 0.48, 0.02, 0.0, 0.0, 0.01, 0.0, 0.0, 0.0, 0.24, 0.0, 0.0, 0.0, 0.01, 2.12, 0.0, 0.0, 0.0, 0.0, 0.0, 0.0, 0.0, 0.0, 0.0, 0.0, 0.0, 0.0, 0.0, 0.0, 0.0, 0.01, 0.01, 0.04, 0.97, 0.0, 0.0, 0.0, 0.0, 0.0, 0.0, 0.0, 0.0, 0.7, 0.0, 0.0, 0.0, 0.0, 0.0, 0.0, 0.0, 0.06, 0.0, 0.0, 0.0, 0.0, 0.0, 0.0, 0.0, 0.0, 0.0, 0.0, 0.0, 0.0, 0.0, 0.0, 0.0, 0.0, 0.0, 0.0, 0.0, 0.0, 0.0, 0.0, 0.0, 0.0, 0.55, 0.29, 0.09, 0.36, 0.51, 0.0, 0.0, 0.0, 0.0, 0.0, 0.0, 0.0, 0.0, 0.82, 0.0, 0.05, 0.75, 0.0, 0.0, 0.07, 0.0, 0.0, 0.0, 0.2, 0.02, 0.0, 0.0, 0.01, 0.0, 0.0, 0.0, 0.0, 0.0, 0.0, 0.0, 0.33, 0.0, 0.0, 0.01, 0.96, 0.0, 0.0, 0.0, 0.17, 0.18, 0.0, 0.0, 0.07, 0.02, 0.6, 0.0, 0.0, 0.0, 0.0, 0.23, 0.49, 0.0, 0.0, 0.0, 0.0, 0.0, 0.0, 0.04, 0.0, 0.02, 0.18, 0.19, 0.0, 0.98, 0.69, 0.0, 0.0, 0.6, 0.01, 0.0, 0.0, 0.0, 0.0, 0.0, 0.13, 1.61, 0.1, 0.01, 0.17, 1.0, 0.0, 0.0, 0.0, 0.01, 0.0, 0.0, 0.02, 0.0, 0.0, 0.0, 0.0, 0.0, 0.0, 0.01, 0.0, 0.0, 0.0, 0.0, 0.0, 0.0, 0.0, 0.0, 0.0, 0.0, 0.0, 0.0, 0.0, 0.0, 0.0, 0.04, 2.89, 0.0, 0.0, 0.0, 0.0, 0.0, 0.01, 0.0, 0.0, 0.29, 0.0, 0.01, 0.02, 0.0, 0.0, 0.0, 0.28, 0.17, 0.0, 0.0, 0.0, 0.0, 0.0, 0.0, 1.12, 0.0, 0.0, 0.0, 0.0, 0.0, 0.0, 0.0, 0.0, 0.0, 0.0, 0.0, 0.0, 1.33, 0.1, 0.0, 0.0, 0.0, 0.0, 0.0, 0.0, 0.0, 0.0, 0.0, 0.0, 0.0, 0.0, 0.0, 0.0, 1.06, 0.39, 0.16, 0.17, 0.0, 0.03, 0.59, 0.0, 0.0, 0.0, 0.0, 0.0, 0.0, 0.0, 0.01, 0.0, 0.0, 0.25, 0.0, 0.0, 0.0, 0.0, 0.0, 0.0, 0.0, 0.0, 0.0, 0.07, 1.21, 2.42, 0.73, 1.43, 0.0, 0.0, 0.0, 0.0, 0.51, 0.0, 0.0, 0.01, 0.0, 0.0, 0.0, 0.0, 0.04, 4.15, 0.05, 0.03, 0.0, 0.19, 0.0, 0.0, 0.0, 0.0, 0.0, 0.02, 0.0, 0.0, 0.0, 0.0, 0.0, 0.0, 0.0, 0.0, 0.0, 0.0, 0.0, 0.0, 0.0, 0.0, 0.0, 0.0, 1.56, 0.0, 0.0, 0.0, 0.04, 0.04, 0.47, 0.0, 0.0, 0.01, 0.0, 0.09, 0.0, 0.0, 0.0, 0.0, 0.0, 0.0, 0.0, 0.0, 0.0, 0.05, 0.0, 0.0, 0.0, 0.0, 0.0, 0.0, 0.0, 0.01, 0.0, 0.0, 0.19, 0.67, 0.33, 0.26, 0.0, 0.0, 1.33, 0.04, 0.01, 0.48, 0.03, 0.46, 0.56, 0.66, 0.0, 0.0, 0.0, 0.0, 0.0, 0.69, 0.41, 1.22, 0.0, 0.0, 0.17, 0.24, 0.0, 0.0, 0.83, 0.0, 0.9, 0.0, 0.03, 0.0, 0.0, 0.0, 0.02, 0.34, 0.1, 0.0, 0.0, 0.0, 0.0, 0.0, 0.97, 0.0, 1.02, 0.0, 0.55, 0.03, 0.0, 0.02, 0.38, 0.4, 0.0, 0.0, 0.0, 0.0, 0.0, 0.0, 2.26, 0.0, 0.0, 0.0, 0.71, 0.03, 0.0, 0.0, 0.13, 0.03, 0.0, 0.13, 0.06, 0.0, 0.0, 0.0, 0.0, 0.0, 0.3, 0.01, 0.0, 0.18, 0.0, 0.01, 0.0, 0.0, 0.0, 0.0, 0.0, 0.16, 0.01, 0.0, 0.0, 0.0, 0.0, 0.0, 0.03, 4.61, 0.09, 0.0, 0.0, 0.0, 0.68, 0.01, 0.0, 0.0, 0.0, 0.0, 0.08, 0.07, 0.0, 0.0, 0.0, 0.0, 0.0, 0.0, 1.3, 0.4, 0.0, 0.0, 0.32, 0.03, 0.0, 1.47, 0.16, 0.0, 0.0, 0.0, 0.0, 0.0, 0.0, 0.0, 0.61, 0.0, 0.0, 0.0, 0.0, 0.07, 0.0, 0.5, 0.0, 0.0, 0.0, 0.72, 0.23, 0.0, 0.0, 0.03, 0.0, 0.15, 0.0, 0.0, 0.14, 0.01, 0.05, 0.01, 0.0, 0.0, 0.0, 0.02, 0.0, 0.0, 0.1, 0.24, 0.0, 0.0, 0.0, 0.01, 0.01, 0.06, 0.0, 0.27, 0.0, 0.19, 0.0, 0.0, 0.0, 0.03, 0.56, 0.03, 0.14, 0.0, 0.08, 0.0, 0.0, 0.0, 0.0, 0.01, 0.0, 0.0, 0.0, 0.0, 0.0, 0.38, 0.0, 0.0, 0.0, 0.0, 0.0, 0.0, 0.0, 0.0, 0.0, 0.0, 0.0, 0.0, 0.0, 0.0, 0.0, 0.03, 0.0, 0.0, 0.0, 0.0, 0.34, 0.01, 0.0, 0.02, 0.97, 0.01, 0.0, 0.0, 0.04, 0.15, 0.19, 0.0, 0.0, 0.0, 0.78, 0.76, 0.0, 0.0, 0.0, 0.0, 0.02, 0.07, 0.0, 0.0, 0.0, 0.0, 0.0, 0.0, 0.0, 0.45, 0.88, 0.0, 0.0, 0.0, 1.92, 0.08, 3.15, 0.0, 0.4, 0.0, 0.0, 0.0, 0.0, 0.0, 0.0, 0.09, 0.0, 0.0, 0.0, 0.0, 0.0, 0.0, 0.0, 0.0, 0.0, 0.0, 0.0, 0.06, 0.13, 0.0, 0.0, 0.0, 0.74, 1.72, 0.0, 0.0, 0.0, 0.0, 0.0, 0.01, 0.0, 0.0, 0.0, 0.0, 1.51, 0.0, 0.0, 0.0, 0.0, 0.0, 0.02, 0.88, 0.42, 0.3, 0.02, 0.08, 0.38, 0.8, 0.0, 0.0, 0.13, 1.21, 0.0, 0.0, 0.0, 0.0, 0.31, 0.0, 0.0, 0.0, 0.0, 0.45, 0.0, 0.0, 0.0, 0.21, 0.0, 0.0, 0.01, 0.0, 0.0, 0.0, 0.0, 0.0, 0.0, 0.0, 0.04, 0.42, 0.01, 0.0, 0.0, 0.0, 0.0, 0.13, 0.0, 0.0, 0.0, 0.0, 0.0, 0.0, 0.0, 0.0, 0.0, 0.0, 0.0, 0.0, 0.0, 0.05, 0.0, 0.09, 0.0, 0.02, 0.16, 0.01, 1.5, 0.0, 0.0, 0.29, 0.17, 0.0, 0.0, 0.0, 0.0, 0.0, 0.0, 0.0, 0.0, 0.0, 0.0, 0.0, 1.63, 0.05, 0.05, 0.0, 0.0, 0.0, 0.05, 1.15, 1.39, 9.21, 0.88, 0.0, 0.0, 0.26, 0.0, 0.0, 0.0, 0.28, 0.0, 0.0, 0.0, 0.0, 0.0, 0.02, 0.0, 0.0, 0.0, 0.0, 0.0, 0.0, 0.0, 0.49, 0.0, 0.0, 0.11, 1.03, 0.0, 0.0, 0.0, 0.0, 0.26, 0.35, 0.0, 0.0, 0.93, 0.26, 0.0, 0.0, 0.0, 2.11, 0.24, 0.0, 0.0, 0.0, 0.0, 0.0, 0.0, 0.0, 0.0, 0.01, 0.0, 0.0, 0.01, 0.0, 0.0, 0.16, 0.0, 0.0, 0.0, 0.0, 0.0, 0.0, 0.03, 0.01, 0.0, 0.0, 0.0, 0.0, 0.0, 0.0, 0.0, 0.07, 0.0, 0.0, 0.0, 0.0, 0.0, 0.0, 0.0, 0.0, 0.01, 0.22, 0.0, 0.0, 0.0, 0.0, 0.0, 0.06, 0.0, 0.0, 0.0, 0.02, 0.0, 0.0, 0.0, 0.0, 0.0, 0.0, 0.0, 0.12, 0.71, 0.0, 0.0, 0.12, 0.19, 0.0, 0.0, 0.0, 0.0, 0.0, 0.0, 0.0, 1.11, 0.0, 0.0, 0.12, 0.23, 0.0, 0.01, 0.01, 0.01, 0.0, 0.0, 0.0, 1.4, 0.0, 0.0, 0.13, 0.0, 0.0, 0.51, 0.0, 0.0, 0.0, 0.0, 0.0, 0.0, 0.0, 0.09, 0.0, 0.0, 0.0, 0.11, 0.03, 0.05, 0.01, 0.0, 0.0, 0.0, 0.0, 0.01, 0.0, 0.09, 0.5, 0.0, 0.0, 0.34, 0.35, 0.0, 0.0, 0.0, 0.0, 0.0, 0.04, 0.0, 0.02, 0.11, 0.0, 0.0, 0.0, 0.0, 0.0, 0.6, 0.0, 0.0, 0.0, 0.0, 0.0, 0.0, 0.0, 0.0, 0.04, 1.04, 0.36, 0.01, 0.0, 0.0, 0.0, 0.0, 0.0, 0.04, 0.0, 0.02, 0.0, 0.0, 0.0, 0.57, 0.77, 0.0, 0.27, 0.0, 0.0, 1.57, 0.0, 0.0, 0.01, 0.0, 0.0, 0.0, 0.0, 0.0, 1.14, 0.84, 0.0, 0.0, 0.0, 0.0, 0.11, 0.0, 0.0, 0.0, 0.87, 0.05, 0.0, 0.0, 0.0, 0.0, 0.0, 0.25, 0.0, 0.0, 0.0, 0.0, 0.0, 0.0, 0.0, 0.02, 0.02, 0.42, 0.03, 0.01, 0.0, 0.0, 0.0, 0.0, 0.0, 0.0, 1.63, 0.44, 0.0, 0.63, 0.0, 0.0, 0.0, 0.11, 0.0, 0.0, 1.02, 0.1, 0.0, 0.02, 0.0, 0.0, 0.09, 0.0, 0.0, 0.0, 0.0, 0.0, 0.0, 0.0, 0.0, 0.0, 0.0, 0.13, 0.0, 1.22, 0.42, 1.12, 0.39, 0.0, 0.0, 0.0, 0.0, 0.0, 0.0, 0.0, 0.0, 0.0, 0.0, 0.0], \"xaxis\": \"x2\", \"yaxis\": \"y2\"}],\n",
              "                        {\"bargap\": 0.1, \"barmode\": \"relative\", \"legend\": {\"tracegroupgap\": 0}, \"template\": {\"data\": {\"bar\": [{\"error_x\": {\"color\": \"#2a3f5f\"}, \"error_y\": {\"color\": \"#2a3f5f\"}, \"marker\": {\"line\": {\"color\": \"#E5ECF6\", \"width\": 0.5}}, \"type\": \"bar\"}], \"barpolar\": [{\"marker\": {\"line\": {\"color\": \"#E5ECF6\", \"width\": 0.5}}, \"type\": \"barpolar\"}], \"carpet\": [{\"aaxis\": {\"endlinecolor\": \"#2a3f5f\", \"gridcolor\": \"white\", \"linecolor\": \"white\", \"minorgridcolor\": \"white\", \"startlinecolor\": \"#2a3f5f\"}, \"baxis\": {\"endlinecolor\": \"#2a3f5f\", \"gridcolor\": \"white\", \"linecolor\": \"white\", \"minorgridcolor\": \"white\", \"startlinecolor\": \"#2a3f5f\"}, \"type\": \"carpet\"}], \"choropleth\": [{\"colorbar\": {\"outlinewidth\": 0, \"ticks\": \"\"}, \"type\": \"choropleth\"}], \"contour\": [{\"colorbar\": {\"outlinewidth\": 0, \"ticks\": \"\"}, \"colorscale\": [[0.0, \"#0d0887\"], [0.1111111111111111, \"#46039f\"], [0.2222222222222222, \"#7201a8\"], [0.3333333333333333, \"#9c179e\"], [0.4444444444444444, \"#bd3786\"], [0.5555555555555556, \"#d8576b\"], [0.6666666666666666, \"#ed7953\"], [0.7777777777777778, \"#fb9f3a\"], [0.8888888888888888, \"#fdca26\"], [1.0, \"#f0f921\"]], \"type\": \"contour\"}], \"contourcarpet\": [{\"colorbar\": {\"outlinewidth\": 0, \"ticks\": \"\"}, \"type\": \"contourcarpet\"}], \"heatmap\": [{\"colorbar\": {\"outlinewidth\": 0, \"ticks\": \"\"}, \"colorscale\": [[0.0, \"#0d0887\"], [0.1111111111111111, \"#46039f\"], [0.2222222222222222, \"#7201a8\"], [0.3333333333333333, \"#9c179e\"], [0.4444444444444444, \"#bd3786\"], [0.5555555555555556, \"#d8576b\"], [0.6666666666666666, \"#ed7953\"], [0.7777777777777778, \"#fb9f3a\"], [0.8888888888888888, \"#fdca26\"], [1.0, \"#f0f921\"]], \"type\": \"heatmap\"}], \"heatmapgl\": [{\"colorbar\": {\"outlinewidth\": 0, \"ticks\": \"\"}, \"colorscale\": [[0.0, \"#0d0887\"], [0.1111111111111111, \"#46039f\"], [0.2222222222222222, \"#7201a8\"], [0.3333333333333333, \"#9c179e\"], [0.4444444444444444, \"#bd3786\"], [0.5555555555555556, \"#d8576b\"], [0.6666666666666666, \"#ed7953\"], [0.7777777777777778, \"#fb9f3a\"], [0.8888888888888888, \"#fdca26\"], [1.0, \"#f0f921\"]], \"type\": \"heatmapgl\"}], \"histogram\": [{\"marker\": {\"colorbar\": {\"outlinewidth\": 0, \"ticks\": \"\"}}, \"type\": \"histogram\"}], \"histogram2d\": [{\"colorbar\": {\"outlinewidth\": 0, \"ticks\": \"\"}, \"colorscale\": [[0.0, \"#0d0887\"], [0.1111111111111111, \"#46039f\"], [0.2222222222222222, \"#7201a8\"], [0.3333333333333333, \"#9c179e\"], [0.4444444444444444, \"#bd3786\"], [0.5555555555555556, \"#d8576b\"], [0.6666666666666666, \"#ed7953\"], [0.7777777777777778, \"#fb9f3a\"], [0.8888888888888888, \"#fdca26\"], [1.0, \"#f0f921\"]], \"type\": \"histogram2d\"}], \"histogram2dcontour\": [{\"colorbar\": {\"outlinewidth\": 0, \"ticks\": \"\"}, \"colorscale\": [[0.0, \"#0d0887\"], [0.1111111111111111, \"#46039f\"], [0.2222222222222222, \"#7201a8\"], [0.3333333333333333, \"#9c179e\"], [0.4444444444444444, \"#bd3786\"], [0.5555555555555556, \"#d8576b\"], [0.6666666666666666, \"#ed7953\"], [0.7777777777777778, \"#fb9f3a\"], [0.8888888888888888, \"#fdca26\"], [1.0, \"#f0f921\"]], \"type\": \"histogram2dcontour\"}], \"mesh3d\": [{\"colorbar\": {\"outlinewidth\": 0, \"ticks\": \"\"}, \"type\": \"mesh3d\"}], \"parcoords\": [{\"line\": {\"colorbar\": {\"outlinewidth\": 0, \"ticks\": \"\"}}, \"type\": \"parcoords\"}], \"pie\": [{\"automargin\": true, \"type\": \"pie\"}], \"scatter\": [{\"marker\": {\"colorbar\": {\"outlinewidth\": 0, \"ticks\": \"\"}}, \"type\": \"scatter\"}], \"scatter3d\": [{\"line\": {\"colorbar\": {\"outlinewidth\": 0, \"ticks\": \"\"}}, \"marker\": {\"colorbar\": {\"outlinewidth\": 0, \"ticks\": \"\"}}, \"type\": \"scatter3d\"}], \"scattercarpet\": [{\"marker\": {\"colorbar\": {\"outlinewidth\": 0, \"ticks\": \"\"}}, \"type\": \"scattercarpet\"}], \"scattergeo\": [{\"marker\": {\"colorbar\": {\"outlinewidth\": 0, \"ticks\": \"\"}}, \"type\": \"scattergeo\"}], \"scattergl\": [{\"marker\": {\"colorbar\": {\"outlinewidth\": 0, \"ticks\": \"\"}}, \"type\": \"scattergl\"}], \"scattermapbox\": [{\"marker\": {\"colorbar\": {\"outlinewidth\": 0, \"ticks\": \"\"}}, \"type\": \"scattermapbox\"}], \"scatterpolar\": [{\"marker\": {\"colorbar\": {\"outlinewidth\": 0, \"ticks\": \"\"}}, \"type\": \"scatterpolar\"}], \"scatterpolargl\": [{\"marker\": {\"colorbar\": {\"outlinewidth\": 0, \"ticks\": \"\"}}, \"type\": \"scatterpolargl\"}], \"scatterternary\": [{\"marker\": {\"colorbar\": {\"outlinewidth\": 0, \"ticks\": \"\"}}, \"type\": \"scatterternary\"}], \"surface\": [{\"colorbar\": {\"outlinewidth\": 0, \"ticks\": \"\"}, \"colorscale\": [[0.0, \"#0d0887\"], [0.1111111111111111, \"#46039f\"], [0.2222222222222222, \"#7201a8\"], [0.3333333333333333, \"#9c179e\"], [0.4444444444444444, \"#bd3786\"], [0.5555555555555556, \"#d8576b\"], [0.6666666666666666, \"#ed7953\"], [0.7777777777777778, \"#fb9f3a\"], [0.8888888888888888, \"#fdca26\"], [1.0, \"#f0f921\"]], \"type\": \"surface\"}], \"table\": [{\"cells\": {\"fill\": {\"color\": \"#EBF0F8\"}, \"line\": {\"color\": \"white\"}}, \"header\": {\"fill\": {\"color\": \"#C8D4E3\"}, \"line\": {\"color\": \"white\"}}, \"type\": \"table\"}]}, \"layout\": {\"annotationdefaults\": {\"arrowcolor\": \"#2a3f5f\", \"arrowhead\": 0, \"arrowwidth\": 1}, \"coloraxis\": {\"colorbar\": {\"outlinewidth\": 0, \"ticks\": \"\"}}, \"colorscale\": {\"diverging\": [[0, \"#8e0152\"], [0.1, \"#c51b7d\"], [0.2, \"#de77ae\"], [0.3, \"#f1b6da\"], [0.4, \"#fde0ef\"], [0.5, \"#f7f7f7\"], [0.6, \"#e6f5d0\"], [0.7, \"#b8e186\"], [0.8, \"#7fbc41\"], [0.9, \"#4d9221\"], [1, \"#276419\"]], \"sequential\": [[0.0, \"#0d0887\"], [0.1111111111111111, \"#46039f\"], [0.2222222222222222, \"#7201a8\"], [0.3333333333333333, \"#9c179e\"], [0.4444444444444444, \"#bd3786\"], [0.5555555555555556, \"#d8576b\"], [0.6666666666666666, \"#ed7953\"], [0.7777777777777778, \"#fb9f3a\"], [0.8888888888888888, \"#fdca26\"], [1.0, \"#f0f921\"]], \"sequentialminus\": [[0.0, \"#0d0887\"], [0.1111111111111111, \"#46039f\"], [0.2222222222222222, \"#7201a8\"], [0.3333333333333333, \"#9c179e\"], [0.4444444444444444, \"#bd3786\"], [0.5555555555555556, \"#d8576b\"], [0.6666666666666666, \"#ed7953\"], [0.7777777777777778, \"#fb9f3a\"], [0.8888888888888888, \"#fdca26\"], [1.0, \"#f0f921\"]]}, \"colorway\": [\"#636efa\", \"#EF553B\", \"#00cc96\", \"#ab63fa\", \"#FFA15A\", \"#19d3f3\", \"#FF6692\", \"#B6E880\", \"#FF97FF\", \"#FECB52\"], \"font\": {\"color\": \"#2a3f5f\"}, \"geo\": {\"bgcolor\": \"white\", \"lakecolor\": \"white\", \"landcolor\": \"#E5ECF6\", \"showlakes\": true, \"showland\": true, \"subunitcolor\": \"white\"}, \"hoverlabel\": {\"align\": \"left\"}, \"hovermode\": \"closest\", \"mapbox\": {\"style\": \"light\"}, \"paper_bgcolor\": \"white\", \"plot_bgcolor\": \"#E5ECF6\", \"polar\": {\"angularaxis\": {\"gridcolor\": \"white\", \"linecolor\": \"white\", \"ticks\": \"\"}, \"bgcolor\": \"#E5ECF6\", \"radialaxis\": {\"gridcolor\": \"white\", \"linecolor\": \"white\", \"ticks\": \"\"}}, \"scene\": {\"xaxis\": {\"backgroundcolor\": \"#E5ECF6\", \"gridcolor\": \"white\", \"gridwidth\": 2, \"linecolor\": \"white\", \"showbackground\": true, \"ticks\": \"\", \"zerolinecolor\": \"white\"}, \"yaxis\": {\"backgroundcolor\": \"#E5ECF6\", \"gridcolor\": \"white\", \"gridwidth\": 2, \"linecolor\": \"white\", \"showbackground\": true, \"ticks\": \"\", \"zerolinecolor\": \"white\"}, \"zaxis\": {\"backgroundcolor\": \"#E5ECF6\", \"gridcolor\": \"white\", \"gridwidth\": 2, \"linecolor\": \"white\", \"showbackground\": true, \"ticks\": \"\", \"zerolinecolor\": \"white\"}}, \"shapedefaults\": {\"line\": {\"color\": \"#2a3f5f\"}}, \"ternary\": {\"aaxis\": {\"gridcolor\": \"white\", \"linecolor\": \"white\", \"ticks\": \"\"}, \"baxis\": {\"gridcolor\": \"white\", \"linecolor\": \"white\", \"ticks\": \"\"}, \"bgcolor\": \"#E5ECF6\", \"caxis\": {\"gridcolor\": \"white\", \"linecolor\": \"white\", \"ticks\": \"\"}}, \"title\": {\"x\": 0.05}, \"xaxis\": {\"automargin\": true, \"gridcolor\": \"white\", \"linecolor\": \"white\", \"ticks\": \"\", \"title\": {\"standoff\": 15}, \"zerolinecolor\": \"white\", \"zerolinewidth\": 2}, \"yaxis\": {\"automargin\": true, \"gridcolor\": \"white\", \"linecolor\": \"white\", \"ticks\": \"\", \"title\": {\"standoff\": 15}, \"zerolinecolor\": \"white\", \"zerolinewidth\": 2}}}, \"title\": {\"text\": \"Distribution of Precipitation\"}, \"xaxis\": {\"anchor\": \"y\", \"domain\": [0.0, 1.0], \"title\": {\"text\": \"Precipit\"}}, \"xaxis2\": {\"anchor\": \"y2\", \"domain\": [0.0, 1.0], \"matches\": \"x\", \"showgrid\": true, \"showticklabels\": false}, \"yaxis\": {\"anchor\": \"x\", \"domain\": [0.0, 0.8316], \"title\": {\"text\": \"count\"}}, \"yaxis2\": {\"anchor\": \"x2\", \"domain\": [0.8416, 1.0], \"matches\": \"y2\", \"showgrid\": false, \"showline\": false, \"showticklabels\": false, \"ticks\": \"\"}},\n",
              "                        {\"responsive\": true}\n",
              "                    ).then(function(){\n",
              "                            \n",
              "var gd = document.getElementById('f3b3be81-5b44-4b3d-8f1f-09182d5263fd');\n",
              "var x = new MutationObserver(function (mutations, observer) {{\n",
              "        var display = window.getComputedStyle(gd).display;\n",
              "        if (!display || display === 'none') {{\n",
              "            console.log([gd, 'removed!']);\n",
              "            Plotly.purge(gd);\n",
              "            observer.disconnect();\n",
              "        }}\n",
              "}});\n",
              "\n",
              "// Listen for the removal of the full notebook cells\n",
              "var notebookContainer = gd.closest('#notebook-container');\n",
              "if (notebookContainer) {{\n",
              "    x.observe(notebookContainer, {childList: true});\n",
              "}}\n",
              "\n",
              "// Listen for the clearing of the current output cell\n",
              "var outputEl = gd.closest('.output');\n",
              "if (outputEl) {{\n",
              "    x.observe(outputEl, {childList: true});\n",
              "}}\n",
              "\n",
              "                        })\n",
              "                };\n",
              "                \n",
              "            </script>\n",
              "        </div>\n",
              "</body>\n",
              "</html>"
            ]
          },
          "metadata": {
            "tags": []
          }
        }
      ],
      "metadata": {
        "colab": {
          "base_uri": "https://localhost:8080/",
          "height": 0
        },
        "id": "QOKqYU9yHjMM",
        "outputId": "f5ad9566-1086-4d01-e984-3c11fbb57acf"
      }
    },
    {
      "cell_type": "markdown",
      "source": [
        "# Imputing Missing Values"
      ],
      "metadata": {
        "id": "GRrEqwVlh1ac"
      }
    },
    {
      "cell_type": "code",
      "execution_count": 33,
      "source": [
        "!pip install numpy --quiet"
      ],
      "outputs": [],
      "metadata": {
        "id": "BueJ8haSnmn7"
      }
    },
    {
      "cell_type": "code",
      "execution_count": 34,
      "source": [
        "import numpy as np"
      ],
      "outputs": [],
      "metadata": {
        "id": "em6cd3Y4nmY0"
      }
    },
    {
      "cell_type": "code",
      "execution_count": 35,
      "source": [
        "numeric_cols = df.select_dtypes(include=np.number).columns.tolist()[1:-2]\n",
        "categorical_cols = df.select_dtypes('object').columns.tolist()"
      ],
      "outputs": [],
      "metadata": {
        "id": "Awl9ldKdnmL6"
      }
    },
    {
      "cell_type": "code",
      "execution_count": 36,
      "source": [
        "df[numeric_cols].describe()"
      ],
      "outputs": [
        {
          "output_type": "execute_result",
          "data": {
            "text/plain": [
              "          Temp_max     Temp_avg  ...    Press_min     Precipit\n",
              "count  1498.000000  1498.000000  ...  1498.000000  1498.000000\n",
              "mean     80.786382    71.277236  ...    29.814753     0.160067\n",
              "std      12.652164    12.443023  ...     0.787233     0.668120\n",
              "min      34.000000    27.600000  ...     0.000000     0.000000\n",
              "25%      73.000000    62.900000  ...    29.700000     0.000000\n",
              "50%      83.000000    73.800000  ...    29.800000     0.000000\n",
              "75%      91.000000    81.600000  ...    29.900000     0.020000\n",
              "max     101.000000    90.000000  ...    30.500000    13.430000\n",
              "\n",
              "[8 rows x 16 columns]"
            ],
            "text/html": [
              "<div>\n",
              "<style scoped>\n",
              "    .dataframe tbody tr th:only-of-type {\n",
              "        vertical-align: middle;\n",
              "    }\n",
              "\n",
              "    .dataframe tbody tr th {\n",
              "        vertical-align: top;\n",
              "    }\n",
              "\n",
              "    .dataframe thead th {\n",
              "        text-align: right;\n",
              "    }\n",
              "</style>\n",
              "<table border=\"1\" class=\"dataframe\">\n",
              "  <thead>\n",
              "    <tr style=\"text-align: right;\">\n",
              "      <th></th>\n",
              "      <th>Temp_max</th>\n",
              "      <th>Temp_avg</th>\n",
              "      <th>Temp_min</th>\n",
              "      <th>Dew_max</th>\n",
              "      <th>Dew_avg</th>\n",
              "      <th>Dew_min</th>\n",
              "      <th>Hum_max</th>\n",
              "      <th>Hum_avg</th>\n",
              "      <th>Hum_min</th>\n",
              "      <th>Wind_max</th>\n",
              "      <th>Wind_avg</th>\n",
              "      <th>Wind_min</th>\n",
              "      <th>Press_max</th>\n",
              "      <th>Press_avg</th>\n",
              "      <th>Press_min</th>\n",
              "      <th>Precipit</th>\n",
              "    </tr>\n",
              "  </thead>\n",
              "  <tbody>\n",
              "    <tr>\n",
              "      <th>count</th>\n",
              "      <td>1498.000000</td>\n",
              "      <td>1498.000000</td>\n",
              "      <td>1498.000000</td>\n",
              "      <td>1498.000000</td>\n",
              "      <td>1498.000000</td>\n",
              "      <td>1498.000000</td>\n",
              "      <td>1498.000000</td>\n",
              "      <td>1498.000000</td>\n",
              "      <td>1498.000000</td>\n",
              "      <td>1498.000000</td>\n",
              "      <td>1498.000000</td>\n",
              "      <td>1498.000000</td>\n",
              "      <td>1498.000000</td>\n",
              "      <td>1498.000000</td>\n",
              "      <td>1498.000000</td>\n",
              "      <td>1498.000000</td>\n",
              "    </tr>\n",
              "    <tr>\n",
              "      <th>mean</th>\n",
              "      <td>80.786382</td>\n",
              "      <td>71.277236</td>\n",
              "      <td>62.888518</td>\n",
              "      <td>66.261015</td>\n",
              "      <td>61.734579</td>\n",
              "      <td>56.506676</td>\n",
              "      <td>92.624166</td>\n",
              "      <td>74.487517</td>\n",
              "      <td>51.401869</td>\n",
              "      <td>15.899866</td>\n",
              "      <td>7.769025</td>\n",
              "      <td>1.391188</td>\n",
              "      <td>29.977303</td>\n",
              "      <td>29.906142</td>\n",
              "      <td>29.814753</td>\n",
              "      <td>0.160067</td>\n",
              "    </tr>\n",
              "    <tr>\n",
              "      <th>std</th>\n",
              "      <td>12.652164</td>\n",
              "      <td>12.443023</td>\n",
              "      <td>13.493124</td>\n",
              "      <td>12.348885</td>\n",
              "      <td>13.685235</td>\n",
              "      <td>15.229231</td>\n",
              "      <td>7.748873</td>\n",
              "      <td>11.810572</td>\n",
              "      <td>15.718254</td>\n",
              "      <td>4.853153</td>\n",
              "      <td>3.007910</td>\n",
              "      <td>2.516049</td>\n",
              "      <td>0.167357</td>\n",
              "      <td>0.162033</td>\n",
              "      <td>0.787233</td>\n",
              "      <td>0.668120</td>\n",
              "    </tr>\n",
              "    <tr>\n",
              "      <th>min</th>\n",
              "      <td>34.000000</td>\n",
              "      <td>27.600000</td>\n",
              "      <td>19.000000</td>\n",
              "      <td>18.000000</td>\n",
              "      <td>13.200000</td>\n",
              "      <td>10.000000</td>\n",
              "      <td>50.000000</td>\n",
              "      <td>31.500000</td>\n",
              "      <td>15.000000</td>\n",
              "      <td>6.000000</td>\n",
              "      <td>1.600000</td>\n",
              "      <td>0.000000</td>\n",
              "      <td>29.500000</td>\n",
              "      <td>28.800000</td>\n",
              "      <td>0.000000</td>\n",
              "      <td>0.000000</td>\n",
              "    </tr>\n",
              "    <tr>\n",
              "      <th>25%</th>\n",
              "      <td>73.000000</td>\n",
              "      <td>62.900000</td>\n",
              "      <td>52.000000</td>\n",
              "      <td>60.250000</td>\n",
              "      <td>53.500000</td>\n",
              "      <td>45.000000</td>\n",
              "      <td>90.000000</td>\n",
              "      <td>67.500000</td>\n",
              "      <td>41.000000</td>\n",
              "      <td>13.000000</td>\n",
              "      <td>5.700000</td>\n",
              "      <td>0.000000</td>\n",
              "      <td>29.900000</td>\n",
              "      <td>29.800000</td>\n",
              "      <td>29.700000</td>\n",
              "      <td>0.000000</td>\n",
              "    </tr>\n",
              "    <tr>\n",
              "      <th>50%</th>\n",
              "      <td>83.000000</td>\n",
              "      <td>73.800000</td>\n",
              "      <td>67.000000</td>\n",
              "      <td>70.000000</td>\n",
              "      <td>65.950000</td>\n",
              "      <td>62.000000</td>\n",
              "      <td>94.000000</td>\n",
              "      <td>75.200000</td>\n",
              "      <td>50.000000</td>\n",
              "      <td>15.000000</td>\n",
              "      <td>7.300000</td>\n",
              "      <td>0.000000</td>\n",
              "      <td>29.900000</td>\n",
              "      <td>29.900000</td>\n",
              "      <td>29.800000</td>\n",
              "      <td>0.000000</td>\n",
              "    </tr>\n",
              "    <tr>\n",
              "      <th>75%</th>\n",
              "      <td>91.000000</td>\n",
              "      <td>81.600000</td>\n",
              "      <td>75.000000</td>\n",
              "      <td>76.000000</td>\n",
              "      <td>73.100000</td>\n",
              "      <td>70.000000</td>\n",
              "      <td>100.000000</td>\n",
              "      <td>82.800000</td>\n",
              "      <td>61.000000</td>\n",
              "      <td>18.000000</td>\n",
              "      <td>9.500000</td>\n",
              "      <td>3.000000</td>\n",
              "      <td>30.100000</td>\n",
              "      <td>30.000000</td>\n",
              "      <td>29.900000</td>\n",
              "      <td>0.020000</td>\n",
              "    </tr>\n",
              "    <tr>\n",
              "      <th>max</th>\n",
              "      <td>101.000000</td>\n",
              "      <td>90.000000</td>\n",
              "      <td>83.000000</td>\n",
              "      <td>83.000000</td>\n",
              "      <td>79.800000</td>\n",
              "      <td>78.000000</td>\n",
              "      <td>100.000000</td>\n",
              "      <td>99.900000</td>\n",
              "      <td>97.000000</td>\n",
              "      <td>39.000000</td>\n",
              "      <td>23.900000</td>\n",
              "      <td>17.000000</td>\n",
              "      <td>30.600000</td>\n",
              "      <td>30.600000</td>\n",
              "      <td>30.500000</td>\n",
              "      <td>13.430000</td>\n",
              "    </tr>\n",
              "  </tbody>\n",
              "</table>\n",
              "</div>"
            ]
          },
          "metadata": {
            "tags": []
          },
          "execution_count": 36
        }
      ],
      "metadata": {
        "colab": {
          "base_uri": "https://localhost:8080/",
          "height": 0
        },
        "id": "agbqKnzDns6-",
        "outputId": "7f8825c8-9955-4337-bacc-df25b9b03c99"
      }
    },
    {
      "cell_type": "code",
      "execution_count": 37,
      "source": [
        "from sklearn.impute import SimpleImputer"
      ],
      "outputs": [],
      "metadata": {
        "id": "lEWuC3SPhmT1"
      }
    },
    {
      "cell_type": "code",
      "execution_count": 38,
      "source": [
        "imputer = SimpleImputer(strategy = 'mean')"
      ],
      "outputs": [],
      "metadata": {
        "id": "gpg--Jyghzrb"
      }
    },
    {
      "cell_type": "code",
      "execution_count": 39,
      "source": [
        "imputer.fit(df[numeric_cols])"
      ],
      "outputs": [
        {
          "output_type": "execute_result",
          "data": {
            "text/plain": [
              "SimpleImputer(add_indicator=False, copy=True, fill_value=None,\n",
              "              missing_values=nan, strategy='mean', verbose=0)"
            ]
          },
          "metadata": {
            "tags": []
          },
          "execution_count": 39
        }
      ],
      "metadata": {
        "colab": {
          "base_uri": "https://localhost:8080/"
        },
        "id": "6qrCvNszhz4n",
        "outputId": "04462c1a-e893-4b5b-9f59-9741d115ebf1"
      }
    },
    {
      "cell_type": "code",
      "execution_count": 40,
      "source": [
        "list(imputer.statistics_)"
      ],
      "outputs": [
        {
          "output_type": "execute_result",
          "data": {
            "text/plain": [
              "[80.7863818424566,\n",
              " 71.27723631508677,\n",
              " 62.888518024032045,\n",
              " 66.26101468624833,\n",
              " 61.734579439252336,\n",
              " 56.50667556742323,\n",
              " 92.62416555407209,\n",
              " 74.48751668891855,\n",
              " 51.401869158878505,\n",
              " 15.899866488651535,\n",
              " 7.769025367156209,\n",
              " 1.3911882510013351,\n",
              " 29.977303070761014,\n",
              " 29.906141522029372,\n",
              " 29.81475300400534,\n",
              " 0.16006675567423234]"
            ]
          },
          "metadata": {
            "tags": []
          },
          "execution_count": 40
        }
      ],
      "metadata": {
        "colab": {
          "base_uri": "https://localhost:8080/"
        },
        "id": "t_u1V5nhh0HI",
        "outputId": "d2b28f95-0974-4b96-bd81-c697737de9c3"
      }
    },
    {
      "cell_type": "markdown",
      "source": [
        "# Scaling Numeric Columns"
      ],
      "metadata": {
        "id": "tFREBkMYIyKD"
      }
    },
    {
      "cell_type": "code",
      "execution_count": 41,
      "source": [
        "df[numeric_cols].describe()"
      ],
      "outputs": [
        {
          "output_type": "execute_result",
          "data": {
            "text/plain": [
              "          Temp_max     Temp_avg  ...    Press_min     Precipit\n",
              "count  1498.000000  1498.000000  ...  1498.000000  1498.000000\n",
              "mean     80.786382    71.277236  ...    29.814753     0.160067\n",
              "std      12.652164    12.443023  ...     0.787233     0.668120\n",
              "min      34.000000    27.600000  ...     0.000000     0.000000\n",
              "25%      73.000000    62.900000  ...    29.700000     0.000000\n",
              "50%      83.000000    73.800000  ...    29.800000     0.000000\n",
              "75%      91.000000    81.600000  ...    29.900000     0.020000\n",
              "max     101.000000    90.000000  ...    30.500000    13.430000\n",
              "\n",
              "[8 rows x 16 columns]"
            ],
            "text/html": [
              "<div>\n",
              "<style scoped>\n",
              "    .dataframe tbody tr th:only-of-type {\n",
              "        vertical-align: middle;\n",
              "    }\n",
              "\n",
              "    .dataframe tbody tr th {\n",
              "        vertical-align: top;\n",
              "    }\n",
              "\n",
              "    .dataframe thead th {\n",
              "        text-align: right;\n",
              "    }\n",
              "</style>\n",
              "<table border=\"1\" class=\"dataframe\">\n",
              "  <thead>\n",
              "    <tr style=\"text-align: right;\">\n",
              "      <th></th>\n",
              "      <th>Temp_max</th>\n",
              "      <th>Temp_avg</th>\n",
              "      <th>Temp_min</th>\n",
              "      <th>Dew_max</th>\n",
              "      <th>Dew_avg</th>\n",
              "      <th>Dew_min</th>\n",
              "      <th>Hum_max</th>\n",
              "      <th>Hum_avg</th>\n",
              "      <th>Hum_min</th>\n",
              "      <th>Wind_max</th>\n",
              "      <th>Wind_avg</th>\n",
              "      <th>Wind_min</th>\n",
              "      <th>Press_max</th>\n",
              "      <th>Press_avg</th>\n",
              "      <th>Press_min</th>\n",
              "      <th>Precipit</th>\n",
              "    </tr>\n",
              "  </thead>\n",
              "  <tbody>\n",
              "    <tr>\n",
              "      <th>count</th>\n",
              "      <td>1498.000000</td>\n",
              "      <td>1498.000000</td>\n",
              "      <td>1498.000000</td>\n",
              "      <td>1498.000000</td>\n",
              "      <td>1498.000000</td>\n",
              "      <td>1498.000000</td>\n",
              "      <td>1498.000000</td>\n",
              "      <td>1498.000000</td>\n",
              "      <td>1498.000000</td>\n",
              "      <td>1498.000000</td>\n",
              "      <td>1498.000000</td>\n",
              "      <td>1498.000000</td>\n",
              "      <td>1498.000000</td>\n",
              "      <td>1498.000000</td>\n",
              "      <td>1498.000000</td>\n",
              "      <td>1498.000000</td>\n",
              "    </tr>\n",
              "    <tr>\n",
              "      <th>mean</th>\n",
              "      <td>80.786382</td>\n",
              "      <td>71.277236</td>\n",
              "      <td>62.888518</td>\n",
              "      <td>66.261015</td>\n",
              "      <td>61.734579</td>\n",
              "      <td>56.506676</td>\n",
              "      <td>92.624166</td>\n",
              "      <td>74.487517</td>\n",
              "      <td>51.401869</td>\n",
              "      <td>15.899866</td>\n",
              "      <td>7.769025</td>\n",
              "      <td>1.391188</td>\n",
              "      <td>29.977303</td>\n",
              "      <td>29.906142</td>\n",
              "      <td>29.814753</td>\n",
              "      <td>0.160067</td>\n",
              "    </tr>\n",
              "    <tr>\n",
              "      <th>std</th>\n",
              "      <td>12.652164</td>\n",
              "      <td>12.443023</td>\n",
              "      <td>13.493124</td>\n",
              "      <td>12.348885</td>\n",
              "      <td>13.685235</td>\n",
              "      <td>15.229231</td>\n",
              "      <td>7.748873</td>\n",
              "      <td>11.810572</td>\n",
              "      <td>15.718254</td>\n",
              "      <td>4.853153</td>\n",
              "      <td>3.007910</td>\n",
              "      <td>2.516049</td>\n",
              "      <td>0.167357</td>\n",
              "      <td>0.162033</td>\n",
              "      <td>0.787233</td>\n",
              "      <td>0.668120</td>\n",
              "    </tr>\n",
              "    <tr>\n",
              "      <th>min</th>\n",
              "      <td>34.000000</td>\n",
              "      <td>27.600000</td>\n",
              "      <td>19.000000</td>\n",
              "      <td>18.000000</td>\n",
              "      <td>13.200000</td>\n",
              "      <td>10.000000</td>\n",
              "      <td>50.000000</td>\n",
              "      <td>31.500000</td>\n",
              "      <td>15.000000</td>\n",
              "      <td>6.000000</td>\n",
              "      <td>1.600000</td>\n",
              "      <td>0.000000</td>\n",
              "      <td>29.500000</td>\n",
              "      <td>28.800000</td>\n",
              "      <td>0.000000</td>\n",
              "      <td>0.000000</td>\n",
              "    </tr>\n",
              "    <tr>\n",
              "      <th>25%</th>\n",
              "      <td>73.000000</td>\n",
              "      <td>62.900000</td>\n",
              "      <td>52.000000</td>\n",
              "      <td>60.250000</td>\n",
              "      <td>53.500000</td>\n",
              "      <td>45.000000</td>\n",
              "      <td>90.000000</td>\n",
              "      <td>67.500000</td>\n",
              "      <td>41.000000</td>\n",
              "      <td>13.000000</td>\n",
              "      <td>5.700000</td>\n",
              "      <td>0.000000</td>\n",
              "      <td>29.900000</td>\n",
              "      <td>29.800000</td>\n",
              "      <td>29.700000</td>\n",
              "      <td>0.000000</td>\n",
              "    </tr>\n",
              "    <tr>\n",
              "      <th>50%</th>\n",
              "      <td>83.000000</td>\n",
              "      <td>73.800000</td>\n",
              "      <td>67.000000</td>\n",
              "      <td>70.000000</td>\n",
              "      <td>65.950000</td>\n",
              "      <td>62.000000</td>\n",
              "      <td>94.000000</td>\n",
              "      <td>75.200000</td>\n",
              "      <td>50.000000</td>\n",
              "      <td>15.000000</td>\n",
              "      <td>7.300000</td>\n",
              "      <td>0.000000</td>\n",
              "      <td>29.900000</td>\n",
              "      <td>29.900000</td>\n",
              "      <td>29.800000</td>\n",
              "      <td>0.000000</td>\n",
              "    </tr>\n",
              "    <tr>\n",
              "      <th>75%</th>\n",
              "      <td>91.000000</td>\n",
              "      <td>81.600000</td>\n",
              "      <td>75.000000</td>\n",
              "      <td>76.000000</td>\n",
              "      <td>73.100000</td>\n",
              "      <td>70.000000</td>\n",
              "      <td>100.000000</td>\n",
              "      <td>82.800000</td>\n",
              "      <td>61.000000</td>\n",
              "      <td>18.000000</td>\n",
              "      <td>9.500000</td>\n",
              "      <td>3.000000</td>\n",
              "      <td>30.100000</td>\n",
              "      <td>30.000000</td>\n",
              "      <td>29.900000</td>\n",
              "      <td>0.020000</td>\n",
              "    </tr>\n",
              "    <tr>\n",
              "      <th>max</th>\n",
              "      <td>101.000000</td>\n",
              "      <td>90.000000</td>\n",
              "      <td>83.000000</td>\n",
              "      <td>83.000000</td>\n",
              "      <td>79.800000</td>\n",
              "      <td>78.000000</td>\n",
              "      <td>100.000000</td>\n",
              "      <td>99.900000</td>\n",
              "      <td>97.000000</td>\n",
              "      <td>39.000000</td>\n",
              "      <td>23.900000</td>\n",
              "      <td>17.000000</td>\n",
              "      <td>30.600000</td>\n",
              "      <td>30.600000</td>\n",
              "      <td>30.500000</td>\n",
              "      <td>13.430000</td>\n",
              "    </tr>\n",
              "  </tbody>\n",
              "</table>\n",
              "</div>"
            ]
          },
          "metadata": {
            "tags": []
          },
          "execution_count": 41
        }
      ],
      "metadata": {
        "colab": {
          "base_uri": "https://localhost:8080/",
          "height": 0
        },
        "id": "I9y0jE3WJlud",
        "outputId": "688b4972-918a-4b25-da66-2960f81408bb"
      }
    },
    {
      "cell_type": "code",
      "execution_count": 42,
      "source": [
        "from sklearn.preprocessing import MinMaxScaler"
      ],
      "outputs": [],
      "metadata": {
        "id": "Q7jpL6m4J9dt"
      }
    },
    {
      "cell_type": "code",
      "execution_count": 43,
      "source": [
        "scaler = MinMaxScaler()"
      ],
      "outputs": [],
      "metadata": {
        "id": "aAnyyrlBKLEi"
      }
    },
    {
      "cell_type": "code",
      "execution_count": 44,
      "source": [
        "scaler.fit(df[numeric_cols])"
      ],
      "outputs": [
        {
          "output_type": "execute_result",
          "data": {
            "text/plain": [
              "MinMaxScaler(copy=True, feature_range=(0, 1))"
            ]
          },
          "metadata": {
            "tags": []
          },
          "execution_count": 44
        }
      ],
      "metadata": {
        "colab": {
          "base_uri": "https://localhost:8080/"
        },
        "id": "CKJLuPxuKPUb",
        "outputId": "6e58f7e6-07ed-4dad-c97e-91f877a48102"
      }
    },
    {
      "cell_type": "code",
      "execution_count": 45,
      "source": [
        "df[numeric_cols] = scaler.transform(df[numeric_cols])"
      ],
      "outputs": [
        {
          "output_type": "stream",
          "name": "stderr",
          "text": [
            "/usr/local/lib/python3.7/dist-packages/pandas/core/frame.py:3673: SettingWithCopyWarning:\n",
            "\n",
            "\n",
            "A value is trying to be set on a copy of a slice from a DataFrame.\n",
            "Try using .loc[row_indexer,col_indexer] = value instead\n",
            "\n",
            "See the caveats in the documentation: https://pandas.pydata.org/pandas-docs/stable/user_guide/indexing.html#returning-a-view-versus-a-copy\n",
            "\n"
          ]
        }
      ],
      "metadata": {
        "colab": {
          "base_uri": "https://localhost:8080/"
        },
        "id": "RNbu6v4YKXex",
        "outputId": "f3812ad9-b903-43d6-9cf4-d8349015dadf"
      }
    },
    {
      "cell_type": "code",
      "execution_count": 46,
      "source": [
        "df[numeric_cols].describe()"
      ],
      "outputs": [
        {
          "output_type": "execute_result",
          "data": {
            "text/plain": [
              "          Temp_max     Temp_avg  ...    Press_min     Precipit\n",
              "count  1498.000000  1498.000000  ...  1498.000000  1498.000000\n",
              "mean      0.698304     0.699956  ...     0.977533     0.011919\n",
              "std       0.188838     0.199407  ...     0.025811     0.049748\n",
              "min       0.000000     0.000000  ...     0.000000     0.000000\n",
              "25%       0.582090     0.565705  ...     0.973770     0.000000\n",
              "50%       0.731343     0.740385  ...     0.977049     0.000000\n",
              "75%       0.850746     0.865385  ...     0.980328     0.001489\n",
              "max       1.000000     1.000000  ...     1.000000     1.000000\n",
              "\n",
              "[8 rows x 16 columns]"
            ],
            "text/html": [
              "<div>\n",
              "<style scoped>\n",
              "    .dataframe tbody tr th:only-of-type {\n",
              "        vertical-align: middle;\n",
              "    }\n",
              "\n",
              "    .dataframe tbody tr th {\n",
              "        vertical-align: top;\n",
              "    }\n",
              "\n",
              "    .dataframe thead th {\n",
              "        text-align: right;\n",
              "    }\n",
              "</style>\n",
              "<table border=\"1\" class=\"dataframe\">\n",
              "  <thead>\n",
              "    <tr style=\"text-align: right;\">\n",
              "      <th></th>\n",
              "      <th>Temp_max</th>\n",
              "      <th>Temp_avg</th>\n",
              "      <th>Temp_min</th>\n",
              "      <th>Dew_max</th>\n",
              "      <th>Dew_avg</th>\n",
              "      <th>Dew_min</th>\n",
              "      <th>Hum_max</th>\n",
              "      <th>Hum_avg</th>\n",
              "      <th>Hum_min</th>\n",
              "      <th>Wind_max</th>\n",
              "      <th>Wind_avg</th>\n",
              "      <th>Wind_min</th>\n",
              "      <th>Press_max</th>\n",
              "      <th>Press_avg</th>\n",
              "      <th>Press_min</th>\n",
              "      <th>Precipit</th>\n",
              "    </tr>\n",
              "  </thead>\n",
              "  <tbody>\n",
              "    <tr>\n",
              "      <th>count</th>\n",
              "      <td>1498.000000</td>\n",
              "      <td>1498.000000</td>\n",
              "      <td>1498.000000</td>\n",
              "      <td>1498.000000</td>\n",
              "      <td>1498.000000</td>\n",
              "      <td>1498.000000</td>\n",
              "      <td>1498.000000</td>\n",
              "      <td>1498.000000</td>\n",
              "      <td>1498.000000</td>\n",
              "      <td>1498.000000</td>\n",
              "      <td>1498.000000</td>\n",
              "      <td>1498.000000</td>\n",
              "      <td>1498.000000</td>\n",
              "      <td>1498.000000</td>\n",
              "      <td>1498.000000</td>\n",
              "      <td>1498.000000</td>\n",
              "    </tr>\n",
              "    <tr>\n",
              "      <th>mean</th>\n",
              "      <td>0.698304</td>\n",
              "      <td>0.699956</td>\n",
              "      <td>0.685758</td>\n",
              "      <td>0.742477</td>\n",
              "      <td>0.728747</td>\n",
              "      <td>0.683922</td>\n",
              "      <td>0.852483</td>\n",
              "      <td>0.628472</td>\n",
              "      <td>0.443925</td>\n",
              "      <td>0.299996</td>\n",
              "      <td>0.276638</td>\n",
              "      <td>0.081835</td>\n",
              "      <td>0.433912</td>\n",
              "      <td>0.614523</td>\n",
              "      <td>0.977533</td>\n",
              "      <td>0.011919</td>\n",
              "    </tr>\n",
              "    <tr>\n",
              "      <th>std</th>\n",
              "      <td>0.188838</td>\n",
              "      <td>0.199407</td>\n",
              "      <td>0.210830</td>\n",
              "      <td>0.189983</td>\n",
              "      <td>0.205484</td>\n",
              "      <td>0.223959</td>\n",
              "      <td>0.154977</td>\n",
              "      <td>0.172669</td>\n",
              "      <td>0.191686</td>\n",
              "      <td>0.147065</td>\n",
              "      <td>0.134884</td>\n",
              "      <td>0.148003</td>\n",
              "      <td>0.152142</td>\n",
              "      <td>0.090019</td>\n",
              "      <td>0.025811</td>\n",
              "      <td>0.049748</td>\n",
              "    </tr>\n",
              "    <tr>\n",
              "      <th>min</th>\n",
              "      <td>0.000000</td>\n",
              "      <td>0.000000</td>\n",
              "      <td>0.000000</td>\n",
              "      <td>0.000000</td>\n",
              "      <td>0.000000</td>\n",
              "      <td>0.000000</td>\n",
              "      <td>0.000000</td>\n",
              "      <td>0.000000</td>\n",
              "      <td>0.000000</td>\n",
              "      <td>0.000000</td>\n",
              "      <td>0.000000</td>\n",
              "      <td>0.000000</td>\n",
              "      <td>0.000000</td>\n",
              "      <td>0.000000</td>\n",
              "      <td>0.000000</td>\n",
              "      <td>0.000000</td>\n",
              "    </tr>\n",
              "    <tr>\n",
              "      <th>25%</th>\n",
              "      <td>0.582090</td>\n",
              "      <td>0.565705</td>\n",
              "      <td>0.515625</td>\n",
              "      <td>0.650000</td>\n",
              "      <td>0.605105</td>\n",
              "      <td>0.514706</td>\n",
              "      <td>0.800000</td>\n",
              "      <td>0.526316</td>\n",
              "      <td>0.317073</td>\n",
              "      <td>0.212121</td>\n",
              "      <td>0.183857</td>\n",
              "      <td>0.000000</td>\n",
              "      <td>0.363636</td>\n",
              "      <td>0.555556</td>\n",
              "      <td>0.973770</td>\n",
              "      <td>0.000000</td>\n",
              "    </tr>\n",
              "    <tr>\n",
              "      <th>50%</th>\n",
              "      <td>0.731343</td>\n",
              "      <td>0.740385</td>\n",
              "      <td>0.750000</td>\n",
              "      <td>0.800000</td>\n",
              "      <td>0.792042</td>\n",
              "      <td>0.764706</td>\n",
              "      <td>0.880000</td>\n",
              "      <td>0.638889</td>\n",
              "      <td>0.426829</td>\n",
              "      <td>0.272727</td>\n",
              "      <td>0.255605</td>\n",
              "      <td>0.000000</td>\n",
              "      <td>0.363636</td>\n",
              "      <td>0.611111</td>\n",
              "      <td>0.977049</td>\n",
              "      <td>0.000000</td>\n",
              "    </tr>\n",
              "    <tr>\n",
              "      <th>75%</th>\n",
              "      <td>0.850746</td>\n",
              "      <td>0.865385</td>\n",
              "      <td>0.875000</td>\n",
              "      <td>0.892308</td>\n",
              "      <td>0.899399</td>\n",
              "      <td>0.882353</td>\n",
              "      <td>1.000000</td>\n",
              "      <td>0.750000</td>\n",
              "      <td>0.560976</td>\n",
              "      <td>0.363636</td>\n",
              "      <td>0.354260</td>\n",
              "      <td>0.176471</td>\n",
              "      <td>0.545455</td>\n",
              "      <td>0.666667</td>\n",
              "      <td>0.980328</td>\n",
              "      <td>0.001489</td>\n",
              "    </tr>\n",
              "    <tr>\n",
              "      <th>max</th>\n",
              "      <td>1.000000</td>\n",
              "      <td>1.000000</td>\n",
              "      <td>1.000000</td>\n",
              "      <td>1.000000</td>\n",
              "      <td>1.000000</td>\n",
              "      <td>1.000000</td>\n",
              "      <td>1.000000</td>\n",
              "      <td>1.000000</td>\n",
              "      <td>1.000000</td>\n",
              "      <td>1.000000</td>\n",
              "      <td>1.000000</td>\n",
              "      <td>1.000000</td>\n",
              "      <td>1.000000</td>\n",
              "      <td>1.000000</td>\n",
              "      <td>1.000000</td>\n",
              "      <td>1.000000</td>\n",
              "    </tr>\n",
              "  </tbody>\n",
              "</table>\n",
              "</div>"
            ]
          },
          "metadata": {
            "tags": []
          },
          "execution_count": 46
        }
      ],
      "metadata": {
        "colab": {
          "base_uri": "https://localhost:8080/",
          "height": 0
        },
        "id": "SSRWFPchKszK",
        "outputId": "63e57603-8cd6-44a2-c485-17fb907c7fdc"
      }
    },
    {
      "cell_type": "markdown",
      "source": [
        "# Encoding Categorical Data"
      ],
      "metadata": {
        "id": "_qCzlwGiK7qN"
      }
    },
    {
      "cell_type": "code",
      "execution_count": 47,
      "source": [
        "df[categorical_cols].nunique()"
      ],
      "outputs": [
        {
          "output_type": "execute_result",
          "data": {
            "text/plain": [
              "tags    4\n",
              "dtype: int64"
            ]
          },
          "metadata": {
            "tags": []
          },
          "execution_count": 47
        }
      ],
      "metadata": {
        "colab": {
          "base_uri": "https://localhost:8080/"
        },
        "id": "rmad05WHK04v",
        "outputId": "7e6910ca-49c4-43cb-c5ca-0d7f4ff8634a"
      }
    },
    {
      "cell_type": "code",
      "execution_count": 48,
      "source": [
        "from sklearn.preprocessing import OneHotEncoder"
      ],
      "outputs": [],
      "metadata": {
        "id": "XKBNNRpeLMVF"
      }
    },
    {
      "cell_type": "code",
      "execution_count": 49,
      "source": [
        "encoder = OneHotEncoder(sparse=False, handle_unknown='ignore')"
      ],
      "outputs": [],
      "metadata": {
        "id": "a8WZgU9CLcsc"
      }
    },
    {
      "cell_type": "code",
      "execution_count": 50,
      "source": [
        "encoder.fit(df[categorical_cols])"
      ],
      "outputs": [
        {
          "output_type": "execute_result",
          "data": {
            "text/plain": [
              "OneHotEncoder(categories='auto', drop=None, dtype=<class 'numpy.float64'>,\n",
              "              handle_unknown='ignore', sparse=False)"
            ]
          },
          "metadata": {
            "tags": []
          },
          "execution_count": 50
        }
      ],
      "metadata": {
        "colab": {
          "base_uri": "https://localhost:8080/"
        },
        "id": "i_3A1XltLRxy",
        "outputId": "b39fe0a5-be3c-4dc0-efe2-644777ca5d96"
      }
    },
    {
      "cell_type": "code",
      "execution_count": 51,
      "source": [
        "encoder.categories_"
      ],
      "outputs": [
        {
          "output_type": "execute_result",
          "data": {
            "text/plain": [
              "[array(['COVID_lockdown', 'vacation', 'weekday', 'weekend'], dtype=object)]"
            ]
          },
          "metadata": {
            "tags": []
          },
          "execution_count": 51
        }
      ],
      "metadata": {
        "colab": {
          "base_uri": "https://localhost:8080/"
        },
        "id": "pxm98s14LYqA",
        "outputId": "d273057b-13de-4016-b7f9-2384ce3fb8a7"
      }
    },
    {
      "cell_type": "code",
      "execution_count": 52,
      "source": [
        "encoded_cols = list(encoder.get_feature_names(categorical_cols))"
      ],
      "outputs": [],
      "metadata": {
        "id": "vPq5a6D0Lhze"
      }
    },
    {
      "cell_type": "code",
      "execution_count": 53,
      "source": [
        "df[encoded_cols] = encoder.transform(df[categorical_cols])"
      ],
      "outputs": [
        {
          "output_type": "stream",
          "name": "stderr",
          "text": [
            "/usr/local/lib/python3.7/dist-packages/pandas/core/frame.py:3673: SettingWithCopyWarning:\n",
            "\n",
            "\n",
            "A value is trying to be set on a copy of a slice from a DataFrame.\n",
            "Try using .loc[row_indexer,col_indexer] = value instead\n",
            "\n",
            "See the caveats in the documentation: https://pandas.pydata.org/pandas-docs/stable/user_guide/indexing.html#returning-a-view-versus-a-copy\n",
            "\n"
          ]
        }
      ],
      "metadata": {
        "colab": {
          "base_uri": "https://localhost:8080/"
        },
        "id": "eY9NT3cuLoHL",
        "outputId": "68dbf6a0-60e5-4998-cc5b-ccd4bbec4e61"
      }
    },
    {
      "cell_type": "code",
      "execution_count": 54,
      "source": [
        "df.head()"
      ],
      "outputs": [
        {
          "output_type": "execute_result",
          "data": {
            "text/plain": [
              "        Date  Day  Temp_max  ...  tags_vacation  tags_weekday  tags_weekend\n",
              "0 2016-06-01    1  0.761194  ...            0.0           1.0           0.0\n",
              "1 2016-06-02    2  0.626866  ...            0.0           0.0           1.0\n",
              "2 2016-06-03    3  0.671642  ...            0.0           0.0           1.0\n",
              "3 2016-06-04    4  0.626866  ...            0.0           1.0           0.0\n",
              "4 2016-06-05    5  0.716418  ...            0.0           1.0           0.0\n",
              "\n",
              "[5 rows x 25 columns]"
            ],
            "text/html": [
              "<div>\n",
              "<style scoped>\n",
              "    .dataframe tbody tr th:only-of-type {\n",
              "        vertical-align: middle;\n",
              "    }\n",
              "\n",
              "    .dataframe tbody tr th {\n",
              "        vertical-align: top;\n",
              "    }\n",
              "\n",
              "    .dataframe thead th {\n",
              "        text-align: right;\n",
              "    }\n",
              "</style>\n",
              "<table border=\"1\" class=\"dataframe\">\n",
              "  <thead>\n",
              "    <tr style=\"text-align: right;\">\n",
              "      <th></th>\n",
              "      <th>Date</th>\n",
              "      <th>Day</th>\n",
              "      <th>Temp_max</th>\n",
              "      <th>Temp_avg</th>\n",
              "      <th>Temp_min</th>\n",
              "      <th>Dew_max</th>\n",
              "      <th>Dew_avg</th>\n",
              "      <th>Dew_min</th>\n",
              "      <th>Hum_max</th>\n",
              "      <th>Hum_avg</th>\n",
              "      <th>Hum_min</th>\n",
              "      <th>Wind_max</th>\n",
              "      <th>Wind_avg</th>\n",
              "      <th>Wind_min</th>\n",
              "      <th>Press_max</th>\n",
              "      <th>Press_avg</th>\n",
              "      <th>Press_min</th>\n",
              "      <th>Precipit</th>\n",
              "      <th>day_of_week</th>\n",
              "      <th>kWh_usage</th>\n",
              "      <th>tags</th>\n",
              "      <th>tags_COVID_lockdown</th>\n",
              "      <th>tags_vacation</th>\n",
              "      <th>tags_weekday</th>\n",
              "      <th>tags_weekend</th>\n",
              "    </tr>\n",
              "  </thead>\n",
              "  <tbody>\n",
              "    <tr>\n",
              "      <th>0</th>\n",
              "      <td>2016-06-01</td>\n",
              "      <td>1</td>\n",
              "      <td>0.761194</td>\n",
              "      <td>0.756410</td>\n",
              "      <td>0.765625</td>\n",
              "      <td>0.861538</td>\n",
              "      <td>0.873874</td>\n",
              "      <td>0.823529</td>\n",
              "      <td>1.0</td>\n",
              "      <td>0.846491</td>\n",
              "      <td>0.609756</td>\n",
              "      <td>0.454545</td>\n",
              "      <td>0.354260</td>\n",
              "      <td>0.0</td>\n",
              "      <td>0.272727</td>\n",
              "      <td>0.555556</td>\n",
              "      <td>0.97377</td>\n",
              "      <td>0.000000</td>\n",
              "      <td>2</td>\n",
              "      <td>29.691</td>\n",
              "      <td>weekday</td>\n",
              "      <td>0.0</td>\n",
              "      <td>0.0</td>\n",
              "      <td>1.0</td>\n",
              "      <td>0.0</td>\n",
              "    </tr>\n",
              "    <tr>\n",
              "      <th>1</th>\n",
              "      <td>2016-06-02</td>\n",
              "      <td>2</td>\n",
              "      <td>0.626866</td>\n",
              "      <td>0.698718</td>\n",
              "      <td>0.734375</td>\n",
              "      <td>0.861538</td>\n",
              "      <td>0.857357</td>\n",
              "      <td>0.823529</td>\n",
              "      <td>1.0</td>\n",
              "      <td>0.954678</td>\n",
              "      <td>0.902439</td>\n",
              "      <td>0.363636</td>\n",
              "      <td>0.278027</td>\n",
              "      <td>0.0</td>\n",
              "      <td>0.272727</td>\n",
              "      <td>0.555556</td>\n",
              "      <td>0.97377</td>\n",
              "      <td>0.322413</td>\n",
              "      <td>5</td>\n",
              "      <td>28.789</td>\n",
              "      <td>weekend</td>\n",
              "      <td>0.0</td>\n",
              "      <td>0.0</td>\n",
              "      <td>0.0</td>\n",
              "      <td>1.0</td>\n",
              "    </tr>\n",
              "    <tr>\n",
              "      <th>2</th>\n",
              "      <td>2016-06-03</td>\n",
              "      <td>3</td>\n",
              "      <td>0.671642</td>\n",
              "      <td>0.713141</td>\n",
              "      <td>0.765625</td>\n",
              "      <td>0.830769</td>\n",
              "      <td>0.852853</td>\n",
              "      <td>0.852941</td>\n",
              "      <td>1.0</td>\n",
              "      <td>0.907895</td>\n",
              "      <td>0.695122</td>\n",
              "      <td>0.363636</td>\n",
              "      <td>0.139013</td>\n",
              "      <td>0.0</td>\n",
              "      <td>0.272727</td>\n",
              "      <td>0.555556</td>\n",
              "      <td>0.97377</td>\n",
              "      <td>0.236783</td>\n",
              "      <td>6</td>\n",
              "      <td>19.247</td>\n",
              "      <td>weekend</td>\n",
              "      <td>0.0</td>\n",
              "      <td>0.0</td>\n",
              "      <td>0.0</td>\n",
              "      <td>1.0</td>\n",
              "    </tr>\n",
              "    <tr>\n",
              "      <th>3</th>\n",
              "      <td>2016-06-04</td>\n",
              "      <td>4</td>\n",
              "      <td>0.626866</td>\n",
              "      <td>0.698718</td>\n",
              "      <td>0.781250</td>\n",
              "      <td>0.846154</td>\n",
              "      <td>0.852853</td>\n",
              "      <td>0.823529</td>\n",
              "      <td>1.0</td>\n",
              "      <td>0.944444</td>\n",
              "      <td>0.853659</td>\n",
              "      <td>0.424242</td>\n",
              "      <td>0.242152</td>\n",
              "      <td>0.0</td>\n",
              "      <td>0.272727</td>\n",
              "      <td>0.500000</td>\n",
              "      <td>0.97377</td>\n",
              "      <td>0.176471</td>\n",
              "      <td>2</td>\n",
              "      <td>22.883</td>\n",
              "      <td>weekday</td>\n",
              "      <td>0.0</td>\n",
              "      <td>0.0</td>\n",
              "      <td>1.0</td>\n",
              "      <td>0.0</td>\n",
              "    </tr>\n",
              "    <tr>\n",
              "      <th>4</th>\n",
              "      <td>2016-06-05</td>\n",
              "      <td>5</td>\n",
              "      <td>0.716418</td>\n",
              "      <td>0.740385</td>\n",
              "      <td>0.765625</td>\n",
              "      <td>0.830769</td>\n",
              "      <td>0.852853</td>\n",
              "      <td>0.852941</td>\n",
              "      <td>1.0</td>\n",
              "      <td>0.836257</td>\n",
              "      <td>0.573171</td>\n",
              "      <td>0.333333</td>\n",
              "      <td>0.273543</td>\n",
              "      <td>0.0</td>\n",
              "      <td>0.181818</td>\n",
              "      <td>0.500000</td>\n",
              "      <td>0.97377</td>\n",
              "      <td>0.029039</td>\n",
              "      <td>4</td>\n",
              "      <td>25.195</td>\n",
              "      <td>weekday</td>\n",
              "      <td>0.0</td>\n",
              "      <td>0.0</td>\n",
              "      <td>1.0</td>\n",
              "      <td>0.0</td>\n",
              "    </tr>\n",
              "  </tbody>\n",
              "</table>\n",
              "</div>"
            ]
          },
          "metadata": {
            "tags": []
          },
          "execution_count": 54
        }
      ],
      "metadata": {
        "colab": {
          "base_uri": "https://localhost:8080/",
          "height": 0
        },
        "id": "JqEh0HidL2j5",
        "outputId": "12a3fbcd-f5df-4915-8313-d642cf6f4bd7"
      }
    },
    {
      "cell_type": "markdown",
      "source": [
        "# Train Test Split"
      ],
      "metadata": {
        "id": "7-nfDPWMMf9d"
      }
    },
    {
      "cell_type": "code",
      "execution_count": 55,
      "source": [
        "plt.title('No. of Rows per Year')\n",
        "sns.countplot(x=pd.to_datetime(df.Date).dt.year);"
      ],
      "outputs": [
        {
          "output_type": "display_data",
          "data": {
            "text/plain": [
              "<Figure size 720x432 with 1 Axes>"
            ],
            "image/png": "[encoded data removed]"
          },
          "metadata": {
            "tags": [],
            "needs_background": "light"
          }
        }
      ],
      "metadata": {
        "colab": {
          "base_uri": "https://localhost:8080/",
          "height": 0
        },
        "id": "tC-HjKU-Mey3",
        "outputId": "d9c0cd93-41bf-4c8b-a13a-f3473bb8b84e"
      }
    },
    {
      "cell_type": "code",
      "execution_count": 56,
      "source": [
        "'''\n",
        "year = pd.to_datetime(df.Date).dt.year\n",
        "month = pd.to_datetime(df.Date).dt.month\n",
        "\n",
        "train_df = df[year < 2020]\n",
        "test_df = df[year >= 2020]\n",
        "'''\n",
        "\n",
        "train_df = df[:1120]\n",
        "test_df = df[1120:]"
      ],
      "outputs": [],
      "metadata": {
        "id": "J9E-FFFWL72O"
      }
    },
    {
      "cell_type": "code",
      "execution_count": 57,
      "source": [
        "print('train_df.shape :', train_df.shape)\n",
        "print('test_df.shape :', test_df.shape)"
      ],
      "outputs": [
        {
          "output_type": "stream",
          "name": "stdout",
          "text": [
            "train_df.shape : (1120, 25)\n",
            "test_df.shape : (378, 25)\n"
          ]
        }
      ],
      "metadata": {
        "colab": {
          "base_uri": "https://localhost:8080/"
        },
        "id": "_DFwcGk6NT5a",
        "outputId": "1eaf758b-8014-4fd2-a3f9-728565cdfa14"
      }
    },
    {
      "cell_type": "code",
      "execution_count": 58,
      "source": [
        "train_df"
      ],
      "outputs": [
        {
          "output_type": "execute_result",
          "data": {
            "text/plain": [
              "           Date  Day  Temp_max  ...  tags_vacation  tags_weekday  tags_weekend\n",
              "0    2016-06-01    1  0.761194  ...            0.0           1.0           0.0\n",
              "1    2016-06-02    2  0.626866  ...            0.0           0.0           1.0\n",
              "2    2016-06-03    3  0.671642  ...            0.0           0.0           1.0\n",
              "3    2016-06-04    4  0.626866  ...            0.0           1.0           0.0\n",
              "4    2016-06-05    5  0.716418  ...            0.0           1.0           0.0\n",
              "...         ...  ...       ...  ...            ...           ...           ...\n",
              "1115 2019-06-21   21  0.880597  ...            0.0           1.0           0.0\n",
              "1116 2019-06-22   22  0.880597  ...            0.0           0.0           1.0\n",
              "1117 2019-06-23   23  0.880597  ...            0.0           0.0           1.0\n",
              "1118 2019-06-24   24  0.805970  ...            0.0           1.0           0.0\n",
              "1119 2019-06-25   25  0.746269  ...            0.0           1.0           0.0\n",
              "\n",
              "[1120 rows x 25 columns]"
            ],
            "text/html": [
              "<div>\n",
              "<style scoped>\n",
              "    .dataframe tbody tr th:only-of-type {\n",
              "        vertical-align: middle;\n",
              "    }\n",
              "\n",
              "    .dataframe tbody tr th {\n",
              "        vertical-align: top;\n",
              "    }\n",
              "\n",
              "    .dataframe thead th {\n",
              "        text-align: right;\n",
              "    }\n",
              "</style>\n",
              "<table border=\"1\" class=\"dataframe\">\n",
              "  <thead>\n",
              "    <tr style=\"text-align: right;\">\n",
              "      <th></th>\n",
              "      <th>Date</th>\n",
              "      <th>Day</th>\n",
              "      <th>Temp_max</th>\n",
              "      <th>Temp_avg</th>\n",
              "      <th>Temp_min</th>\n",
              "      <th>Dew_max</th>\n",
              "      <th>Dew_avg</th>\n",
              "      <th>Dew_min</th>\n",
              "      <th>Hum_max</th>\n",
              "      <th>Hum_avg</th>\n",
              "      <th>Hum_min</th>\n",
              "      <th>Wind_max</th>\n",
              "      <th>Wind_avg</th>\n",
              "      <th>Wind_min</th>\n",
              "      <th>Press_max</th>\n",
              "      <th>Press_avg</th>\n",
              "      <th>Press_min</th>\n",
              "      <th>Precipit</th>\n",
              "      <th>day_of_week</th>\n",
              "      <th>kWh_usage</th>\n",
              "      <th>tags</th>\n",
              "      <th>tags_COVID_lockdown</th>\n",
              "      <th>tags_vacation</th>\n",
              "      <th>tags_weekday</th>\n",
              "      <th>tags_weekend</th>\n",
              "    </tr>\n",
              "  </thead>\n",
              "  <tbody>\n",
              "    <tr>\n",
              "      <th>0</th>\n",
              "      <td>2016-06-01</td>\n",
              "      <td>1</td>\n",
              "      <td>0.761194</td>\n",
              "      <td>0.756410</td>\n",
              "      <td>0.765625</td>\n",
              "      <td>0.861538</td>\n",
              "      <td>0.873874</td>\n",
              "      <td>0.823529</td>\n",
              "      <td>1.00</td>\n",
              "      <td>0.846491</td>\n",
              "      <td>0.609756</td>\n",
              "      <td>0.454545</td>\n",
              "      <td>0.354260</td>\n",
              "      <td>0.000000</td>\n",
              "      <td>0.272727</td>\n",
              "      <td>0.555556</td>\n",
              "      <td>0.973770</td>\n",
              "      <td>0.000000</td>\n",
              "      <td>2</td>\n",
              "      <td>29.691</td>\n",
              "      <td>weekday</td>\n",
              "      <td>0.0</td>\n",
              "      <td>0.0</td>\n",
              "      <td>1.0</td>\n",
              "      <td>0.0</td>\n",
              "    </tr>\n",
              "    <tr>\n",
              "      <th>1</th>\n",
              "      <td>2016-06-02</td>\n",
              "      <td>2</td>\n",
              "      <td>0.626866</td>\n",
              "      <td>0.698718</td>\n",
              "      <td>0.734375</td>\n",
              "      <td>0.861538</td>\n",
              "      <td>0.857357</td>\n",
              "      <td>0.823529</td>\n",
              "      <td>1.00</td>\n",
              "      <td>0.954678</td>\n",
              "      <td>0.902439</td>\n",
              "      <td>0.363636</td>\n",
              "      <td>0.278027</td>\n",
              "      <td>0.000000</td>\n",
              "      <td>0.272727</td>\n",
              "      <td>0.555556</td>\n",
              "      <td>0.973770</td>\n",
              "      <td>0.322413</td>\n",
              "      <td>5</td>\n",
              "      <td>28.789</td>\n",
              "      <td>weekend</td>\n",
              "      <td>0.0</td>\n",
              "      <td>0.0</td>\n",
              "      <td>0.0</td>\n",
              "      <td>1.0</td>\n",
              "    </tr>\n",
              "    <tr>\n",
              "      <th>2</th>\n",
              "      <td>2016-06-03</td>\n",
              "      <td>3</td>\n",
              "      <td>0.671642</td>\n",
              "      <td>0.713141</td>\n",
              "      <td>0.765625</td>\n",
              "      <td>0.830769</td>\n",
              "      <td>0.852853</td>\n",
              "      <td>0.852941</td>\n",
              "      <td>1.00</td>\n",
              "      <td>0.907895</td>\n",
              "      <td>0.695122</td>\n",
              "      <td>0.363636</td>\n",
              "      <td>0.139013</td>\n",
              "      <td>0.000000</td>\n",
              "      <td>0.272727</td>\n",
              "      <td>0.555556</td>\n",
              "      <td>0.973770</td>\n",
              "      <td>0.236783</td>\n",
              "      <td>6</td>\n",
              "      <td>19.247</td>\n",
              "      <td>weekend</td>\n",
              "      <td>0.0</td>\n",
              "      <td>0.0</td>\n",
              "      <td>0.0</td>\n",
              "      <td>1.0</td>\n",
              "    </tr>\n",
              "    <tr>\n",
              "      <th>3</th>\n",
              "      <td>2016-06-04</td>\n",
              "      <td>4</td>\n",
              "      <td>0.626866</td>\n",
              "      <td>0.698718</td>\n",
              "      <td>0.781250</td>\n",
              "      <td>0.846154</td>\n",
              "      <td>0.852853</td>\n",
              "      <td>0.823529</td>\n",
              "      <td>1.00</td>\n",
              "      <td>0.944444</td>\n",
              "      <td>0.853659</td>\n",
              "      <td>0.424242</td>\n",
              "      <td>0.242152</td>\n",
              "      <td>0.000000</td>\n",
              "      <td>0.272727</td>\n",
              "      <td>0.500000</td>\n",
              "      <td>0.973770</td>\n",
              "      <td>0.176471</td>\n",
              "      <td>2</td>\n",
              "      <td>22.883</td>\n",
              "      <td>weekday</td>\n",
              "      <td>0.0</td>\n",
              "      <td>0.0</td>\n",
              "      <td>1.0</td>\n",
              "      <td>0.0</td>\n",
              "    </tr>\n",
              "    <tr>\n",
              "      <th>4</th>\n",
              "      <td>2016-06-05</td>\n",
              "      <td>5</td>\n",
              "      <td>0.716418</td>\n",
              "      <td>0.740385</td>\n",
              "      <td>0.765625</td>\n",
              "      <td>0.830769</td>\n",
              "      <td>0.852853</td>\n",
              "      <td>0.852941</td>\n",
              "      <td>1.00</td>\n",
              "      <td>0.836257</td>\n",
              "      <td>0.573171</td>\n",
              "      <td>0.333333</td>\n",
              "      <td>0.273543</td>\n",
              "      <td>0.000000</td>\n",
              "      <td>0.181818</td>\n",
              "      <td>0.500000</td>\n",
              "      <td>0.973770</td>\n",
              "      <td>0.029039</td>\n",
              "      <td>4</td>\n",
              "      <td>25.195</td>\n",
              "      <td>weekday</td>\n",
              "      <td>0.0</td>\n",
              "      <td>0.0</td>\n",
              "      <td>1.0</td>\n",
              "      <td>0.0</td>\n",
              "    </tr>\n",
              "    <tr>\n",
              "      <th>...</th>\n",
              "      <td>...</td>\n",
              "      <td>...</td>\n",
              "      <td>...</td>\n",
              "      <td>...</td>\n",
              "      <td>...</td>\n",
              "      <td>...</td>\n",
              "      <td>...</td>\n",
              "      <td>...</td>\n",
              "      <td>...</td>\n",
              "      <td>...</td>\n",
              "      <td>...</td>\n",
              "      <td>...</td>\n",
              "      <td>...</td>\n",
              "      <td>...</td>\n",
              "      <td>...</td>\n",
              "      <td>...</td>\n",
              "      <td>...</td>\n",
              "      <td>...</td>\n",
              "      <td>...</td>\n",
              "      <td>...</td>\n",
              "      <td>...</td>\n",
              "      <td>...</td>\n",
              "      <td>...</td>\n",
              "      <td>...</td>\n",
              "      <td>...</td>\n",
              "    </tr>\n",
              "    <tr>\n",
              "      <th>1115</th>\n",
              "      <td>2019-06-21</td>\n",
              "      <td>21</td>\n",
              "      <td>0.880597</td>\n",
              "      <td>0.947115</td>\n",
              "      <td>0.984375</td>\n",
              "      <td>0.969231</td>\n",
              "      <td>0.992492</td>\n",
              "      <td>0.985294</td>\n",
              "      <td>0.88</td>\n",
              "      <td>0.701754</td>\n",
              "      <td>0.536585</td>\n",
              "      <td>0.363636</td>\n",
              "      <td>0.466368</td>\n",
              "      <td>0.411765</td>\n",
              "      <td>0.272727</td>\n",
              "      <td>0.555556</td>\n",
              "      <td>0.973770</td>\n",
              "      <td>0.000000</td>\n",
              "      <td>4</td>\n",
              "      <td>35.057</td>\n",
              "      <td>weekday</td>\n",
              "      <td>0.0</td>\n",
              "      <td>0.0</td>\n",
              "      <td>1.0</td>\n",
              "      <td>0.0</td>\n",
              "    </tr>\n",
              "    <tr>\n",
              "      <th>1116</th>\n",
              "      <td>2019-06-22</td>\n",
              "      <td>22</td>\n",
              "      <td>0.880597</td>\n",
              "      <td>0.943910</td>\n",
              "      <td>1.000000</td>\n",
              "      <td>1.000000</td>\n",
              "      <td>1.000000</td>\n",
              "      <td>1.000000</td>\n",
              "      <td>0.82</td>\n",
              "      <td>0.719298</td>\n",
              "      <td>0.585366</td>\n",
              "      <td>0.424242</td>\n",
              "      <td>0.470852</td>\n",
              "      <td>0.411765</td>\n",
              "      <td>0.363636</td>\n",
              "      <td>0.555556</td>\n",
              "      <td>0.977049</td>\n",
              "      <td>0.000000</td>\n",
              "      <td>5</td>\n",
              "      <td>32.657</td>\n",
              "      <td>weekend</td>\n",
              "      <td>0.0</td>\n",
              "      <td>0.0</td>\n",
              "      <td>0.0</td>\n",
              "      <td>1.0</td>\n",
              "    </tr>\n",
              "    <tr>\n",
              "      <th>1117</th>\n",
              "      <td>2019-06-23</td>\n",
              "      <td>23</td>\n",
              "      <td>0.880597</td>\n",
              "      <td>0.959936</td>\n",
              "      <td>0.984375</td>\n",
              "      <td>0.969231</td>\n",
              "      <td>0.989489</td>\n",
              "      <td>1.000000</td>\n",
              "      <td>0.78</td>\n",
              "      <td>0.660819</td>\n",
              "      <td>0.621951</td>\n",
              "      <td>0.363636</td>\n",
              "      <td>0.547085</td>\n",
              "      <td>0.529412</td>\n",
              "      <td>0.272727</td>\n",
              "      <td>0.555556</td>\n",
              "      <td>0.973770</td>\n",
              "      <td>0.001489</td>\n",
              "      <td>6</td>\n",
              "      <td>39.292</td>\n",
              "      <td>weekend</td>\n",
              "      <td>0.0</td>\n",
              "      <td>0.0</td>\n",
              "      <td>0.0</td>\n",
              "      <td>1.0</td>\n",
              "    </tr>\n",
              "    <tr>\n",
              "      <th>1118</th>\n",
              "      <td>2019-06-24</td>\n",
              "      <td>24</td>\n",
              "      <td>0.805970</td>\n",
              "      <td>0.807692</td>\n",
              "      <td>0.765625</td>\n",
              "      <td>0.953846</td>\n",
              "      <td>0.894895</td>\n",
              "      <td>0.852941</td>\n",
              "      <td>1.00</td>\n",
              "      <td>0.785088</td>\n",
              "      <td>0.560976</td>\n",
              "      <td>0.575758</td>\n",
              "      <td>0.372197</td>\n",
              "      <td>0.000000</td>\n",
              "      <td>0.363636</td>\n",
              "      <td>0.555556</td>\n",
              "      <td>0.973770</td>\n",
              "      <td>0.065525</td>\n",
              "      <td>0</td>\n",
              "      <td>25.443</td>\n",
              "      <td>weekday</td>\n",
              "      <td>0.0</td>\n",
              "      <td>0.0</td>\n",
              "      <td>1.0</td>\n",
              "      <td>0.0</td>\n",
              "    </tr>\n",
              "    <tr>\n",
              "      <th>1119</th>\n",
              "      <td>2019-06-25</td>\n",
              "      <td>25</td>\n",
              "      <td>0.746269</td>\n",
              "      <td>0.777244</td>\n",
              "      <td>0.843750</td>\n",
              "      <td>0.876923</td>\n",
              "      <td>0.896396</td>\n",
              "      <td>0.867647</td>\n",
              "      <td>1.00</td>\n",
              "      <td>0.856725</td>\n",
              "      <td>0.658537</td>\n",
              "      <td>0.272727</td>\n",
              "      <td>0.278027</td>\n",
              "      <td>0.000000</td>\n",
              "      <td>0.363636</td>\n",
              "      <td>0.611111</td>\n",
              "      <td>0.977049</td>\n",
              "      <td>0.031273</td>\n",
              "      <td>1</td>\n",
              "      <td>18.369</td>\n",
              "      <td>weekday</td>\n",
              "      <td>0.0</td>\n",
              "      <td>0.0</td>\n",
              "      <td>1.0</td>\n",
              "      <td>0.0</td>\n",
              "    </tr>\n",
              "  </tbody>\n",
              "</table>\n",
              "<p>1120 rows × 25 columns</p>\n",
              "</div>"
            ]
          },
          "metadata": {
            "tags": []
          },
          "execution_count": 58
        }
      ],
      "metadata": {
        "colab": {
          "base_uri": "https://localhost:8080/",
          "height": 0
        },
        "id": "Zw2DtspNNbHP",
        "outputId": "64b00659-7b81-40f9-c1eb-aa53d4801db2"
      }
    },
    {
      "cell_type": "code",
      "execution_count": 59,
      "source": [
        "test_df"
      ],
      "outputs": [
        {
          "output_type": "execute_result",
          "data": {
            "text/plain": [
              "           Date  Day  Temp_max  ...  tags_vacation  tags_weekday  tags_weekend\n",
              "1120 2019-06-26   26  0.776119  ...            0.0           1.0           0.0\n",
              "1121 2019-06-27   27  0.835821  ...            0.0           1.0           0.0\n",
              "1122 2019-06-28   28  0.865672  ...            0.0           1.0           0.0\n",
              "1123 2019-06-29   29  0.805970  ...            0.0           0.0           1.0\n",
              "1124 2019-06-30   30  0.776119  ...            0.0           0.0           1.0\n",
              "...         ...  ...       ...  ...            ...           ...           ...\n",
              "1493 2020-07-03    3  0.925373  ...            0.0           0.0           0.0\n",
              "1494 2020-07-04    4  0.940299  ...            0.0           0.0           0.0\n",
              "1495 2020-07-05    5  0.910448  ...            0.0           0.0           0.0\n",
              "1496 2020-07-06    6  0.850746  ...            0.0           0.0           0.0\n",
              "1497 2020-07-07    7  0.880597  ...            0.0           1.0           0.0\n",
              "\n",
              "[378 rows x 25 columns]"
            ],
            "text/html": [
              "<div>\n",
              "<style scoped>\n",
              "    .dataframe tbody tr th:only-of-type {\n",
              "        vertical-align: middle;\n",
              "    }\n",
              "\n",
              "    .dataframe tbody tr th {\n",
              "        vertical-align: top;\n",
              "    }\n",
              "\n",
              "    .dataframe thead th {\n",
              "        text-align: right;\n",
              "    }\n",
              "</style>\n",
              "<table border=\"1\" class=\"dataframe\">\n",
              "  <thead>\n",
              "    <tr style=\"text-align: right;\">\n",
              "      <th></th>\n",
              "      <th>Date</th>\n",
              "      <th>Day</th>\n",
              "      <th>Temp_max</th>\n",
              "      <th>Temp_avg</th>\n",
              "      <th>Temp_min</th>\n",
              "      <th>Dew_max</th>\n",
              "      <th>Dew_avg</th>\n",
              "      <th>Dew_min</th>\n",
              "      <th>Hum_max</th>\n",
              "      <th>Hum_avg</th>\n",
              "      <th>Hum_min</th>\n",
              "      <th>Wind_max</th>\n",
              "      <th>Wind_avg</th>\n",
              "      <th>Wind_min</th>\n",
              "      <th>Press_max</th>\n",
              "      <th>Press_avg</th>\n",
              "      <th>Press_min</th>\n",
              "      <th>Precipit</th>\n",
              "      <th>day_of_week</th>\n",
              "      <th>kWh_usage</th>\n",
              "      <th>tags</th>\n",
              "      <th>tags_COVID_lockdown</th>\n",
              "      <th>tags_vacation</th>\n",
              "      <th>tags_weekday</th>\n",
              "      <th>tags_weekend</th>\n",
              "    </tr>\n",
              "  </thead>\n",
              "  <tbody>\n",
              "    <tr>\n",
              "      <th>1120</th>\n",
              "      <td>2019-06-26</td>\n",
              "      <td>26</td>\n",
              "      <td>0.776119</td>\n",
              "      <td>0.838141</td>\n",
              "      <td>0.843750</td>\n",
              "      <td>0.969231</td>\n",
              "      <td>0.950450</td>\n",
              "      <td>0.911765</td>\n",
              "      <td>1.00</td>\n",
              "      <td>0.849415</td>\n",
              "      <td>0.719512</td>\n",
              "      <td>0.272727</td>\n",
              "      <td>0.273543</td>\n",
              "      <td>0.0</td>\n",
              "      <td>0.454545</td>\n",
              "      <td>0.666667</td>\n",
              "      <td>0.980328</td>\n",
              "      <td>0.022338</td>\n",
              "      <td>2</td>\n",
              "      <td>19.820</td>\n",
              "      <td>weekday</td>\n",
              "      <td>0.0</td>\n",
              "      <td>0.0</td>\n",
              "      <td>1.0</td>\n",
              "      <td>0.0</td>\n",
              "    </tr>\n",
              "    <tr>\n",
              "      <th>1121</th>\n",
              "      <td>2019-06-27</td>\n",
              "      <td>27</td>\n",
              "      <td>0.835821</td>\n",
              "      <td>0.833333</td>\n",
              "      <td>0.875000</td>\n",
              "      <td>0.969231</td>\n",
              "      <td>0.939940</td>\n",
              "      <td>0.852941</td>\n",
              "      <td>1.00</td>\n",
              "      <td>0.842105</td>\n",
              "      <td>0.646341</td>\n",
              "      <td>0.181818</td>\n",
              "      <td>0.107623</td>\n",
              "      <td>0.0</td>\n",
              "      <td>0.545455</td>\n",
              "      <td>0.666667</td>\n",
              "      <td>0.983607</td>\n",
              "      <td>0.001489</td>\n",
              "      <td>3</td>\n",
              "      <td>23.248</td>\n",
              "      <td>weekday</td>\n",
              "      <td>0.0</td>\n",
              "      <td>0.0</td>\n",
              "      <td>1.0</td>\n",
              "      <td>0.0</td>\n",
              "    </tr>\n",
              "    <tr>\n",
              "      <th>1122</th>\n",
              "      <td>2019-06-28</td>\n",
              "      <td>28</td>\n",
              "      <td>0.865672</td>\n",
              "      <td>0.815705</td>\n",
              "      <td>0.812500</td>\n",
              "      <td>0.923077</td>\n",
              "      <td>0.900901</td>\n",
              "      <td>0.808824</td>\n",
              "      <td>1.00</td>\n",
              "      <td>0.792398</td>\n",
              "      <td>0.487805</td>\n",
              "      <td>0.545455</td>\n",
              "      <td>0.121076</td>\n",
              "      <td>0.0</td>\n",
              "      <td>0.454545</td>\n",
              "      <td>0.666667</td>\n",
              "      <td>0.980328</td>\n",
              "      <td>0.005957</td>\n",
              "      <td>4</td>\n",
              "      <td>27.491</td>\n",
              "      <td>weekday</td>\n",
              "      <td>0.0</td>\n",
              "      <td>0.0</td>\n",
              "      <td>1.0</td>\n",
              "      <td>0.0</td>\n",
              "    </tr>\n",
              "    <tr>\n",
              "      <th>1123</th>\n",
              "      <td>2019-06-29</td>\n",
              "      <td>29</td>\n",
              "      <td>0.805970</td>\n",
              "      <td>0.774038</td>\n",
              "      <td>0.812500</td>\n",
              "      <td>0.923077</td>\n",
              "      <td>0.897898</td>\n",
              "      <td>0.838235</td>\n",
              "      <td>1.00</td>\n",
              "      <td>0.880117</td>\n",
              "      <td>0.609756</td>\n",
              "      <td>0.484848</td>\n",
              "      <td>0.219731</td>\n",
              "      <td>0.0</td>\n",
              "      <td>0.454545</td>\n",
              "      <td>0.611111</td>\n",
              "      <td>0.980328</td>\n",
              "      <td>0.028295</td>\n",
              "      <td>5</td>\n",
              "      <td>27.734</td>\n",
              "      <td>weekend</td>\n",
              "      <td>0.0</td>\n",
              "      <td>0.0</td>\n",
              "      <td>0.0</td>\n",
              "      <td>1.0</td>\n",
              "    </tr>\n",
              "    <tr>\n",
              "      <th>1124</th>\n",
              "      <td>2019-06-30</td>\n",
              "      <td>30</td>\n",
              "      <td>0.776119</td>\n",
              "      <td>0.806090</td>\n",
              "      <td>0.812500</td>\n",
              "      <td>0.861538</td>\n",
              "      <td>0.879880</td>\n",
              "      <td>0.852941</td>\n",
              "      <td>1.00</td>\n",
              "      <td>0.750000</td>\n",
              "      <td>0.487805</td>\n",
              "      <td>0.090909</td>\n",
              "      <td>0.080717</td>\n",
              "      <td>0.0</td>\n",
              "      <td>0.454545</td>\n",
              "      <td>0.611111</td>\n",
              "      <td>0.977049</td>\n",
              "      <td>0.059568</td>\n",
              "      <td>6</td>\n",
              "      <td>30.857</td>\n",
              "      <td>weekend</td>\n",
              "      <td>0.0</td>\n",
              "      <td>0.0</td>\n",
              "      <td>0.0</td>\n",
              "      <td>1.0</td>\n",
              "    </tr>\n",
              "    <tr>\n",
              "      <th>...</th>\n",
              "      <td>...</td>\n",
              "      <td>...</td>\n",
              "      <td>...</td>\n",
              "      <td>...</td>\n",
              "      <td>...</td>\n",
              "      <td>...</td>\n",
              "      <td>...</td>\n",
              "      <td>...</td>\n",
              "      <td>...</td>\n",
              "      <td>...</td>\n",
              "      <td>...</td>\n",
              "      <td>...</td>\n",
              "      <td>...</td>\n",
              "      <td>...</td>\n",
              "      <td>...</td>\n",
              "      <td>...</td>\n",
              "      <td>...</td>\n",
              "      <td>...</td>\n",
              "      <td>...</td>\n",
              "      <td>...</td>\n",
              "      <td>...</td>\n",
              "      <td>...</td>\n",
              "      <td>...</td>\n",
              "      <td>...</td>\n",
              "      <td>...</td>\n",
              "    </tr>\n",
              "    <tr>\n",
              "      <th>1493</th>\n",
              "      <td>2020-07-03</td>\n",
              "      <td>3</td>\n",
              "      <td>0.925373</td>\n",
              "      <td>0.915064</td>\n",
              "      <td>0.859375</td>\n",
              "      <td>0.892308</td>\n",
              "      <td>0.894895</td>\n",
              "      <td>0.838235</td>\n",
              "      <td>0.82</td>\n",
              "      <td>0.557018</td>\n",
              "      <td>0.280488</td>\n",
              "      <td>0.545455</td>\n",
              "      <td>0.210762</td>\n",
              "      <td>0.0</td>\n",
              "      <td>0.363636</td>\n",
              "      <td>0.611111</td>\n",
              "      <td>0.977049</td>\n",
              "      <td>0.000000</td>\n",
              "      <td>5</td>\n",
              "      <td>39.659</td>\n",
              "      <td>COVID_lockdown</td>\n",
              "      <td>1.0</td>\n",
              "      <td>0.0</td>\n",
              "      <td>0.0</td>\n",
              "      <td>0.0</td>\n",
              "    </tr>\n",
              "    <tr>\n",
              "      <th>1494</th>\n",
              "      <td>2020-07-04</td>\n",
              "      <td>4</td>\n",
              "      <td>0.940299</td>\n",
              "      <td>0.913462</td>\n",
              "      <td>0.843750</td>\n",
              "      <td>0.892308</td>\n",
              "      <td>0.896396</td>\n",
              "      <td>0.882353</td>\n",
              "      <td>0.88</td>\n",
              "      <td>0.570175</td>\n",
              "      <td>0.341463</td>\n",
              "      <td>0.121212</td>\n",
              "      <td>0.089686</td>\n",
              "      <td>0.0</td>\n",
              "      <td>0.363636</td>\n",
              "      <td>0.555556</td>\n",
              "      <td>0.973770</td>\n",
              "      <td>0.000000</td>\n",
              "      <td>1</td>\n",
              "      <td>38.071</td>\n",
              "      <td>COVID_lockdown</td>\n",
              "      <td>1.0</td>\n",
              "      <td>0.0</td>\n",
              "      <td>0.0</td>\n",
              "      <td>0.0</td>\n",
              "    </tr>\n",
              "    <tr>\n",
              "      <th>1495</th>\n",
              "      <td>2020-07-05</td>\n",
              "      <td>5</td>\n",
              "      <td>0.910448</td>\n",
              "      <td>0.926282</td>\n",
              "      <td>0.937500</td>\n",
              "      <td>0.876923</td>\n",
              "      <td>0.905405</td>\n",
              "      <td>0.852941</td>\n",
              "      <td>0.76</td>\n",
              "      <td>0.548246</td>\n",
              "      <td>0.353659</td>\n",
              "      <td>0.181818</td>\n",
              "      <td>0.206278</td>\n",
              "      <td>0.0</td>\n",
              "      <td>0.272727</td>\n",
              "      <td>0.500000</td>\n",
              "      <td>0.973770</td>\n",
              "      <td>0.000000</td>\n",
              "      <td>3</td>\n",
              "      <td>36.565</td>\n",
              "      <td>COVID_lockdown</td>\n",
              "      <td>1.0</td>\n",
              "      <td>0.0</td>\n",
              "      <td>0.0</td>\n",
              "      <td>0.0</td>\n",
              "    </tr>\n",
              "    <tr>\n",
              "      <th>1496</th>\n",
              "      <td>2020-07-06</td>\n",
              "      <td>6</td>\n",
              "      <td>0.850746</td>\n",
              "      <td>0.927885</td>\n",
              "      <td>0.984375</td>\n",
              "      <td>0.907692</td>\n",
              "      <td>0.935435</td>\n",
              "      <td>0.911765</td>\n",
              "      <td>0.64</td>\n",
              "      <td>0.590643</td>\n",
              "      <td>0.536585</td>\n",
              "      <td>0.121212</td>\n",
              "      <td>0.197309</td>\n",
              "      <td>0.0</td>\n",
              "      <td>0.272727</td>\n",
              "      <td>0.555556</td>\n",
              "      <td>0.973770</td>\n",
              "      <td>0.000000</td>\n",
              "      <td>6</td>\n",
              "      <td>39.900</td>\n",
              "      <td>COVID_lockdown</td>\n",
              "      <td>1.0</td>\n",
              "      <td>0.0</td>\n",
              "      <td>0.0</td>\n",
              "      <td>0.0</td>\n",
              "    </tr>\n",
              "    <tr>\n",
              "      <th>1497</th>\n",
              "      <td>2020-07-07</td>\n",
              "      <td>7</td>\n",
              "      <td>0.880597</td>\n",
              "      <td>0.911859</td>\n",
              "      <td>0.953125</td>\n",
              "      <td>0.953846</td>\n",
              "      <td>0.942943</td>\n",
              "      <td>0.911765</td>\n",
              "      <td>0.82</td>\n",
              "      <td>0.659357</td>\n",
              "      <td>0.463415</td>\n",
              "      <td>0.272727</td>\n",
              "      <td>0.201794</td>\n",
              "      <td>0.0</td>\n",
              "      <td>0.363636</td>\n",
              "      <td>0.555556</td>\n",
              "      <td>0.977049</td>\n",
              "      <td>0.000000</td>\n",
              "      <td>1</td>\n",
              "      <td>38.483</td>\n",
              "      <td>weekday</td>\n",
              "      <td>0.0</td>\n",
              "      <td>0.0</td>\n",
              "      <td>1.0</td>\n",
              "      <td>0.0</td>\n",
              "    </tr>\n",
              "  </tbody>\n",
              "</table>\n",
              "<p>378 rows × 25 columns</p>\n",
              "</div>"
            ]
          },
          "metadata": {
            "tags": []
          },
          "execution_count": 59
        }
      ],
      "metadata": {
        "colab": {
          "base_uri": "https://localhost:8080/",
          "height": 0
        },
        "id": "tx_RhOv6RPnv",
        "outputId": "db536903-cb58-4717-ebd3-37f3379deb2a"
      }
    },
    {
      "cell_type": "code",
      "execution_count": 60,
      "source": [
        "input_cols = numeric_cols + encoded_cols\n",
        "target_col = 'kWh_usage'"
      ],
      "outputs": [],
      "metadata": {
        "id": "mwRiNvp6Rrw3"
      }
    },
    {
      "cell_type": "code",
      "execution_count": 61,
      "source": [
        "print(input_cols)"
      ],
      "outputs": [
        {
          "output_type": "stream",
          "name": "stdout",
          "text": [
            "['Temp_max', 'Temp_avg', 'Temp_min', 'Dew_max', 'Dew_avg', 'Dew_min', 'Hum_max', 'Hum_avg', 'Hum_min', 'Wind_max', 'Wind_avg', 'Wind_min', 'Press_max', 'Press_avg', 'Press_min', 'Precipit', 'tags_COVID_lockdown', 'tags_vacation', 'tags_weekday', 'tags_weekend']\n"
          ]
        }
      ],
      "metadata": {
        "colab": {
          "base_uri": "https://localhost:8080/"
        },
        "id": "z7mlGKVhSPuA",
        "outputId": "31982ad4-4873-47d8-96b8-7e0ad6209a0c"
      }
    },
    {
      "cell_type": "code",
      "execution_count": 62,
      "source": [
        "train_inputs = train_df[input_cols].copy()\n",
        "train_targets = train_df[target_col].copy()"
      ],
      "outputs": [],
      "metadata": {
        "id": "w_2LwFrKSUIC"
      }
    },
    {
      "cell_type": "code",
      "execution_count": 63,
      "source": [
        "test_inputs = test_df[input_cols].copy()\n",
        "test_targets = test_df[target_col].copy()"
      ],
      "outputs": [],
      "metadata": {
        "id": "-X_u8J-aSaJs"
      }
    },
    {
      "cell_type": "code",
      "execution_count": 64,
      "source": [
        "train_inputs"
      ],
      "outputs": [
        {
          "output_type": "execute_result",
          "data": {
            "text/plain": [
              "      Temp_max  Temp_avg  Temp_min  ...  tags_vacation  tags_weekday  tags_weekend\n",
              "0     0.761194  0.756410  0.765625  ...            0.0           1.0           0.0\n",
              "1     0.626866  0.698718  0.734375  ...            0.0           0.0           1.0\n",
              "2     0.671642  0.713141  0.765625  ...            0.0           0.0           1.0\n",
              "3     0.626866  0.698718  0.781250  ...            0.0           1.0           0.0\n",
              "4     0.716418  0.740385  0.765625  ...            0.0           1.0           0.0\n",
              "...        ...       ...       ...  ...            ...           ...           ...\n",
              "1115  0.880597  0.947115  0.984375  ...            0.0           1.0           0.0\n",
              "1116  0.880597  0.943910  1.000000  ...            0.0           0.0           1.0\n",
              "1117  0.880597  0.959936  0.984375  ...            0.0           0.0           1.0\n",
              "1118  0.805970  0.807692  0.765625  ...            0.0           1.0           0.0\n",
              "1119  0.746269  0.777244  0.843750  ...            0.0           1.0           0.0\n",
              "\n",
              "[1120 rows x 20 columns]"
            ],
            "text/html": [
              "<div>\n",
              "<style scoped>\n",
              "    .dataframe tbody tr th:only-of-type {\n",
              "        vertical-align: middle;\n",
              "    }\n",
              "\n",
              "    .dataframe tbody tr th {\n",
              "        vertical-align: top;\n",
              "    }\n",
              "\n",
              "    .dataframe thead th {\n",
              "        text-align: right;\n",
              "    }\n",
              "</style>\n",
              "<table border=\"1\" class=\"dataframe\">\n",
              "  <thead>\n",
              "    <tr style=\"text-align: right;\">\n",
              "      <th></th>\n",
              "      <th>Temp_max</th>\n",
              "      <th>Temp_avg</th>\n",
              "      <th>Temp_min</th>\n",
              "      <th>Dew_max</th>\n",
              "      <th>Dew_avg</th>\n",
              "      <th>Dew_min</th>\n",
              "      <th>Hum_max</th>\n",
              "      <th>Hum_avg</th>\n",
              "      <th>Hum_min</th>\n",
              "      <th>Wind_max</th>\n",
              "      <th>Wind_avg</th>\n",
              "      <th>Wind_min</th>\n",
              "      <th>Press_max</th>\n",
              "      <th>Press_avg</th>\n",
              "      <th>Press_min</th>\n",
              "      <th>Precipit</th>\n",
              "      <th>tags_COVID_lockdown</th>\n",
              "      <th>tags_vacation</th>\n",
              "      <th>tags_weekday</th>\n",
              "      <th>tags_weekend</th>\n",
              "    </tr>\n",
              "  </thead>\n",
              "  <tbody>\n",
              "    <tr>\n",
              "      <th>0</th>\n",
              "      <td>0.761194</td>\n",
              "      <td>0.756410</td>\n",
              "      <td>0.765625</td>\n",
              "      <td>0.861538</td>\n",
              "      <td>0.873874</td>\n",
              "      <td>0.823529</td>\n",
              "      <td>1.00</td>\n",
              "      <td>0.846491</td>\n",
              "      <td>0.609756</td>\n",
              "      <td>0.454545</td>\n",
              "      <td>0.354260</td>\n",
              "      <td>0.000000</td>\n",
              "      <td>0.272727</td>\n",
              "      <td>0.555556</td>\n",
              "      <td>0.973770</td>\n",
              "      <td>0.000000</td>\n",
              "      <td>0.0</td>\n",
              "      <td>0.0</td>\n",
              "      <td>1.0</td>\n",
              "      <td>0.0</td>\n",
              "    </tr>\n",
              "    <tr>\n",
              "      <th>1</th>\n",
              "      <td>0.626866</td>\n",
              "      <td>0.698718</td>\n",
              "      <td>0.734375</td>\n",
              "      <td>0.861538</td>\n",
              "      <td>0.857357</td>\n",
              "      <td>0.823529</td>\n",
              "      <td>1.00</td>\n",
              "      <td>0.954678</td>\n",
              "      <td>0.902439</td>\n",
              "      <td>0.363636</td>\n",
              "      <td>0.278027</td>\n",
              "      <td>0.000000</td>\n",
              "      <td>0.272727</td>\n",
              "      <td>0.555556</td>\n",
              "      <td>0.973770</td>\n",
              "      <td>0.322413</td>\n",
              "      <td>0.0</td>\n",
              "      <td>0.0</td>\n",
              "      <td>0.0</td>\n",
              "      <td>1.0</td>\n",
              "    </tr>\n",
              "    <tr>\n",
              "      <th>2</th>\n",
              "      <td>0.671642</td>\n",
              "      <td>0.713141</td>\n",
              "      <td>0.765625</td>\n",
              "      <td>0.830769</td>\n",
              "      <td>0.852853</td>\n",
              "      <td>0.852941</td>\n",
              "      <td>1.00</td>\n",
              "      <td>0.907895</td>\n",
              "      <td>0.695122</td>\n",
              "      <td>0.363636</td>\n",
              "      <td>0.139013</td>\n",
              "      <td>0.000000</td>\n",
              "      <td>0.272727</td>\n",
              "      <td>0.555556</td>\n",
              "      <td>0.973770</td>\n",
              "      <td>0.236783</td>\n",
              "      <td>0.0</td>\n",
              "      <td>0.0</td>\n",
              "      <td>0.0</td>\n",
              "      <td>1.0</td>\n",
              "    </tr>\n",
              "    <tr>\n",
              "      <th>3</th>\n",
              "      <td>0.626866</td>\n",
              "      <td>0.698718</td>\n",
              "      <td>0.781250</td>\n",
              "      <td>0.846154</td>\n",
              "      <td>0.852853</td>\n",
              "      <td>0.823529</td>\n",
              "      <td>1.00</td>\n",
              "      <td>0.944444</td>\n",
              "      <td>0.853659</td>\n",
              "      <td>0.424242</td>\n",
              "      <td>0.242152</td>\n",
              "      <td>0.000000</td>\n",
              "      <td>0.272727</td>\n",
              "      <td>0.500000</td>\n",
              "      <td>0.973770</td>\n",
              "      <td>0.176471</td>\n",
              "      <td>0.0</td>\n",
              "      <td>0.0</td>\n",
              "      <td>1.0</td>\n",
              "      <td>0.0</td>\n",
              "    </tr>\n",
              "    <tr>\n",
              "      <th>4</th>\n",
              "      <td>0.716418</td>\n",
              "      <td>0.740385</td>\n",
              "      <td>0.765625</td>\n",
              "      <td>0.830769</td>\n",
              "      <td>0.852853</td>\n",
              "      <td>0.852941</td>\n",
              "      <td>1.00</td>\n",
              "      <td>0.836257</td>\n",
              "      <td>0.573171</td>\n",
              "      <td>0.333333</td>\n",
              "      <td>0.273543</td>\n",
              "      <td>0.000000</td>\n",
              "      <td>0.181818</td>\n",
              "      <td>0.500000</td>\n",
              "      <td>0.973770</td>\n",
              "      <td>0.029039</td>\n",
              "      <td>0.0</td>\n",
              "      <td>0.0</td>\n",
              "      <td>1.0</td>\n",
              "      <td>0.0</td>\n",
              "    </tr>\n",
              "    <tr>\n",
              "      <th>...</th>\n",
              "      <td>...</td>\n",
              "      <td>...</td>\n",
              "      <td>...</td>\n",
              "      <td>...</td>\n",
              "      <td>...</td>\n",
              "      <td>...</td>\n",
              "      <td>...</td>\n",
              "      <td>...</td>\n",
              "      <td>...</td>\n",
              "      <td>...</td>\n",
              "      <td>...</td>\n",
              "      <td>...</td>\n",
              "      <td>...</td>\n",
              "      <td>...</td>\n",
              "      <td>...</td>\n",
              "      <td>...</td>\n",
              "      <td>...</td>\n",
              "      <td>...</td>\n",
              "      <td>...</td>\n",
              "      <td>...</td>\n",
              "    </tr>\n",
              "    <tr>\n",
              "      <th>1115</th>\n",
              "      <td>0.880597</td>\n",
              "      <td>0.947115</td>\n",
              "      <td>0.984375</td>\n",
              "      <td>0.969231</td>\n",
              "      <td>0.992492</td>\n",
              "      <td>0.985294</td>\n",
              "      <td>0.88</td>\n",
              "      <td>0.701754</td>\n",
              "      <td>0.536585</td>\n",
              "      <td>0.363636</td>\n",
              "      <td>0.466368</td>\n",
              "      <td>0.411765</td>\n",
              "      <td>0.272727</td>\n",
              "      <td>0.555556</td>\n",
              "      <td>0.973770</td>\n",
              "      <td>0.000000</td>\n",
              "      <td>0.0</td>\n",
              "      <td>0.0</td>\n",
              "      <td>1.0</td>\n",
              "      <td>0.0</td>\n",
              "    </tr>\n",
              "    <tr>\n",
              "      <th>1116</th>\n",
              "      <td>0.880597</td>\n",
              "      <td>0.943910</td>\n",
              "      <td>1.000000</td>\n",
              "      <td>1.000000</td>\n",
              "      <td>1.000000</td>\n",
              "      <td>1.000000</td>\n",
              "      <td>0.82</td>\n",
              "      <td>0.719298</td>\n",
              "      <td>0.585366</td>\n",
              "      <td>0.424242</td>\n",
              "      <td>0.470852</td>\n",
              "      <td>0.411765</td>\n",
              "      <td>0.363636</td>\n",
              "      <td>0.555556</td>\n",
              "      <td>0.977049</td>\n",
              "      <td>0.000000</td>\n",
              "      <td>0.0</td>\n",
              "      <td>0.0</td>\n",
              "      <td>0.0</td>\n",
              "      <td>1.0</td>\n",
              "    </tr>\n",
              "    <tr>\n",
              "      <th>1117</th>\n",
              "      <td>0.880597</td>\n",
              "      <td>0.959936</td>\n",
              "      <td>0.984375</td>\n",
              "      <td>0.969231</td>\n",
              "      <td>0.989489</td>\n",
              "      <td>1.000000</td>\n",
              "      <td>0.78</td>\n",
              "      <td>0.660819</td>\n",
              "      <td>0.621951</td>\n",
              "      <td>0.363636</td>\n",
              "      <td>0.547085</td>\n",
              "      <td>0.529412</td>\n",
              "      <td>0.272727</td>\n",
              "      <td>0.555556</td>\n",
              "      <td>0.973770</td>\n",
              "      <td>0.001489</td>\n",
              "      <td>0.0</td>\n",
              "      <td>0.0</td>\n",
              "      <td>0.0</td>\n",
              "      <td>1.0</td>\n",
              "    </tr>\n",
              "    <tr>\n",
              "      <th>1118</th>\n",
              "      <td>0.805970</td>\n",
              "      <td>0.807692</td>\n",
              "      <td>0.765625</td>\n",
              "      <td>0.953846</td>\n",
              "      <td>0.894895</td>\n",
              "      <td>0.852941</td>\n",
              "      <td>1.00</td>\n",
              "      <td>0.785088</td>\n",
              "      <td>0.560976</td>\n",
              "      <td>0.575758</td>\n",
              "      <td>0.372197</td>\n",
              "      <td>0.000000</td>\n",
              "      <td>0.363636</td>\n",
              "      <td>0.555556</td>\n",
              "      <td>0.973770</td>\n",
              "      <td>0.065525</td>\n",
              "      <td>0.0</td>\n",
              "      <td>0.0</td>\n",
              "      <td>1.0</td>\n",
              "      <td>0.0</td>\n",
              "    </tr>\n",
              "    <tr>\n",
              "      <th>1119</th>\n",
              "      <td>0.746269</td>\n",
              "      <td>0.777244</td>\n",
              "      <td>0.843750</td>\n",
              "      <td>0.876923</td>\n",
              "      <td>0.896396</td>\n",
              "      <td>0.867647</td>\n",
              "      <td>1.00</td>\n",
              "      <td>0.856725</td>\n",
              "      <td>0.658537</td>\n",
              "      <td>0.272727</td>\n",
              "      <td>0.278027</td>\n",
              "      <td>0.000000</td>\n",
              "      <td>0.363636</td>\n",
              "      <td>0.611111</td>\n",
              "      <td>0.977049</td>\n",
              "      <td>0.031273</td>\n",
              "      <td>0.0</td>\n",
              "      <td>0.0</td>\n",
              "      <td>1.0</td>\n",
              "      <td>0.0</td>\n",
              "    </tr>\n",
              "  </tbody>\n",
              "</table>\n",
              "<p>1120 rows × 20 columns</p>\n",
              "</div>"
            ]
          },
          "metadata": {
            "tags": []
          },
          "execution_count": 64
        }
      ],
      "metadata": {
        "colab": {
          "base_uri": "https://localhost:8080/",
          "height": 0
        },
        "id": "rYz8Nz_eSdEI",
        "outputId": "c6c3ca7a-82d0-495b-bcae-b957bf1c908c"
      }
    },
    {
      "cell_type": "code",
      "execution_count": 65,
      "source": [
        "train_targets"
      ],
      "outputs": [
        {
          "output_type": "execute_result",
          "data": {
            "text/plain": [
              "0       29.691\n",
              "1       28.789\n",
              "2       19.247\n",
              "3       22.883\n",
              "4       25.195\n",
              "         ...  \n",
              "1115    35.057\n",
              "1116    32.657\n",
              "1117    39.292\n",
              "1118    25.443\n",
              "1119    18.369\n",
              "Name: kWh_usage, Length: 1120, dtype: float64"
            ]
          },
          "metadata": {
            "tags": []
          },
          "execution_count": 65
        }
      ],
      "metadata": {
        "colab": {
          "base_uri": "https://localhost:8080/"
        },
        "id": "I3TKqJl2SgdO",
        "outputId": "c0dba257-49a5-48a5-b56c-70375a4dfc39"
      }
    },
    {
      "cell_type": "markdown",
      "source": [
        "# File Backup"
      ],
      "metadata": {
        "id": "7K5H6cDuSwbd"
      }
    },
    {
      "cell_type": "code",
      "execution_count": 66,
      "source": [
        "print('train_inputs:', train_inputs.shape)\n",
        "print('train_targets:', train_targets.shape)\n",
        "print('test_inputs:', test_inputs.shape)\n",
        "print('test_targets:', test_targets.shape)"
      ],
      "outputs": [
        {
          "output_type": "stream",
          "name": "stdout",
          "text": [
            "train_inputs: (1120, 20)\n",
            "train_targets: (1120,)\n",
            "test_inputs: (378, 20)\n",
            "test_targets: (378,)\n"
          ]
        }
      ],
      "metadata": {
        "colab": {
          "base_uri": "https://localhost:8080/"
        },
        "id": "meWMGIU3dpdD",
        "outputId": "495a52b8-d3e0-4812-aab0-1f94ca315df4"
      }
    },
    {
      "cell_type": "code",
      "execution_count": 67,
      "source": [
        "!pip install pyarrow --quiet"
      ],
      "outputs": [],
      "metadata": {
        "id": "5o62UZYDS_XO"
      }
    },
    {
      "cell_type": "code",
      "execution_count": 68,
      "source": [
        "%%time\n",
        "train_inputs.to_parquet('train_inputs.parquet')\n",
        "test_inputs.to_parquet('test_inputs.parquet')\n",
        "\n",
        "pd.DataFrame(train_targets).to_parquet('train_targets.parquet')\n",
        "pd.DataFrame(test_targets).to_parquet('test_targets.parquet')"
      ],
      "outputs": [
        {
          "output_type": "stream",
          "name": "stdout",
          "text": [
            "CPU times: user 41.8 ms, sys: 4.42 ms, total: 46.2 ms\n",
            "Wall time: 49.7 ms\n"
          ]
        }
      ],
      "metadata": {
        "colab": {
          "base_uri": "https://localhost:8080/"
        },
        "id": "WcmSTQ2mTFNT",
        "outputId": "0d9af6ab-689a-4ccc-f8b2-e91822c8e9e2"
      }
    },
    {
      "cell_type": "code",
      "execution_count": 69,
      "source": [
        "#to verify if parquet files are generated correctly\n",
        "train_inputs = pd.read_parquet('train_inputs.parquet')\n",
        "test_inputs = pd.read_parquet('test_inputs.parquet')\n",
        "\n",
        "train_targets = pd.read_parquet('train_targets.parquet')[target_col]\n",
        "test_targets = pd.read_parquet('test_targets.parquet')[target_col]"
      ],
      "outputs": [],
      "metadata": {
        "id": "CNYph-pKThWE"
      }
    },
    {
      "cell_type": "code",
      "execution_count": 70,
      "source": [
        "print('train_inputs:', train_inputs.shape)\n",
        "print('train_targets:', train_targets.shape)\n",
        "print('test_inputs:', test_inputs.shape)\n",
        "print('test_targets:', test_targets.shape)"
      ],
      "outputs": [
        {
          "output_type": "stream",
          "name": "stdout",
          "text": [
            "train_inputs: (1120, 20)\n",
            "train_targets: (1120,)\n",
            "test_inputs: (378, 20)\n",
            "test_targets: (378,)\n"
          ]
        }
      ],
      "metadata": {
        "colab": {
          "base_uri": "https://localhost:8080/"
        },
        "id": "DmEh6p1pTSWG",
        "outputId": "34a5a111-3eca-4d18-f1af-80b5ece0311c"
      }
    },
    {
      "cell_type": "markdown",
      "source": [
        "# Model 1 - LinearRegression()"
      ],
      "metadata": {
        "id": "4t3o0zjjclUG"
      }
    },
    {
      "cell_type": "code",
      "execution_count": 71,
      "source": [
        "def rmse(targets, predictions):\n",
        "    return np.sqrt(np.mean(np.square(targets - predictions)))"
      ],
      "outputs": [],
      "metadata": {
        "id": "DBv9b7CiXE8l"
      }
    },
    {
      "cell_type": "code",
      "execution_count": 72,
      "source": [
        "from sklearn.linear_model import LinearRegression\n",
        "model1 = LinearRegression()"
      ],
      "outputs": [],
      "metadata": {
        "id": "eWw8X64AXVJe"
      }
    },
    {
      "cell_type": "code",
      "execution_count": 73,
      "source": [
        "print('train_inputs:', train_inputs.shape)\n",
        "print('train_targets:', train_targets.shape)\n",
        "print('test_inputs:', test_inputs.shape)\n",
        "print('test_targets:', test_targets.shape)"
      ],
      "outputs": [
        {
          "output_type": "stream",
          "name": "stdout",
          "text": [
            "train_inputs: (1120, 20)\n",
            "train_targets: (1120,)\n",
            "test_inputs: (378, 20)\n",
            "test_targets: (378,)\n"
          ]
        }
      ],
      "metadata": {
        "colab": {
          "base_uri": "https://localhost:8080/"
        },
        "id": "gib0ZIoTXsLw",
        "outputId": "3aac9cc6-0011-47a6-9e1c-328f5287d2d7"
      }
    },
    {
      "cell_type": "code",
      "execution_count": 74,
      "source": [
        "model1.fit(train_inputs, train_targets)"
      ],
      "outputs": [
        {
          "output_type": "execute_result",
          "data": {
            "text/plain": [
              "LinearRegression(copy_X=True, fit_intercept=True, n_jobs=None, normalize=False)"
            ]
          },
          "metadata": {
            "tags": []
          },
          "execution_count": 74
        }
      ],
      "metadata": {
        "colab": {
          "base_uri": "https://localhost:8080/"
        },
        "id": "NzESzP4sYN_q",
        "outputId": "9c466268-54dc-4747-949f-4aa0e5f3b609"
      }
    },
    {
      "cell_type": "code",
      "execution_count": 75,
      "source": [
        "train_preds = model1.predict(train_inputs)"
      ],
      "outputs": [],
      "metadata": {
        "id": "qlDfX8j3YRxb"
      }
    },
    {
      "cell_type": "code",
      "execution_count": 76,
      "source": [
        "rmse(train_targets, train_preds)"
      ],
      "outputs": [
        {
          "output_type": "execute_result",
          "data": {
            "text/plain": [
              "8.478925770621876"
            ]
          },
          "metadata": {
            "tags": []
          },
          "execution_count": 76
        }
      ],
      "metadata": {
        "colab": {
          "base_uri": "https://localhost:8080/"
        },
        "id": "DdbU27PBYf_C",
        "outputId": "6d999861-1091-4f9b-b24b-69153f8443e4"
      }
    },
    {
      "cell_type": "code",
      "execution_count": 77,
      "source": [
        "model1.coef_"
      ],
      "outputs": [
        {
          "output_type": "execute_result",
          "data": {
            "text/plain": [
              "array([ 1.44173720e+01, -9.81669381e+01,  3.24637386e+01,  4.97001062e+00,\n",
              "        1.00787143e+02,  5.01013731e+00,  9.15344355e+00, -6.59597323e+01,\n",
              "        4.56322507e+00,  7.31223185e+00, -2.09126431e+01,  6.90150773e+00,\n",
              "        5.37507717e+00,  1.31691398e+01, -2.64288399e+01,  2.26024537e+00,\n",
              "       -3.55271368e-14, -7.42179510e+00,  3.00869014e+00,  4.41310496e+00])"
            ]
          },
          "metadata": {
            "tags": []
          },
          "execution_count": 77
        }
      ],
      "metadata": {
        "colab": {
          "base_uri": "https://localhost:8080/"
        },
        "id": "v0-zoi7oYyh2",
        "outputId": "9be4300d-83cd-4e54-8890-36d49adddf72"
      }
    },
    {
      "cell_type": "code",
      "execution_count": 78,
      "source": [
        "model1.intercept_"
      ],
      "outputs": [
        {
          "output_type": "execute_result",
          "data": {
            "text/plain": [
              "24.57915888194894"
            ]
          },
          "metadata": {
            "tags": []
          },
          "execution_count": 78
        }
      ],
      "metadata": {
        "colab": {
          "base_uri": "https://localhost:8080/"
        },
        "id": "sKe5DiUrZCM0",
        "outputId": "0ed80573-9734-4504-9bc6-109e2c281f8f"
      }
    },
    {
      "cell_type": "code",
      "execution_count": 79,
      "source": [
        "from sklearn.metrics import r2_score"
      ],
      "outputs": [],
      "metadata": {
        "id": "LCrYIafqZIOU"
      }
    },
    {
      "cell_type": "code",
      "execution_count": 80,
      "source": [
        "r2_score(train_targets, train_preds)"
      ],
      "outputs": [
        {
          "output_type": "execute_result",
          "data": {
            "text/plain": [
              "0.5662806781636898"
            ]
          },
          "metadata": {
            "tags": []
          },
          "execution_count": 80
        }
      ],
      "metadata": {
        "colab": {
          "base_uri": "https://localhost:8080/"
        },
        "id": "YcW_OPWQZj7B",
        "outputId": "5206b822-3a12-4adf-ff98-d4958c007d23"
      }
    },
    {
      "cell_type": "code",
      "execution_count": 81,
      "source": [
        "test_preds = model1.predict(test_inputs)"
      ],
      "outputs": [],
      "metadata": {
        "id": "0XY9Yq33bSv6"
      }
    },
    {
      "cell_type": "code",
      "execution_count": 82,
      "source": [
        "rmse(test_targets, test_preds)"
      ],
      "outputs": [
        {
          "output_type": "execute_result",
          "data": {
            "text/plain": [
              "6.471372771412258"
            ]
          },
          "metadata": {
            "tags": []
          },
          "execution_count": 82
        }
      ],
      "metadata": {
        "colab": {
          "base_uri": "https://localhost:8080/"
        },
        "id": "Yx7UCKhUbRJT",
        "outputId": "e7fd4efe-defa-4406-fe41-9df95848bd79"
      }
    },
    {
      "cell_type": "code",
      "execution_count": 83,
      "source": [
        "r2_score(test_targets, test_preds)"
      ],
      "outputs": [
        {
          "output_type": "execute_result",
          "data": {
            "text/plain": [
              "0.7014426638834597"
            ]
          },
          "metadata": {
            "tags": []
          },
          "execution_count": 83
        }
      ],
      "metadata": {
        "colab": {
          "base_uri": "https://localhost:8080/"
        },
        "id": "qnWugly9bQxU",
        "outputId": "a768d1ac-7885-497a-fd3c-1fd29cdeb416"
      }
    },
    {
      "cell_type": "markdown",
      "source": [
        "# Model 2 - SGDRegressor()"
      ],
      "metadata": {
        "id": "wrWvXUk4cteL"
      }
    },
    {
      "cell_type": "code",
      "execution_count": 84,
      "source": [
        "from sklearn.linear_model import SGDRegressor\r\n",
        "model2 = SGDRegressor()"
      ],
      "outputs": [],
      "metadata": {
        "id": "O8PUj7ATZmph"
      }
    },
    {
      "cell_type": "code",
      "execution_count": 85,
      "source": [
        "model2.fit(train_inputs, train_targets)"
      ],
      "outputs": [
        {
          "output_type": "execute_result",
          "data": {
            "text/plain": [
              "SGDRegressor(alpha=0.0001, average=False, early_stopping=False, epsilon=0.1,\n",
              "             eta0=0.01, fit_intercept=True, l1_ratio=0.15,\n",
              "             learning_rate='invscaling', loss='squared_loss', max_iter=1000,\n",
              "             n_iter_no_change=5, penalty='l2', power_t=0.25, random_state=None,\n",
              "             shuffle=True, tol=0.001, validation_fraction=0.1, verbose=0,\n",
              "             warm_start=False)"
            ]
          },
          "metadata": {
            "tags": []
          },
          "execution_count": 85
        }
      ],
      "metadata": {
        "colab": {
          "base_uri": "https://localhost:8080/"
        },
        "id": "ZQnBHy-tapy3",
        "outputId": "bfcbcd8b-12e9-4116-ba44-5fbb26cedcf8"
      }
    },
    {
      "cell_type": "code",
      "execution_count": 86,
      "source": [
        "train_preds = model2.predict(train_inputs)"
      ],
      "outputs": [],
      "metadata": {
        "id": "Rf-2ZX2sawKB"
      }
    },
    {
      "cell_type": "code",
      "execution_count": 87,
      "source": [
        "rmse(train_targets, train_preds)"
      ],
      "outputs": [
        {
          "output_type": "execute_result",
          "data": {
            "text/plain": [
              "8.728127301840091"
            ]
          },
          "metadata": {
            "tags": []
          },
          "execution_count": 87
        }
      ],
      "metadata": {
        "colab": {
          "base_uri": "https://localhost:8080/"
        },
        "id": "w4V2BgBga4e7",
        "outputId": "c548617d-ad90-43b6-ae44-3c1fa2f891ea"
      }
    },
    {
      "cell_type": "code",
      "execution_count": 88,
      "source": [
        "model2.coef_"
      ],
      "outputs": [
        {
          "output_type": "execute_result",
          "data": {
            "text/plain": [
              "array([ 8.02469333,  8.95133718, 10.84755299,  4.51280194,  6.36551556,\n",
              "        9.41418749, -3.3644003 , -6.36035519, -5.4357329 , -2.2663622 ,\n",
              "       -5.56423615, -0.12681162,  2.64196543,  1.74728785, -2.40038408,\n",
              "       -0.65057715,  0.        , -7.24423499,  1.94013731,  3.16103125])"
            ]
          },
          "metadata": {
            "tags": []
          },
          "execution_count": 88
        }
      ],
      "metadata": {
        "colab": {
          "base_uri": "https://localhost:8080/"
        },
        "id": "HZ-F2qx0a7XT",
        "outputId": "834479fa-78d5-4b26-d8ab-5e4dbbfc2660"
      }
    },
    {
      "cell_type": "code",
      "execution_count": 89,
      "source": [
        "model2.intercept_"
      ],
      "outputs": [
        {
          "output_type": "execute_result",
          "data": {
            "text/plain": [
              "array([-2.14726506])"
            ]
          },
          "metadata": {
            "tags": []
          },
          "execution_count": 89
        }
      ],
      "metadata": {
        "colab": {
          "base_uri": "https://localhost:8080/"
        },
        "id": "xZk7PflsbCFv",
        "outputId": "98c9bb41-6350-49b5-f5d5-a39d561d078f"
      }
    },
    {
      "cell_type": "code",
      "execution_count": 90,
      "source": [
        "test_preds = model2.predict(test_inputs)\r\n",
        "rmse(test_targets, test_preds)"
      ],
      "outputs": [
        {
          "output_type": "execute_result",
          "data": {
            "text/plain": [
              "6.591131647818308"
            ]
          },
          "metadata": {
            "tags": []
          },
          "execution_count": 90
        }
      ],
      "metadata": {
        "colab": {
          "base_uri": "https://localhost:8080/"
        },
        "id": "uroejn_db5sq",
        "outputId": "d2cc07ee-37ca-4d80-a1ac-9eb0800670cd"
      }
    },
    {
      "cell_type": "code",
      "execution_count": 91,
      "source": [
        "r2_score(test_targets, test_preds)"
      ],
      "outputs": [
        {
          "output_type": "execute_result",
          "data": {
            "text/plain": [
              "0.6902902449341564"
            ]
          },
          "metadata": {
            "tags": []
          },
          "execution_count": 91
        }
      ],
      "metadata": {
        "colab": {
          "base_uri": "https://localhost:8080/"
        },
        "id": "kxX_z-MPcHH3",
        "outputId": "9d405c66-3378-4098-b095-696449d0110f"
      }
    },
    {
      "cell_type": "markdown",
      "source": [
        "# Model Backup"
      ],
      "metadata": {
        "id": "BgEbJRJyeUnX"
      }
    },
    {
      "cell_type": "code",
      "execution_count": 92,
      "source": [
        "import joblib"
      ],
      "outputs": [],
      "metadata": {
        "id": "0I0gUDF8eLCR"
      }
    },
    {
      "cell_type": "code",
      "execution_count": 93,
      "source": [
        "Model1 = {\n",
        "    'model': model1,\n",
        "    'imputer': imputer,\n",
        "    'scaler': scaler,\n",
        "    'encoder': encoder,\n",
        "    'input_cols': input_cols,\n",
        "    'target_col': target_col,\n",
        "    'numeric_cols': numeric_cols,\n",
        "    'categorical_cols': categorical_cols,\n",
        "    'encoded_cols': encoded_cols\n",
        "}"
      ],
      "outputs": [],
      "metadata": {
        "id": "XdkzrlHleczh"
      }
    },
    {
      "cell_type": "code",
      "execution_count": 94,
      "source": [
        "joblib.dump(Model1, \"Model1.joblib\")"
      ],
      "outputs": [
        {
          "output_type": "execute_result",
          "data": {
            "text/plain": [
              "['Model1.joblib']"
            ]
          },
          "metadata": {
            "tags": []
          },
          "execution_count": 94
        }
      ],
      "metadata": {
        "colab": {
          "base_uri": "https://localhost:8080/"
        },
        "id": "qRaUygMSfOxv",
        "outputId": "0b37f9de-88f0-41c7-cce5-5f7bc106c9d0"
      }
    },
    {
      "cell_type": "code",
      "execution_count": 95,
      "source": [
        "Model2 = {\n",
        "    'model': model2,\n",
        "    'imputer': imputer,\n",
        "    'scaler': scaler,\n",
        "    'encoder': encoder,\n",
        "    'input_cols': input_cols,\n",
        "    'target_col': target_col,\n",
        "    'numeric_cols': numeric_cols,\n",
        "    'categorical_cols': categorical_cols,\n",
        "    'encoded_cols': encoded_cols\n",
        "}"
      ],
      "outputs": [],
      "metadata": {
        "id": "jre5zQstfYsO"
      }
    },
    {
      "cell_type": "code",
      "execution_count": 96,
      "source": [
        "joblib.dump(Model2, \"Model2.joblib\")"
      ],
      "outputs": [
        {
          "output_type": "execute_result",
          "data": {
            "text/plain": [
              "['Model2.joblib']"
            ]
          },
          "metadata": {
            "tags": []
          },
          "execution_count": 96
        }
      ],
      "metadata": {
        "colab": {
          "base_uri": "https://localhost:8080/"
        },
        "id": "Rqt8DQzmfhDP",
        "outputId": "80c8345d-0d88-43dc-fbf9-ba83b68fa371"
      }
    },
    {
      "cell_type": "markdown",
      "source": [
        "# Helper Functions"
      ],
      "metadata": {
        "id": "ofIODLuDf3CA"
      }
    },
    {
      "cell_type": "markdown",
      "source": [
        "When the input is in form of a Pandas Series:"
      ],
      "metadata": {
        "id": "i2drAMnYgZG-"
      }
    },
    {
      "cell_type": "code",
      "execution_count": 97,
      "source": [
        "def list_predict(inputs, targets):\r\n",
        "    preds = model1.predict(inputs) #use model1 or model2 here\r\n",
        "    accuracy = r2_score(targets, preds)\r\n",
        "    print(\"Accuracy: {:.2f}%\".format(accuracy * 100))\r\n",
        "    return preds"
      ],
      "outputs": [],
      "metadata": {
        "id": "0na0J7C9flXe"
      }
    },
    {
      "cell_type": "code",
      "execution_count": 98,
      "source": [
        "test_preds = list_predict(test_inputs, test_targets)"
      ],
      "outputs": [
        {
          "output_type": "stream",
          "name": "stdout",
          "text": [
            "Accuracy: 70.14%\n"
          ]
        }
      ],
      "metadata": {
        "colab": {
          "base_uri": "https://localhost:8080/"
        },
        "id": "pKZvjZy_grym",
        "outputId": "13b0051b-fce9-487a-c112-fb3fb54bc4ab"
      }
    },
    {
      "cell_type": "markdown",
      "source": [
        "For a single input:"
      ],
      "metadata": {
        "id": "tKcFR2IohJEO"
      }
    },
    {
      "cell_type": "code",
      "execution_count": 99,
      "source": [
        "def single_predict(single_input):\r\n",
        "    input_df = pd.DataFrame([single_input])\r\n",
        "    input_df[numeric_cols] = imputer.transform(input_df[numeric_cols])\r\n",
        "    input_df[numeric_cols] = scaler.transform(input_df[numeric_cols])\r\n",
        "    input_df[encoded_cols] = encoder.transform(input_df[categorical_cols])\r\n",
        "    X_input = input_df[numeric_cols + encoded_cols]\r\n",
        "    pred = model1.predict(X_input)[0]\r\n",
        "    return pred"
      ],
      "outputs": [],
      "metadata": {
        "id": "gaBp-a3ohDnU"
      }
    },
    {
      "cell_type": "code",
      "execution_count": 100,
      "source": [
        "new_input = {\r\n",
        "    'Date': '2021-08-18',\r\n",
        "    'Day': 3,\r\n",
        "    'Temp_max': 32,\r\n",
        "    'Temp_avg': 30,\r\n",
        "    'Temp_min': 26,\r\n",
        "    'Dew_max': 27,\r\n",
        "    'Dew_avg': 26,\r\n",
        "    'Dew_min': 24,\r\n",
        "    'Hum_max': 93,\r\n",
        "    'Hum_avg': 92,\r\n",
        "    'Hum_min': 90,\r\n",
        "    'Wind_max': 7.3,\r\n",
        "    'Wind_avg': 6,\r\n",
        "    'Wind_min': 4.2,\r\n",
        "    'Press_max': 1003.2,\r\n",
        "    'Press_avg': 1003,\r\n",
        "    'Press_min': 1003,\r\n",
        "    'Precipit': 0,\r\n",
        "    'day_of_week': 3,\r\n",
        "    'tags': 'Weekday'\r\n",
        "}\r\n",
        "\r\n",
        "test_preds = single_predict(new_input)"
      ],
      "outputs": [
        {
          "output_type": "stream",
          "name": "stdout",
          "text": [
            "11012.817770646838\n"
          ]
        }
      ],
      "metadata": {
        "colab": {
          "base_uri": "https://localhost:8080/"
        },
        "id": "5RJJkXu8jWEp",
        "outputId": "203c9f7d-8614-496b-c8c0-b293649a8ed0"
      }
    },
    {
      "cell_type": "code",
      "execution_count": 100,
      "source": [],
      "outputs": [],
      "metadata": {
        "id": "cfPs6ifbm2JL"
      }
    }
  ]
}